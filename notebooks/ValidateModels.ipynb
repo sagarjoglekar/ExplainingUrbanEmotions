{
 "cells": [
  {
   "cell_type": "code",
   "execution_count": 1,
   "metadata": {
    "ExecuteTime": {
     "end_time": "2019-05-29T12:00:08.667370Z",
     "start_time": "2019-05-29T12:00:08.118477Z"
    }
   },
   "outputs": [
    {
     "name": "stderr",
     "output_type": "stream",
     "text": [
      "/usr/local/lib/python2.7/dist-packages/sklearn/cross_validation.py:44: DeprecationWarning: This module was deprecated in version 0.18 in favor of the model_selection module into which all the refactored classes and functions are moved. Also note that the interface of the new CV iterators are different from that of this module. This module will be removed in 0.20.\n",
      "  \"This module will be removed in 0.20.\", DeprecationWarning)\n",
      "/usr/local/lib/python2.7/dist-packages/sklearn/ensemble/weight_boosting.py:29: DeprecationWarning: numpy.core.umath_tests is an internal NumPy module and should not be imported. It will be removed in a future NumPy release.\n",
      "  from numpy.core.umath_tests import inner1d\n"
     ]
    }
   ],
   "source": [
    "import numpy as np\n",
    "import pandas as pd \n",
    "from sklearn import cross_validation\n",
    "from sklearn.cross_validation import KFold\n",
    "from sklearn.metrics import mean_squared_error\n",
    "from sklearn.ensemble import RandomForestClassifier \n",
    "from sklearn.cross_validation import cross_val_score\n",
    "from sklearn.metrics import f1_score\n",
    "from sklearn.metrics import precision_recall_fscore_support , accuracy_score\n",
    "%matplotlib inline\n",
    "import matplotlib.pyplot as plt\n",
    "import scipy.stats"
   ]
  },
  {
   "cell_type": "code",
   "execution_count": 2,
   "metadata": {
    "ExecuteTime": {
     "end_time": "2019-05-29T12:00:09.721014Z",
     "start_time": "2019-05-29T12:00:09.477553Z"
    },
    "editable": false
   },
   "outputs": [
    {
     "name": "stderr",
     "output_type": "stream",
     "text": [
      "/usr/local/lib/python2.7/dist-packages/h5py/__init__.py:34: FutureWarning: Conversion of the second argument of issubdtype from `float` to `np.floating` is deprecated. In future, it will be treated as `np.float64 == np.dtype(float).type`.\n",
      "  from ._conv import register_converters as _register_converters\n"
     ]
    }
   ],
   "source": [
    "import sys\n",
    "import lmdb\n",
    "import h5py\n",
    "caffe_root = '/work/sagarj/caffe-rc5/'  # this file should be run from {caffe_root}/examples (otherwise change this line)\n",
    "sys.path.insert(0, caffe_root + 'python')\n",
    "from collections import defaultdict\n",
    "import caffe\n"
   ]
  },
  {
   "cell_type": "code",
   "execution_count": 3,
   "metadata": {
    "ExecuteTime": {
     "end_time": "2019-05-29T12:00:10.936433Z",
     "start_time": "2019-05-29T12:00:10.928520Z"
    }
   },
   "outputs": [],
   "source": [
    "model_root = \"/work/sagarj/Work/BellLabs/caffe_models/caffe_model_1/\"\n",
    "# net_weights='caffe_beauty_augmented/caffe_model_beauty_city_smartAugment_fixed_iter_20000.caffemodel'\n",
    "# net_weights='caffe_model_beauty_4_votes/caffe_model_1_iter_24732.caffemodel'\n",
    "# net_weights = '../caffe_models/caffe_model_1/smartAugment/caffe_model_beauty_city_smartAugment_iter_15000.caffemodel'\n",
    "net_weights='caffe_model_beauty_city_smartAugment_fixed_iter_20000.caffemodel'\n",
    "net_definition='caffenet_deploy_1.prototxt'\n",
    "\n",
    "test_lmdb_path = '../Data/validation_lmdb_beauty_augmented_smart/' # Test LMDB database path\n",
    "mean_file_binaryproto = '../Data/citySmart1.binaryproto' # Mean image file\n"
   ]
  },
  {
   "cell_type": "code",
   "execution_count": 4,
   "metadata": {
    "ExecuteTime": {
     "end_time": "2019-05-29T12:00:12.125083Z",
     "start_time": "2019-05-29T12:00:11.771807Z"
    },
    "editable": false
   },
   "outputs": [],
   "source": [
    "caffe.set_mode_gpu()\n",
    "model_def = model_root+net_definition\n",
    "model_weights = model_root + net_weights"
   ]
  },
  {
   "cell_type": "code",
   "execution_count": 5,
   "metadata": {
    "ExecuteTime": {
     "end_time": "2019-05-29T12:00:13.594563Z",
     "start_time": "2019-05-29T12:00:13.054957Z"
    },
    "editable": false
   },
   "outputs": [],
   "source": [
    "net = caffe.Net(model_def,      # defines the structure of the model\n",
    "                model_weights,  # contains the trained weights\n",
    "                caffe.TEST)     # use test mode (e.g., don't perform dropout)\n"
   ]
  },
  {
   "cell_type": "code",
   "execution_count": 6,
   "metadata": {
    "ExecuteTime": {
     "end_time": "2019-05-29T12:00:15.351262Z",
     "start_time": "2019-05-29T12:00:15.340513Z"
    }
   },
   "outputs": [
    {
     "data": {
      "text/plain": [
       "array([[0., 0.]], dtype=float32)"
      ]
     },
     "execution_count": 6,
     "metadata": {},
     "output_type": "execute_result"
    }
   ],
   "source": [
    "np.asarray(net.blobs['fc8'].data)"
   ]
  },
  {
   "cell_type": "code",
   "execution_count": 7,
   "metadata": {
    "ExecuteTime": {
     "end_time": "2019-05-29T12:00:16.015935Z",
     "start_time": "2019-05-29T12:00:15.957387Z"
    },
    "editable": false
   },
   "outputs": [],
   "source": [
    "# Extract mean from the mean image file\n",
    "mean_blobproto_new = caffe.proto.caffe_pb2.BlobProto()\n",
    "f = open(mean_file_binaryproto, 'rb')\n",
    "mean_blobproto_new.ParseFromString(f.read())\n",
    "mean_image = caffe.io.blobproto_to_array(mean_blobproto_new)\n",
    "f.close()"
   ]
  },
  {
   "cell_type": "code",
   "execution_count": null,
   "metadata": {
    "ExecuteTime": {
     "start_time": "2019-05-29T12:00:16.805Z"
    },
    "editable": false
   },
   "outputs": [],
   "source": [
    "count = 0\n",
    "correct = 0\n",
    "labels = [] # (real,pred) -> int\n",
    "preds = []\n",
    "# labels_set = set()\n",
    "\n",
    "lmdb_env = lmdb.open(test_lmdb_path)\n",
    "lmdb_txn = lmdb_env.begin()\n",
    "lmdb_cursor = lmdb_txn.cursor()\n",
    "\n",
    "for key, value in lmdb_cursor:\n",
    "    datum = caffe.proto.caffe_pb2.Datum()\n",
    "    datum.ParseFromString(value)\n",
    "    label = datum.label\n",
    "    labels.append(label)\n",
    "    image = caffe.io.datum_to_array(datum)\n",
    "    image = image.astype(np.uint8)\n",
    "    out = net.forward_all(data=np.asarray([image]) - mean_image).copy()\n",
    "\n",
    "    plabel = out['prob']\n",
    "    preds.append(plabel)\n",
    "    count += 1"
   ]
  },
  {
   "cell_type": "code",
   "execution_count": null,
   "metadata": {
    "ExecuteTime": {
     "start_time": "2019-05-16T14:48:11.309Z"
    }
   },
   "outputs": [],
   "source": [
    "preds[3]"
   ]
  },
  {
   "cell_type": "code",
   "execution_count": null,
   "metadata": {
    "ExecuteTime": {
     "start_time": "2019-05-16T14:49:04.914Z"
    }
   },
   "outputs": [],
   "source": [
    "pred_label = [np.argmax(i) for i in preds ]"
   ]
  },
  {
   "cell_type": "code",
   "execution_count": null,
   "metadata": {
    "ExecuteTime": {
     "start_time": "2019-05-16T14:49:05.245Z"
    }
   },
   "outputs": [],
   "source": [
    "pred_label[2] , labels[2]"
   ]
  },
  {
   "cell_type": "code",
   "execution_count": null,
   "metadata": {
    "ExecuteTime": {
     "start_time": "2019-05-16T14:49:05.691Z"
    }
   },
   "outputs": [],
   "source": [
    "error_RF = mean_squared_error(labels, pred_label)\n",
    "\n",
    "precision , recall , fscore , _ = precision_recall_fscore_support(labels, pred_label)\n",
    "\n",
    "\n",
    "print ( precision , recall , fscore , _)"
   ]
  },
  {
   "cell_type": "code",
   "execution_count": null,
   "metadata": {
    "ExecuteTime": {
     "start_time": "2019-05-16T14:49:06.163Z"
    }
   },
   "outputs": [],
   "source": [
    "accuracy_score(labels,pred_label)"
   ]
  },
  {
   "cell_type": "code",
   "execution_count": 14,
   "metadata": {
    "ExecuteTime": {
     "end_time": "2018-06-13T13:49:51.571031Z",
     "start_time": "2018-06-13T13:49:51.565675Z"
    },
    "collapsed": true
   },
   "outputs": [],
   "source": [
    "import scipy.stats as stats\n",
    "tau , pvalue = stats.kendalltau(labels,pred_label)"
   ]
  },
  {
   "cell_type": "code",
   "execution_count": 15,
   "metadata": {
    "ExecuteTime": {
     "end_time": "2018-06-13T13:49:51.577854Z",
     "start_time": "2018-06-13T13:49:51.573721Z"
    }
   },
   "outputs": [
    {
     "name": "stdout",
     "output_type": "stream",
     "text": [
      "0.4030028460604292 1.383601688943125e-86\n"
     ]
    }
   ],
   "source": [
    "print tau , pvalue"
   ]
  },
  {
   "cell_type": "code",
   "execution_count": null,
   "metadata": {
    "collapsed": true
   },
   "outputs": [],
   "source": []
  }
 ],
 "metadata": {
  "kernelspec": {
   "display_name": "Python 2",
   "language": "python",
   "name": "python2"
  },
  "language_info": {
   "codemirror_mode": {
    "name": "ipython",
    "version": 2
   },
   "file_extension": ".py",
   "mimetype": "text/x-python",
   "name": "python",
   "nbconvert_exporter": "python",
   "pygments_lexer": "ipython2",
   "version": "2.7.12"
  },
  "toc": {
   "colors": {
    "hover_highlight": "#DAA520",
    "navigate_num": "#000000",
    "navigate_text": "#333333",
    "running_highlight": "#FF0000",
    "selected_highlight": "#FFD700",
    "sidebar_border": "#EEEEEE",
    "wrapper_background": "#FFFFFF"
   },
   "moveMenuLeft": true,
   "nav_menu": {
    "height": "12px",
    "width": "252px"
   },
   "navigate_menu": true,
   "number_sections": true,
   "sideBar": true,
   "threshold": 4,
   "toc_cell": false,
   "toc_section_display": "block",
   "toc_window_display": false,
   "widenNotebook": false
  }
 },
 "nbformat": 4,
 "nbformat_minor": 2
}
