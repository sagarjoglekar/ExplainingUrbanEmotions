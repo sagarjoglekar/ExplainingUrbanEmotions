{
 "cells": [
  {
   "cell_type": "code",
   "execution_count": 2,
   "metadata": {
    "ExecuteTime": {
     "end_time": "2017-08-16T13:04:35.720095Z",
     "start_time": "2017-08-16T13:04:35.477118Z"
    }
   },
   "outputs": [
    {
     "name": "stderr",
     "output_type": "stream",
     "text": [
      "/usr/local/lib/python2.7/dist-packages/sklearn/cross_validation.py:44: DeprecationWarning: This module was deprecated in version 0.18 in favor of the model_selection module into which all the refactored classes and functions are moved. Also note that the interface of the new CV iterators are different from that of this module. This module will be removed in 0.20.\n",
      "  \"This module will be removed in 0.20.\", DeprecationWarning)\n"
     ]
    }
   ],
   "source": [
    "import numpy as np\n",
    "import pandas as pd \n",
    "from sklearn import cross_validation\n",
    "from sklearn.cross_validation import KFold\n",
    "from sklearn.metrics import mean_squared_error\n",
    "from sklearn.ensemble import RandomForestClassifier \n",
    "from sklearn.cross_validation import cross_val_score\n",
    "from sklearn.metrics import f1_score\n",
    "from sklearn.metrics import precision_recall_fscore_support\n",
    "%matplotlib inline\n",
    "import matplotlib.pyplot as plt\n",
    "import scipy.stats"
   ]
  },
  {
   "cell_type": "code",
   "execution_count": 3,
   "metadata": {
    "ExecuteTime": {
     "end_time": "2017-08-16T13:04:36.346428Z",
     "start_time": "2017-08-16T13:04:36.340037Z"
    },
    "collapsed": true,
    "editable": false
   },
   "outputs": [],
   "source": [
    "import sys\n",
    "import lmdb\n",
    "import h5py\n",
    "caffe_root = '/work/sagarj/caffe-rc5/'  # this file should be run from {caffe_root}/examples (otherwise change this line)\n",
    "sys.path.insert(0, caffe_root + 'python')\n",
    "from collections import defaultdict\n",
    "import caffe\n"
   ]
  },
  {
   "cell_type": "code",
   "execution_count": 4,
   "metadata": {
    "ExecuteTime": {
     "end_time": "2017-08-16T13:04:37.267511Z",
     "start_time": "2017-08-16T13:04:37.260517Z"
    },
    "collapsed": true
   },
   "outputs": [],
   "source": [
    "model_root = \"/work/sagarj/Work/BellLabs/caffe_models/caffe_model_1/\"\n",
    "# net_weights='caffe_beauty_augmented/caffe_model_beauty_augmented_iter_10000.caffemodel'\n",
    "#net_weights='caffe_model_beauty_4_votes/caffe_model_1_iter_24732.caffemodel'\n",
    "net_weights='smartAugment/caffe_model_beauty_city_smartAugment_iter_15000.caffemodel'\n",
    "net_definition='caffenet_deploy_1.prototxt'\n",
    "\n",
    "test_lmdb_path = '../Data/validation_lmdb_beauty_augmented' # Test LMDB database path\n",
    "mean_file_binaryproto = '../Data/cityAugmentedMean.binaryproto' # Mean image file\n"
   ]
  },
  {
   "cell_type": "code",
   "execution_count": 5,
   "metadata": {
    "ExecuteTime": {
     "end_time": "2017-08-16T13:04:51.394652Z",
     "start_time": "2017-08-16T13:04:50.950984Z"
    },
    "collapsed": true,
    "editable": false
   },
   "outputs": [],
   "source": [
    "caffe.set_mode_gpu()\n",
    "model_def = model_root+net_definition\n",
    "model_weights = model_root + net_weights"
   ]
  },
  {
   "cell_type": "code",
   "execution_count": null,
   "metadata": {
    "ExecuteTime": {
     "start_time": "2017-08-16T13:04:02.562Z"
    },
    "editable": false
   },
   "outputs": [],
   "source": [
    "net = caffe.Net(model_def,      # defines the structure of the model\n",
    "                model_weights,  # contains the trained weights\n",
    "                caffe.TEST)     # use test mode (e.g., don't perform dropout)\n"
   ]
  },
  {
   "cell_type": "code",
   "execution_count": null,
   "metadata": {
    "ExecuteTime": {
     "start_time": "2017-08-16T12:55:21.190Z"
    }
   },
   "outputs": [],
   "source": [
    "np.asarray(net.blobs['fc8'].data)"
   ]
  },
  {
   "cell_type": "code",
   "execution_count": null,
   "metadata": {
    "ExecuteTime": {
     "start_time": "2017-08-16T12:55:37.668Z"
    },
    "collapsed": true,
    "editable": false
   },
   "outputs": [],
   "source": [
    "# Extract mean from the mean image file\n",
    "mean_blobproto_new = caffe.proto.caffe_pb2.BlobProto()\n",
    "f = open(mean_file_binaryproto, 'rb')\n",
    "mean_blobproto_new.ParseFromString(f.read())\n",
    "mean_image = caffe.io.blobproto_to_array(mean_blobproto_new)\n",
    "f.close()"
   ]
  },
  {
   "cell_type": "code",
   "execution_count": null,
   "metadata": {
    "ExecuteTime": {
     "start_time": "2017-08-16T12:55:38.100Z"
    },
    "collapsed": true,
    "editable": false
   },
   "outputs": [],
   "source": [
    "count = 0\n",
    "correct = 0\n",
    "labels = [] # (real,pred) -> int\n",
    "preds = []\n",
    "# labels_set = set()\n",
    "\n",
    "lmdb_env = lmdb.open(test_lmdb_path)\n",
    "lmdb_txn = lmdb_env.begin()\n",
    "lmdb_cursor = lmdb_txn.cursor()\n",
    "\n",
    "for key, value in lmdb_cursor:\n",
    "    datum = caffe.proto.caffe_pb2.Datum()\n",
    "    datum.ParseFromString(value)\n",
    "    label = datum.label\n",
    "    labels.append(label)\n",
    "    image = caffe.io.datum_to_array(datum)\n",
    "    image = image.astype(np.uint8)\n",
    "    out = net.forward_all(data=np.asarray([image]) - mean_image).copy()\n",
    "\n",
    "    plabel = out['prob']\n",
    "    preds.append(plabel)\n",
    "    count += 1"
   ]
  },
  {
   "cell_type": "code",
   "execution_count": null,
   "metadata": {
    "ExecuteTime": {
     "start_time": "2017-08-16T12:55:38.620Z"
    }
   },
   "outputs": [],
   "source": [
    "preds[3]"
   ]
  },
  {
   "cell_type": "code",
   "execution_count": null,
   "metadata": {
    "ExecuteTime": {
     "start_time": "2017-08-16T12:55:39.037Z"
    },
    "collapsed": true
   },
   "outputs": [],
   "source": [
    "pred_label = [np.argmax(i) for i in preds ]"
   ]
  },
  {
   "cell_type": "code",
   "execution_count": null,
   "metadata": {
    "ExecuteTime": {
     "start_time": "2017-08-16T12:55:39.540Z"
    }
   },
   "outputs": [],
   "source": [
    "pred_label[2] , labels[2]"
   ]
  },
  {
   "cell_type": "code",
   "execution_count": null,
   "metadata": {
    "ExecuteTime": {
     "start_time": "2017-08-16T12:55:39.981Z"
    }
   },
   "outputs": [],
   "source": [
    "error_RF = mean_squared_error(labels, pred_label)\n",
    "\n",
    "accuracy = np.mean(labels == pred_label)\n",
    "\n",
    "precision , recall , fscore , _ = precision_recall_fscore_support(labels, pred_label)\n",
    "\n",
    "\n",
    "print ( precision , recall , fscore)"
   ]
  },
  {
   "cell_type": "code",
   "execution_count": null,
   "metadata": {
    "ExecuteTime": {
     "start_time": "2017-08-16T12:55:40.429Z"
    }
   },
   "outputs": [],
   "source": [
    "accuracy"
   ]
  },
  {
   "cell_type": "code",
   "execution_count": null,
   "metadata": {
    "collapsed": true
   },
   "outputs": [],
   "source": []
  }
 ],
 "metadata": {
  "kernelspec": {
   "display_name": "Python 2",
   "language": "python",
   "name": "python2"
  },
  "language_info": {
   "codemirror_mode": {
    "name": "ipython",
    "version": 2
   },
   "file_extension": ".py",
   "mimetype": "text/x-python",
   "name": "python",
   "nbconvert_exporter": "python",
   "pygments_lexer": "ipython2",
   "version": "2.7.12"
  }
 },
 "nbformat": 4,
 "nbformat_minor": 2
}
