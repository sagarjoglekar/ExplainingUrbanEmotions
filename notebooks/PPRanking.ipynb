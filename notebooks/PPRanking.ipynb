{
 "cells": [
  {
   "cell_type": "code",
   "execution_count": 3,
   "metadata": {
    "ExecuteTime": {
     "end_time": "2018-02-07T17:26:08.273557Z",
     "start_time": "2018-02-07T17:26:06.580673Z"
    },
    "collapsed": true
   },
   "outputs": [],
   "source": [
    "import pandas as pd\n",
    "import requests as rq\n",
    "import os\n",
    "import seaborn as sns\n",
    "import matplotlib.pyplot as plt\n",
    "%matplotlib inline\n",
    "from IPython.display import Image\n",
    "import random\n",
    "import numpy as np\n",
    "import h5py\n",
    "import os\n",
    "from __future__ import print_function\n",
    "from shapely import geometry\n",
    "import fiona\n",
    "import ipyparallel as ipp\n",
    "import geopandas as gpd\n",
    "from geopandas.geoseries import *\n",
    "from geopandas.tools import sjoin\n",
    "import shapefile\n",
    "from shapely.geometry import shape, Point\n",
    "import pickle"
   ]
  },
  {
   "cell_type": "markdown",
   "metadata": {},
   "source": [
    "### Directory paths to the placepulse images and the augmentation data"
   ]
  },
  {
   "cell_type": "code",
   "execution_count": 4,
   "metadata": {
    "ExecuteTime": {
     "end_time": "2018-02-07T17:26:08.280782Z",
     "start_time": "2018-02-07T17:26:08.276890Z"
    },
    "collapsed": true
   },
   "outputs": [],
   "source": [
    "imgDir = \"/work/sagarj/Work/BellLabs/streetview/PPImages/\"\n",
    "AugDir = \"/work/sagarj/Work/BellLabs/streetview/USAEasternAugImages/\""
   ]
  },
  {
   "cell_type": "markdown",
   "metadata": {},
   "source": [
    "### Load placepulse vote data"
   ]
  },
  {
   "cell_type": "code",
   "execution_count": 5,
   "metadata": {
    "ExecuteTime": {
     "end_time": "2018-02-07T17:26:11.281616Z",
     "start_time": "2018-02-07T17:26:08.495824Z"
    },
    "collapsed": true
   },
   "outputs": [],
   "source": [
    "df = pd.read_csv(\"../streetview/votes.csv\")"
   ]
  },
  {
   "cell_type": "code",
   "execution_count": 6,
   "metadata": {
    "ExecuteTime": {
     "end_time": "2018-02-07T17:26:11.409780Z",
     "start_time": "2018-02-07T17:26:11.283512Z"
    }
   },
   "outputs": [
    {
     "data": {
      "text/plain": [
       "111383"
      ]
     },
     "execution_count": 6,
     "metadata": {},
     "output_type": "execute_result"
    }
   ],
   "source": [
    "len(df['right_id'].unique())"
   ]
  },
  {
   "cell_type": "markdown",
   "metadata": {},
   "source": [
    "### Shape file for localizing datasets"
   ]
  },
  {
   "cell_type": "code",
   "execution_count": 7,
   "metadata": {
    "ExecuteTime": {
     "end_time": "2018-02-07T17:26:11.414056Z",
     "start_time": "2018-02-07T17:26:11.411574Z"
    },
    "collapsed": true
   },
   "outputs": [],
   "source": [
    "londonShp = \"../shapeFiles/London_Ward_CityMerged.shp\"\n",
    "USAUAShp = \"../shapeFiles/cb_2016_us_ua10_500k.shp\""
   ]
  },
  {
   "cell_type": "code",
   "execution_count": 8,
   "metadata": {
    "ExecuteTime": {
     "end_time": "2018-02-07T17:26:11.422006Z",
     "start_time": "2018-02-07T17:26:11.415651Z"
    }
   },
   "outputs": [
    {
     "data": {
      "text/plain": [
       "Index([u'left_id', u'right_id', u'winner', u'left_lat', u'left_long',\n",
       "       u'right_lat', u'right_long', u'category'],\n",
       "      dtype='object')"
      ]
     },
     "execution_count": 8,
     "metadata": {},
     "output_type": "execute_result"
    }
   ],
   "source": [
    "df.keys()"
   ]
  },
  {
   "cell_type": "code",
   "execution_count": 9,
   "metadata": {
    "ExecuteTime": {
     "end_time": "2018-02-07T17:26:11.443079Z",
     "start_time": "2018-02-07T17:26:11.423543Z"
    }
   },
   "outputs": [
    {
     "data": {
      "text/html": [
       "<div>\n",
       "<style scoped>\n",
       "    .dataframe tbody tr th:only-of-type {\n",
       "        vertical-align: middle;\n",
       "    }\n",
       "\n",
       "    .dataframe tbody tr th {\n",
       "        vertical-align: top;\n",
       "    }\n",
       "\n",
       "    .dataframe thead th {\n",
       "        text-align: right;\n",
       "    }\n",
       "</style>\n",
       "<table border=\"1\" class=\"dataframe\">\n",
       "  <thead>\n",
       "    <tr style=\"text-align: right;\">\n",
       "      <th></th>\n",
       "      <th>left_id</th>\n",
       "      <th>right_id</th>\n",
       "      <th>winner</th>\n",
       "      <th>left_lat</th>\n",
       "      <th>left_long</th>\n",
       "      <th>right_lat</th>\n",
       "      <th>right_long</th>\n",
       "      <th>category</th>\n",
       "    </tr>\n",
       "  </thead>\n",
       "  <tbody>\n",
       "    <tr>\n",
       "      <th>0</th>\n",
       "      <td>513d2dbefdc9f03587002515</td>\n",
       "      <td>51413b2ffdc9f049260058ca</td>\n",
       "      <td>left</td>\n",
       "      <td>41.935385</td>\n",
       "      <td>-87.696485</td>\n",
       "      <td>34.047847</td>\n",
       "      <td>-118.236107</td>\n",
       "      <td>wealthy</td>\n",
       "    </tr>\n",
       "    <tr>\n",
       "      <th>1</th>\n",
       "      <td>513d7e23fdc9f0358700733a</td>\n",
       "      <td>513d7ac3fdc9f0358700693f</td>\n",
       "      <td>equal</td>\n",
       "      <td>40.744156</td>\n",
       "      <td>-73.935579</td>\n",
       "      <td>-33.526384</td>\n",
       "      <td>-70.591309</td>\n",
       "      <td>depressing</td>\n",
       "    </tr>\n",
       "    <tr>\n",
       "      <th>2</th>\n",
       "      <td>50f60c4dbeb2fed91000028d</td>\n",
       "      <td>513cb652fdc9f03587000a1e</td>\n",
       "      <td>right</td>\n",
       "      <td>45.505837</td>\n",
       "      <td>-122.583705</td>\n",
       "      <td>29.752872</td>\n",
       "      <td>-95.298844</td>\n",
       "      <td>depressing</td>\n",
       "    </tr>\n",
       "    <tr>\n",
       "      <th>3</th>\n",
       "      <td>513d9ff9fdc9f0358700887c</td>\n",
       "      <td>513cd544fdc9f03587001efc</td>\n",
       "      <td>left</td>\n",
       "      <td>33.747093</td>\n",
       "      <td>-84.289843</td>\n",
       "      <td>-33.930831</td>\n",
       "      <td>18.406321</td>\n",
       "      <td>depressing</td>\n",
       "    </tr>\n",
       "    <tr>\n",
       "      <th>4</th>\n",
       "      <td>513f320cfdc9f0358700e030</td>\n",
       "      <td>513cc3acfdc9f035870016c3</td>\n",
       "      <td>left</td>\n",
       "      <td>52.551685</td>\n",
       "      <td>13.416548</td>\n",
       "      <td>29.763818</td>\n",
       "      <td>-95.394621</td>\n",
       "      <td>safety</td>\n",
       "    </tr>\n",
       "  </tbody>\n",
       "</table>\n",
       "</div>"
      ],
      "text/plain": [
       "                    left_id                  right_id winner   left_lat  \\\n",
       "0  513d2dbefdc9f03587002515  51413b2ffdc9f049260058ca   left  41.935385   \n",
       "1  513d7e23fdc9f0358700733a  513d7ac3fdc9f0358700693f  equal  40.744156   \n",
       "2  50f60c4dbeb2fed91000028d  513cb652fdc9f03587000a1e  right  45.505837   \n",
       "3  513d9ff9fdc9f0358700887c  513cd544fdc9f03587001efc   left  33.747093   \n",
       "4  513f320cfdc9f0358700e030  513cc3acfdc9f035870016c3   left  52.551685   \n",
       "\n",
       "    left_long  right_lat  right_long    category  \n",
       "0  -87.696485  34.047847 -118.236107     wealthy  \n",
       "1  -73.935579 -33.526384  -70.591309  depressing  \n",
       "2 -122.583705  29.752872  -95.298844  depressing  \n",
       "3  -84.289843 -33.930831   18.406321  depressing  \n",
       "4   13.416548  29.763818  -95.394621      safety  "
      ]
     },
     "execution_count": 9,
     "metadata": {},
     "output_type": "execute_result"
    }
   ],
   "source": [
    "df.head()"
   ]
  },
  {
   "cell_type": "code",
   "execution_count": 14,
   "metadata": {
    "ExecuteTime": {
     "end_time": "2018-02-07T17:26:51.749077Z",
     "start_time": "2018-02-07T17:26:51.571930Z"
    }
   },
   "outputs": [
    {
     "data": {
      "text/plain": [
       "111383"
      ]
     },
     "execution_count": 14,
     "metadata": {},
     "output_type": "execute_result"
    }
   ],
   "source": [
    "len(df['right_id'].unique())"
   ]
  },
  {
   "cell_type": "markdown",
   "metadata": {},
   "source": [
    "### check if a lat long falls in the shapefile polygon"
   ]
  },
  {
   "cell_type": "code",
   "execution_count": 15,
   "metadata": {
    "ExecuteTime": {
     "end_time": "2018-02-07T17:30:56.939371Z",
     "start_time": "2018-02-07T17:30:56.931496Z"
    },
    "collapsed": true
   },
   "outputs": [],
   "source": [
    "def check(point, polygon):\n",
    "    if any(polygon.contains(point)):\n",
    "        return True\n",
    "    else:\n",
    "        return False\n",
    "\n",
    "def checkPoly(point,polygonArray):\n",
    "    truths = [check(point , poly) for poly in polygonArray]\n",
    "    return any(truths)"
   ]
  },
  {
   "cell_type": "markdown",
   "metadata": {},
   "source": [
    "### Create a dictionary of localized data"
   ]
  },
  {
   "cell_type": "code",
   "execution_count": 16,
   "metadata": {
    "ExecuteTime": {
     "end_time": "2018-02-07T17:32:30.957817Z",
     "start_time": "2018-02-07T17:30:57.602628Z"
    },
    "collapsed": true
   },
   "outputs": [],
   "source": [
    "geometryDict = {}\n",
    "for idx, row in df.iterrows():\n",
    "    if row['left_id'] not in geometryDict:\n",
    "        p = Point(row['left_long'] , row['left_lat'])\n",
    "        geometryDict[row['left_id']] = p\n",
    "    if row['right_id'] not in geometryDict:\n",
    "        p = Point(row['right_long'] , row['right_lat'])\n",
    "        geometryDict[row['right_id']] = p"
   ]
  },
  {
   "cell_type": "code",
   "execution_count": 17,
   "metadata": {
    "ExecuteTime": {
     "end_time": "2018-02-07T17:32:30.966378Z",
     "start_time": "2018-02-07T17:32:30.959656Z"
    }
   },
   "outputs": [
    {
     "data": {
      "text/plain": [
       "'51409449fdc9f04926000870'"
      ]
     },
     "execution_count": 17,
     "metadata": {},
     "output_type": "execute_result"
    }
   ],
   "source": [
    "geometryDict.keys()[1]"
   ]
  },
  {
   "cell_type": "code",
   "execution_count": 18,
   "metadata": {
    "ExecuteTime": {
     "end_time": "2018-02-07T17:32:30.978015Z",
     "start_time": "2018-02-07T17:32:30.967959Z"
    },
    "collapsed": true
   },
   "outputs": [],
   "source": [
    "# with open(\"../Data/AllStreetScoreImageLocs.pkl\" , 'w') as f:\n",
    "#     pickle.dump(geometryDict,f,protocol=pickle.HIGHEST_PROTOCOL)"
   ]
  },
  {
   "cell_type": "code",
   "execution_count": 19,
   "metadata": {
    "ExecuteTime": {
     "end_time": "2018-02-07T17:32:30.989081Z",
     "start_time": "2018-02-07T17:32:30.979561Z"
    }
   },
   "outputs": [
    {
     "data": {
      "text/plain": [
       "13.473838"
      ]
     },
     "execution_count": 19,
     "metadata": {},
     "output_type": "execute_result"
    }
   ],
   "source": [
    "geometryDict[geometryDict.keys()[2]].x"
   ]
  },
  {
   "cell_type": "code",
   "execution_count": 20,
   "metadata": {
    "ExecuteTime": {
     "end_time": "2018-02-07T17:32:33.254400Z",
     "start_time": "2018-02-07T17:32:30.991183Z"
    },
    "collapsed": true
   },
   "outputs": [],
   "source": [
    "usa = gpd.read_file(\"../shapeFiles/cb_2016_us_ua10_500k.shp\")"
   ]
  },
  {
   "cell_type": "code",
   "execution_count": 21,
   "metadata": {
    "ExecuteTime": {
     "end_time": "2018-02-07T17:32:33.258678Z",
     "start_time": "2018-02-07T17:32:33.256325Z"
    },
    "collapsed": true
   },
   "outputs": [],
   "source": [
    "# london = gpd.read_file(\"../shapeFiles/statistical-gis-boundaries-london/ESRI/London_Borough_Excluding_MHW.shp\")"
   ]
  },
  {
   "cell_type": "code",
   "execution_count": 22,
   "metadata": {
    "ExecuteTime": {
     "end_time": "2018-02-07T17:32:33.308357Z",
     "start_time": "2018-02-07T17:32:33.261746Z"
    }
   },
   "outputs": [
    {
     "data": {
      "text/html": [
       "<div>\n",
       "<style scoped>\n",
       "    .dataframe tbody tr th:only-of-type {\n",
       "        vertical-align: middle;\n",
       "    }\n",
       "\n",
       "    .dataframe tbody tr th {\n",
       "        vertical-align: top;\n",
       "    }\n",
       "\n",
       "    .dataframe thead th {\n",
       "        text-align: right;\n",
       "    }\n",
       "</style>\n",
       "<table border=\"1\" class=\"dataframe\">\n",
       "  <thead>\n",
       "    <tr style=\"text-align: right;\">\n",
       "      <th></th>\n",
       "      <th>AFFGEOID10</th>\n",
       "      <th>ALAND10</th>\n",
       "      <th>AWATER10</th>\n",
       "      <th>GEOID10</th>\n",
       "      <th>LSAD10</th>\n",
       "      <th>NAME10</th>\n",
       "      <th>UACE10</th>\n",
       "      <th>UATYP10</th>\n",
       "      <th>geometry</th>\n",
       "    </tr>\n",
       "  </thead>\n",
       "  <tbody>\n",
       "    <tr>\n",
       "      <th>0</th>\n",
       "      <td>400C100US04087</td>\n",
       "      <td>5204595</td>\n",
       "      <td>0</td>\n",
       "      <td>04087</td>\n",
       "      <td>76</td>\n",
       "      <td>Auburn, NE</td>\n",
       "      <td>04087</td>\n",
       "      <td>C</td>\n",
       "      <td>POLYGON ((-95.857736 40.392806, -95.853053 40....</td>\n",
       "    </tr>\n",
       "    <tr>\n",
       "      <th>1</th>\n",
       "      <td>400C100US86653</td>\n",
       "      <td>41537873</td>\n",
       "      <td>0</td>\n",
       "      <td>86653</td>\n",
       "      <td>76</td>\n",
       "      <td>Taos, NM</td>\n",
       "      <td>86653</td>\n",
       "      <td>C</td>\n",
       "      <td>(POLYGON ((-105.57698 36.363231, -105.574978 3...</td>\n",
       "    </tr>\n",
       "    <tr>\n",
       "      <th>2</th>\n",
       "      <td>400C100US70156</td>\n",
       "      <td>67103610</td>\n",
       "      <td>948468</td>\n",
       "      <td>70156</td>\n",
       "      <td>76</td>\n",
       "      <td>Plattsburgh, NY</td>\n",
       "      <td>70156</td>\n",
       "      <td>C</td>\n",
       "      <td>(POLYGON ((-73.443826 44.737779, -73.442940999...</td>\n",
       "    </tr>\n",
       "    <tr>\n",
       "      <th>3</th>\n",
       "      <td>400C100US35515</td>\n",
       "      <td>4536217</td>\n",
       "      <td>35372</td>\n",
       "      <td>35515</td>\n",
       "      <td>76</td>\n",
       "      <td>Greenwich, NY</td>\n",
       "      <td>35515</td>\n",
       "      <td>C</td>\n",
       "      <td>POLYGON ((-73.538184 43.092688, -73.528066 43....</td>\n",
       "    </tr>\n",
       "    <tr>\n",
       "      <th>4</th>\n",
       "      <td>400C100US41779</td>\n",
       "      <td>4457305</td>\n",
       "      <td>0</td>\n",
       "      <td>41779</td>\n",
       "      <td>76</td>\n",
       "      <td>Irrigon, OR</td>\n",
       "      <td>41779</td>\n",
       "      <td>C</td>\n",
       "      <td>POLYGON ((-119.531836 45.899186, -119.505269 4...</td>\n",
       "    </tr>\n",
       "  </tbody>\n",
       "</table>\n",
       "</div>"
      ],
      "text/plain": [
       "       AFFGEOID10   ALAND10  AWATER10 GEOID10 LSAD10           NAME10 UACE10  \\\n",
       "0  400C100US04087   5204595         0   04087     76       Auburn, NE  04087   \n",
       "1  400C100US86653  41537873         0   86653     76         Taos, NM  86653   \n",
       "2  400C100US70156  67103610    948468   70156     76  Plattsburgh, NY  70156   \n",
       "3  400C100US35515   4536217     35372   35515     76    Greenwich, NY  35515   \n",
       "4  400C100US41779   4457305         0   41779     76      Irrigon, OR  41779   \n",
       "\n",
       "  UATYP10                                           geometry  \n",
       "0       C  POLYGON ((-95.857736 40.392806, -95.853053 40....  \n",
       "1       C  (POLYGON ((-105.57698 36.363231, -105.574978 3...  \n",
       "2       C  (POLYGON ((-73.443826 44.737779, -73.442940999...  \n",
       "3       C  POLYGON ((-73.538184 43.092688, -73.528066 43....  \n",
       "4       C  POLYGON ((-119.531836 45.899186, -119.505269 4...  "
      ]
     },
     "execution_count": 22,
     "metadata": {},
     "output_type": "execute_result"
    }
   ],
   "source": [
    "usa.head()"
   ]
  },
  {
   "cell_type": "code",
   "execution_count": 23,
   "metadata": {
    "ExecuteTime": {
     "end_time": "2018-02-07T17:32:33.313573Z",
     "start_time": "2018-02-07T17:32:33.310745Z"
    },
    "collapsed": true
   },
   "outputs": [],
   "source": [
    "# pd.set_option('display.max_rows', len(usa['NAME10']))\n",
    "# print(usa['NAME10'])\n",
    "# pd.reset_option('display.max_rows')"
   ]
  },
  {
   "cell_type": "code",
   "execution_count": 24,
   "metadata": {
    "ExecuteTime": {
     "end_time": "2018-02-07T17:32:33.323611Z",
     "start_time": "2018-02-07T17:32:33.315950Z"
    },
    "collapsed": true
   },
   "outputs": [],
   "source": [
    "# us_selected_poly = ['Washington, DC--VA--MD' , 'New York--Newark, NY--NJ--CT' , 'Boston, MA--NH--RI' , 'Seattle, WA' , 'Portland, OR--WA' , \n",
    "#                     'Denver--Aurora, CO' , 'San Diego, CA' , 'San Francisco--Oakland, CA']\n",
    "#us_selected_poly = ['Washington, DC--VA--MD' , 'New York--Newark, NY--NJ--CT' , 'Boston, MA--NH--RI']\n",
    "us_selected_poly = ['Boston, MA--NH--RI']\n",
    "# london_selected_poly = ['Kensington and Chelsea','Westminster','Lambeth','Southwark','Hammersmith and Fulham','City of London','Islington','Camden']"
   ]
  },
  {
   "cell_type": "code",
   "execution_count": 25,
   "metadata": {
    "ExecuteTime": {
     "end_time": "2018-02-07T17:32:33.335653Z",
     "start_time": "2018-02-07T17:32:33.325919Z"
    },
    "collapsed": true
   },
   "outputs": [],
   "source": [
    "# london_poly = [london[(london['NAME'] == k)]['geometry'] for k in london_selected_poly]"
   ]
  },
  {
   "cell_type": "markdown",
   "metadata": {},
   "source": [
    "### Select specific images from polygons"
   ]
  },
  {
   "cell_type": "code",
   "execution_count": 26,
   "metadata": {
    "ExecuteTime": {
     "end_time": "2018-02-07T17:32:33.349148Z",
     "start_time": "2018-02-07T17:32:33.338491Z"
    },
    "collapsed": true
   },
   "outputs": [],
   "source": [
    "us_poly = [usa[(usa['NAME10'] == k)]['geometry'] for k in us_selected_poly]"
   ]
  },
  {
   "cell_type": "code",
   "execution_count": 27,
   "metadata": {
    "ExecuteTime": {
     "end_time": "2018-02-07T17:32:33.421382Z",
     "start_time": "2018-02-07T17:32:33.351808Z"
    }
   },
   "outputs": [
    {
     "name": "stdout",
     "output_type": "stream",
     "text": [
      "[1283    (POLYGON ((-70.861812 42.658277, -70.860432 42...\n",
      "Name: geometry, dtype: object]\n"
     ]
    }
   ],
   "source": [
    "print(us_poly)"
   ]
  },
  {
   "cell_type": "code",
   "execution_count": 28,
   "metadata": {
    "ExecuteTime": {
     "end_time": "2018-02-07T17:32:33.431841Z",
     "start_time": "2018-02-07T17:32:33.423467Z"
    }
   },
   "outputs": [
    {
     "data": {
      "text/plain": [
       "False"
      ]
     },
     "execution_count": 28,
     "metadata": {},
     "output_type": "execute_result"
    }
   ],
   "source": [
    "checkPoly(geometryDict[geometryDict.keys()[1]] , us_poly )"
   ]
  },
  {
   "cell_type": "code",
   "execution_count": 29,
   "metadata": {
    "ExecuteTime": {
     "end_time": "2018-02-07T17:32:59.345564Z",
     "start_time": "2018-02-07T17:32:33.433889Z"
    },
    "collapsed": true
   },
   "outputs": [],
   "source": [
    "us_poly_Ids = [k for k in geometryDict if checkPoly(geometryDict[k],us_poly)]"
   ]
  },
  {
   "cell_type": "code",
   "execution_count": 30,
   "metadata": {
    "ExecuteTime": {
     "end_time": "2018-02-07T17:32:59.349668Z",
     "start_time": "2018-02-07T17:32:59.347525Z"
    },
    "collapsed": true
   },
   "outputs": [],
   "source": [
    "# london_poly_Ids = [k for k in geometryDict if checkPoly(geometryDict[k],london_poly)]"
   ]
  },
  {
   "cell_type": "code",
   "execution_count": 31,
   "metadata": {
    "ExecuteTime": {
     "end_time": "2018-02-07T17:32:59.360428Z",
     "start_time": "2018-02-07T17:32:59.351192Z"
    }
   },
   "outputs": [
    {
     "data": {
      "text/plain": [
       "1332"
      ]
     },
     "execution_count": 31,
     "metadata": {},
     "output_type": "execute_result"
    }
   ],
   "source": [
    "len(us_poly_Ids)# ,len(london_poly_Ids)"
   ]
  },
  {
   "cell_type": "code",
   "execution_count": 32,
   "metadata": {
    "ExecuteTime": {
     "end_time": "2018-02-07T17:32:59.370252Z",
     "start_time": "2018-02-07T17:32:59.361927Z"
    }
   },
   "outputs": [
    {
     "data": {
      "text/plain": [
       "'513d6af1fdc9f03587004bcf'"
      ]
     },
     "execution_count": 32,
     "metadata": {},
     "output_type": "execute_result"
    }
   ],
   "source": [
    "us_poly_Ids[1]"
   ]
  },
  {
   "cell_type": "markdown",
   "metadata": {},
   "source": [
    "### group images by category as we plan to analyse based on dimension of the image"
   ]
  },
  {
   "cell_type": "code",
   "execution_count": 33,
   "metadata": {
    "ExecuteTime": {
     "end_time": "2018-02-07T17:32:59.377856Z",
     "start_time": "2018-02-07T17:32:59.371728Z"
    },
    "collapsed": true
   },
   "outputs": [],
   "source": [
    "grouped = df.groupby('category')"
   ]
  },
  {
   "cell_type": "code",
   "execution_count": 34,
   "metadata": {
    "ExecuteTime": {
     "end_time": "2018-02-07T17:32:59.594172Z",
     "start_time": "2018-02-07T17:32:59.379394Z"
    },
    "collapsed": true
   },
   "outputs": [],
   "source": [
    "categoryPosts = {}\n",
    "for k in grouped.groups.keys():\n",
    "    categoryPosts[k] = grouped.get_group(k)"
   ]
  },
  {
   "cell_type": "code",
   "execution_count": 35,
   "metadata": {
    "ExecuteTime": {
     "end_time": "2018-02-07T17:32:59.599840Z",
     "start_time": "2018-02-07T17:32:59.596299Z"
    }
   },
   "outputs": [
    {
     "data": {
      "text/plain": [
       "['beautiful', 'boring', 'depressing', 'safety', 'lively', 'wealthy']"
      ]
     },
     "execution_count": 35,
     "metadata": {},
     "output_type": "execute_result"
    }
   ],
   "source": [
    "categoryPosts.keys()"
   ]
  },
  {
   "cell_type": "code",
   "execution_count": 36,
   "metadata": {
    "ExecuteTime": {
     "end_time": "2018-02-07T17:32:59.606430Z",
     "start_time": "2018-02-07T17:32:59.601344Z"
    },
    "collapsed": true
   },
   "outputs": [],
   "source": [
    "DimensionDF = categoryPosts['beautiful']"
   ]
  },
  {
   "cell_type": "code",
   "execution_count": 37,
   "metadata": {
    "ExecuteTime": {
     "end_time": "2018-02-07T17:32:59.617519Z",
     "start_time": "2018-02-07T17:32:59.607935Z"
    }
   },
   "outputs": [
    {
     "data": {
      "text/plain": [
       "175361"
      ]
     },
     "execution_count": 37,
     "metadata": {},
     "output_type": "execute_result"
    }
   ],
   "source": [
    "len(DimensionDF)"
   ]
  },
  {
   "cell_type": "code",
   "execution_count": 38,
   "metadata": {
    "ExecuteTime": {
     "end_time": "2018-02-07T17:32:59.626950Z",
     "start_time": "2018-02-07T17:32:59.619085Z"
    },
    "collapsed": true
   },
   "outputs": [],
   "source": [
    "numbers = DimensionDF.groupby(['left_id'])"
   ]
  },
  {
   "cell_type": "code",
   "execution_count": 39,
   "metadata": {
    "ExecuteTime": {
     "end_time": "2018-02-07T17:32:59.741273Z",
     "start_time": "2018-02-07T17:32:59.628435Z"
    },
    "collapsed": true
   },
   "outputs": [],
   "source": [
    "VotesDistribution = numbers.size()"
   ]
  },
  {
   "cell_type": "markdown",
   "metadata": {},
   "source": [
    "### Use truse skill to convert images from a particular dimension to an ordinal scale "
   ]
  },
  {
   "cell_type": "code",
   "execution_count": 40,
   "metadata": {
    "ExecuteTime": {
     "end_time": "2018-02-07T17:32:59.765880Z",
     "start_time": "2018-02-07T17:32:59.743139Z"
    },
    "collapsed": true,
    "editable": false
   },
   "outputs": [],
   "source": [
    "from trueskill import Rating , rate_1vs1 , rate\n",
    "def trueSkillRate(df):\n",
    "    skills = {}\n",
    "    ratingTable = []\n",
    "    for index, row in df.iterrows():\n",
    "        if row['left_id'] not in skills:\n",
    "            skills[row['left_id']] = Rating()\n",
    "        if row['right_id'] not in skills:\n",
    "            skills[row['right_id']] = Rating()\n",
    "            \n",
    "        if row['winner'] == 'left':\n",
    "            nRLeft , nRRight = rate_1vs1(skills[row['left_id']] , skills[row['right_id']] )\n",
    "            skills[row['left_id']] = nRLeft\n",
    "            skills[row['right_id']] = nRRight\n",
    "            touple = {row['left_id']:nRLeft , row['right_id'] : nRRight}\n",
    "            ratingTable.append(touple)\n",
    "        elif row['winner'] == 'right':\n",
    "            nRRight , nRLeft = rate_1vs1(skills[row['right_id']] , skills[row['left_id']] )\n",
    "            skills[row['left_id']] = nRLeft\n",
    "            skills[row['right_id']] = nRRight\n",
    "            touple = {row['left_id']:nRLeft , row['right_id'] : nRRight}\n",
    "            ratingTable.append(touple)\n",
    "        else:\n",
    "            nRRight , nRLeft = rate_1vs1(skills[row['right_id']] , skills[row['left_id']] , drawn = True )\n",
    "            skills[row['left_id']] = nRLeft\n",
    "            skills[row['right_id']] = nRRight\n",
    "            touple = {row['left_id']:nRLeft , row['right_id'] : nRRight}\n",
    "            ratingTable.append(touple)\n",
    "    \n",
    "    return skills , ratingTable"
   ]
  },
  {
   "cell_type": "markdown",
   "metadata": {},
   "source": [
    "### Code to do stability analysis of the trueskill rating (can be used for other methods) to see how many samples change ordinal ratings as you consider more and more competetions"
   ]
  },
  {
   "cell_type": "code",
   "execution_count": 41,
   "metadata": {
    "ExecuteTime": {
     "end_time": "2018-02-07T17:32:59.812860Z",
     "start_time": "2018-02-07T17:32:59.768997Z"
    },
    "collapsed": true,
    "editable": false
   },
   "outputs": [],
   "source": [
    "def stabilityAnalysis(df , start , end):\n",
    "    classflips = []\n",
    "    rootflips = []\n",
    "    numbers = DimensionDF.groupby('left_id')\n",
    "    TargetDf = numbers.filter(lambda x: len(x) > start)\n",
    "    depressingSkills , _ = trueSkillRate(TargetDf)\n",
    "    root1 = [k for k in depressingSkills if depressingSkills[k].mu > 25]\n",
    "    root2 = [k for k in depressingSkills if depressingSkills[k].mu < 25]\n",
    "\n",
    "    for i in range(start,end+1):\n",
    "        \n",
    "        TargetDf = numbers.filter(lambda x: len(x) > i)\n",
    "        depressingSkills , _ = trueSkillRate(TargetDf)\n",
    "        r1 = [k for k in depressingSkills if depressingSkills[k].mu > 25]\n",
    "        r2 = [k for k in depressingSkills if depressingSkills[k].mu < 25]\n",
    "        \n",
    "        TargetDf = numbers.filter(lambda x: len(x) > i+1) \n",
    "        depressingSkills , _ = trueSkillRate(TargetDf)\n",
    "        class1 = [k for k in depressingSkills if depressingSkills[k].mu > 25]\n",
    "        class2 = [k for k in depressingSkills if depressingSkills[k].mu < 25]\n",
    "        \n",
    "        \n",
    "        flips_root = len(set(root1).intersection(class2)) + len(set(root2).intersection(class1))\n",
    "        flips_consecutive = len(set(r1).intersection(class2)) + len(set(r2).intersection(class1))\n",
    "        print (\"Total class flips at threshold level %d from %d : %d , %d from root\" %(i,i+1,flips_consecutive , flips_root ))\n",
    "        rootflips.append(flips_root)\n",
    "        classflips.append(flips_consecutive)\n",
    "\n",
    "    return classflips , rootflips\n",
    "        "
   ]
  },
  {
   "cell_type": "code",
   "execution_count": 42,
   "metadata": {
    "ExecuteTime": {
     "end_time": "2018-02-07T17:32:59.836119Z",
     "start_time": "2018-02-07T17:32:59.815428Z"
    },
    "collapsed": true,
    "editable": false
   },
   "outputs": [],
   "source": [
    "from math import sin, cos, sqrt, atan2, radians\n",
    "def linearDist( point1 , point2 ):\n",
    "    #radius of earth in meters\n",
    "    R=6378.137\n",
    "    #Coordinate offsets in radians\n",
    "    lat1 = radians(point1.y)\n",
    "    lon1 = radians(point1.x)\n",
    "    lat2 = radians(point2.y)\n",
    "    lon2 = radians(point2.x)\n",
    "\n",
    "    dlon = lon2 - lon1\n",
    "    dlat = lat2 - lat1\n",
    "\n",
    "    a = sin(dlat / 2)**2 + cos(lat1) * cos(lat2) * sin(dlon / 2)**2\n",
    "    c = 2 * atan2(sqrt(a), sqrt(1 - a))\n",
    "    \n",
    "    absDist = R * c\n",
    "#     if absDist/10.0 < 1:\n",
    "#         distance = 10\n",
    "#     elif absDist/100.0 < 1:\n",
    "#         distance = 100\n",
    "#     elif absDist/500.0 < 1:\n",
    "#         distance = 500\n",
    "#     elif absDist/1000.0 < 1:\n",
    "#         distance = 1000\n",
    "#     else:\n",
    "#         distance = 5000\n",
    "        \n",
    "    return absDist\n",
    " "
   ]
  },
  {
   "cell_type": "code",
   "execution_count": 43,
   "metadata": {
    "ExecuteTime": {
     "end_time": "2018-02-07T17:32:59.843843Z",
     "start_time": "2018-02-07T17:32:59.838419Z"
    },
    "collapsed": true
   },
   "outputs": [],
   "source": [
    "# rollingFlips, rootFlips  = stabilityAnalysis(DimensionDF, 3 , 11)"
   ]
  },
  {
   "cell_type": "code",
   "execution_count": 44,
   "metadata": {
    "ExecuteTime": {
     "end_time": "2018-02-07T17:32:59.854146Z",
     "start_time": "2018-02-07T17:32:59.846082Z"
    },
    "collapsed": true
   },
   "outputs": [],
   "source": [
    "# _, ax1 = plt.subplots(figsize=(15, 10))\n",
    "# ax1.plot(range(4,13), rollingFlips  , 'b' )\n",
    "# ax1.plot(range(4,13) , rootFlips  , 'g')\n",
    "\n",
    "# ax1.set_xlabel('Votes Threshold', fontsize = 20)\n",
    "# ax1.set_ylabel('Samples that switch classes' , fontsize = 20)\n",
    "# plt.title(\"Trueskill Stability\" , fontsize = 20)\n",
    "# ax1.legend([\"Flips compared to last threshold\" , \"Flips compared to threshold of 4 votes\"])\n",
    "\n",
    "\n"
   ]
  },
  {
   "cell_type": "code",
   "execution_count": 45,
   "metadata": {
    "ExecuteTime": {
     "end_time": "2018-02-07T17:33:00.219472Z",
     "start_time": "2018-02-07T17:32:59.856257Z"
    }
   },
   "outputs": [
    {
     "data": {
      "text/plain": [
       "[<matplotlib.text.Text at 0x7f77cef2bbd0>,\n",
       " <matplotlib.text.Text at 0x7f77cf126d50>]"
      ]
     },
     "execution_count": 45,
     "metadata": {},
     "output_type": "execute_result"
    },
    {
     "data": {
      "image/png": "[encoded data removed]",
      "text/plain": [
       "<matplotlib.figure.Figure at 0x7f77e001c590>"
      ]
     },
     "metadata": {},
     "output_type": "display_data"
    }
   ],
   "source": [
    "sns.set(rc={\"figure.figsize\": (16, 12)})\n",
    "sns.set(font_scale=1)  \n",
    "ax = sns.distplot(VotesDistribution )\n",
    "ax.set(xlabel='Votes', ylabel='Population')\n"
   ]
  },
  {
   "cell_type": "markdown",
   "metadata": {},
   "source": [
    "### Find the final Dataframe that we use for rankings"
   ]
  },
  {
   "cell_type": "code",
   "execution_count": 63,
   "metadata": {
    "ExecuteTime": {
     "end_time": "2018-02-11T18:15:48.122449Z",
     "start_time": "2018-02-11T18:15:38.650201Z"
    },
    "collapsed": true
   },
   "outputs": [],
   "source": [
    "TargetDf = numbers.filter(lambda x: len(x) >= 3) "
   ]
  },
  {
   "cell_type": "code",
   "execution_count": 64,
   "metadata": {
    "ExecuteTime": {
     "end_time": "2018-02-11T18:15:48.144052Z",
     "start_time": "2018-02-11T18:15:48.124280Z"
    }
   },
   "outputs": [
    {
     "data": {
      "text/plain": [
       "21833"
      ]
     },
     "execution_count": 64,
     "metadata": {},
     "output_type": "execute_result"
    }
   ],
   "source": [
    "len(TargetDf['left_id'].unique())"
   ]
  },
  {
   "cell_type": "code",
   "execution_count": 65,
   "metadata": {
    "ExecuteTime": {
     "end_time": "2018-02-11T18:15:48.155435Z",
     "start_time": "2018-02-11T18:15:48.145684Z"
    },
    "collapsed": true
   },
   "outputs": [],
   "source": [
    "usa_df = TargetDf[(TargetDf['left_id'].isin(us_poly_Ids))]"
   ]
  },
  {
   "cell_type": "code",
   "execution_count": 66,
   "metadata": {
    "ExecuteTime": {
     "end_time": "2018-02-11T18:15:48.176044Z",
     "start_time": "2018-02-11T18:15:48.157082Z"
    }
   },
   "outputs": [
    {
     "data": {
      "text/plain": [
       "920"
      ]
     },
     "execution_count": 66,
     "metadata": {},
     "output_type": "execute_result"
    }
   ],
   "source": [
    "len(usa_df)"
   ]
  },
  {
   "cell_type": "code",
   "execution_count": 67,
   "metadata": {
    "ExecuteTime": {
     "end_time": "2018-02-11T18:15:48.190508Z",
     "start_time": "2018-02-11T18:15:48.178180Z"
    }
   },
   "outputs": [
    {
     "data": {
      "text/plain": [
       "263"
      ]
     },
     "execution_count": 67,
     "metadata": {},
     "output_type": "execute_result"
    }
   ],
   "source": [
    "len(list(set(usa_df['left_id'])))"
   ]
  },
  {
   "cell_type": "code",
   "execution_count": 68,
   "metadata": {
    "ExecuteTime": {
     "end_time": "2018-02-11T18:15:48.201315Z",
     "start_time": "2018-02-11T18:15:48.192972Z"
    },
    "collapsed": true
   },
   "outputs": [],
   "source": [
    "# usa_df.to_csv(\"../streetview/BostonVotes.csv\")"
   ]
  },
  {
   "cell_type": "code",
   "execution_count": 69,
   "metadata": {
    "ExecuteTime": {
     "end_time": "2018-02-11T18:15:48.217881Z",
     "start_time": "2018-02-11T18:15:48.203563Z"
    },
    "collapsed": true
   },
   "outputs": [],
   "source": [
    "# fivevotes = pd.read_csv(\"../streetview/5votes.csv\")\n",
    "# len(fivevotes)"
   ]
  },
  {
   "cell_type": "code",
   "execution_count": 70,
   "metadata": {
    "ExecuteTime": {
     "end_time": "2018-02-11T18:15:48.241017Z",
     "start_time": "2018-02-11T18:15:48.220824Z"
    }
   },
   "outputs": [
    {
     "data": {
      "text/plain": [
       "21833"
      ]
     },
     "execution_count": 70,
     "metadata": {},
     "output_type": "execute_result"
    }
   ],
   "source": [
    "len(list(set(TargetDf['left_id'])))"
   ]
  },
  {
   "cell_type": "code",
   "execution_count": 71,
   "metadata": {
    "ExecuteTime": {
     "end_time": "2018-02-11T18:15:48.253433Z",
     "start_time": "2018-02-11T18:15:48.243285Z"
    }
   },
   "outputs": [
    {
     "data": {
      "text/plain": [
       "76007"
      ]
     },
     "execution_count": 71,
     "metadata": {},
     "output_type": "execute_result"
    }
   ],
   "source": [
    "len(TargetDf)"
   ]
  },
  {
   "cell_type": "code",
   "execution_count": 72,
   "metadata": {
    "ExecuteTime": {
     "end_time": "2018-02-11T18:15:48.278874Z",
     "start_time": "2018-02-11T18:15:48.255619Z"
    }
   },
   "outputs": [
    {
     "data": {
      "text/plain": [
       "7134"
      ]
     },
     "execution_count": 72,
     "metadata": {},
     "output_type": "execute_result"
    }
   ],
   "source": [
    "len(TargetDf[(TargetDf['winner'] == 'equal')])"
   ]
  },
  {
   "cell_type": "code",
   "execution_count": 73,
   "metadata": {
    "ExecuteTime": {
     "end_time": "2018-02-11T18:15:48.288804Z",
     "start_time": "2018-02-11T18:15:48.280890Z"
    },
    "collapsed": true
   },
   "outputs": [],
   "source": [
    "from trueskill import Rating"
   ]
  },
  {
   "cell_type": "code",
   "execution_count": 74,
   "metadata": {
    "ExecuteTime": {
     "end_time": "2018-02-11T18:15:48.307240Z",
     "start_time": "2018-02-11T18:15:48.290793Z"
    },
    "collapsed": true
   },
   "outputs": [],
   "source": [
    "from trueskill.backends import available_backends\n",
    "from trueskill import setup\n",
    "from mpmath import mp\n",
    "if 'mpmath' in available_backends():\n",
    "    # mpmath can be used in the current environment\n",
    "    setup(backend='mpmath')\n",
    "mp.dps = 32"
   ]
  },
  {
   "cell_type": "code",
   "execution_count": 75,
   "metadata": {
    "ExecuteTime": {
     "end_time": "2018-02-11T18:17:44.631282Z",
     "start_time": "2018-02-11T18:15:48.309274Z"
    },
    "collapsed": true
   },
   "outputs": [],
   "source": [
    "depressingSkills , depRatingTable = trueSkillRate(TargetDf)"
   ]
  },
  {
   "cell_type": "code",
   "execution_count": 76,
   "metadata": {
    "ExecuteTime": {
     "end_time": "2018-02-11T18:17:44.645943Z",
     "start_time": "2018-02-11T18:17:44.633259Z"
    }
   },
   "outputs": [
    {
     "data": {
      "text/plain": [
       "-71.09660699999999"
      ]
     },
     "execution_count": 76,
     "metadata": {},
     "output_type": "execute_result"
    }
   ],
   "source": [
    "geometryDict[us_poly_Ids[1]].xy[0][0]"
   ]
  },
  {
   "cell_type": "code",
   "execution_count": 77,
   "metadata": {
    "ExecuteTime": {
     "end_time": "2018-02-11T18:17:46.402570Z",
     "start_time": "2018-02-11T18:17:44.647504Z"
    },
    "collapsed": true
   },
   "outputs": [],
   "source": [
    "#Filter the final ratings based on the US city ids of images\n",
    "finalSkills = {}\n",
    "# leftids = list(set(TargetDf['left_id']))\n",
    "leftids = us_poly_Ids\n",
    "for k in depressingSkills:\n",
    "    if k in leftids:\n",
    "        finalSkills[k] = {}\n",
    "        finalSkills[k]['rating'] = depressingSkills[k].mu\n",
    "        finalSkills[k]['variance'] = depressingSkills[k].mu\n",
    "#         finalSkills[k]['lat'] = geometryDict[k].xy[1][0]\n",
    "#         finalSkills[k]['long'] = geometryDict[k].xy[0][0]"
   ]
  },
  {
   "cell_type": "code",
   "execution_count": 78,
   "metadata": {
    "ExecuteTime": {
     "end_time": "2018-02-11T18:17:46.421633Z",
     "start_time": "2018-02-11T18:17:46.404220Z"
    },
    "collapsed": true
   },
   "outputs": [],
   "source": [
    "skillMeans = [finalSkills[k]['rating'] for k in finalSkills]"
   ]
  },
  {
   "cell_type": "code",
   "execution_count": 81,
   "metadata": {
    "ExecuteTime": {
     "end_time": "2018-02-11T18:20:08.302904Z",
     "start_time": "2018-02-11T18:20:08.012675Z"
    }
   },
   "outputs": [
    {
     "data": {
      "text/plain": [
       "[<matplotlib.text.Text at 0x7f77c198d790>,\n",
       " <matplotlib.text.Text at 0x7f77c368fcd0>]"
      ]
     },
     "execution_count": 81,
     "metadata": {},
     "output_type": "execute_result"
    },
    {
     "data": {
      "image/png": "[encoded data removed]",
      "text/plain": [
       "<matplotlib.figure.Figure at 0x7f77c4261990>"
      ]
     },
     "metadata": {},
     "output_type": "display_data"
    }
   ],
   "source": [
    "fig, ax = plt.subplots()\n",
    "fig.set_size_inches(16,12)\n",
    "sns.set(font_scale=3) \n",
    "ax = sns.distplot(skillMeans , hist=False, kde_kws=dict(cumulative=False) )\n",
    "ax.axvline(x=22, ymin=0, ymax=1, linewidth=3, color = 'r', linestyle='dotted')\n",
    "ax.axvline(x=28, ymin=0, ymax=1, linewidth=3, color = 'g', linestyle='dotted')\n",
    "plt\n",
    "ax.set(xlabel='beauty scores', ylabel='frequency')"
   ]
  },
  {
   "cell_type": "code",
   "execution_count": 73,
   "metadata": {
    "ExecuteTime": {
     "end_time": "2017-12-01T14:39:37.870266Z",
     "start_time": "2017-12-01T14:39:37.868090Z"
    },
    "collapsed": true
   },
   "outputs": [],
   "source": [
    "# with open(\"bostonImages.json\",'wb') as f:\n",
    "#     json.dump(finalSkills,f)"
   ]
  },
  {
   "cell_type": "code",
   "execution_count": null,
   "metadata": {
    "ExecuteTime": {
     "end_time": "2017-10-24T11:21:42.277382Z",
     "start_time": "2017-10-24T11:21:42.261437Z"
    },
    "collapsed": true
   },
   "outputs": [],
   "source": [
    "from itertools import combinations\n",
    "def doSampleTesting(skills , sampleSize, iters , distThresh):\n",
    "    median = []\n",
    "    variance = []\n",
    "    for i in range(iters):\n",
    "        sample = random.sample(skills.keys(),sampleSize)\n",
    "        deltaRating = []\n",
    "        for combo in combinations(sample, 2):\n",
    "            dist = linearDist(geometryDict[combo[0]] , geometryDict[combo[1]])\n",
    "            if dist < distThresh:\n",
    "                deltaRating.append(abs(skills[combo[0]]['rating'].mu - skills[combo[1]]['rating'].mu))\n",
    "        median.append(np.median(deltaRating))\n",
    "        variance.append(np.var(deltaRating))\n",
    "    return median , variance"
   ]
  },
  {
   "cell_type": "code",
   "execution_count": null,
   "metadata": {
    "ExecuteTime": {
     "end_time": "2017-10-24T11:21:43.513705Z",
     "start_time": "2017-10-24T11:21:43.509480Z"
    },
    "collapsed": true
   },
   "outputs": [],
   "source": [
    "# sample = random.sample(finalSkills.keys(),300)"
   ]
  },
  {
   "cell_type": "code",
   "execution_count": null,
   "metadata": {
    "ExecuteTime": {
     "end_time": "2017-10-24T11:21:44.755867Z",
     "start_time": "2017-10-24T11:21:44.749910Z"
    },
    "collapsed": true
   },
   "outputs": [],
   "source": [
    "# from itertools import combinations\n",
    "\n",
    "# distances = []\n",
    "# deltaRating = []\n",
    "# # c= ipp.Client()\n",
    "# for combo in combinations(sample, 2):\n",
    "#     #d = c[0].apply_async(linearDist , geometryDict[combo[0]] , geometryDict[combo[1]])\n",
    "#     dist = linearDist(geometryDict[combo[0]] , geometryDict[combo[1]])\n",
    "#     if dist < 10:\n",
    "#         distances.append(dist)\n",
    "#         #delta = c[1].apply_async(abs ,(finalSkills[combo[0]]['rating'].mu - finalSkills[combo[1]]['rating'].mu))\n",
    "#         deltaRating.append(abs(finalSkills[combo[0]]['rating'].mu - finalSkills[combo[1]]['rating'].mu))\n",
    "    \n",
    "#     #distances.append(d)\n",
    "#     #deltaRating.append(delta)"
   ]
  },
  {
   "cell_type": "code",
   "execution_count": null,
   "metadata": {
    "ExecuteTime": {
     "end_time": "2017-10-24T11:21:45.919935Z",
     "start_time": "2017-10-24T11:21:45.916642Z"
    },
    "collapsed": true
   },
   "outputs": [],
   "source": [
    "# deltaMedians , deltaVar = doSampleTesting(finalSkills , 300 , 100 , 10)"
   ]
  },
  {
   "cell_type": "code",
   "execution_count": null,
   "metadata": {
    "ExecuteTime": {
     "end_time": "2017-10-24T11:21:47.436142Z",
     "start_time": "2017-10-24T11:21:47.430807Z"
    },
    "collapsed": true
   },
   "outputs": [],
   "source": [
    "# len(deltaMedians)"
   ]
  },
  {
   "cell_type": "code",
   "execution_count": null,
   "metadata": {
    "ExecuteTime": {
     "end_time": "2017-10-24T11:21:48.697978Z",
     "start_time": "2017-10-24T11:21:48.406733Z"
    },
    "collapsed": true
   },
   "outputs": [],
   "source": [
    "#g = sns.jointplot(np.asarray(distances), np.asarray(deltaRating), kind=\"reg\")\n",
    "# ax = sns.distplot(deltaMedians)\n",
    "# ax = sns.distplot(deltaVar)\n"
   ]
  },
  {
   "cell_type": "code",
   "execution_count": null,
   "metadata": {
    "ExecuteTime": {
     "end_time": "2017-10-24T11:21:49.206993Z",
     "start_time": "2017-10-24T11:21:49.203076Z"
    },
    "collapsed": true
   },
   "outputs": [],
   "source": [
    "len(list(set(finalSkills.keys())))"
   ]
  },
  {
   "cell_type": "code",
   "execution_count": null,
   "metadata": {
    "ExecuteTime": {
     "end_time": "2017-10-24T11:21:57.324194Z",
     "start_time": "2017-10-24T11:21:57.318471Z"
    },
    "collapsed": true
   },
   "outputs": [],
   "source": [
    "depRatingTable[1]"
   ]
  },
  {
   "cell_type": "code",
   "execution_count": null,
   "metadata": {
    "ExecuteTime": {
     "end_time": "2017-10-24T11:22:01.384066Z",
     "start_time": "2017-10-24T11:22:01.380812Z"
    },
    "collapsed": true
   },
   "outputs": [],
   "source": [
    "# rated_depSkills = rate(depRatingTable)"
   ]
  },
  {
   "cell_type": "code",
   "execution_count": null,
   "metadata": {
    "ExecuteTime": {
     "end_time": "2017-10-24T11:22:02.779064Z",
     "start_time": "2017-10-24T11:22:02.774601Z"
    },
    "collapsed": true
   },
   "outputs": [],
   "source": [
    "# skill = {}\n",
    "# for s in rated_depSkills:\n",
    "#     for k in s:\n",
    "#         if k in skill:\n",
    "#             skill[k].append(s[k])\n",
    "#         else:\n",
    "#             skill[k] = []\n",
    "#             skill[k].append(s[k])"
   ]
  },
  {
   "cell_type": "code",
   "execution_count": null,
   "metadata": {
    "ExecuteTime": {
     "end_time": "2017-10-24T11:22:05.769979Z",
     "start_time": "2017-10-24T11:22:05.757495Z"
    },
    "collapsed": true
   },
   "outputs": [],
   "source": [
    "#Sorted by plain pairvise matches\n",
    "sortedImagesSkillsMu = sorted(finalSkills, key=lambda k: finalSkills[k]['rating'].mu)\n",
    "sortedImagesSkillsSigma = sorted(finalSkills, key=lambda k: finalSkills[k]['rating'].sigma)"
   ]
  },
  {
   "cell_type": "code",
   "execution_count": null,
   "metadata": {
    "ExecuteTime": {
     "end_time": "2017-10-24T11:22:06.153283Z",
     "start_time": "2017-10-24T11:22:06.147620Z"
    },
    "collapsed": true
   },
   "outputs": [],
   "source": [
    "finalSkills[sortedImagesSkillsMu[-1]]['rating']"
   ]
  },
  {
   "cell_type": "code",
   "execution_count": null,
   "metadata": {
    "ExecuteTime": {
     "end_time": "2017-10-24T11:22:07.802350Z",
     "start_time": "2017-10-24T11:22:07.799020Z"
    },
    "collapsed": true
   },
   "outputs": [],
   "source": [
    "#Sorted by ranking tables\n",
    "# sortedImages =  sorted(skill, key=lambda k: skill[k][-1].mu)"
   ]
  },
  {
   "cell_type": "code",
   "execution_count": null,
   "metadata": {
    "ExecuteTime": {
     "end_time": "2017-10-24T11:22:08.504423Z",
     "start_time": "2017-10-24T11:22:08.501152Z"
    },
    "collapsed": true
   },
   "outputs": [],
   "source": [
    "# sortedImagesByVar =  sorted(skill, key=lambda k: skill[k][-1].sigma)"
   ]
  },
  {
   "cell_type": "code",
   "execution_count": null,
   "metadata": {
    "ExecuteTime": {
     "end_time": "2017-10-24T11:22:09.143680Z",
     "start_time": "2017-10-24T11:22:09.140486Z"
    },
    "collapsed": true
   },
   "outputs": [],
   "source": [
    "# skill[sortedImages[-1]][0].mu"
   ]
  },
  {
   "cell_type": "code",
   "execution_count": null,
   "metadata": {
    "ExecuteTime": {
     "end_time": "2017-10-24T11:22:09.577792Z",
     "start_time": "2017-10-24T11:22:09.574283Z"
    },
    "collapsed": true
   },
   "outputs": [],
   "source": [
    "#Sorted by ranking tables\n",
    "# imgid = sortedImages[-500]\n",
    "# Image(imgDir + imgid + \".jpg\")"
   ]
  },
  {
   "cell_type": "code",
   "execution_count": null,
   "metadata": {
    "ExecuteTime": {
     "end_time": "2017-10-24T11:22:10.294747Z",
     "start_time": "2017-10-24T11:22:10.285074Z"
    },
    "collapsed": true
   },
   "outputs": [],
   "source": [
    "def getPointMapping(df):\n",
    "    geometryDict = {}\n",
    "    for idx, row in df.iterrows():\n",
    "        if row['left_id'] not in geometryDict:\n",
    "            geometryDict[row['left_id']] = Point((row['left_lat'] , row['left_long']))\n",
    "        if row['right_id'] not in geometryDict:\n",
    "            geometryDict[row['right_id']] = Point((row['right_lat'] , row['right_long']))\n",
    "    return geometryDict\n",
    "\n",
    "    "
   ]
  },
  {
   "cell_type": "code",
   "execution_count": null,
   "metadata": {
    "ExecuteTime": {
     "end_time": "2017-10-30T13:30:07.134339Z",
     "start_time": "2017-10-30T13:30:07.128634Z"
    },
    "collapsed": true
   },
   "outputs": [],
   "source": [
    "len(sortedImagesSkillsMu)"
   ]
  },
  {
   "cell_type": "code",
   "execution_count": null,
   "metadata": {
    "ExecuteTime": {
     "end_time": "2017-10-30T13:30:07.846261Z",
     "start_time": "2017-10-30T13:30:07.537886Z"
    },
    "collapsed": true
   },
   "outputs": [],
   "source": [
    "# Sorted by plain pairvise matches\n",
    "imgid = sortedImagesSkillsMu[0]\n",
    "Image(imgDir + imgid + \".jpg\")"
   ]
  },
  {
   "cell_type": "code",
   "execution_count": null,
   "metadata": {
    "ExecuteTime": {
     "end_time": "2017-10-30T13:30:08.530481Z",
     "start_time": "2017-10-30T13:30:08.524306Z"
    },
    "collapsed": true
   },
   "outputs": [],
   "source": [
    "finalSkills[finalSkills.keys()[1]]"
   ]
  },
  {
   "cell_type": "code",
   "execution_count": null,
   "metadata": {
    "ExecuteTime": {
     "end_time": "2017-10-30T13:30:29.242424Z",
     "start_time": "2017-10-30T13:30:29.237021Z"
    },
    "collapsed": true
   },
   "outputs": [],
   "source": [
    "len(finalSkills)"
   ]
  },
  {
   "cell_type": "code",
   "execution_count": null,
   "metadata": {
    "collapsed": true
   },
   "outputs": [],
   "source": []
  },
  {
   "cell_type": "code",
   "execution_count": null,
   "metadata": {
    "ExecuteTime": {
     "end_time": "2017-10-24T11:23:33.435506Z",
     "start_time": "2017-10-24T11:23:33.111997Z"
    },
    "collapsed": true
   },
   "outputs": [],
   "source": [
    "# with open(\"../Data/BostonAllImages.pkl\" , 'w') as f:\n",
    "#     pickle.dump(finalSkills,f,protocol=pickle.HIGHEST_PROTOCOL)"
   ]
  },
  {
   "cell_type": "code",
   "execution_count": null,
   "metadata": {
    "ExecuteTime": {
     "end_time": "2017-10-24T11:23:35.258523Z",
     "start_time": "2017-10-24T11:23:35.255241Z"
    },
    "collapsed": true
   },
   "outputs": [],
   "source": [
    "# dir(rated_depSkills[1][1])"
   ]
  },
  {
   "cell_type": "code",
   "execution_count": null,
   "metadata": {
    "ExecuteTime": {
     "end_time": "2017-10-24T11:23:45.590072Z",
     "start_time": "2017-10-24T11:23:45.583684Z"
    },
    "collapsed": true
   },
   "outputs": [],
   "source": [
    "skillMeans = [finalSkills[k]['rating'].mu for k in finalSkills]\n",
    "#skillMeans = [depressingSkills[k].mu for k in depressingSkills]"
   ]
  },
  {
   "cell_type": "code",
   "execution_count": null,
   "metadata": {
    "ExecuteTime": {
     "end_time": "2017-10-24T11:23:46.154467Z",
     "start_time": "2017-10-24T11:23:46.150802Z"
    },
    "collapsed": true
   },
   "outputs": [],
   "source": [
    "maxSkill= np.max(skillMeans)"
   ]
  },
  {
   "cell_type": "code",
   "execution_count": null,
   "metadata": {
    "ExecuteTime": {
     "end_time": "2017-10-24T11:23:46.659596Z",
     "start_time": "2017-10-24T11:23:46.655202Z"
    },
    "collapsed": true
   },
   "outputs": [],
   "source": [
    "print (maxSkill)"
   ]
  },
  {
   "cell_type": "code",
   "execution_count": null,
   "metadata": {
    "ExecuteTime": {
     "end_time": "2017-10-24T11:23:47.227239Z",
     "start_time": "2017-10-24T11:23:47.221249Z"
    },
    "collapsed": true
   },
   "outputs": [],
   "source": [
    "skillSigmas = [finalSkills[k]['rating'].sigma for k in finalSkills]"
   ]
  },
  {
   "cell_type": "code",
   "execution_count": null,
   "metadata": {
    "ExecuteTime": {
     "end_time": "2017-10-24T11:23:47.713766Z",
     "start_time": "2017-10-24T11:23:47.710732Z"
    },
    "collapsed": true
   },
   "outputs": [],
   "source": [
    "# sigmas = [skill[k][-1].sigma for k in skill]"
   ]
  },
  {
   "cell_type": "code",
   "execution_count": null,
   "metadata": {
    "ExecuteTime": {
     "end_time": "2017-10-24T11:23:48.583547Z",
     "start_time": "2017-10-24T11:23:48.292788Z"
    },
    "collapsed": true
   },
   "outputs": [],
   "source": [
    "sns.set(rc={\"figure.figsize\": (16, 12)})\n",
    "sns.set(font_scale=1) \n",
    "# ax = sns.distplot(skillMeans , hist_kws=dict(cumulative=True), kde_kws=dict(cumulative=True) )\n",
    "ax = sns.distplot(skillMeans )\n",
    "ax.set(xlabel='Score', ylabel='Population')"
   ]
  },
  {
   "cell_type": "code",
   "execution_count": null,
   "metadata": {
    "ExecuteTime": {
     "end_time": "2017-10-24T11:23:49.440807Z",
     "start_time": "2017-10-24T11:23:49.430760Z"
    },
    "collapsed": true
   },
   "outputs": [],
   "source": [
    "selectedDf = dict((k, [finalSkills[k]['rating'].mu ]) for k in finalSkills if (finalSkills[k]['rating'].mu < 22 or finalSkills[k]['rating'].mu > 28))"
   ]
  },
  {
   "cell_type": "code",
   "execution_count": null,
   "metadata": {
    "ExecuteTime": {
     "end_time": "2017-10-24T11:23:55.267798Z",
     "start_time": "2017-10-24T11:23:55.264393Z"
    },
    "collapsed": true
   },
   "outputs": [],
   "source": [
    "#selectedDf = dict((k, [depressingSkills[k].mu ]) for k in depressingSkills if (depressingSkills[k].mu < 17 or depressingSkills[k].mu > 32))"
   ]
  },
  {
   "cell_type": "code",
   "execution_count": null,
   "metadata": {
    "ExecuteTime": {
     "end_time": "2017-10-24T11:43:56.453529Z",
     "start_time": "2017-10-24T11:43:56.448164Z"
    },
    "collapsed": true
   },
   "outputs": [],
   "source": [
    "len(selectedDf.keys())"
   ]
  },
  {
   "cell_type": "code",
   "execution_count": null,
   "metadata": {
    "ExecuteTime": {
     "end_time": "2017-10-24T11:44:04.420843Z",
     "start_time": "2017-10-24T11:44:04.398795Z"
    },
    "collapsed": true
   },
   "outputs": [],
   "source": [
    "testDf = {}\n",
    "for k in selectedDf:\n",
    "    path = imgDir + k + \".jpg\"\n",
    "    if selectedDf[k][0] > 28:\n",
    "        d = {'key':k , 'trueSkill' : selectedDf[k] , 'label' : 1 , 'path' : path}\n",
    "    elif selectedDf[k][0] < 22:\n",
    "        d = {'key':k , 'trueSkill' : selectedDf[k] , 'label' : 0 , 'path' : path}\n",
    "    else:\n",
    "        continue\n",
    "    testDf[k] = (k,d)\n",
    "\n",
    "\n",
    "\n",
    "\n",
    "# fringeDf = {}\n",
    "# for k in selectedDf:\n",
    "#     path = imgDir + k + \".jpg\"\n",
    "#     if selectedDf[k][0] <19 :\n",
    "#         d = {'key':k , 'trueSkill' : selectedDf[k] , 'label' : 0 , 'path' : path}\n",
    "#     elif selectedDf[k][0] > 33:\n",
    "#         d = {'key':k , 'trueSkill' : selectedDf[k] , 'label' : 1 , 'path' : path}\n",
    "#     else:\n",
    "#         continue\n",
    "#     fringeDf[k] = dict()\n",
    "#     fringeDf[k] = d"
   ]
  },
  {
   "cell_type": "code",
   "execution_count": null,
   "metadata": {
    "ExecuteTime": {
     "end_time": "2017-10-24T11:44:05.150561Z",
     "start_time": "2017-10-24T11:44:05.145392Z"
    },
    "collapsed": true
   },
   "outputs": [],
   "source": [
    "len(testDf)"
   ]
  },
  {
   "cell_type": "code",
   "execution_count": null,
   "metadata": {
    "ExecuteTime": {
     "end_time": "2017-10-24T11:44:10.083756Z",
     "start_time": "2017-10-24T11:44:10.077468Z"
    },
    "collapsed": true
   },
   "outputs": [],
   "source": [
    "testDf[testDf.keys()[1]]"
   ]
  },
  {
   "cell_type": "code",
   "execution_count": null,
   "metadata": {
    "ExecuteTime": {
     "end_time": "2017-10-24T11:44:15.473858Z",
     "start_time": "2017-10-24T11:44:15.469778Z"
    },
    "collapsed": true
   },
   "outputs": [],
   "source": [
    "sampledFringe = random.sample( testDf.items(), 100 )"
   ]
  },
  {
   "cell_type": "code",
   "execution_count": null,
   "metadata": {
    "ExecuteTime": {
     "end_time": "2017-10-24T11:44:16.003407Z",
     "start_time": "2017-10-24T11:44:15.997467Z"
    },
    "collapsed": true
   },
   "outputs": [],
   "source": [
    "sampledFringe[1][1]"
   ]
  },
  {
   "cell_type": "code",
   "execution_count": null,
   "metadata": {
    "ExecuteTime": {
     "end_time": "2017-10-24T11:44:40.025836Z",
     "start_time": "2017-10-24T11:44:39.973889Z"
    },
    "collapsed": true
   },
   "outputs": [],
   "source": [
    "# with open('../Data/bostonAllFringe.pkl', 'wb') as handle:\n",
    "#     pickle.dump(testDf, handle , protocol=pickle.HIGHEST_PROTOCOL)"
   ]
  },
  {
   "cell_type": "code",
   "execution_count": null,
   "metadata": {
    "ExecuteTime": {
     "end_time": "2017-10-23T21:27:36.609290Z",
     "start_time": "2017-10-23T21:27:36.579515Z"
    },
    "collapsed": true
   },
   "outputs": [],
   "source": [
    "workingSample = pickle.load(open(\"../Data/fringeImages.pkl\",'rb'))\n"
   ]
  },
  {
   "cell_type": "code",
   "execution_count": null,
   "metadata": {
    "ExecuteTime": {
     "end_time": "2017-10-23T21:27:44.468972Z",
     "start_time": "2017-10-23T21:27:44.462834Z"
    },
    "collapsed": true
   },
   "outputs": [],
   "source": [
    "workingSample[1]"
   ]
  },
  {
   "cell_type": "code",
   "execution_count": null,
   "metadata": {
    "ExecuteTime": {
     "end_time": "2017-10-23T21:12:34.035324Z",
     "start_time": "2017-10-23T21:12:34.031548Z"
    },
    "collapsed": true
   },
   "outputs": [],
   "source": [
    "# labels = [sampledFringe[i][1]['label'] for i in range(len(sampledFringe))]\n",
    "# np.sum(labels)"
   ]
  },
  {
   "cell_type": "code",
   "execution_count": null,
   "metadata": {
    "ExecuteTime": {
     "end_time": "2017-10-23T21:16:05.404009Z",
     "start_time": "2017-10-23T21:16:05.394473Z"
    },
    "collapsed": true
   },
   "outputs": [],
   "source": [
    "# with open('../Data/testImagesBoston.pkl', 'wb') as handle:\n",
    "#     segnetLabels = pickle.dump(sampledFringe, handle , protocol=pickle.HIGHEST_PROTOCOL)"
   ]
  },
  {
   "cell_type": "code",
   "execution_count": null,
   "metadata": {
    "ExecuteTime": {
     "end_time": "2017-10-23T21:20:00.906444Z",
     "start_time": "2017-10-23T21:20:00.856806Z"
    },
    "collapsed": true
   },
   "outputs": [],
   "source": [
    "imgid = sampledFringe[6][1]['key']\n",
    "#imgid = \"51422739fdc9f04926008637\"\n",
    "Image(imgDir + imgid + \".jpg\")\n",
    "#print( selectedDf[selectedDf.keys()[-1]])"
   ]
  },
  {
   "cell_type": "code",
   "execution_count": null,
   "metadata": {
    "ExecuteTime": {
     "end_time": "2017-10-30T13:29:03.628505Z",
     "start_time": "2017-10-30T13:29:03.622656Z"
    },
    "collapsed": true
   },
   "outputs": [],
   "source": [
    "len(selectedDf)"
   ]
  },
  {
   "cell_type": "code",
   "execution_count": null,
   "metadata": {
    "ExecuteTime": {
     "end_time": "2017-07-28T15:59:28.829458Z",
     "start_time": "2017-07-28T15:59:24.979801Z"
    },
    "collapsed": true
   },
   "outputs": [],
   "source": [
    "filtSkills = dict((k, depressingSkills[k]) for k in depressingSkills if k in us_poly_Ids)"
   ]
  },
  {
   "cell_type": "code",
   "execution_count": null,
   "metadata": {
    "ExecuteTime": {
     "end_time": "2017-07-26T13:31:23.143976Z",
     "start_time": "2017-07-26T13:31:23.135866Z"
    },
    "collapsed": true
   },
   "outputs": [],
   "source": [
    "# with open(\"beautyKeys.txt\", \"w\") as f:\n",
    "#     for key in depressingSkills:\n",
    "#         f.write(key+\"\\n\")"
   ]
  },
  {
   "cell_type": "code",
   "execution_count": null,
   "metadata": {
    "ExecuteTime": {
     "end_time": "2017-07-26T13:31:23.155245Z",
     "start_time": "2017-07-26T13:31:23.145596Z"
    },
    "collapsed": true
   },
   "outputs": [],
   "source": [
    "filtSkills.keys()[10]"
   ]
  },
  {
   "cell_type": "code",
   "execution_count": null,
   "metadata": {
    "ExecuteTime": {
     "end_time": "2017-07-26T13:31:23.171466Z",
     "start_time": "2017-07-26T13:31:23.156870Z"
    },
    "collapsed": true
   },
   "outputs": [],
   "source": [
    "skillsCity = [filtSkills[i].mu for i in filtSkills]"
   ]
  },
  {
   "cell_type": "code",
   "execution_count": null,
   "metadata": {
    "ExecuteTime": {
     "end_time": "2017-07-26T14:59:25.897948Z",
     "start_time": "2017-07-26T14:59:25.640817Z"
    },
    "collapsed": true
   },
   "outputs": [],
   "source": [
    "sns.set(rc={\"figure.figsize\": (16, 12)})\n",
    "sns.set(font_scale=1) \n",
    "# ax = sns.distplot(skillMeans , hist_kws=dict(cumulative=True), kde_kws=dict(cumulative=True) )\n",
    "ax = sns.distplot(skillsCity )\n",
    "ax.set(xlabel='Score', ylabel='Population')"
   ]
  },
  {
   "cell_type": "code",
   "execution_count": null,
   "metadata": {
    "ExecuteTime": {
     "end_time": "2017-07-26T13:31:23.389450Z",
     "start_time": "2017-07-26T13:31:23.387260Z"
    },
    "collapsed": true
   },
   "outputs": [],
   "source": [
    "# sns.distplot(means )"
   ]
  },
  {
   "cell_type": "code",
   "execution_count": null,
   "metadata": {
    "ExecuteTime": {
     "end_time": "2017-07-26T13:31:23.624518Z",
     "start_time": "2017-07-26T13:31:23.391011Z"
    },
    "collapsed": true
   },
   "outputs": [],
   "source": [
    "# sns.distplot(sigmas ,kde_kws={\"color\": \"b\", \"lw\": 2, \"label\": \"Paiwise Trueskill Std. Deviation\"} )\n",
    "sns.distplot(skillSigmas , kde_kws={\"color\": \"g\", \"lw\": 2, \"label\": \"Ranked table Trueskill Std. Deviation\"},)"
   ]
  },
  {
   "cell_type": "code",
   "execution_count": null,
   "metadata": {
    "ExecuteTime": {
     "end_time": "2017-07-26T13:31:23.628481Z",
     "start_time": "2017-07-26T13:31:23.626280Z"
    },
    "collapsed": true
   },
   "outputs": [],
   "source": [
    "# Qdf = numbers.filter(lambda x: len(x) > 0) "
   ]
  },
  {
   "cell_type": "code",
   "execution_count": null,
   "metadata": {
    "ExecuteTime": {
     "end_time": "2017-07-26T13:31:23.666563Z",
     "start_time": "2017-07-26T13:31:23.630191Z"
    },
    "collapsed": true
   },
   "outputs": [],
   "source": [
    "def QscoreRating(df):\n",
    "    W = {}\n",
    "    L = {}\n",
    "    win = {}\n",
    "    loose = {}\n",
    "    contest = {}\n",
    "    rating = {}\n",
    "    for index, row in df.iterrows():\n",
    "        if row['left_id'] not in contest:\n",
    "            contest[row['left_id']] = 0\n",
    "            \n",
    "            win[row['left_id']] = {}\n",
    "            win[row['left_id']]['w'] = 0\n",
    "            win[row['left_id']]['loosers'] = []\n",
    "            \n",
    "            loose[row['left_id']] = {}\n",
    "            loose[row['left_id']]['l'] = 0 \n",
    "            loose[row['left_id']]['winners'] = []\n",
    "            \n",
    "            W[row['left_id']] =0.0\n",
    "            L[row['left_id']] =0.0\n",
    "        \n",
    "        contest[row['left_id']]+=1\n",
    "        \n",
    "        if row['winner'] == 'left':\n",
    "            win[row['left_id']]['w'] += 1\n",
    "            win[row['left_id']]['loosers'].append(row['right_id'])\n",
    "\n",
    "        if row['winner'] == 'right':\n",
    "            loose[row['left_id']]['l'] += 1\n",
    "            loose[row['left_id']]['winners'].append(row['right_id'])\n",
    "        \n",
    "    for k in win:\n",
    "        W[k] = float(win[k]['w'])/float(contest[k])\n",
    "        \n",
    "    for k in loose:\n",
    "        L[k] = float(loose[k]['l'])/float(contest[k])\n",
    "    \n",
    "    for k in contest:\n",
    "        S1 = sum([W.get(i,0) for i in win[k]['loosers']])\n",
    "        S2 = sum([L.get(i,0) for i in loose[k]['winners']])\n",
    "        if S1 == 0:\n",
    "            S1 = 0.0\n",
    "        else:\n",
    "            S1 = float(S1)/float(win[k]['w'])\n",
    "        \n",
    "        if S2 == 0:\n",
    "            S2 = 0.0\n",
    "        else:\n",
    "            S2 = float(S2)/float(loose[k]['l'])\n",
    "        \n",
    "        r = (10.0/3.0)*(W[k] + S1 - S2 + 1)\n",
    "        rating[k] = r\n",
    "    return rating\n",
    "            "
   ]
  },
  {
   "cell_type": "code",
   "execution_count": null,
   "metadata": {
    "ExecuteTime": {
     "end_time": "2017-07-26T13:31:23.678466Z",
     "start_time": "2017-07-26T13:31:23.668323Z"
    },
    "collapsed": true
   },
   "outputs": [],
   "source": [
    "# Qscores = QscoreRating(Qdf)"
   ]
  },
  {
   "cell_type": "code",
   "execution_count": null,
   "metadata": {
    "ExecuteTime": {
     "end_time": "2017-07-26T13:31:23.686748Z",
     "start_time": "2017-07-26T13:31:23.680082Z"
    },
    "collapsed": true
   },
   "outputs": [],
   "source": [
    "# len(set(Qdf['left_id']))"
   ]
  },
  {
   "cell_type": "code",
   "execution_count": null,
   "metadata": {
    "ExecuteTime": {
     "end_time": "2017-07-26T13:31:23.693155Z",
     "start_time": "2017-07-26T13:31:23.688491Z"
    },
    "collapsed": true
   },
   "outputs": [],
   "source": [
    "# finalQ = {}\n",
    "# for index, row in TargetDf.iterrows():\n",
    "#     finalQ[row['left_id']] = Qscores[row['left_id']]"
   ]
  },
  {
   "cell_type": "code",
   "execution_count": null,
   "metadata": {
    "ExecuteTime": {
     "end_time": "2017-07-26T13:31:23.701104Z",
     "start_time": "2017-07-26T13:31:23.694568Z"
    },
    "collapsed": true
   },
   "outputs": [],
   "source": [
    "# len(finalQ)"
   ]
  },
  {
   "cell_type": "code",
   "execution_count": null,
   "metadata": {
    "ExecuteTime": {
     "end_time": "2017-07-26T13:31:23.707131Z",
     "start_time": "2017-07-26T13:31:23.702693Z"
    },
    "collapsed": true
   },
   "outputs": [],
   "source": [
    "# sns.set(rc={\"figure.figsize\": (16, 12)})\n",
    "# sns.distplot(finalQ.values() )\n",
    "# #sns.distplot(finalQ.values() , hist_kws=dict(cumulative=True), kde_kws=dict(cumulative=True) )"
   ]
  },
  {
   "cell_type": "code",
   "execution_count": null,
   "metadata": {
    "ExecuteTime": {
     "end_time": "2017-07-26T13:31:23.716492Z",
     "start_time": "2017-07-26T13:31:23.708552Z"
    },
    "collapsed": true
   },
   "outputs": [],
   "source": [
    "# sortedSimple =  sorted(finalQ, key=lambda k: finalQ[k])"
   ]
  },
  {
   "cell_type": "code",
   "execution_count": null,
   "metadata": {
    "ExecuteTime": {
     "end_time": "2017-07-26T13:31:23.726739Z",
     "start_time": "2017-07-26T13:31:23.718963Z"
    },
    "collapsed": true
   },
   "outputs": [],
   "source": [
    "# len(sortedSimple)"
   ]
  },
  {
   "cell_type": "code",
   "execution_count": null,
   "metadata": {
    "ExecuteTime": {
     "end_time": "2017-07-26T13:31:23.736699Z",
     "start_time": "2017-07-26T13:31:23.729197Z"
    },
    "collapsed": true
   },
   "outputs": [],
   "source": [
    "# imgid = sortedSimple[3500]\n",
    "# # imgid = \"50f43ba4fdc9f065f000326b\"\n",
    "# Image(imgDir + imgid + \".jpg\")"
   ]
  },
  {
   "cell_type": "code",
   "execution_count": null,
   "metadata": {
    "ExecuteTime": {
     "end_time": "2017-07-26T13:31:23.914280Z",
     "start_time": "2017-07-26T13:31:23.739088Z"
    },
    "collapsed": true
   },
   "outputs": [],
   "source": [
    "import os\n",
    "import glob\n",
    "import random\n",
    "import numpy as np\n",
    "import pickle\n",
    "\n",
    "import cv2\n",
    "import sys\n",
    "caffe_root = '/work/sagarj/caffe-rc5/'  # this file should be run from {caffe_root}/examples (otherwise change this line)\n",
    "sys.path.insert(0, caffe_root + 'python')\n",
    "\n",
    "import caffe\n",
    "from caffe.proto import caffe_pb2\n",
    "import lmdb\n",
    "\n",
    "#Size of images\n",
    "IMAGE_WIDTH = 227\n",
    "IMAGE_HEIGHT = 227\n",
    "\n",
    "def transform_img(img, img_width=IMAGE_WIDTH, img_height=IMAGE_HEIGHT):\n",
    "\n",
    "    #Histogram Equalization\n",
    "    img[:, :, 0] = cv2.equalizeHist(img[:, :, 0])\n",
    "    img[:, :, 1] = cv2.equalizeHist(img[:, :, 1])\n",
    "    img[:, :, 2] = cv2.equalizeHist(img[:, :, 2])\n",
    "\n",
    "    #Image Resizing\n",
    "    img = cv2.resize(img, (img_width, img_height), interpolation = cv2.INTER_CUBIC)\n",
    "\n",
    "    return img\n",
    "\n",
    "\n",
    "def make_datum(img, label):\n",
    "    #image is numpy.ndarray format. BGR instead of RGB\n",
    "    return caffe_pb2.Datum(\n",
    "        channels=3,\n",
    "        width=IMAGE_WIDTH,\n",
    "        height=IMAGE_HEIGHT,\n",
    "        label=label,\n",
    "        data=np.rollaxis(img, 2).tostring())\n",
    "\n",
    "def save_obj(obj, name ):\n",
    "    with open(name + '.pkl', 'wb') as f:\n",
    "        pickle.dump(obj, f, pickle.HIGHEST_PROTOCOL)\n",
    "\n",
    "def load_obj(name ):\n",
    "    with open(name + '.pkl', 'rb') as f:\n",
    "        return pickle.load(f)\n"
   ]
  },
  {
   "cell_type": "code",
   "execution_count": null,
   "metadata": {
    "ExecuteTime": {
     "end_time": "2017-07-26T13:31:23.920382Z",
     "start_time": "2017-07-26T13:31:23.916224Z"
    },
    "collapsed": true
   },
   "outputs": [],
   "source": [
    "testKeys = random.sample(list(finalSkills.keys()), int(0.2*len(finalSkills.keys())))\n",
    "#testKeys = random.sample(list(depressingSkills.keys()), int(0.2*len(depressingSkills.keys())))\n",
    "#testKeys = random.sample(list(filtSkills.keys()), int(0.15*len(filtSkills.keys())))\n"
   ]
  },
  {
   "cell_type": "code",
   "execution_count": null,
   "metadata": {
    "ExecuteTime": {
     "end_time": "2017-07-26T13:31:24.073037Z",
     "start_time": "2017-07-26T13:31:23.922031Z"
    },
    "collapsed": true
   },
   "outputs": [],
   "source": [
    "trainKeys = [k for k in finalSkills.keys() if k not in testKeys]\n",
    "#trainKeys = [k for k in depressingSkills.keys() if k not in testKeys]\n",
    "#trainKeys = [k for k in filtSkills.keys() if k not in testKeys]"
   ]
  },
  {
   "cell_type": "code",
   "execution_count": null,
   "metadata": {
    "ExecuteTime": {
     "end_time": "2017-07-26T13:31:24.081507Z",
     "start_time": "2017-07-26T13:31:24.075087Z"
    },
    "collapsed": true
   },
   "outputs": [],
   "source": [
    "len(set(trainKeys).intersection(testKeys))"
   ]
  },
  {
   "cell_type": "code",
   "execution_count": null,
   "metadata": {
    "ExecuteTime": {
     "end_time": "2017-07-26T14:57:36.220480Z",
     "start_time": "2017-07-26T14:57:36.214670Z"
    },
    "collapsed": true
   },
   "outputs": [],
   "source": [
    "len(testKeys) , len(trainKeys)"
   ]
  },
  {
   "cell_type": "code",
   "execution_count": null,
   "metadata": {
    "ExecuteTime": {
     "end_time": "2017-07-26T14:57:39.155926Z",
     "start_time": "2017-07-26T14:57:38.781183Z"
    },
    "collapsed": true
   },
   "outputs": [],
   "source": [
    "import random\n",
    "train_data = {}\n",
    "for k in trainKeys:\n",
    "    src = [imgDir + k + \".jpg\"]\n",
    "    if not os.path.exists(src[0]):\n",
    "        continue\n",
    "    else:\n",
    "        if os.path.exists(AugDir + k):\n",
    "            images = os.listdir(AugDir + k)\n",
    "            random.shuffle(images)\n",
    "            for i in images[:20]:\n",
    "                src.append(AugDir + k + \"/\" + i)\n",
    "        train_data[k] = src\n",
    "        \n",
    "test_data = {}\n",
    "for k in testKeys:\n",
    "    src = [imgDir + k + \".jpg\"]\n",
    "    if not os.path.exists(src[0]):\n",
    "        continue\n",
    "    else:\n",
    "        if os.path.exists(AugDir + k):\n",
    "            images = os.listdir(AugDir + k)\n",
    "            random.shuffle(images)\n",
    "            for i in images[:20]:\n",
    "                src.append(AugDir + k + \"/\" + i)\n",
    "        test_data[k] = src\n",
    "    \n",
    "    "
   ]
  },
  {
   "cell_type": "code",
   "execution_count": null,
   "metadata": {
    "ExecuteTime": {
     "end_time": "2017-07-26T14:57:39.894738Z",
     "start_time": "2017-07-26T14:57:39.888873Z"
    },
    "collapsed": true
   },
   "outputs": [],
   "source": [
    "len(train_data) , len(test_data)"
   ]
  },
  {
   "cell_type": "code",
   "execution_count": null,
   "metadata": {
    "ExecuteTime": {
     "end_time": "2017-07-26T14:57:41.129412Z",
     "start_time": "2017-07-26T14:57:41.124676Z"
    },
    "collapsed": true
   },
   "outputs": [],
   "source": [
    "s = random.sample(train_data.keys(), 300)"
   ]
  },
  {
   "cell_type": "code",
   "execution_count": null,
   "metadata": {
    "ExecuteTime": {
     "end_time": "2017-07-26T14:57:45.559677Z",
     "start_time": "2017-07-26T14:57:45.555519Z"
    },
    "collapsed": true
   },
   "outputs": [],
   "source": [
    "# augTest = {}\n",
    "# for k in s: \n",
    "#     if len(train_data[k]) > 1:\n",
    "#         augTest[k] = train_data[k]\n",
    "# save_obj(augTest , \"sampledAugment.pk\")"
   ]
  },
  {
   "cell_type": "code",
   "execution_count": null,
   "metadata": {
    "ExecuteTime": {
     "end_time": "2017-07-26T14:57:50.757753Z",
     "start_time": "2017-07-26T14:57:50.750544Z"
    },
    "collapsed": true
   },
   "outputs": [],
   "source": [
    "train_data[train_data.keys()[1]]"
   ]
  },
  {
   "cell_type": "markdown",
   "metadata": {},
   "source": [
    "## Create train and test path files for transfer learning"
   ]
  },
  {
   "cell_type": "code",
   "execution_count": null,
   "metadata": {
    "ExecuteTime": {
     "end_time": "2017-07-26T00:00:28.206181Z",
     "start_time": "2017-07-26T00:00:28.194997Z"
    },
    "collapsed": true
   },
   "outputs": [],
   "source": [
    "# ImageList = \"../Data/TrainImageListBinary_augmented.txt\"\n",
    "# label = 0\n",
    "# for in_idx, (k, img_path) in enumerate(train_data.items()):\n",
    "#     val = int(depressingSkills[k].mu)\n",
    "# #     if val < 23:\n",
    "# #         label = 0\n",
    "# #     elif val > 22 and val < 29:\n",
    "# #         label = 1\n",
    "# #     elif val > 28:\n",
    "# #         label = 2\n",
    "#     if val < 21:\n",
    "#         label = 0\n",
    "#     elif val > 29:\n",
    "#         label = 1\n",
    "#     else:\n",
    "#         continue\n",
    "#     with open(ImageList,'a') as f:\n",
    "#         for p in img_path:\n",
    "#             f.write(p + \",\" + str(label) + \"\\n\")\n",
    "\n",
    "# ImageList = \"../Data/TestImageListBinary_augmented.txt\"\n",
    "# label = 0\n",
    "# for in_idx, (k, img_path) in enumerate(test_data.items()):\n",
    "#     val = int(depressingSkills[k].mu)\n",
    "# #     if val < 23:\n",
    "# #         label = 0\n",
    "# #     elif val > 22 and val < 29:\n",
    "# #         label = 1\n",
    "# #     elif val > 28:\n",
    "# #         label = 2\n",
    "#     if val < 21:\n",
    "#         label = 0\n",
    "#     elif val > 29:\n",
    "#         label = 1\n",
    "#     else:\n",
    "#         continue\n",
    "#     with open(ImageList,'a') as f:\n",
    "#         for p in img_path:\n",
    "#             f.write(p + \",\" + str(label) + \"\\n\")\n",
    "    "
   ]
  },
  {
   "cell_type": "markdown",
   "metadata": {},
   "source": [
    "## LMDB creation Logic"
   ]
  },
  {
   "cell_type": "code",
   "execution_count": null,
   "metadata": {
    "ExecuteTime": {
     "end_time": "2017-07-26T16:48:04.364185Z",
     "start_time": "2017-07-26T16:48:04.359692Z"
    },
    "collapsed": true
   },
   "outputs": [],
   "source": [
    "train_lmdb = '../Data/train_lmdb_beauty_augmented_sparse'\n",
    "validation_lmdb = '../Data/validation_lmdb_beauty_augmented_sparse'\n",
    "log = \"lmdblogs.log\""
   ]
  },
  {
   "cell_type": "code",
   "execution_count": null,
   "metadata": {
    "ExecuteTime": {
     "end_time": "2017-07-26T16:53:56.729781Z",
     "start_time": "2017-07-26T16:48:05.399954Z"
    },
    "collapsed": true
   },
   "outputs": [],
   "source": [
    "# print ('Creating train_lmdb')\n",
    "# f = open(log,'w')\n",
    "# in_db = lmdb.open(train_lmdb, map_size=int(1e12))\n",
    "# with in_db.begin(write=True) as in_txn:\n",
    "#     for in_idx, (k, img_path) in enumerate(train_data.items()):\n",
    "#         val = int(depressingSkills[k].mu)\n",
    "#         label = 0\n",
    "# #         if val < 22.0:\n",
    "# #             label = 0\n",
    "# #         elif val >= 22.0 and val < 30.0:\n",
    "# #             label = 1\n",
    "# #         elif val >= 30.0:\n",
    "# #             label = 2\n",
    "        \n",
    "#         if val < 20.0:\n",
    "#             label = 0\n",
    "#         elif val > 30.0:\n",
    "#             label = 1\n",
    "#         else:\n",
    "#             continue\n",
    "#         for p in img_path:\n",
    "#             img = cv2.imread(p, cv2.IMREAD_COLOR)\n",
    "#             img = transform_img(img, img_width=IMAGE_WIDTH, img_height=IMAGE_HEIGHT)\n",
    "#             datum = make_datum(img, label)\n",
    "#             in_txn.put('{:0>5d}'.format(in_idx), datum.SerializeToString())\n",
    "#             line = '{:0>5d}'.format(in_idx) + ':' + p + \"\\n\"\n",
    "#             f.write(line)\n",
    "# in_db.close()\n",
    "\n",
    "\n",
    "# print ('\\nCreating validation_lmdb')\n",
    "\n",
    "# in_db = lmdb.open(validation_lmdb, map_size=int(1e12))\n",
    "# with in_db.begin(write=True) as in_txn:\n",
    "#     for in_idx, (k, img_path) in enumerate(test_data.items()):\n",
    "        \n",
    "#         val = int(depressingSkills[k].mu)\n",
    "#         label = 0\n",
    "#         label = 0\n",
    "# #         if val < 22.0:\n",
    "# #             label = 0\n",
    "# #         elif val >= 22.0 and val < 30.0:\n",
    "# #             label = 1\n",
    "# #         elif val >= 30.0:\n",
    "# #             label = 2\n",
    "            \n",
    "#         if val < 20.0:\n",
    "#             label = 0\n",
    "#         elif val > 30.0:\n",
    "#             label = 1\n",
    "#         else:\n",
    "#             continue\n",
    "        \n",
    "#         for p in img_path:\n",
    "#             img = cv2.imread(p, cv2.IMREAD_COLOR)\n",
    "#             img = transform_img(img, img_width=IMAGE_WIDTH, img_height=IMAGE_HEIGHT)\n",
    "#             datum = make_datum(img, label)\n",
    "#             in_txn.put('{:0>5d}'.format(in_idx), datum.SerializeToString())\n",
    "#             line = '{:0>5d}'.format(in_idx) + ':' + p + \"\\n\"\n",
    "#             f.write(line)\n",
    "# in_db.close()\n",
    "# f.close()\n",
    "# print ('\\nFinished processing all images')\n"
   ]
  },
  {
   "cell_type": "markdown",
   "metadata": {},
   "source": [
    "## HD5 creation logic"
   ]
  },
  {
   "cell_type": "code",
   "execution_count": null,
   "metadata": {
    "collapsed": true
   },
   "outputs": [],
   "source": [
    "# Extract mean from the mean image file\n",
    "# mean_file_binaryproto = '../Data/Safety8Mean.binaryproto' # Mean image file\n",
    "# mean_blobproto_new = caffe.proto.caffe_pb2.BlobProto()\n",
    "# f = open(mean_file_binaryproto, 'rb')\n",
    "# mean_blobproto_new.ParseFromString(f.read())\n",
    "# mean_image = caffe.io.blobproto_to_array(mean_blobproto_new)\n",
    "# f.close()"
   ]
  },
  {
   "cell_type": "code",
   "execution_count": null,
   "metadata": {
    "ExecuteTime": {
     "end_time": "2017-07-21T10:03:03.338028Z",
     "start_time": "2017-07-21T10:03:03.329082Z"
    },
    "collapsed": true
   },
   "outputs": [],
   "source": [
    "# dataset_test = []\n",
    "# labels = []\n",
    "# BatchSize = 5000\n",
    "\n",
    "# for in_idx, (k, img_path) in enumerate(test_data.items()):\n",
    "#     img = cv2.imread(img_path, cv2.IMREAD_COLOR)\n",
    "#     img = transform_img(img, img_width=IMAGE_WIDTH, img_height=IMAGE_HEIGHT)\n",
    "#     img = np.rollaxis(img, 2) - mean_image\n",
    "#     dataset_test.append(img)\n",
    "#     labels.append(float(depressingSkills[k].mu / maxSkill))\n",
    "\n",
    "    \n",
    "# dataset_t = np.stack(dataset_test,axis = 0)\n",
    "# dataset_t = np.squeeze(dataset_t, axis=1)\n",
    "# labels = np.asarray(labels)\n",
    "\n",
    "# i = 0\n",
    "# DIR = \"/work/sagarj/Work/BellLabs/Data/h5Data/\"\n",
    "\n",
    "# text_fn = os.path.join(DIR, 'test_SafetyRegression.txt')\n",
    "# for start, end in zip(range(0, len(dataset_t), BatchSize), range(BatchSize, len(dataset_t), BatchSize)):\n",
    "    \n",
    "#     h5_fn = DIR+'test_SafetyRegression' + str(i) +'.h5'\n",
    "#     with h5py.File(h5_fn, 'w') as f:\n",
    "#         f['data'] = dataset_t[start:end]\n",
    "#         f['label'] = labels[start:end]\n",
    "        \n",
    "#     with open(text_fn, 'a') as f:\n",
    "#         print(h5_fn, file = f)\n",
    "#     i+=1\n"
   ]
  },
  {
   "cell_type": "code",
   "execution_count": null,
   "metadata": {
    "ExecuteTime": {
     "end_time": "2017-07-21T10:03:03.717897Z",
     "start_time": "2017-07-21T10:03:03.714413Z"
    },
    "collapsed": true
   },
   "outputs": [],
   "source": [
    "# dataset_t.shape , labels.shape"
   ]
  },
  {
   "cell_type": "code",
   "execution_count": null,
   "metadata": {
    "ExecuteTime": {
     "end_time": "2017-07-21T10:03:04.445256Z",
     "start_time": "2017-07-21T10:03:04.436553Z"
    },
    "collapsed": true
   },
   "outputs": [],
   "source": [
    "# dataset_test = []\n",
    "# labels = []\n",
    "# BatchSize = 5000\n",
    "\n",
    "\n",
    "# for in_idx, (k, img_path) in enumerate(train_data.items()):\n",
    "#     img = cv2.imread(img_path, cv2.IMREAD_COLOR)\n",
    "#     img = transform_img(img, img_width=IMAGE_WIDTH, img_height=IMAGE_HEIGHT)\n",
    "#     img = np.rollaxis(img, 2) - mean_image\n",
    "#     dataset_test.append(img)\n",
    "#     labels.append(float(depressingSkills[k].mu / maxSkill))\n",
    "\n",
    "\n",
    "# dataset_t = np.stack(dataset_test,axis = 0)\n",
    "# dataset_t = np.squeeze(dataset_t, axis=1)\n",
    "# labels = np.asarray(labels)\n",
    "# i = 0\n",
    "# DIR = \"/work/sagarj/Work/BellLabs/Data/h5Data/\"\n",
    "# text_fn = os.path.join(DIR, 'train_SafetyRegression.txt')\n",
    "# for start, end in zip(range(0, len(dataset_t), BatchSize), range(BatchSize, len(dataset_t), BatchSize)):\n",
    "    \n",
    "#     h5_fn = DIR+'train_SafetyRegression' + str(i) +'.h5'\n",
    "#     with h5py.File(h5_fn, 'w') as f:\n",
    "#         f['data'] = dataset_t[start:end]\n",
    "#         f['label'] = labels[start:end]\n",
    "        \n",
    "#     with open(text_fn, 'a') as f:\n",
    "#         print(h5_fn, file = f)\n",
    "#     i+=1\n"
   ]
  },
  {
   "cell_type": "code",
   "execution_count": null,
   "metadata": {
    "ExecuteTime": {
     "end_time": "2017-07-21T10:03:05.310673Z",
     "start_time": "2017-07-21T10:03:05.307186Z"
    },
    "collapsed": true
   },
   "outputs": [],
   "source": [
    "# dataset_t.shape , labels.shape"
   ]
  },
  {
   "cell_type": "code",
   "execution_count": null,
   "metadata": {
    "ExecuteTime": {
     "end_time": "2017-07-21T10:03:05.598914Z",
     "start_time": "2017-07-21T10:03:05.595495Z"
    },
    "collapsed": true
   },
   "outputs": [],
   "source": [
    "# sns.distplot(labels )"
   ]
  },
  {
   "cell_type": "markdown",
   "metadata": {},
   "source": [
    "## Moving Logic for moving images"
   ]
  },
  {
   "cell_type": "code",
   "execution_count": null,
   "metadata": {
    "ExecuteTime": {
     "end_time": "2017-07-21T10:03:06.483325Z",
     "start_time": "2017-07-21T10:03:06.479167Z"
    },
    "collapsed": true
   },
   "outputs": [],
   "source": [
    "# curatedDir = \"../streetview/RankedDepress_4/\"\n",
    "# beauty = \"1/\"\n",
    "# notBeauty = \"0/\"\n",
    "# train = curatedDir + \"train/\"\n",
    "# test = curatedDir + \"test/\""
   ]
  },
  {
   "cell_type": "code",
   "execution_count": null,
   "metadata": {
    "ExecuteTime": {
     "end_time": "2017-07-21T10:03:07.032719Z",
     "start_time": "2017-07-21T10:03:07.029286Z"
    },
    "collapsed": true
   },
   "outputs": [],
   "source": [
    "# from shutil import copyfile\n"
   ]
  },
  {
   "cell_type": "code",
   "execution_count": null,
   "metadata": {
    "ExecuteTime": {
     "end_time": "2017-07-21T10:03:07.672365Z",
     "start_time": "2017-07-21T10:03:07.665498Z"
    },
    "collapsed": true
   },
   "outputs": [],
   "source": [
    "#Move Train SEtL \n",
    "\n",
    "# for k in trainKeys:\n",
    "#     src = imgDir + k + \".jpg\"\n",
    "#     if not os.path.exists(src):\n",
    "#         continue\n",
    "#     if depressingSkills[k].mu > 25:\n",
    "#         destDir = curatedDir + train + beauty \n",
    "#         if not os.path.exists(os.path.dirname(destDir)):\n",
    "#             os.makedirs(os.path.dirname(destDir))\n",
    "#         dest = destDir+ k + \".jpg\"\n",
    "#         copyfile(src , dest)\n",
    "    \n",
    "#     if depressingSkills[k].mu < 25:\n",
    "#         destDir = curatedDir + train + notBeauty \n",
    "#         if not os.path.exists(os.path.dirname(destDir)):\n",
    "#             os.makedirs(os.path.dirname(destDir))\n",
    "#         dest = destDir + k + \".jpg\"\n",
    "#         copyfile(src , dest)    "
   ]
  },
  {
   "cell_type": "code",
   "execution_count": null,
   "metadata": {
    "ExecuteTime": {
     "end_time": "2017-07-21T10:03:08.429918Z",
     "start_time": "2017-07-21T10:03:08.423191Z"
    },
    "collapsed": true
   },
   "outputs": [],
   "source": [
    "# Move test\n",
    "\n",
    "# for k in keys:\n",
    "#     src = imgDir + k + \".jpg\"\n",
    "#     if not os.path.exists(src):\n",
    "#         continue\n",
    "#     if depressingSkills[k].mu > 25:\n",
    "#         destDir = curatedDir + test + beauty \n",
    "#         if not os.path.exists(os.path.dirname(destDir)):\n",
    "#             os.makedirs(os.path.dirname(destDir))\n",
    "#         dest = destDir+ k + \".jpg\"\n",
    "#         copyfile(src , dest)\n",
    "    \n",
    "#     if depressingSkills[k].mu < 25:\n",
    "#         destDir = curatedDir + test + notBeauty \n",
    "#         if not os.path.exists(os.path.dirname(destDir)):\n",
    "#             os.makedirs(os.path.dirname(destDir))\n",
    "#         dest = destDir + k + \".jpg\"\n",
    "#         copyfile(src , dest)    "
   ]
  }
 ],
 "metadata": {
  "kernelspec": {
   "display_name": "Python 2",
   "language": "python",
   "name": "python2"
  },
  "language_info": {
   "codemirror_mode": {
    "name": "ipython",
    "version": 2
   },
   "file_extension": ".py",
   "mimetype": "text/x-python",
   "name": "python",
   "nbconvert_exporter": "python",
   "pygments_lexer": "ipython2",
   "version": "2.7.12"
  },
  "toc": {
   "colors": {
    "hover_highlight": "#DAA520",
    "navigate_num": "#000000",
    "navigate_text": "#333333",
    "running_highlight": "#FF0000",
    "selected_highlight": "#FFD700",
    "sidebar_border": "#EEEEEE",
    "wrapper_background": "#FFFFFF"
   },
   "moveMenuLeft": true,
   "nav_menu": {
    "height": "279px",
    "width": "252px"
   },
   "navigate_menu": true,
   "number_sections": true,
   "sideBar": true,
   "threshold": 4,
   "toc_cell": false,
   "toc_section_display": "block",
   "toc_window_display": false,
   "widenNotebook": false
  }
 },
 "nbformat": 4,
 "nbformat_minor": 1
}
