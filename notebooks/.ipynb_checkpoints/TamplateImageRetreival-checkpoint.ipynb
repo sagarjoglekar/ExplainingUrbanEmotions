{
 "cells": [
  {
   "cell_type": "code",
   "execution_count": 1,
   "metadata": {
    "ExecuteTime": {
     "end_time": "2017-07-12T11:39:24.975184Z",
     "start_time": "2017-07-12T11:39:24.259883Z"
    },
    "collapsed": false
   },
   "outputs": [
    {
     "name": "stderr",
     "output_type": "stream",
     "text": [
      "/usr/local/lib/python2.7/dist-packages/sklearn/cross_validation.py:44: DeprecationWarning: This module was deprecated in version 0.18 in favor of the model_selection module into which all the refactored classes and functions are moved. Also note that the interface of the new CV iterators are different from that of this module. This module will be removed in 0.20.\n",
      "  \"This module will be removed in 0.20.\", DeprecationWarning)\n"
     ]
    }
   ],
   "source": [
    "import numpy as np\n",
    "import pandas as pd \n",
    "from sklearn import cross_validation\n",
    "from sklearn.cross_validation import KFold\n",
    "from sklearn.metrics import mean_squared_error\n",
    "from sklearn.ensemble import RandomForestClassifier \n",
    "from sklearn.cross_validation import cross_val_score\n",
    "from sklearn.metrics import f1_score\n",
    "from sklearn.metrics import precision_recall_fscore_support\n",
    "%matplotlib inline\n",
    "import matplotlib.pyplot as plt\n",
    "import scipy.stats"
   ]
  },
  {
   "cell_type": "code",
   "execution_count": 2,
   "metadata": {
    "ExecuteTime": {
     "end_time": "2017-07-12T11:39:25.086736Z",
     "start_time": "2017-07-12T11:39:25.084461Z"
    },
    "collapsed": true
   },
   "outputs": [],
   "source": [
    "templateFeatFile = \"../Data/templateFeats.csv\"\n",
    "DataFeats = \"../Data/trainAugFeats.csv\""
   ]
  },
  {
   "cell_type": "code",
   "execution_count": 7,
   "metadata": {
    "ExecuteTime": {
     "end_time": "2017-07-12T11:43:29.342592Z",
     "start_time": "2017-07-12T11:43:29.336588Z"
    },
    "collapsed": true
   },
   "outputs": [],
   "source": [
    "with open(\"../Data/TrainImageListBinary_augmented.txt\",'r') as f:\n",
    "    imagePaths = f.readlines()"
   ]
  },
  {
   "cell_type": "code",
   "execution_count": 9,
   "metadata": {
    "ExecuteTime": {
     "end_time": "2017-07-12T11:44:39.497922Z",
     "start_time": "2017-07-12T11:44:39.485409Z"
    },
    "collapsed": false
   },
   "outputs": [],
   "source": [
    "images = map(lambda it: it.split(',')[0].strip(), imagePaths)"
   ]
  },
  {
   "cell_type": "code",
   "execution_count": 3,
   "metadata": {
    "ExecuteTime": {
     "end_time": "2017-07-12T11:40:14.448403Z",
     "start_time": "2017-07-12T11:39:48.711692Z"
    },
    "collapsed": true
   },
   "outputs": [],
   "source": [
    "templateFeats = pd.read_csv(templateFeatFile , header=None)\n",
    "dataFeats = pd.read_csv(DataFeats , header=None)"
   ]
  },
  {
   "cell_type": "code",
   "execution_count": 4,
   "metadata": {
    "ExecuteTime": {
     "end_time": "2017-07-12T11:41:03.983969Z",
     "start_time": "2017-07-12T11:41:03.980590Z"
    },
    "collapsed": true
   },
   "outputs": [],
   "source": [
    "templateMatrix = templateFeats.as_matrix()\n",
    "dataMatrix = dataFeats.as_matrix()"
   ]
  },
  {
   "cell_type": "code",
   "execution_count": 10,
   "metadata": {
    "ExecuteTime": {
     "end_time": "2017-07-12T11:44:47.450123Z",
     "start_time": "2017-07-12T11:44:47.446156Z"
    },
    "collapsed": false
   },
   "outputs": [
    {
     "data": {
      "text/plain": [
       "'/work/sagarj/Work/BellLabs/streetview/AugImages/513e6297fdc9f0358700b6fd/513e6297fdc9f0358700b6fd1.jpg,1'"
      ]
     },
     "execution_count": 10,
     "metadata": {},
     "output_type": "execute_result"
    }
   ],
   "source": [
    "images[1]"
   ]
  },
  {
   "cell_type": "code",
   "execution_count": null,
   "metadata": {
    "collapsed": true
   },
   "outputs": [],
   "source": []
  }
 ],
 "metadata": {
  "kernelspec": {
   "display_name": "Python 2",
   "language": "python",
   "name": "python2"
  },
  "language_info": {
   "codemirror_mode": {
    "name": "ipython",
    "version": 2
   },
   "file_extension": ".py",
   "mimetype": "text/x-python",
   "name": "python",
   "nbconvert_exporter": "python",
   "pygments_lexer": "ipython2",
   "version": "2.7.12"
  }
 },
 "nbformat": 4,
 "nbformat_minor": 0
}
