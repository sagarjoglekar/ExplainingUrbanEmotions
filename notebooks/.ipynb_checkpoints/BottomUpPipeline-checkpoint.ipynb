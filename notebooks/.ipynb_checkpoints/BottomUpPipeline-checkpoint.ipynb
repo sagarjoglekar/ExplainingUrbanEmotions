{
 "cells": [
  {
   "cell_type": "code",
   "execution_count": 397,
   "metadata": {
    "ExecuteTime": {
     "end_time": "2017-08-04T13:57:55.357233Z",
     "start_time": "2017-08-04T13:57:55.341624Z"
    },
    "collapsed": true
   },
   "outputs": [],
   "source": [
    "import numpy as np\n",
    "import pandas as pd \n",
    "from sklearn import cross_validation\n",
    "from sklearn.cross_validation import KFold\n",
    "from sklearn.metrics import mean_squared_error\n",
    "from sklearn.ensemble import RandomForestClassifier \n",
    "from sklearn.cross_validation import cross_val_score\n",
    "from sklearn.metrics import f1_score\n",
    "from sklearn.metrics import precision_recall_fscore_support\n",
    "%matplotlib inline\n",
    "import seaborn as sns\n",
    "import os\n",
    "from IPython.display import Image\n",
    "import matplotlib.pyplot as plt\n",
    "import scipy.stats\n",
    "import pickle\n",
    "import collections"
   ]
  },
  {
   "cell_type": "code",
   "execution_count": 398,
   "metadata": {
    "ExecuteTime": {
     "end_time": "2017-08-04T13:57:55.774597Z",
     "start_time": "2017-08-04T13:57:55.770836Z"
    },
    "collapsed": true
   },
   "outputs": [],
   "source": [
    "inpaintDir = \"/datasets_1/sagarj/BellLabs/Data/InpaitingFringe/\""
   ]
  },
  {
   "cell_type": "code",
   "execution_count": 399,
   "metadata": {
    "ExecuteTime": {
     "end_time": "2017-08-04T13:57:56.812397Z",
     "start_time": "2017-08-04T13:57:56.808559Z"
    },
    "collapsed": true
   },
   "outputs": [],
   "source": [
    "ImageList = \"/datasets_1/sagarj/BellLabs/Data/fringeImagesBottomUp.pkl\""
   ]
  },
  {
   "cell_type": "code",
   "execution_count": 400,
   "metadata": {
    "ExecuteTime": {
     "end_time": "2017-08-04T13:57:57.846177Z",
     "start_time": "2017-08-04T13:57:57.809942Z"
    },
    "collapsed": true
   },
   "outputs": [],
   "source": [
    "with open(ImageList , 'rb') as f:\n",
    "    imgList = pickle.load(f)"
   ]
  },
  {
   "cell_type": "code",
   "execution_count": 533,
   "metadata": {
    "ExecuteTime": {
     "end_time": "2017-08-07T15:13:54.455591Z",
     "start_time": "2017-08-07T15:13:54.447522Z"
    },
    "collapsed": true
   },
   "outputs": [],
   "source": [
    "origPaths = {}\n",
    "for k in imgList:\n",
    "    if k[1]['label'] == 1:\n",
    "        origPaths[k[0]] = {}\n",
    "        origPaths[k[0]]['path'] = k[1]['path']\n",
    "        origPaths[k[0]]['label'] = k[1]['label']"
   ]
  },
  {
   "cell_type": "code",
   "execution_count": 534,
   "metadata": {
    "ExecuteTime": {
     "end_time": "2017-08-07T15:13:54.737825Z",
     "start_time": "2017-08-07T15:13:54.730785Z"
    }
   },
   "outputs": [
    {
     "data": {
      "text/plain": [
       "{'label': 1,\n",
       " 'path': '/work/sagarj/Work/BellLabs/streetview/PPImages/513d7caffdc9f03587006f90.jpg'}"
      ]
     },
     "execution_count": 534,
     "metadata": {},
     "output_type": "execute_result"
    }
   ],
   "source": [
    "origPaths[origPaths.keys()[1]]"
   ]
  },
  {
   "cell_type": "code",
   "execution_count": 535,
   "metadata": {
    "ExecuteTime": {
     "end_time": "2017-08-07T15:13:55.119876Z",
     "start_time": "2017-08-07T15:13:55.016888Z"
    },
    "collapsed": true
   },
   "outputs": [],
   "source": [
    "## import sys\n",
    "import lmdb\n",
    "import h5py\n",
    "caffe_root = '/work/sagarj/caffe-rc5/'  # this file should be run from {caffe_root}/examples (otherwise change this line)\n",
    "sys.path.insert(0, caffe_root + 'python')\n",
    "from collections import defaultdict\n",
    "import caffe\n",
    "import cv2\n",
    "\n",
    "model_root = \"/work/sagarj/Work/BellLabs/caffe_models/caffe_model_1/\"\n",
    "#net_weights='caffe_beauty_augmented/caffe_model_beauty_augmented_iter_10000.caffemodel'\n",
    "net_weights='caffe_model_beauty_4_votes/caffe_model_1_iter_24732.caffemodel'\n",
    "net_definition='caffenet_deploy_1.prototxt'\n",
    "\n",
    "test_lmdb_path = '../Data/validation_lmdb_beauty_augmented' # Test LMDB database path\n",
    "mean_file_binaryproto = '../Data/cityAugmentedMean.npy' # Mean image file\n",
    "\n",
    "#Size of images\n",
    "IMAGE_WIDTH = 227\n",
    "IMAGE_HEIGHT = 227\n",
    "#Size of images\n",
    "#IMAGE_WIDTH = 224\n",
    "#IMAGE_HEIGHT = 224\n",
    "NCHANNELS = 3\n",
    "meanR = 105.487823486\n",
    "meanG = 113.741088867\n",
    "meanB = 116.060394287\n",
    "\n",
    "meanMat = np.zeros((NCHANNELS,IMAGE_WIDTH,IMAGE_HEIGHT))\n",
    "meanMat[0,:,:].fill(meanR)\n",
    "meanMat[1,:,:].fill(meanG)\n",
    "meanMat[2,:,:].fill(meanB)\n",
    "\n",
    "def transform_img(img, img_width=IMAGE_WIDTH, img_height=IMAGE_HEIGHT):\n",
    "\n",
    "    #Histogram Equalization\n",
    "    img[:, :, 0] = cv2.equalizeHist(img[:, :, 0])\n",
    "    img[:, :, 1] = cv2.equalizeHist(img[:, :, 1])\n",
    "    img[:, :, 2] = cv2.equalizeHist(img[:, :, 2])\n",
    "\n",
    "    #Image Resizing\n",
    "    img = cv2.resize(img, (img_width, img_height), interpolation = cv2.INTER_CUBIC)\n",
    "\n",
    "    return img\n",
    "\n",
    "\n",
    "def getScores(imageDict):\n",
    "\n",
    "    caffe.set_mode_gpu()\n",
    "    model_def = model_root+net_definition\n",
    "    model_weights = model_root + net_weights\n",
    "\n",
    "    net = caffe.Net(model_def,      # defines the structure of the model\n",
    "                    model_weights,  # contains the trained weights\n",
    "                    caffe.TEST)     # use test mode (e.g., don't perform dropout)\n",
    "    \n",
    "    net.blobs['data'].reshape(1,3,IMAGE_WIDTH,IMAGE_HEIGHT)\n",
    "    \n",
    "    transformer = caffe.io.Transformer({'data': net.blobs['data'].data.shape}) \n",
    "    transformer.set_transpose('data', (2,0,1))\n",
    "    transformer.set_channel_swap('data', (2,1,0))\n",
    "    transformer.set_raw_scale('data', 255.0)\n",
    "    mean = np.load(mean_file_binaryproto)\n",
    "    print mean.shape\n",
    "    feats = {}\n",
    "    for k in imageDict:\n",
    "        #featArray = predictImage(row['path'] , NN , TFormer)\n",
    "        imgPath = imageDict[k]['path']\n",
    "        #print imgPath\n",
    "        path = imgPath.strip()\n",
    "        if not os.path.exists(path):\n",
    "            featArray = np.zeros((1,2))\n",
    "        else:\n",
    "            im =  transformer.preprocess('data',caffe.io.load_image(path))\n",
    "            im = im - mean\n",
    "            net.blobs['data'].data[...] = im - meanMat\n",
    "            net.forward()\n",
    "            featArray = net.blobs['prob'].data.copy()\n",
    "\n",
    "        feats[k] = featArray\n",
    "    return feats\n"
   ]
  },
  {
   "cell_type": "code",
   "execution_count": 536,
   "metadata": {
    "ExecuteTime": {
     "end_time": "2017-08-07T15:16:34.230623Z",
     "start_time": "2017-08-07T15:13:55.311614Z"
    },
    "editable": false
   },
   "outputs": [
    {
     "name": "stdout",
     "output_type": "stream",
     "text": [
      "(3, 227, 227)\n"
     ]
    }
   ],
   "source": [
    "origProbs = getScores(origPaths)"
   ]
  },
  {
   "cell_type": "code",
   "execution_count": 537,
   "metadata": {
    "ExecuteTime": {
     "end_time": "2017-08-07T15:16:34.237020Z",
     "start_time": "2017-08-07T15:16:34.232682Z"
    }
   },
   "outputs": [
    {
     "data": {
      "text/plain": [
       "array([[ 0.4589918 ,  0.54100829]], dtype=float32)"
      ]
     },
     "execution_count": 537,
     "metadata": {},
     "output_type": "execute_result"
    }
   ],
   "source": [
    "origProbs[origProbs.keys()[1]]"
   ]
  },
  {
   "cell_type": "code",
   "execution_count": 538,
   "metadata": {
    "ExecuteTime": {
     "end_time": "2017-08-07T15:16:34.247052Z",
     "start_time": "2017-08-07T15:16:34.238721Z"
    },
    "collapsed": true
   },
   "outputs": [],
   "source": [
    "predicted = []\n",
    "actual = []\n",
    "for k in origProbs:\n",
    "    predicted.append(np.argmax(origProbs[k]))\n",
    "    actual.append(origPaths[k]['label'])"
   ]
  },
  {
   "cell_type": "code",
   "execution_count": 539,
   "metadata": {
    "ExecuteTime": {
     "end_time": "2017-08-07T15:16:34.259349Z",
     "start_time": "2017-08-07T15:16:34.248893Z"
    }
   },
   "outputs": [
    {
     "name": "stdout",
     "output_type": "stream",
     "text": [
      "(array([ 0.,  1.]), array([ 0.        ,  0.83501006]), array([ 0.        ,  0.91008772]))\n"
     ]
    }
   ],
   "source": [
    "origprecision , origrecall , origfscore , _ = precision_recall_fscore_support(actual, predicted)\n",
    "\n",
    "\n",
    "print ( origprecision , origrecall , origfscore)"
   ]
  },
  {
   "cell_type": "code",
   "execution_count": 540,
   "metadata": {
    "ExecuteTime": {
     "end_time": "2017-08-07T15:16:34.269784Z",
     "start_time": "2017-08-07T15:16:34.261181Z"
    },
    "collapsed": true
   },
   "outputs": [],
   "source": [
    "inpaintedFiles = os.listdir(inpaintDir)"
   ]
  },
  {
   "cell_type": "code",
   "execution_count": 541,
   "metadata": {
    "ExecuteTime": {
     "end_time": "2017-08-07T15:16:34.274292Z",
     "start_time": "2017-08-07T15:16:34.271611Z"
    },
    "collapsed": true
   },
   "outputs": [],
   "source": [
    "labels = ['Sky', 'Building', 'Pole','RoadMarking','Road','Pavement','Tree','SignSymbol','Fence','Vehicle','Pedestrian', 'Bike']"
   ]
  },
  {
   "cell_type": "code",
   "execution_count": 542,
   "metadata": {
    "ExecuteTime": {
     "end_time": "2017-08-07T15:16:34.282270Z",
     "start_time": "2017-08-07T15:16:34.276077Z"
    },
    "collapsed": true
   },
   "outputs": [],
   "source": [
    "inpaintPaths = {}\n",
    "for i in labels: \n",
    "    inpaintPaths[i] = {}"
   ]
  },
  {
   "cell_type": "code",
   "execution_count": 543,
   "metadata": {
    "ExecuteTime": {
     "end_time": "2017-08-07T15:16:34.293223Z",
     "start_time": "2017-08-07T15:16:34.284036Z"
    }
   },
   "outputs": [
    {
     "data": {
      "text/plain": [
       "['5140d90efdc9f04926003b25', 'Pedestrian']"
      ]
     },
     "execution_count": 543,
     "metadata": {},
     "output_type": "execute_result"
    }
   ],
   "source": [
    "inpaintedFiles[16].split('.')[0].split('_')"
   ]
  },
  {
   "cell_type": "code",
   "execution_count": 544,
   "metadata": {
    "ExecuteTime": {
     "end_time": "2017-08-07T15:16:34.458008Z",
     "start_time": "2017-08-07T15:16:34.294902Z"
    },
    "collapsed": true
   },
   "outputs": [],
   "source": [
    "for i in inpaintedFiles:\n",
    "    comps = i.split('.')[0].split('_')\n",
    "    key = comps[0]\n",
    "    #Take beautiful images only\n",
    "    if key not in origPaths.keys():\n",
    "        continue\n",
    "    if len(comps) == 3:\n",
    "        SegnetLbl = comps[1]+comps[2]\n",
    "    else:\n",
    "        SegnetLbl = comps[1]\n",
    "    if SegnetLbl not in inpaintPaths:\n",
    "        inpaintPaths[SegnetLbl] = {}\n",
    "   \n",
    "    if key not in inpaintPaths[SegnetLbl]:\n",
    "        inpaintPaths[SegnetLbl][key] = {}\n",
    "    inpaintPaths[SegnetLbl][key]['path'] = inpaintDir + i\n",
    "    inpaintPaths[SegnetLbl][key]['label'] = origPaths[key]['label']\n",
    "        "
   ]
  },
  {
   "cell_type": "code",
   "execution_count": 545,
   "metadata": {
    "ExecuteTime": {
     "end_time": "2017-08-07T15:16:34.472253Z",
     "start_time": "2017-08-07T15:16:34.459692Z"
    }
   },
   "outputs": [
    {
     "name": "stdout",
     "output_type": "stream",
     "text": [
      "497\n",
      "497\n",
      "497\n",
      "497\n",
      "497\n",
      "497\n",
      "497\n",
      "497\n",
      "497\n",
      "497\n",
      "497\n",
      "497\n"
     ]
    }
   ],
   "source": [
    "for k in inpaintPaths:\n",
    "    print len(inpaintPaths[k])"
   ]
  },
  {
   "cell_type": "code",
   "execution_count": 546,
   "metadata": {
    "ExecuteTime": {
     "end_time": "2017-08-07T15:20:12.228121Z",
     "start_time": "2017-08-07T15:16:34.474025Z"
    }
   },
   "outputs": [
    {
     "name": "stdout",
     "output_type": "stream",
     "text": [
      "(3, 227, 227)\n",
      "(3, 227, 227)\n",
      "(3, 227, 227)\n",
      "(3, 227, 227)\n",
      "(3, 227, 227)\n",
      "(3, 227, 227)\n",
      "(3, 227, 227)\n",
      "(3, 227, 227)\n",
      "(3, 227, 227)\n",
      "(3, 227, 227)\n",
      "(3, 227, 227)\n",
      "(3, 227, 227)\n"
     ]
    }
   ],
   "source": [
    "inpaintedProbs = {}\n",
    "for k in inpaintPaths.keys():\n",
    "    inpaintedProbs[k] = getScores(inpaintPaths[k])"
   ]
  },
  {
   "cell_type": "code",
   "execution_count": 548,
   "metadata": {
    "ExecuteTime": {
     "end_time": "2017-08-07T15:20:20.762728Z",
     "start_time": "2017-08-07T15:20:20.759054Z"
    },
    "collapsed": true
   },
   "outputs": [],
   "source": [
    "#inpaintedProbs['Building']['50e5f7d5d7c3df413b000571'][0][0]"
   ]
  },
  {
   "cell_type": "code",
   "execution_count": 549,
   "metadata": {
    "ExecuteTime": {
     "end_time": "2017-08-07T15:20:21.523292Z",
     "start_time": "2017-08-07T15:20:21.516430Z"
    }
   },
   "outputs": [
    {
     "data": {
      "text/plain": [
       "['Building',\n",
       " 'Fence',\n",
       " 'RoadMarking',\n",
       " 'Tree',\n",
       " 'Sky',\n",
       " 'Pole',\n",
       " 'Pedestrian',\n",
       " 'Pavement',\n",
       " 'Bike',\n",
       " 'Vehicle',\n",
       " 'SignSymbol',\n",
       " 'Road']"
      ]
     },
     "execution_count": 549,
     "metadata": {},
     "output_type": "execute_result"
    }
   ],
   "source": [
    "inpaintedProbs.keys()"
   ]
  },
  {
   "cell_type": "code",
   "execution_count": 556,
   "metadata": {
    "ExecuteTime": {
     "end_time": "2017-08-07T15:20:37.086099Z",
     "start_time": "2017-08-07T15:20:37.037238Z"
    },
    "collapsed": true
   },
   "outputs": [],
   "source": [
    "predicted = {}\n",
    "actual = []\n",
    "changedActs = {}\n",
    "once = 0\n",
    "for k in inpaintedProbs:\n",
    "    \n",
    "    if k not in predicted.keys():\n",
    "        predicted[k] = []\n",
    "        changedActs[k] = []\n",
    "    for j in inpaintedProbs[k]:\n",
    "        predicted[k].append(np.argmax(inpaintedProbs[k][j]))\n",
    "        changedActs[k].append((inpaintedProbs[k][j][0][1] - origProbs[j])[0][1])\n",
    "        if once == 0:\n",
    "            actual.append(origPaths[j]['label'])\n",
    "    once+=1"
   ]
  },
  {
   "cell_type": "code",
   "execution_count": 557,
   "metadata": {
    "ExecuteTime": {
     "end_time": "2017-08-07T15:20:37.784822Z",
     "start_time": "2017-08-07T15:20:37.781103Z"
    },
    "collapsed": true
   },
   "outputs": [],
   "source": [
    "#changedActs['Building']"
   ]
  },
  {
   "cell_type": "code",
   "execution_count": 558,
   "metadata": {
    "ExecuteTime": {
     "end_time": "2017-08-07T15:20:38.053574Z",
     "start_time": "2017-08-07T15:20:38.041897Z"
    },
    "collapsed": true
   },
   "outputs": [],
   "source": [
    "actMedians = []\n",
    "actStd = []\n",
    "lbl = []\n",
    "for k in changedActs:\n",
    "    actMedians.append(np.median(changedActs[k]))\n",
    "    actStd.append(np.std(changedActs[k]))\n",
    "    lbl.append(k)"
   ]
  },
  {
   "cell_type": "code",
   "execution_count": 559,
   "metadata": {
    "ExecuteTime": {
     "end_time": "2017-08-07T15:20:38.464644Z",
     "start_time": "2017-08-07T15:20:38.457786Z"
    }
   },
   "outputs": [
    {
     "data": {
      "text/plain": [
       "[0.023114072,\n",
       " 0.0066442224,\n",
       " 0.006773856,\n",
       " 0.082917981,\n",
       " 0.015774433,\n",
       " 0.0059944908,\n",
       " 0.0057585319,\n",
       " 0.0066660666,\n",
       " 0.0054474887,\n",
       " 0.0080355722,\n",
       " 0.0055000619,\n",
       " 0.0089055737]"
      ]
     },
     "execution_count": 559,
     "metadata": {},
     "output_type": "execute_result"
    }
   ],
   "source": [
    "actStd"
   ]
  },
  {
   "cell_type": "code",
   "execution_count": 560,
   "metadata": {
    "ExecuteTime": {
     "end_time": "2017-08-07T15:20:39.699415Z",
     "start_time": "2017-08-07T15:20:39.308212Z"
    }
   },
   "outputs": [
    {
     "data": {
      "text/plain": [
       "([<matplotlib.axis.XTick at 0x7f9b5360c190>,\n",
       "  <matplotlib.axis.XTick at 0x7f9b536296d0>,\n",
       "  <matplotlib.axis.XTick at 0x7f9b5350c450>,\n",
       "  <matplotlib.axis.XTick at 0x7f9b53833a50>,\n",
       "  <matplotlib.axis.XTick at 0x7f9b4a1b0a50>,\n",
       "  <matplotlib.axis.XTick at 0x7f9bd1841650>,\n",
       "  <matplotlib.axis.XTick at 0x7f9bd1841910>,\n",
       "  <matplotlib.axis.XTick at 0x7f9b4a762f90>,\n",
       "  <matplotlib.axis.XTick at 0x7f9b4a762910>,\n",
       "  <matplotlib.axis.XTick at 0x7f9bd1917f50>,\n",
       "  <matplotlib.axis.XTick at 0x7f9bd1917510>,\n",
       "  <matplotlib.axis.XTick at 0x7f9b49ee0450>],\n",
       " <a list of 12 Text xticklabel objects>)"
      ]
     },
     "execution_count": 560,
     "metadata": {},
     "output_type": "execute_result"
    },
    {
     "data": {
      "image/png": "[encoded data removed]",
      "text/plain": [
       "<matplotlib.figure.Figure at 0x7f9b52c24510>"
      ]
     },
     "metadata": {},
     "output_type": "display_data"
    }
   ],
   "source": [
    "ind = np.arange(0,120,10)\n",
    "width = 5       # the width of the bars\n",
    "fig, ax = plt.subplots()\n",
    "fig.set_size_inches(20,16)\n",
    "plt.xlabel(\"Segnet Object Obfuscated\" , fontsize = 25)\n",
    "plt.ylabel(\"Change in Ugly neuron activation (Compared to un-altered)\" , fontsize = 25 )\n",
    "rects1 = ax.bar(ind, actMedians, width, color='b', yerr=actStd ,alpha=0.6)\n",
    "plt.xticks(ind, lbl , fontsize=18)"
   ]
  },
  {
   "cell_type": "code",
   "execution_count": 555,
   "metadata": {
    "ExecuteTime": {
     "end_time": "2017-08-07T15:20:26.407664Z",
     "start_time": "2017-08-07T15:20:26.402003Z"
    }
   },
   "outputs": [
    {
     "data": {
      "text/plain": [
       "['Building',\n",
       " 'Fence',\n",
       " 'RoadMarking',\n",
       " 'Tree',\n",
       " 'Sky',\n",
       " 'Pavement',\n",
       " 'Pedestrian',\n",
       " 'Pole',\n",
       " 'Bike',\n",
       " 'Vehicle',\n",
       " 'SignSymbol',\n",
       " 'Road']"
      ]
     },
     "execution_count": 555,
     "metadata": {},
     "output_type": "execute_result"
    }
   ],
   "source": [
    "predicted.keys()"
   ]
  },
  {
   "cell_type": "code",
   "execution_count": 420,
   "metadata": {
    "ExecuteTime": {
     "end_time": "2017-08-04T14:09:50.112388Z",
     "start_time": "2017-08-04T14:09:50.108751Z"
    },
    "collapsed": true
   },
   "outputs": [],
   "source": [
    "#predicted['Building']"
   ]
  },
  {
   "cell_type": "code",
   "execution_count": 421,
   "metadata": {
    "ExecuteTime": {
     "end_time": "2017-08-04T14:09:51.254856Z",
     "start_time": "2017-08-04T14:09:51.220827Z"
    }
   },
   "outputs": [
    {
     "name": "stdout",
     "output_type": "stream",
     "text": [
      "[[nan, 0.0], [nan, 0.0], [nan, 0.0], [nan, 0.0], [nan, 0.0], [nan, 0.0], [nan, 0.0], [nan, 0.0], [nan, 0.0], [nan, 0.0], [nan, 0.0], [nan, 0.0]]\n",
      "[[nan, 1.4457831325301298], [nan, 9.6385542168674796], [nan, 8.19277108433735], [nan, 6.2650602409638561], [nan, 7.4698795180722977], [nan, 6.7469879518072329], [nan, 93.493975903614455], [nan, 7.7108433734939723], [nan, 6.7469879518072329], [nan, 6.9879518072289217], [nan, 7.9518072289156612], [nan, 7.4698795180722977]]\n",
      "[[100.0, 0.79310619963297446], [100.0, 5.4935337680999217], [100.0, 4.6375936548014352], [100.0, 3.5143735211727227], [100.0, 4.2139955964607605], [100.0, 3.7932726380635788], [100.0, 88.676538213924388], [100.0, 4.3548740416210263], [100.0, 3.7932726380635788], [100.0, 3.9331959775682601], [100.0, 4.4960730293186257], [100.0, 4.2139955964607605]]\n"
     ]
    },
    {
     "name": "stderr",
     "output_type": "stream",
     "text": [
      "/usr/local/lib/python2.7/dist-packages/ipykernel_launcher.py:7: RuntimeWarning: invalid value encountered in double_scalars\n",
      "  import sys\n",
      "/usr/local/lib/python2.7/dist-packages/ipykernel_launcher.py:8: RuntimeWarning: invalid value encountered in double_scalars\n",
      "  \n"
     ]
    }
   ],
   "source": [
    "precisions = []\n",
    "recalls = []\n",
    "fscores = []\n",
    "for k in labels:\n",
    "    precision , recall , fscore , _ = precision_recall_fscore_support(actual, predicted[k])\n",
    "    \n",
    "    precisions.append([(origprecision[0]- precision[0])/origprecision[0]*100 ,(origprecision[1]- precision[1])/origprecision[1] *100 ])\n",
    "    recalls.append([(origrecall[0] - recall[0])/origrecall[0] *100 , (origrecall[1]-recall[1])/origrecall[1] * 100  ])\n",
    "    fscores.append([(origrecall[1]-fscore[0])/origrecall[1] *100, (origfscore[1] -fscore[1]) /origfscore[1] *100 ])\n",
    "\n",
    "\n",
    "print ( precisions) \n",
    "print( recalls )\n",
    "print (fscores)"
   ]
  },
  {
   "cell_type": "code",
   "execution_count": 428,
   "metadata": {
    "ExecuteTime": {
     "end_time": "2017-08-04T14:11:07.670712Z",
     "start_time": "2017-08-04T14:11:07.665527Z"
    },
    "collapsed": true
   },
   "outputs": [],
   "source": [
    "a = np.argsort([i[1] for i in recalls])[:5]\n",
    "plotablesBeauty = [recalls[i][1] for i in a]"
   ]
  },
  {
   "cell_type": "code",
   "execution_count": 429,
   "metadata": {
    "ExecuteTime": {
     "end_time": "2017-08-04T14:11:08.086018Z",
     "start_time": "2017-08-04T14:11:08.079310Z"
    }
   },
   "outputs": [
    {
     "data": {
      "text/plain": [
       "[1.4457831325301298,\n",
       " 6.2650602409638561,\n",
       " 6.7469879518072329,\n",
       " 6.7469879518072329,\n",
       " 6.9879518072289217]"
      ]
     },
     "execution_count": 429,
     "metadata": {},
     "output_type": "execute_result"
    }
   ],
   "source": [
    "plotablesBeauty"
   ]
  },
  {
   "cell_type": "code",
   "execution_count": 430,
   "metadata": {
    "ExecuteTime": {
     "end_time": "2017-08-04T14:11:09.132533Z",
     "start_time": "2017-08-04T14:11:09.128430Z"
    },
    "collapsed": true
   },
   "outputs": [],
   "source": [
    "aLabels = [labels[i] for i in a]"
   ]
  },
  {
   "cell_type": "code",
   "execution_count": 431,
   "metadata": {
    "ExecuteTime": {
     "end_time": "2017-08-04T14:11:10.190383Z",
     "start_time": "2017-08-04T14:11:10.185164Z"
    },
    "collapsed": true
   },
   "outputs": [],
   "source": [
    "b = np.argsort([i[1] for i in recalls])[-5:]\n",
    "plotablesUgly = [recalls[i][1] for i in b]"
   ]
  },
  {
   "cell_type": "code",
   "execution_count": 432,
   "metadata": {
    "ExecuteTime": {
     "end_time": "2017-08-04T14:11:10.805047Z",
     "start_time": "2017-08-04T14:11:10.801020Z"
    },
    "collapsed": true
   },
   "outputs": [],
   "source": [
    "bLabels = [labels[i] for i in b]"
   ]
  },
  {
   "cell_type": "code",
   "execution_count": 434,
   "metadata": {
    "ExecuteTime": {
     "end_time": "2017-08-04T14:14:29.891909Z",
     "start_time": "2017-08-04T14:14:29.611354Z"
    }
   },
   "outputs": [
    {
     "data": {
      "text/plain": [
       "[<matplotlib.text.Text at 0x7f9b528c9dd0>,\n",
       " <matplotlib.text.Text at 0x7f9b4ab508d0>]"
      ]
     },
     "execution_count": 434,
     "metadata": {},
     "output_type": "execute_result"
    },
    {
     "data": {
      "image/png": "[encoded data removed]",
      "text/plain": [
       "<matplotlib.figure.Figure at 0x7f9b536d7290>"
      ]
     },
     "metadata": {},
     "output_type": "display_data"
    }
   ],
   "source": [
    "import seaborn as sns\n",
    "fig, ax = plt.subplots()\n",
    "fig.set_size_inches(14, 8)\n",
    "sns.set_style(\"whitegrid\")\n",
    "sns.set(rc={\"figure.figsize\": (20, 14)})\n",
    "sns.set(font_scale=1.5) \n",
    "ax = sns.barplot(x=bLabels+aLabels, y=np.concatenate((plotablesUgly,plotablesBeauty) , axis = 0))\n",
    "ax.set(xlabel='Segnet Objects inpainted', ylabel='Percentage Reduction (Recalls in Classifier\\'s Beauty prediction')"
   ]
  },
  {
   "cell_type": "code",
   "execution_count": 562,
   "metadata": {
    "ExecuteTime": {
     "end_time": "2017-08-08T10:54:44.884683Z",
     "start_time": "2017-08-08T10:54:44.606518Z"
    }
   },
   "outputs": [
    {
     "data": {
      "text/plain": [
       "[<matplotlib.text.Text at 0x7f9b49f58d90>,\n",
       " <matplotlib.text.Text at 0x7f9b49f32a90>]"
      ]
     },
     "execution_count": 562,
     "metadata": {},
     "output_type": "execute_result"
    },
    {
     "data": {
      "image/png": "[encoded data removed]",
      "text/plain": [
       "<matplotlib.figure.Figure at 0x7f9b5360cc50>"
      ]
     },
     "metadata": {},
     "output_type": "display_data"
    }
   ],
   "source": [
    "import seaborn as sns\n",
    "fig, ax = plt.subplots()\n",
    "fig.set_size_inches(14, 8)\n",
    "sns.set_style(\"whitegrid\")\n",
    "sns.set(rc={\"figure.figsize\": (20, 14)})\n",
    "sns.set(font_scale=1.5) \n",
    "ax = sns.barplot(x=bLabels+aLabels, y=np.concatenate((plotablesUgly,plotablesBeauty) , axis = 0))\n",
    "ax.set(xlabel='Segnet Objects inpainted', ylabel='Percentage Change in Beauty prediction Precision')"
   ]
  },
  {
   "cell_type": "code",
   "execution_count": null,
   "metadata": {
    "collapsed": true
   },
   "outputs": [],
   "source": []
  }
 ],
 "metadata": {
  "kernelspec": {
   "display_name": "Python 2",
   "language": "python",
   "name": "python2"
  },
  "language_info": {
   "codemirror_mode": {
    "name": "ipython",
    "version": 2
   },
   "file_extension": ".py",
   "mimetype": "text/x-python",
   "name": "python",
   "nbconvert_exporter": "python",
   "pygments_lexer": "ipython2",
   "version": "2.7.12"
  }
 },
 "nbformat": 4,
 "nbformat_minor": 2
}
