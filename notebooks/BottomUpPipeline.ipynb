{
 "cells": [
  {
   "cell_type": "code",
   "execution_count": 8,
   "metadata": {
    "ExecuteTime": {
     "end_time": "2017-08-09T15:30:26.326651Z",
     "start_time": "2017-08-09T15:30:26.310352Z"
    }
   },
   "outputs": [],
   "source": [
    "import numpy as np\n",
    "import pandas as pd \n",
    "from sklearn import cross_validation\n",
    "from sklearn.cross_validation import KFold\n",
    "from sklearn.metrics import mean_squared_error\n",
    "from sklearn.ensemble import RandomForestClassifier \n",
    "from sklearn.cross_validation import cross_val_score\n",
    "from sklearn.metrics import f1_score\n",
    "from sklearn.metrics import precision_recall_fscore_support\n",
    "%matplotlib inline\n",
    "import seaborn as sns\n",
    "import os\n",
    "from IPython.display import Image\n",
    "import matplotlib.pyplot as plt\n",
    "import scipy.stats\n",
    "import pickle\n",
    "import sys\n",
    "import collections"
   ]
  },
  {
   "cell_type": "code",
   "execution_count": 2,
   "metadata": {
    "ExecuteTime": {
     "end_time": "2017-08-09T14:30:34.489423Z",
     "start_time": "2017-08-09T14:30:34.486934Z"
    },
    "collapsed": true
   },
   "outputs": [],
   "source": [
    "inpaintDir = \"/datasets_1/sagarj/BellLabs/Data/InpaitingFringe/\""
   ]
  },
  {
   "cell_type": "code",
   "execution_count": 3,
   "metadata": {
    "ExecuteTime": {
     "end_time": "2017-08-09T14:30:34.499552Z",
     "start_time": "2017-08-09T14:30:34.491112Z"
    },
    "collapsed": true
   },
   "outputs": [],
   "source": [
    "ImageList = \"/datasets_1/sagarj/BellLabs/Data/fringeImagesBottomUp.pkl\""
   ]
  },
  {
   "cell_type": "code",
   "execution_count": 4,
   "metadata": {
    "ExecuteTime": {
     "end_time": "2017-08-09T14:30:34.545434Z",
     "start_time": "2017-08-09T14:30:34.501414Z"
    },
    "collapsed": true
   },
   "outputs": [],
   "source": [
    "with open(ImageList , 'rb') as f:\n",
    "    imgList = pickle.load(f)"
   ]
  },
  {
   "cell_type": "code",
   "execution_count": 5,
   "metadata": {
    "ExecuteTime": {
     "end_time": "2017-08-09T14:30:34.555184Z",
     "start_time": "2017-08-09T14:30:34.548250Z"
    },
    "collapsed": true
   },
   "outputs": [],
   "source": [
    "origPaths = {}\n",
    "for k in imgList:\n",
    "    if k[1]['label'] == 1:\n",
    "        origPaths[k[0]] = {}\n",
    "        origPaths[k[0]]['path'] = k[1]['path']\n",
    "        origPaths[k[0]]['label'] = k[1]['label']"
   ]
  },
  {
   "cell_type": "code",
   "execution_count": 6,
   "metadata": {
    "ExecuteTime": {
     "end_time": "2017-08-09T14:30:34.566582Z",
     "start_time": "2017-08-09T14:30:34.557821Z"
    }
   },
   "outputs": [
    {
     "data": {
      "text/plain": [
       "{'label': 1,\n",
       " 'path': '/work/sagarj/Work/BellLabs/streetview/PPImages/513d7caffdc9f03587006f90.jpg'}"
      ]
     },
     "execution_count": 6,
     "metadata": {},
     "output_type": "execute_result"
    }
   ],
   "source": [
    "origPaths[origPaths.keys()[1]]"
   ]
  },
  {
   "cell_type": "code",
   "execution_count": 9,
   "metadata": {
    "ExecuteTime": {
     "end_time": "2017-08-09T15:30:29.367662Z",
     "start_time": "2017-08-09T15:30:29.103619Z"
    }
   },
   "outputs": [],
   "source": [
    "## import sys\n",
    "import lmdb\n",
    "import h5py\n",
    "caffe_root = '/work/sagarj/caffe-rc5/'  # this file should be run from {caffe_root}/examples (otherwise change this line)\n",
    "sys.path.insert(0, caffe_root + 'python')\n",
    "from collections import defaultdict\n",
    "import caffe\n",
    "import cv2\n",
    "\n",
    "model_root = \"/work/sagarj/Work/BellLabs/caffe_models/caffe_model_1/\"\n",
    "#net_weights='caffe_beauty_augmented/caffe_model_beauty_augmented_iter_10000.caffemodel'\n",
    "net_weights='caffe_model_beauty_4_votes/caffe_model_1_iter_24732.caffemodel'\n",
    "net_definition='caffenet_deploy_1.prototxt'\n",
    "\n",
    "test_lmdb_path = '../Data/validation_lmdb_beauty_augmented' # Test LMDB database path\n",
    "mean_file_binaryproto = '../Data/cityAugmentedMean.npy' # Mean image file\n",
    "\n",
    "#Size of images\n",
    "IMAGE_WIDTH = 227\n",
    "IMAGE_HEIGHT = 227\n",
    "#Size of images\n",
    "#IMAGE_WIDTH = 224\n",
    "#IMAGE_HEIGHT = 224\n",
    "NCHANNELS = 3\n",
    "meanR = 105.487823486\n",
    "meanG = 113.741088867\n",
    "meanB = 116.060394287\n",
    "\n",
    "meanMat = np.zeros((NCHANNELS,IMAGE_WIDTH,IMAGE_HEIGHT))\n",
    "meanMat[0,:,:].fill(meanR)\n",
    "meanMat[1,:,:].fill(meanG)\n",
    "meanMat[2,:,:].fill(meanB)\n",
    "\n",
    "def transform_img(img, img_width=IMAGE_WIDTH, img_height=IMAGE_HEIGHT):\n",
    "\n",
    "    #Histogram Equalization\n",
    "    img[:, :, 0] = cv2.equalizeHist(img[:, :, 0])\n",
    "    img[:, :, 1] = cv2.equalizeHist(img[:, :, 1])\n",
    "    img[:, :, 2] = cv2.equalizeHist(img[:, :, 2])\n",
    "\n",
    "    #Image Resizing\n",
    "    img = cv2.resize(img, (img_width, img_height), interpolation = cv2.INTER_CUBIC)\n",
    "\n",
    "    return img\n",
    "\n",
    "\n",
    "def getScores(imageDict):\n",
    "\n",
    "    caffe.set_mode_gpu()\n",
    "    model_def = model_root+net_definition\n",
    "    model_weights = model_root + net_weights\n",
    "\n",
    "    net = caffe.Net(model_def,      # defines the structure of the model\n",
    "                    model_weights,  # contains the trained weights\n",
    "                    caffe.TEST)     # use test mode (e.g., don't perform dropout)\n",
    "    \n",
    "    net.blobs['data'].reshape(1,3,IMAGE_WIDTH,IMAGE_HEIGHT)\n",
    "    \n",
    "    transformer = caffe.io.Transformer({'data': net.blobs['data'].data.shape}) \n",
    "    transformer.set_transpose('data', (2,0,1))\n",
    "    transformer.set_channel_swap('data', (2,1,0))\n",
    "    transformer.set_raw_scale('data', 255.0)\n",
    "    mean = np.load(mean_file_binaryproto)\n",
    "    print mean.shape\n",
    "    feats = {}\n",
    "    for k in imageDict:\n",
    "        #featArray = predictImage(row['path'] , NN , TFormer)\n",
    "        imgPath = imageDict[k]['path']\n",
    "        #print imgPath\n",
    "        path = imgPath.strip()\n",
    "        if not os.path.exists(path):\n",
    "            featArray = np.zeros((1,2))\n",
    "        else:\n",
    "            im =  transformer.preprocess('data',caffe.io.load_image(path))\n",
    "            im = im - mean\n",
    "            net.blobs['data'].data[...] = im - meanMat\n",
    "            net.forward()\n",
    "            featArray = net.blobs['prob'].data.copy()\n",
    "\n",
    "        feats[k] = featArray\n",
    "    return feats\n"
   ]
  },
  {
   "cell_type": "code",
   "execution_count": 10,
   "metadata": {
    "ExecuteTime": {
     "end_time": "2017-08-09T15:30:43.944219Z",
     "start_time": "2017-08-09T15:30:29.782783Z"
    },
    "editable": false
   },
   "outputs": [
    {
     "name": "stdout",
     "output_type": "stream",
     "text": [
      "(3, 227, 227)\n"
     ]
    },
    {
     "name": "stderr",
     "output_type": "stream",
     "text": [
      "/usr/local/lib/python2.7/dist-packages/skimage/transform/_warps.py:84: UserWarning: The default mode, 'constant', will be changed to 'reflect' in skimage 0.15.\n",
      "  warn(\"The default mode, 'constant', will be changed to 'reflect' in \"\n"
     ]
    }
   ],
   "source": [
    "origProbs = getScores(origPaths)"
   ]
  },
  {
   "cell_type": "code",
   "execution_count": 11,
   "metadata": {
    "ExecuteTime": {
     "end_time": "2017-08-09T15:30:43.950213Z",
     "start_time": "2017-08-09T15:30:43.946127Z"
    }
   },
   "outputs": [
    {
     "data": {
      "text/plain": [
       "array([[ 0.4589918 ,  0.54100829]], dtype=float32)"
      ]
     },
     "execution_count": 11,
     "metadata": {},
     "output_type": "execute_result"
    }
   ],
   "source": [
    "origProbs[origProbs.keys()[1]]"
   ]
  },
  {
   "cell_type": "code",
   "execution_count": 12,
   "metadata": {
    "ExecuteTime": {
     "end_time": "2017-08-09T15:30:43.960042Z",
     "start_time": "2017-08-09T15:30:43.951776Z"
    },
    "collapsed": true
   },
   "outputs": [],
   "source": [
    "predicted = []\n",
    "actual = []\n",
    "for k in origProbs:\n",
    "    predicted.append(np.argmax(origProbs[k]))\n",
    "    actual.append(origPaths[k]['label'])"
   ]
  },
  {
   "cell_type": "code",
   "execution_count": 13,
   "metadata": {
    "ExecuteTime": {
     "end_time": "2017-08-09T15:30:43.975987Z",
     "start_time": "2017-08-09T15:30:43.961684Z"
    }
   },
   "outputs": [
    {
     "name": "stdout",
     "output_type": "stream",
     "text": [
      "(array([ 0.,  1.]), array([ 0.        ,  0.83501006]), array([ 0.        ,  0.91008772]))\n"
     ]
    },
    {
     "name": "stderr",
     "output_type": "stream",
     "text": [
      "/usr/local/lib/python2.7/dist-packages/sklearn/metrics/classification.py:1115: UndefinedMetricWarning: Recall and F-score are ill-defined and being set to 0.0 in labels with no true samples.\n",
      "  'recall', 'true', average, warn_for)\n"
     ]
    }
   ],
   "source": [
    "origprecision , origrecall , origfscore , _ = precision_recall_fscore_support(actual, predicted)\n",
    "\n",
    "\n",
    "print ( origprecision , origrecall , origfscore)"
   ]
  },
  {
   "cell_type": "code",
   "execution_count": 14,
   "metadata": {
    "ExecuteTime": {
     "end_time": "2017-08-09T15:30:44.021552Z",
     "start_time": "2017-08-09T15:30:43.977700Z"
    },
    "collapsed": true
   },
   "outputs": [],
   "source": [
    "inpaintedFiles = os.listdir(inpaintDir)"
   ]
  },
  {
   "cell_type": "code",
   "execution_count": 15,
   "metadata": {
    "ExecuteTime": {
     "end_time": "2017-08-09T15:30:44.026015Z",
     "start_time": "2017-08-09T15:30:44.023471Z"
    },
    "collapsed": true
   },
   "outputs": [],
   "source": [
    "labels = ['Sky', 'Building', 'Pole','RoadMarking','Road','Pavement','Tree','SignSymbol','Fence','Vehicle','Pedestrian', 'Bike']"
   ]
  },
  {
   "cell_type": "code",
   "execution_count": 16,
   "metadata": {
    "ExecuteTime": {
     "end_time": "2017-08-09T15:30:44.032234Z",
     "start_time": "2017-08-09T15:30:44.027638Z"
    },
    "collapsed": true
   },
   "outputs": [],
   "source": [
    "inpaintPaths = {}\n",
    "for i in labels: \n",
    "    inpaintPaths[i] = {}"
   ]
  },
  {
   "cell_type": "code",
   "execution_count": 17,
   "metadata": {
    "ExecuteTime": {
     "end_time": "2017-08-09T15:30:44.045292Z",
     "start_time": "2017-08-09T15:30:44.033859Z"
    }
   },
   "outputs": [
    {
     "data": {
      "text/plain": [
       "['5140d90efdc9f04926003b25', 'Pedestrian']"
      ]
     },
     "execution_count": 17,
     "metadata": {},
     "output_type": "execute_result"
    }
   ],
   "source": [
    "inpaintedFiles[16].split('.')[0].split('_')"
   ]
  },
  {
   "cell_type": "code",
   "execution_count": 18,
   "metadata": {
    "ExecuteTime": {
     "end_time": "2017-08-09T15:30:44.206649Z",
     "start_time": "2017-08-09T15:30:44.046897Z"
    },
    "collapsed": true
   },
   "outputs": [],
   "source": [
    "for i in inpaintedFiles:\n",
    "    comps = i.split('.')[0].split('_')\n",
    "    key = comps[0]\n",
    "    #Take beautiful images only\n",
    "    if key not in origPaths.keys():\n",
    "        continue\n",
    "    if len(comps) == 3:\n",
    "        SegnetLbl = comps[1]+comps[2]\n",
    "    else:\n",
    "        SegnetLbl = comps[1]\n",
    "    if SegnetLbl not in inpaintPaths:\n",
    "        inpaintPaths[SegnetLbl] = {}\n",
    "   \n",
    "    if key not in inpaintPaths[SegnetLbl]:\n",
    "        inpaintPaths[SegnetLbl][key] = {}\n",
    "    inpaintPaths[SegnetLbl][key]['path'] = inpaintDir + i\n",
    "    inpaintPaths[SegnetLbl][key]['label'] = origPaths[key]['label']\n",
    "        "
   ]
  },
  {
   "cell_type": "code",
   "execution_count": 19,
   "metadata": {
    "ExecuteTime": {
     "end_time": "2017-08-09T15:30:44.220003Z",
     "start_time": "2017-08-09T15:30:44.208327Z"
    }
   },
   "outputs": [
    {
     "name": "stdout",
     "output_type": "stream",
     "text": [
      "497\n",
      "497\n",
      "497\n",
      "497\n",
      "497\n",
      "497\n",
      "497\n",
      "497\n",
      "497\n",
      "497\n",
      "497\n",
      "497\n"
     ]
    }
   ],
   "source": [
    "for k in inpaintPaths:\n",
    "    print len(inpaintPaths[k])"
   ]
  },
  {
   "cell_type": "code",
   "execution_count": 20,
   "metadata": {
    "ExecuteTime": {
     "end_time": "2017-08-09T15:32:34.323906Z",
     "start_time": "2017-08-09T15:30:44.221601Z"
    }
   },
   "outputs": [
    {
     "name": "stdout",
     "output_type": "stream",
     "text": [
      "(3, 227, 227)\n",
      "(3, 227, 227)\n",
      "(3, 227, 227)\n",
      "(3, 227, 227)\n",
      "(3, 227, 227)\n",
      "(3, 227, 227)\n",
      "(3, 227, 227)\n",
      "(3, 227, 227)\n",
      "(3, 227, 227)\n",
      "(3, 227, 227)\n",
      "(3, 227, 227)\n",
      "(3, 227, 227)\n"
     ]
    }
   ],
   "source": [
    "inpaintedProbs = {}\n",
    "for k in inpaintPaths.keys():\n",
    "    inpaintedProbs[k] = getScores(inpaintPaths[k])"
   ]
  },
  {
   "cell_type": "code",
   "execution_count": 21,
   "metadata": {
    "ExecuteTime": {
     "end_time": "2017-08-09T15:32:34.328110Z",
     "start_time": "2017-08-09T15:32:34.325801Z"
    },
    "collapsed": true
   },
   "outputs": [],
   "source": [
    "#inpaintedProbs['Building']['50e5f7d5d7c3df413b000571'][0][0]"
   ]
  },
  {
   "cell_type": "code",
   "execution_count": 22,
   "metadata": {
    "ExecuteTime": {
     "end_time": "2017-08-09T15:32:34.341803Z",
     "start_time": "2017-08-09T15:32:34.331117Z"
    }
   },
   "outputs": [
    {
     "data": {
      "text/plain": [
       "['Building',\n",
       " 'Fence',\n",
       " 'RoadMarking',\n",
       " 'Tree',\n",
       " 'Sky',\n",
       " 'Pole',\n",
       " 'Pedestrian',\n",
       " 'Pavement',\n",
       " 'Bike',\n",
       " 'Vehicle',\n",
       " 'SignSymbol',\n",
       " 'Road']"
      ]
     },
     "execution_count": 22,
     "metadata": {},
     "output_type": "execute_result"
    }
   ],
   "source": [
    "inpaintedProbs.keys()"
   ]
  },
  {
   "cell_type": "code",
   "execution_count": 23,
   "metadata": {
    "ExecuteTime": {
     "end_time": "2017-08-09T15:32:34.385647Z",
     "start_time": "2017-08-09T15:32:34.344976Z"
    },
    "collapsed": true
   },
   "outputs": [],
   "source": [
    "predicted = {}\n",
    "actual = []\n",
    "changedActs = {}\n",
    "once = 0\n",
    "for k in inpaintedProbs:\n",
    "    \n",
    "    if k not in predicted.keys():\n",
    "        predicted[k] = []\n",
    "        changedActs[k] = []\n",
    "    for j in inpaintedProbs[k]:\n",
    "        predicted[k].append(np.argmax(inpaintedProbs[k][j]))\n",
    "        changedActs[k].append((inpaintedProbs[k][j][0][1] - origProbs[j])[0][1])\n",
    "        if once == 0:\n",
    "            actual.append(origPaths[j]['label'])\n",
    "    once+=1"
   ]
  },
  {
   "cell_type": "code",
   "execution_count": 24,
   "metadata": {
    "ExecuteTime": {
     "end_time": "2017-08-09T15:32:34.391085Z",
     "start_time": "2017-08-09T15:32:34.388248Z"
    },
    "collapsed": true
   },
   "outputs": [],
   "source": [
    "#changedActs['Building']"
   ]
  },
  {
   "cell_type": "code",
   "execution_count": 25,
   "metadata": {
    "ExecuteTime": {
     "end_time": "2017-08-09T15:32:34.402150Z",
     "start_time": "2017-08-09T15:32:34.393434Z"
    },
    "collapsed": true
   },
   "outputs": [],
   "source": [
    "actMedians = []\n",
    "actStd = []\n",
    "lbl = []\n",
    "for k in changedActs:\n",
    "    actMedians.append(np.median(changedActs[k]))\n",
    "    actStd.append(np.std(changedActs[k]))\n",
    "    lbl.append(k)"
   ]
  },
  {
   "cell_type": "code",
   "execution_count": 26,
   "metadata": {
    "ExecuteTime": {
     "end_time": "2017-08-09T15:32:34.410335Z",
     "start_time": "2017-08-09T15:32:34.404433Z"
    }
   },
   "outputs": [
    {
     "data": {
      "text/plain": [
       "[0.023114072,\n",
       " 0.0066442224,\n",
       " 0.006773856,\n",
       " 0.082917981,\n",
       " 0.015774433,\n",
       " 0.0059944908,\n",
       " 0.0057585319,\n",
       " 0.0066660666,\n",
       " 0.0054474887,\n",
       " 0.0080355722,\n",
       " 0.0055000619,\n",
       " 0.0089055737]"
      ]
     },
     "execution_count": 26,
     "metadata": {},
     "output_type": "execute_result"
    }
   ],
   "source": [
    "actStd"
   ]
  },
  {
   "cell_type": "code",
   "execution_count": 38,
   "metadata": {
    "ExecuteTime": {
     "end_time": "2017-08-09T15:34:38.026458Z",
     "start_time": "2017-08-09T15:34:37.637597Z"
    }
   },
   "outputs": [
    {
     "data": {
      "text/plain": [
       "([<matplotlib.axis.XTick at 0x7f629c6e56d0>,\n",
       "  <matplotlib.axis.XTick at 0x7f629c6b8150>,\n",
       "  <matplotlib.axis.XTick at 0x7f629c616990>,\n",
       "  <matplotlib.axis.XTick at 0x7f629c5e5850>,\n",
       "  <matplotlib.axis.XTick at 0x7f629c5e5f90>,\n",
       "  <matplotlib.axis.XTick at 0x7f629c5f1710>,\n",
       "  <matplotlib.axis.XTick at 0x7f629c5f1e50>,\n",
       "  <matplotlib.axis.XTick at 0x7f629c57c5d0>,\n",
       "  <matplotlib.axis.XTick at 0x7f629c57cd10>,\n",
       "  <matplotlib.axis.XTick at 0x7f629c587490>,\n",
       "  <matplotlib.axis.XTick at 0x7f629c587bd0>,\n",
       "  <matplotlib.axis.XTick at 0x7f629c591350>],\n",
       " <a list of 12 Text xticklabel objects>)"
      ]
     },
     "execution_count": 38,
     "metadata": {},
     "output_type": "execute_result"
    },
    {
     "data": {
      "image/png": "[encoded data removed]",
      "text/plain": [
       "<matplotlib.figure.Figure at 0x7f629c70a290>"
      ]
     },
     "metadata": {},
     "output_type": "display_data"
    }
   ],
   "source": [
    "ind = np.arange(0,120,10)\n",
    "width = 5       # the width of the bars\n",
    "fig, ax = plt.subplots()\n",
    "fig.set_size_inches(20,16)\n",
    "plt.xlabel(\"Segnet Object Obfuscated\" , fontsize = 25)\n",
    "plt.ylabel(\"Change in Beauty neuron activation (Compared to un-altered)\" , fontsize = 25 )\n",
    "rects1 = ax.bar(ind, actMedians, width, color='b', yerr=actStd ,alpha=0.6)\n",
    "plt.xticks(ind, lbl , fontsize=18)"
   ]
  },
  {
   "cell_type": "code",
   "execution_count": 28,
   "metadata": {
    "ExecuteTime": {
     "end_time": "2017-08-09T15:32:34.777345Z",
     "start_time": "2017-08-09T15:32:34.771297Z"
    }
   },
   "outputs": [
    {
     "data": {
      "text/plain": [
       "['Building',\n",
       " 'Fence',\n",
       " 'RoadMarking',\n",
       " 'Tree',\n",
       " 'Sky',\n",
       " 'Pavement',\n",
       " 'Pedestrian',\n",
       " 'Pole',\n",
       " 'Bike',\n",
       " 'Vehicle',\n",
       " 'SignSymbol',\n",
       " 'Road']"
      ]
     },
     "execution_count": 28,
     "metadata": {},
     "output_type": "execute_result"
    }
   ],
   "source": [
    "predicted.keys()"
   ]
  },
  {
   "cell_type": "code",
   "execution_count": 29,
   "metadata": {
    "ExecuteTime": {
     "end_time": "2017-08-09T15:32:34.786471Z",
     "start_time": "2017-08-09T15:32:34.780267Z"
    },
    "collapsed": true
   },
   "outputs": [],
   "source": [
    "#predicted['Building']"
   ]
  },
  {
   "cell_type": "code",
   "execution_count": 30,
   "metadata": {
    "ExecuteTime": {
     "end_time": "2017-08-09T15:32:34.819132Z",
     "start_time": "2017-08-09T15:32:34.789438Z"
    }
   },
   "outputs": [
    {
     "name": "stdout",
     "output_type": "stream",
     "text": [
      "[[nan, 0.0], [nan, 0.0], [nan, 0.0], [nan, 0.0], [nan, 0.0], [nan, 0.0], [nan, 0.0], [nan, 0.0], [nan, 0.0], [nan, 0.0], [nan, 0.0], [nan, 0.0]]\n",
      "[[nan, 1.4457831325301298], [nan, 9.6385542168674796], [nan, 8.19277108433735], [nan, 6.2650602409638561], [nan, 7.4698795180722977], [nan, 6.7469879518072329], [nan, 93.493975903614455], [nan, 7.7108433734939723], [nan, 6.7469879518072329], [nan, 6.9879518072289217], [nan, 7.9518072289156612], [nan, 7.4698795180722977]]\n",
      "[[100.0, 0.79310619963297446], [100.0, 5.4935337680999217], [100.0, 4.6375936548014352], [100.0, 3.5143735211727227], [100.0, 4.2139955964607605], [100.0, 3.7932726380635788], [100.0, 88.676538213924388], [100.0, 4.3548740416210263], [100.0, 3.7932726380635788], [100.0, 3.9331959775682601], [100.0, 4.4960730293186257], [100.0, 4.2139955964607605]]\n"
     ]
    },
    {
     "name": "stderr",
     "output_type": "stream",
     "text": [
      "/usr/local/lib/python2.7/dist-packages/ipykernel_launcher.py:7: RuntimeWarning: invalid value encountered in double_scalars\n",
      "  import sys\n",
      "/usr/local/lib/python2.7/dist-packages/ipykernel_launcher.py:8: RuntimeWarning: invalid value encountered in double_scalars\n",
      "  \n"
     ]
    }
   ],
   "source": [
    "precisions = []\n",
    "recalls = []\n",
    "fscores = []\n",
    "for k in labels:\n",
    "    precision , recall , fscore , _ = precision_recall_fscore_support(actual, predicted[k])\n",
    "    \n",
    "    precisions.append([(origprecision[0]- precision[0])/origprecision[0]*100 ,(origprecision[1]- precision[1])/origprecision[1] *100 ])\n",
    "    recalls.append([(origrecall[0] - recall[0])/origrecall[0] *100 , (origrecall[1]-recall[1])/origrecall[1] * 100  ])\n",
    "    fscores.append([(origrecall[1]-fscore[0])/origrecall[1] *100, (origfscore[1] -fscore[1]) /origfscore[1] *100 ])\n",
    "\n",
    "\n",
    "print ( precisions) \n",
    "print( recalls )\n",
    "print (fscores)"
   ]
  },
  {
   "cell_type": "code",
   "execution_count": 31,
   "metadata": {
    "ExecuteTime": {
     "end_time": "2017-08-09T15:32:34.825344Z",
     "start_time": "2017-08-09T15:32:34.821630Z"
    },
    "collapsed": true
   },
   "outputs": [],
   "source": [
    "a = np.argsort([i[1] for i in recalls])[:5]\n",
    "plotablesBeauty = [recalls[i][1] for i in a]"
   ]
  },
  {
   "cell_type": "code",
   "execution_count": 32,
   "metadata": {
    "ExecuteTime": {
     "end_time": "2017-08-09T15:32:34.833656Z",
     "start_time": "2017-08-09T15:32:34.827702Z"
    }
   },
   "outputs": [
    {
     "data": {
      "text/plain": [
       "[1.4457831325301298,\n",
       " 6.2650602409638561,\n",
       " 6.7469879518072329,\n",
       " 6.7469879518072329,\n",
       " 6.9879518072289217]"
      ]
     },
     "execution_count": 32,
     "metadata": {},
     "output_type": "execute_result"
    }
   ],
   "source": [
    "plotablesBeauty"
   ]
  },
  {
   "cell_type": "code",
   "execution_count": 33,
   "metadata": {
    "ExecuteTime": {
     "end_time": "2017-08-09T15:32:34.839122Z",
     "start_time": "2017-08-09T15:32:34.835902Z"
    },
    "collapsed": true
   },
   "outputs": [],
   "source": [
    "aLabels = [labels[i] for i in a]"
   ]
  },
  {
   "cell_type": "code",
   "execution_count": 34,
   "metadata": {
    "ExecuteTime": {
     "end_time": "2017-08-09T15:32:34.845449Z",
     "start_time": "2017-08-09T15:32:34.841340Z"
    },
    "collapsed": true
   },
   "outputs": [],
   "source": [
    "b = np.argsort([i[1] for i in recalls])[-5:]\n",
    "plotablesUgly = [recalls[i][1] for i in b]"
   ]
  },
  {
   "cell_type": "code",
   "execution_count": 35,
   "metadata": {
    "ExecuteTime": {
     "end_time": "2017-08-09T15:32:34.852566Z",
     "start_time": "2017-08-09T15:32:34.847670Z"
    },
    "collapsed": true
   },
   "outputs": [],
   "source": [
    "bLabels = [labels[i] for i in b]"
   ]
  },
  {
   "cell_type": "code",
   "execution_count": 36,
   "metadata": {
    "ExecuteTime": {
     "end_time": "2017-08-09T15:32:35.102475Z",
     "start_time": "2017-08-09T15:32:34.854769Z"
    }
   },
   "outputs": [
    {
     "data": {
      "text/plain": [
       "[<matplotlib.text.Text at 0x7f62a410a610>,\n",
       " <matplotlib.text.Text at 0x7f62a416ba50>]"
      ]
     },
     "execution_count": 36,
     "metadata": {},
     "output_type": "execute_result"
    },
    {
     "data": {
      "image/png": "[encoded data removed]",
      "text/plain": [
       "<matplotlib.figure.Figure at 0x7f62a4766fd0>"
      ]
     },
     "metadata": {},
     "output_type": "display_data"
    }
   ],
   "source": [
    "import seaborn as sns\n",
    "fig, ax = plt.subplots()\n",
    "fig.set_size_inches(14, 8)\n",
    "sns.set_style(\"whitegrid\")\n",
    "sns.set(rc={\"figure.figsize\": (20, 14)})\n",
    "sns.set(font_scale=1.5) \n",
    "ax = sns.barplot(x=bLabels+aLabels, y=np.concatenate((plotablesUgly,plotablesBeauty) , axis = 0))\n",
    "ax.set(xlabel='Segnet Objects inpainted', ylabel='Percentage Reduction (Recalls in Classifier\\'s Beauty prediction')"
   ]
  },
  {
   "cell_type": "code",
   "execution_count": 37,
   "metadata": {
    "ExecuteTime": {
     "end_time": "2017-08-09T15:32:35.341454Z",
     "start_time": "2017-08-09T15:32:35.103952Z"
    }
   },
   "outputs": [
    {
     "data": {
      "text/plain": [
       "[<matplotlib.text.Text at 0x7f629c791d10>,\n",
       " <matplotlib.text.Text at 0x7f62a4031150>]"
      ]
     },
     "execution_count": 37,
     "metadata": {},
     "output_type": "execute_result"
    },
    {
     "data": {
      "image/png": "[encoded data removed]",
      "text/plain": [
       "<matplotlib.figure.Figure at 0x7f62a412e790>"
      ]
     },
     "metadata": {},
     "output_type": "display_data"
    }
   ],
   "source": [
    "import seaborn as sns\n",
    "fig, ax = plt.subplots()\n",
    "fig.set_size_inches(14, 8)\n",
    "sns.set_style(\"whitegrid\")\n",
    "sns.set(rc={\"figure.figsize\": (20, 14)})\n",
    "sns.set(font_scale=1.5) \n",
    "ax = sns.barplot(x=bLabels+aLabels, y=np.concatenate((plotablesUgly,plotablesBeauty) , axis = 0))\n",
    "ax.set(xlabel='Segnet Objects inpainted', ylabel='Percentage Change in Beauty prediction Precision')"
   ]
  }
 ],
 "metadata": {
  "kernelspec": {
   "display_name": "Python 2",
   "language": "python",
   "name": "python2"
  },
  "language_info": {
   "codemirror_mode": {
    "name": "ipython",
    "version": 2
   },
   "file_extension": ".py",
   "mimetype": "text/x-python",
   "name": "python",
   "nbconvert_exporter": "python",
   "pygments_lexer": "ipython2",
   "version": "2.7.12"
  }
 },
 "nbformat": 4,
 "nbformat_minor": 2
}
