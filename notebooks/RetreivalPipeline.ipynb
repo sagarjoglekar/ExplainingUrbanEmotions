{
 "cells": [
  {
   "cell_type": "code",
   "execution_count": 2,
   "metadata": {
    "ExecuteTime": {
     "end_time": "2017-10-24T08:14:08.408612Z",
     "start_time": "2017-10-24T08:14:08.390286Z"
    },
    "collapsed": true
   },
   "outputs": [],
   "source": [
    "import numpy as np\n",
    "import pandas as pd \n",
    "from sklearn import cross_validation\n",
    "from sklearn.cross_validation import KFold\n",
    "from sklearn.metrics import mean_squared_error\n",
    "from sklearn.ensemble import RandomForestClassifier \n",
    "from sklearn.cross_validation import cross_val_score\n",
    "from sklearn.metrics import f1_score\n",
    "from sklearn.metrics import precision_recall_fscore_support\n",
    "%matplotlib inline\n",
    "import seaborn as sns\n",
    "import os\n",
    "from IPython.display import Image\n",
    "import matplotlib.pyplot as plt\n",
    "import scipy.stats\n",
    "import pickle\n",
    "import geopandas as gpd\n",
    "from shapely.geometry import shape, Point\n",
    "import collections\n",
    "from scipy.stats.mstats import zscore"
   ]
  },
  {
   "cell_type": "markdown",
   "metadata": {},
   "source": [
    "# Import the list of selected images from the fringes of the\n",
    "The images are saved inthe picke file as a touple of key and dictionary\n",
    "a sample is here \n",
    "('50f5ed56fdc9f065f0008c3c',\n",
    " {'key': '50f5ed56fdc9f065f0008c3c',\n",
    "  'label': 1,\n",
    "  'path': '/work/sagarj/Work/BellLabs/streetview/PPImages/50f5ed56fdc9f065f0008c3c.jpg',\n",
    "  'trueSkill': [34.40761521557218]}\n",
    " )"
   ]
  },
  {
   "cell_type": "code",
   "execution_count": 48,
   "metadata": {
    "ExecuteTime": {
     "end_time": "2017-10-24T11:33:42.553087Z",
     "start_time": "2017-10-24T11:33:42.540844Z"
    },
    "collapsed": true
   },
   "outputs": [],
   "source": [
    "#ImageList = \"/datasets_1/sagarj/BellLabs/Data/fringeImages.pkl\"\n",
    "#ImageList = \"/datasets_1/sagarj/BellLabs/Data/fringeImagesBottomUp.pkl\"\n",
    "ImageList = \"/datasets_1/sagarj/BellLabs/Data/bostonDf.pkl\"\n",
    "urlPrepend = \"https://nms.kcl.ac.uk/netsys/data/urbanBeautyCrowd/\"\n",
    "#ImageList = \"/datasets_1/sagarj/BellLabs/Data/mediumImages.pkl\"\n",
    "with open(ImageList , 'rb') as f:\n",
    "    imgList = pickle.load(f)"
   ]
  },
  {
   "cell_type": "code",
   "execution_count": 15,
   "metadata": {
    "ExecuteTime": {
     "end_time": "2017-10-24T08:16:58.994403Z",
     "start_time": "2017-10-24T08:16:58.990855Z"
    },
    "collapsed": true
   },
   "outputs": [],
   "source": [
    "datasetImageCoords = \"/datasets_1/sagarj/BellLabs/Data/AllStreetScoreImageLocs.pkl\""
   ]
  },
  {
   "cell_type": "code",
   "execution_count": 16,
   "metadata": {
    "ExecuteTime": {
     "end_time": "2017-10-24T08:17:01.185487Z",
     "start_time": "2017-10-24T08:16:59.521251Z"
    },
    "collapsed": true
   },
   "outputs": [],
   "source": [
    "with open(datasetImageCoords,'rb') as f:\n",
    "    imgCoords = pickle.load(file=f)"
   ]
  },
  {
   "cell_type": "code",
   "execution_count": 6,
   "metadata": {
    "ExecuteTime": {
     "end_time": "2017-10-24T08:14:13.600199Z",
     "start_time": "2017-10-24T08:14:13.592743Z"
    }
   },
   "outputs": [
    {
     "data": {
      "text/plain": [
       "shapely.geometry.point.Point"
      ]
     },
     "execution_count": 6,
     "metadata": {},
     "output_type": "execute_result"
    }
   ],
   "source": [
    "type(imgCoords[imgCoords.keys()[1]])"
   ]
  },
  {
   "cell_type": "code",
   "execution_count": 670,
   "metadata": {
    "ExecuteTime": {
     "end_time": "2017-10-27T10:57:18.487925Z",
     "start_time": "2017-10-27T10:57:16.227769Z"
    },
    "collapsed": true
   },
   "outputs": [],
   "source": [
    "imgLocDict = {}\n",
    "for i in imgCoords:\n",
    "    imgLocDict[i] = dict()\n",
    "    imgLocDict[i]['Lat'] = imgCoords[i].y\n",
    "    imgLocDict[i]['Long'] = imgCoords[i].x\n",
    "    "
   ]
  },
  {
   "cell_type": "code",
   "execution_count": 671,
   "metadata": {
    "ExecuteTime": {
     "end_time": "2017-10-27T10:57:31.143484Z",
     "start_time": "2017-10-27T10:57:30.002571Z"
    },
    "collapsed": true
   },
   "outputs": [],
   "source": [
    "# with open(\"allImageLocs.json\", 'wb') as f:\n",
    "#     json.dump(imgLocDict,f)"
   ]
  },
  {
   "cell_type": "code",
   "execution_count": 20,
   "metadata": {
    "ExecuteTime": {
     "end_time": "2017-10-24T08:21:05.730514Z",
     "start_time": "2017-10-24T08:21:03.408815Z"
    },
    "collapsed": true
   },
   "outputs": [],
   "source": [
    "usa = gpd.read_file(\"../shapeFiles/cb_2016_us_ua10_500k.shp\")"
   ]
  },
  {
   "cell_type": "code",
   "execution_count": 21,
   "metadata": {
    "ExecuteTime": {
     "end_time": "2017-10-24T08:21:06.578282Z",
     "start_time": "2017-10-24T08:21:06.571011Z"
    },
    "collapsed": true
   },
   "outputs": [],
   "source": [
    "def check(point, polygon):\n",
    "    if any(polygon.contains(point)):\n",
    "        return True\n",
    "    else:\n",
    "        return False\n",
    "\n",
    "def checkPoly(point,polygonArray):\n",
    "    truths = [check(point , poly) for poly in polygonArray]\n",
    "    return any(truths)"
   ]
  },
  {
   "cell_type": "code",
   "execution_count": 22,
   "metadata": {
    "ExecuteTime": {
     "end_time": "2017-10-24T08:21:07.518700Z",
     "start_time": "2017-10-24T08:21:07.510610Z"
    },
    "collapsed": true
   },
   "outputs": [],
   "source": [
    "us_selected_poly = ['Boston, MA--NH--RI']\n",
    "bos_poly = [usa[(usa['NAME10'] == k)]['geometry'] for k in us_selected_poly]"
   ]
  },
  {
   "cell_type": "code",
   "execution_count": 23,
   "metadata": {
    "ExecuteTime": {
     "end_time": "2017-10-24T08:21:10.623248Z",
     "start_time": "2017-10-24T08:21:10.547113Z"
    }
   },
   "outputs": [
    {
     "data": {
      "text/plain": [
       "[1283    (POLYGON ((-70.861812 42.658277, -70.860432 42...\n",
       " Name: geometry, dtype: object]"
      ]
     },
     "execution_count": 23,
     "metadata": {},
     "output_type": "execute_result"
    }
   ],
   "source": [
    "bos_poly"
   ]
  },
  {
   "cell_type": "code",
   "execution_count": 24,
   "metadata": {
    "ExecuteTime": {
     "end_time": "2017-10-24T08:22:29.277341Z",
     "start_time": "2017-10-24T08:21:55.567489Z"
    },
    "collapsed": true
   },
   "outputs": [],
   "source": [
    "bostonImages = {}\n",
    "for k in imgCoords:\n",
    "     if checkPoly(Point(imgCoords[k].x , imgCoords[k].y),bos_poly):\n",
    "            #print \"Found one\"\n",
    "            bostonImages[k] = imgCoords[k]"
   ]
  },
  {
   "cell_type": "code",
   "execution_count": 25,
   "metadata": {
    "ExecuteTime": {
     "end_time": "2017-10-24T08:22:32.347656Z",
     "start_time": "2017-10-24T08:22:32.342135Z"
    }
   },
   "outputs": [
    {
     "data": {
      "text/plain": [
       "1332"
      ]
     },
     "execution_count": 25,
     "metadata": {},
     "output_type": "execute_result"
    }
   ],
   "source": [
    "len(bostonImages)"
   ]
  },
  {
   "cell_type": "code",
   "execution_count": 851,
   "metadata": {
    "ExecuteTime": {
     "end_time": "2017-10-27T11:57:57.259322Z",
     "start_time": "2017-10-27T11:57:57.253190Z"
    }
   },
   "outputs": [
    {
     "data": {
      "image/svg+xml": [
       "<svg xmlns=\"http://www.w3.org/2000/svg\" xmlns:xlink=\"http://www.w3.org/1999/xlink\" width=\"100.0\" height=\"100.0\" viewBox=\"-72.074708 41.30024 2.0 2.0\" preserveAspectRatio=\"xMinYMin meet\"><g transform=\"matrix(1,0,0,-1,0,84.60048)\"><circle cx=\"-71.074708\" cy=\"42.30024\" r=\"0.06\" stroke=\"#555555\" stroke-width=\"0.02\" fill=\"#66cc99\" opacity=\"0.6\" /></g></svg>"
      ],
      "text/plain": [
       "<shapely.geometry.point.Point at 0x7fc63c2d6850>"
      ]
     },
     "execution_count": 851,
     "metadata": {},
     "output_type": "execute_result"
    }
   ],
   "source": [
    "bostonImages[bostonImages.keys()[1]]"
   ]
  },
  {
   "cell_type": "code",
   "execution_count": 49,
   "metadata": {
    "ExecuteTime": {
     "end_time": "2017-10-24T11:33:49.024280Z",
     "start_time": "2017-10-24T11:33:49.018962Z"
    }
   },
   "outputs": [
    {
     "data": {
      "text/plain": [
       "127"
      ]
     },
     "execution_count": 49,
     "metadata": {},
     "output_type": "execute_result"
    }
   ],
   "source": [
    "len(imgList)"
   ]
  },
  {
   "cell_type": "code",
   "execution_count": 30,
   "metadata": {
    "ExecuteTime": {
     "end_time": "2017-10-24T08:23:49.936026Z",
     "start_time": "2017-10-24T08:23:49.929788Z"
    }
   },
   "outputs": [
    {
     "data": {
      "text/plain": [
       "127"
      ]
     },
     "execution_count": 30,
     "metadata": {},
     "output_type": "execute_result"
    }
   ],
   "source": [
    "len(list(set(imgList.keys()).intersection(set(bostonImages.keys()))))"
   ]
  },
  {
   "cell_type": "code",
   "execution_count": 211,
   "metadata": {
    "ExecuteTime": {
     "end_time": "2017-10-24T12:13:27.141161Z",
     "start_time": "2017-10-24T12:13:27.131824Z"
    }
   },
   "outputs": [
    {
     "name": "stdout",
     "output_type": "stream",
     "text": [
      "found\n",
      "found\n",
      "found\n",
      "found\n",
      "found\n",
      "found\n",
      "found\n",
      "found\n",
      "found\n",
      "found\n",
      "found\n",
      "found\n",
      "found\n",
      "found\n",
      "found\n",
      "found\n",
      "found\n"
     ]
    }
   ],
   "source": [
    "ugliestImgs = {}\n",
    "for k in imgList:\n",
    "    if imgList[k][1]['trueSkill'][0] < 18:\n",
    "        print \"found\"\n",
    "        ugliestImgs[k] = imgList[k]"
   ]
  },
  {
   "cell_type": "code",
   "execution_count": 207,
   "metadata": {
    "ExecuteTime": {
     "end_time": "2017-10-24T12:12:51.860921Z",
     "start_time": "2017-10-24T12:12:51.855661Z"
    }
   },
   "outputs": [
    {
     "data": {
      "text/plain": [
       "0"
      ]
     },
     "execution_count": 207,
     "metadata": {},
     "output_type": "execute_result"
    }
   ],
   "source": [
    "len(ugliestImgs)"
   ]
  },
  {
   "cell_type": "markdown",
   "metadata": {},
   "source": [
    "Directory path to the list of sampled transformed images"
   ]
  },
  {
   "cell_type": "code",
   "execution_count": 32,
   "metadata": {
    "ExecuteTime": {
     "end_time": "2017-10-24T08:24:06.013157Z",
     "start_time": "2017-10-24T08:24:06.009078Z"
    },
    "collapsed": true
   },
   "outputs": [],
   "source": [
    "#AMImages = \"/datasets/sagarj/streetView/Transform_1000/\"\n",
    "AMImages = \"/datasets/sagarj/streetView/Transform_Boston150/\"\n",
    "#AMImages = \"/datasets/sagarj/streetView/Transform_Medium/\""
   ]
  },
  {
   "cell_type": "code",
   "execution_count": 33,
   "metadata": {
    "ExecuteTime": {
     "end_time": "2017-10-24T08:24:11.120081Z",
     "start_time": "2017-10-24T08:24:11.116370Z"
    },
    "collapsed": true
   },
   "outputs": [],
   "source": [
    "files = os.listdir(AMImages)"
   ]
  },
  {
   "cell_type": "code",
   "execution_count": 34,
   "metadata": {
    "ExecuteTime": {
     "end_time": "2017-10-24T08:24:12.812113Z",
     "start_time": "2017-10-24T08:24:12.806458Z"
    }
   },
   "outputs": [
    {
     "data": {
      "text/plain": [
       "['513d676efdc9f03587004089', '0001', '0.451787', '.jpg']"
      ]
     },
     "execution_count": 34,
     "metadata": {},
     "output_type": "execute_result"
    }
   ],
   "source": [
    "files[1].split('_')"
   ]
  },
  {
   "cell_type": "code",
   "execution_count": 35,
   "metadata": {
    "ExecuteTime": {
     "end_time": "2017-10-24T08:24:13.971630Z",
     "start_time": "2017-10-24T08:24:13.963607Z"
    },
    "collapsed": true
   },
   "outputs": [],
   "source": [
    "filesMap = {}\n",
    "for f in files:\n",
    "    comps = f.strip().split('_')\n",
    "    filesMap[comps[0]] = {}\n",
    "    filesMap[comps[0]]['path'] = AMImages + f\n",
    "    filesMap[comps[0]]['act'] = comps[2]\n",
    "    filesMap[comps[0]]['changeLabel'] = comps[1][-1]"
   ]
  },
  {
   "cell_type": "code",
   "execution_count": 36,
   "metadata": {
    "ExecuteTime": {
     "end_time": "2017-10-24T08:24:17.572407Z",
     "start_time": "2017-10-24T08:24:17.567010Z"
    }
   },
   "outputs": [
    {
     "data": {
      "text/plain": [
       "127"
      ]
     },
     "execution_count": 36,
     "metadata": {},
     "output_type": "execute_result"
    }
   ],
   "source": [
    "len(filesMap.keys())"
   ]
  },
  {
   "cell_type": "code",
   "execution_count": 38,
   "metadata": {
    "ExecuteTime": {
     "end_time": "2017-10-24T08:25:32.032302Z",
     "start_time": "2017-10-24T08:25:32.025142Z"
    },
    "collapsed": true
   },
   "outputs": [],
   "source": [
    "for row in imgList:\n",
    "    if imgList[row][1]['key'] in filesMap.keys():\n",
    "        filesMap[imgList[row][1]['key']]['origPath'] = imgList[row][1]['path']\n",
    "        filesMap[imgList[row][1]['key']]['label'] = imgList[row][1]['label']"
   ]
  },
  {
   "cell_type": "markdown",
   "metadata": {},
   "source": [
    "### The above code created a files map as seen below which makes a single data structure which has \n",
    "* transformation final activation \n",
    "* the label of the class to which the image was transformed into (1 = beauty , 0 = ugly)\n",
    "* original label\n",
    "* original path of the un transformed image \n",
    "* Path to the synthesized image"
   ]
  },
  {
   "cell_type": "code",
   "execution_count": 39,
   "metadata": {
    "ExecuteTime": {
     "end_time": "2017-10-24T08:25:36.759642Z",
     "start_time": "2017-10-24T08:25:36.753437Z"
    }
   },
   "outputs": [
    {
     "data": {
      "text/plain": [
       "{'act': '0.480963',\n",
       " 'changeLabel': '1',\n",
       " 'label': 0,\n",
       " 'origPath': '/work/sagarj/Work/BellLabs/streetview/PPImages/513d679dfdc9f03587004109.jpg',\n",
       " 'path': '/datasets/sagarj/streetView/Transform_Boston150/513d679dfdc9f03587004109_0001_0.480963_.jpg'}"
      ]
     },
     "execution_count": 39,
     "metadata": {},
     "output_type": "execute_result"
    }
   ],
   "source": [
    "filesMap[filesMap.keys()[1]]"
   ]
  },
  {
   "cell_type": "code",
   "execution_count": 40,
   "metadata": {
    "ExecuteTime": {
     "end_time": "2017-10-24T08:25:39.326254Z",
     "start_time": "2017-10-24T08:25:39.323039Z"
    },
    "collapsed": true
   },
   "outputs": [],
   "source": [
    "#Image(filesMap['513d9f45fdc9f035870086b4']['origPath'])"
   ]
  },
  {
   "cell_type": "code",
   "execution_count": 41,
   "metadata": {
    "ExecuteTime": {
     "end_time": "2017-10-24T08:25:39.933774Z",
     "start_time": "2017-10-24T08:25:39.930619Z"
    },
    "collapsed": true
   },
   "outputs": [],
   "source": [
    "#Image(filesMap['513d9f45fdc9f035870086b4']['path'])"
   ]
  },
  {
   "cell_type": "code",
   "execution_count": 42,
   "metadata": {
    "ExecuteTime": {
     "end_time": "2017-10-24T08:25:40.585255Z",
     "start_time": "2017-10-24T08:25:40.582052Z"
    },
    "collapsed": true
   },
   "outputs": [],
   "source": [
    "#filesMap['513d9f45fdc9f035870086b4']['changeLabel']"
   ]
  },
  {
   "cell_type": "markdown",
   "metadata": {},
   "source": [
    "### The below code is a feature extraction code that uses PlacesNet CNN to extract the last but one fully connected layer which is a 4096 dimensional vector\n",
    "\n",
    "#### the block has \n",
    "* A code to transform the image to a consumable size \n",
    "* A block that extracts the 4096 dimensional features\n",
    "* A block that actually returns the top 5 Places labels (Used for measurement)"
   ]
  },
  {
   "cell_type": "code",
   "execution_count": 43,
   "metadata": {
    "ExecuteTime": {
     "end_time": "2017-10-24T11:05:09.125955Z",
     "start_time": "2017-10-24T11:05:08.601889Z"
    },
    "collapsed": true,
    "editable": false
   },
   "outputs": [],
   "source": [
    "import caffe\n",
    "import sys\n",
    "import os\n",
    "\n",
    "import random\n",
    "import numpy as np\n",
    "from numpy import (array, dot, arccos, clip)\n",
    "from numpy.linalg import norm\n",
    "\n",
    "import cv2\n",
    "\n",
    "\n",
    "# If you get \"No module named _caffe\", either you have not built pycaffe or you have the wrong path.\n",
    "\n",
    "model_root = \"/datasets_1/sagarj/BellLabs/caffe_models/places/\"\n",
    "\n",
    "imagenet_mean = model_root + 'places205CNN_mean.binaryproto'\n",
    "\n",
    "logfile = \"../Data/PlacesFeatExtractStreetview.txt\"\n",
    "\n",
    "\n",
    "#Size of images\n",
    "IMAGE_WIDTH = 227\n",
    "IMAGE_HEIGHT = 227\n",
    "\n",
    "#Size of images\n",
    "#IMAGE_WIDTH = 224\n",
    "#IMAGE_HEIGHT = 224\n",
    "NCHANNELS = 3\n",
    "meanR = 105.487823486\n",
    "meanG = 113.741088867\n",
    "meanB = 116.060394287\n",
    "\n",
    "meanMat = np.zeros((NCHANNELS,IMAGE_WIDTH,IMAGE_HEIGHT))\n",
    "meanMat[0,:,:].fill(meanR)\n",
    "meanMat[1,:,:].fill(meanG)\n",
    "meanMat[2,:,:].fill(meanB)\n",
    "\n",
    "def transform_img(img, img_width=IMAGE_WIDTH, img_height=IMAGE_HEIGHT):\n",
    "\n",
    "    #Histogram Equalization\n",
    "    img[:, :, 0] = cv2.equalizeHist(img[:, :, 0])\n",
    "    img[:, :, 1] = cv2.equalizeHist(img[:, :, 1])\n",
    "    img[:, :, 2] = cv2.equalizeHist(img[:, :, 2])\n",
    "\n",
    "    #Image Resizing\n",
    "    img = cv2.resize(img, (img_width, img_height), interpolation = cv2.INTER_CUBIC)\n",
    "\n",
    "    return img\n",
    "\n",
    "\n",
    "def predictImage(imgPath , net, transformer):\n",
    "    \n",
    "\n",
    "    path = imgPath.strip()\n",
    "    im = caffe.io.load_image(path)\n",
    "    net.blobs['data'].data[...] = transformer.preprocess('data', im)\n",
    "    net.forward()\n",
    "    #out1 = net.blobs['prob'].data\n",
    "    out2 = net.blobs['fc7'].data\n",
    "    #print(out2.shape)\n",
    "    #out = np.concatenate((out1,out2.reshape(1,-1)),axis =1)\n",
    "    out = out2\n",
    "    #print(out.shape)\n",
    "    return out\n",
    "\n",
    "\n",
    "    \n",
    "def getFeatMatrix(DataDict):\n",
    "    caffe.set_mode_gpu()    \n",
    "    model_def = model_root + 'places205CNN_deploy_upgraded.prototxt'#'test.prototxt'\n",
    "    model_weights = model_root +'places205CNN_iter_300000_upgraded.caffemodel'#'caffe_sentibank_train_iter_250000'\n",
    "    \n",
    "    net = caffe.Net(model_def,      # defines the structure of the model\n",
    "                model_weights,  # contains the trained weights\n",
    "                caffe.TEST)     # use test mode (e.g., don't perform dropout)\n",
    "\n",
    "    net.blobs['data'].reshape(1,3,IMAGE_WIDTH,IMAGE_HEIGHT)\n",
    "    \n",
    "    transformer = caffe.io.Transformer({'data': net.blobs['data'].data.shape}) \n",
    "    transformer.set_transpose('data', (2,0,1))\n",
    "    transformer.set_channel_swap('data', (2,1,0))\n",
    "    transformer.set_raw_scale('data', 255.0)\n",
    "    feats = {}\n",
    "    for k in DataDict:\n",
    "        path = DataDict[k]['path'].strip()\n",
    "        if not os.path.exists(path):\n",
    "            featArray = np.zeros((1,4096))\n",
    "        else:\n",
    "            im = transformer.preprocess('data',caffe.io.load_image(path))\n",
    "            net.blobs['data'].data[...] = im - meanMat\n",
    "            net.forward()\n",
    "            featArray = net.blobs['fc7'].data.copy()\n",
    "                \n",
    "        DataDict[k]['placesFeats'] = featArray\n",
    "    return DataDict\n",
    "\n",
    "def getPlaces(path):\n",
    "    caffe.set_mode_gpu()    \n",
    "    model_def = model_root + 'places205CNN_deploy_upgraded.prototxt'#'test.prototxt'\n",
    "    model_weights = model_root +'places205CNN_iter_300000_upgraded.caffemodel'#'caffe_sentibank_train_iter_250000'\n",
    "    \n",
    "    net = caffe.Net(model_def,      # defines the structure of the model\n",
    "                model_weights,  # contains the trained weights\n",
    "                caffe.TEST)     # use test mode (e.g., don't perform dropout)\n",
    "\n",
    "    net.blobs['data'].reshape(1,3,IMAGE_WIDTH,IMAGE_HEIGHT)\n",
    "    \n",
    "    transformer = caffe.io.Transformer({'data': net.blobs['data'].data.shape}) \n",
    "    transformer.set_transpose('data', (2,0,1))\n",
    "    transformer.set_channel_swap('data', (2,1,0))\n",
    "    transformer.set_raw_scale('data', 255.0)\n",
    "    feats = {}\n",
    "    path = path.strip()\n",
    "    if not os.path.exists(path):\n",
    "        featArray = np.zeros((1,4096))\n",
    "    else:\n",
    "        im = transformer.preprocess('data',caffe.io.load_image(path))\n",
    "        net.blobs['data'].data[...] = im - meanMat\n",
    "        net.forward()\n",
    "        featArray = net.blobs['prob'].data.copy()\n",
    "    return featArray"
   ]
  },
  {
   "cell_type": "code",
   "execution_count": 44,
   "metadata": {
    "ExecuteTime": {
     "end_time": "2017-10-24T11:05:10.845264Z",
     "start_time": "2017-10-24T11:05:10.835727Z"
    },
    "collapsed": true,
    "editable": false
   },
   "outputs": [],
   "source": [
    "def unit_vector(vector):\n",
    "    \"\"\" Returns the unit vector of the vector.  \"\"\"\n",
    "    return vector / np.linalg.norm(vector)\n",
    "\n",
    "\n",
    "def angle_between(v1, v2):\n",
    "    \"\"\" Returns the angle in radians between vectors 'v1' and 'v2'::\n",
    "\n",
    "            >>> angle_between((1, 0, 0), (0, 1, 0))\n",
    "            1.5707963267948966\n",
    "            >>> angle_between((1, 0, 0), (1, 0, 0))\n",
    "            0.0\n",
    "            >>> angle_between((1, 0, 0), (-1, 0, 0))\n",
    "            3.141592653589793\n",
    "    \"\"\"\n",
    "    v1_u = unit_vector(v1)\n",
    "    v2_u = unit_vector(v2)\n",
    "    return np.arccos(np.clip(np.dot(v1_u.flatten(), v2_u.flatten()), -1.0, 1.0))"
   ]
  },
  {
   "cell_type": "markdown",
   "metadata": {},
   "source": [
    "### The getFeatMatrix function edits the dictionary in place and adds the features as a part of FilesMap dictionary created before"
   ]
  },
  {
   "cell_type": "code",
   "execution_count": 45,
   "metadata": {
    "ExecuteTime": {
     "end_time": "2017-10-24T11:05:22.124497Z",
     "start_time": "2017-10-24T11:05:13.762181Z"
    },
    "collapsed": true
   },
   "outputs": [],
   "source": [
    "transformedFilesMap = getFeatMatrix(filesMap)"
   ]
  },
  {
   "cell_type": "code",
   "execution_count": 47,
   "metadata": {
    "ExecuteTime": {
     "end_time": "2017-10-24T11:05:34.342052Z",
     "start_time": "2017-10-24T11:05:34.334394Z"
    }
   },
   "outputs": [
    {
     "data": {
      "text/plain": [
       "{'act': '0.47995',\n",
       " 'changeLabel': '1',\n",
       " 'label': 0,\n",
       " 'origPath': '/work/sagarj/Work/BellLabs/streetview/PPImages/513d6bc3fdc9f03587004dcc.jpg',\n",
       " 'path': '/datasets/sagarj/streetView/Transform_Boston150/513d6bc3fdc9f03587004dcc_0001_0.47995_.jpg',\n",
       " 'placesFeats': array([[ 0.32846427,  0.        ,  0.22085756, ...,  0.44977036,\n",
       "          0.74997276,  0.04764491]], dtype=float32)}"
      ]
     },
     "execution_count": 47,
     "metadata": {},
     "output_type": "execute_result"
    }
   ],
   "source": [
    "transformedFilesMap[transformedFilesMap.keys()[120]]"
   ]
  },
  {
   "cell_type": "markdown",
   "metadata": {},
   "source": [
    "# This is an extremely shitty part of the code. The crux is you need the test data in a key : dict{} format where the dict should have a 'origPath' entry with the path of the test image which we are retrevi"
   ]
  },
  {
   "cell_type": "code",
   "execution_count": null,
   "metadata": {
    "ExecuteTime": {
     "end_time": "2017-10-18T11:52:24.790828Z",
     "start_time": "2017-10-18T11:52:24.784035Z"
    },
    "collapsed": true
   },
   "outputs": [],
   "source": [
    "# with open(\"../Data/TrainImageListBinary_augmented.txt\",'r') as f:\n",
    "#     imagePaths = f.readlines()"
   ]
  },
  {
   "cell_type": "code",
   "execution_count": null,
   "metadata": {
    "ExecuteTime": {
     "end_time": "2017-10-18T11:52:24.796997Z",
     "start_time": "2017-10-18T11:52:24.792659Z"
    },
    "collapsed": true
   },
   "outputs": [],
   "source": [
    "# len(imagePaths)"
   ]
  },
  {
   "cell_type": "code",
   "execution_count": null,
   "metadata": {
    "ExecuteTime": {
     "end_time": "2017-10-18T11:52:24.808769Z",
     "start_time": "2017-10-18T11:52:24.799921Z"
    },
    "collapsed": true
   },
   "outputs": [],
   "source": [
    "# sampledpaths = random.sample(imagePaths , 5000)"
   ]
  },
  {
   "cell_type": "code",
   "execution_count": null,
   "metadata": {
    "ExecuteTime": {
     "end_time": "2017-10-18T11:52:24.818974Z",
     "start_time": "2017-10-18T11:52:24.811550Z"
    },
    "collapsed": true
   },
   "outputs": [],
   "source": [
    "# sampledpaths[1]"
   ]
  },
  {
   "cell_type": "code",
   "execution_count": null,
   "metadata": {
    "ExecuteTime": {
     "end_time": "2017-10-18T11:52:24.851359Z",
     "start_time": "2017-10-18T11:52:24.821557Z"
    },
    "collapsed": true
   },
   "outputs": [],
   "source": [
    "# sampledPathsDict = {}\n",
    "# for f in sampledpaths:\n",
    "#     comps = f.strip().split(',')\n",
    "#     lbl = comps[1]\n",
    "#     imgID = comps[0].split('/')[-1].split('.')[0]\n",
    "#     sampledPathsDict[imgID] = {}\n",
    "#     sampledPathsDict[imgID]['origPath'] = comps[0]\n",
    "#     sampledPathsDict[imgID]['label'] = lbl"
   ]
  },
  {
   "cell_type": "code",
   "execution_count": null,
   "metadata": {
    "ExecuteTime": {
     "end_time": "2017-10-18T11:52:24.865582Z",
     "start_time": "2017-10-18T11:52:24.853702Z"
    },
    "collapsed": true
   },
   "outputs": [],
   "source": [
    "# sampledPathsDict[sampledPathsDict.keys()[100]]"
   ]
  },
  {
   "cell_type": "code",
   "execution_count": null,
   "metadata": {
    "ExecuteTime": {
     "end_time": "2017-10-18T11:52:24.874376Z",
     "start_time": "2017-10-18T11:52:24.867741Z"
    },
    "collapsed": true
   },
   "outputs": [],
   "source": [
    "# with open(\"../Data/sampledSegnetImages.pkl\",'wb') as f:\n",
    "#     pickle.dump(sampledPathsDict,f,protocol=pickle.HIGHEST_PROTOCOL)"
   ]
  },
  {
   "cell_type": "markdown",
   "metadata": {},
   "source": [
    "# sampledSegnetImages.pkl is a file used for measurement to analyse segnet zones in an image\n",
    "### After saving the disctionay, you will need to run the segnet extraction script externally. Halt at this point\n",
    "\n"
   ]
  },
  {
   "cell_type": "code",
   "execution_count": 52,
   "metadata": {
    "ExecuteTime": {
     "end_time": "2017-10-24T11:54:31.160866Z",
     "start_time": "2017-10-24T11:54:29.366301Z"
    },
    "collapsed": true
   },
   "outputs": [],
   "source": [
    "#Image dataset (Pool of images to match from) \n",
    "with open('/datasets_1/sagarj/BellLabs/Data/bostonAllSegnet.pkl', 'rb') as handle:\n",
    "    testSegnetLabels = pickle.load(handle)\n",
    "# with open('../Data/testSegnetFeatures.pkl', 'rb') as handle:\n",
    "#     testSegnetLabels = pickle.load(handle)\n",
    "#with open('../Data/retrievalSegnetLabelsTextures.pkl', 'rb') as handle:\n",
    "#    segnetLabels = pickle.load(handle)\n",
    "\n",
    "#Root images which are being transformed \n",
    "# with open('../Data/fringe1000SegnetFeatures.pkl', 'rb') as handle:\n",
    "#     segnetLabels = pickle.load(handle)\n",
    "\n",
    "with open('/datasets_1/sagarj/BellLabs/Data/bostonUglySegnet.pkl', 'rb') as handle:\n",
    "    segnetLabels = pickle.load(handle)\n"
   ]
  },
  {
   "cell_type": "code",
   "execution_count": 53,
   "metadata": {
    "ExecuteTime": {
     "end_time": "2017-10-24T11:54:31.169319Z",
     "start_time": "2017-10-24T11:54:31.164277Z"
    }
   },
   "outputs": [
    {
     "name": "stdout",
     "output_type": "stream",
     "text": [
      "774 127\n"
     ]
    }
   ],
   "source": [
    "print len(testSegnetLabels.keys()), len(segnetLabels.keys())"
   ]
  },
  {
   "cell_type": "code",
   "execution_count": 570,
   "metadata": {
    "ExecuteTime": {
     "end_time": "2017-10-26T17:02:23.023546Z",
     "start_time": "2017-10-26T17:02:23.019318Z"
    },
    "collapsed": true
   },
   "outputs": [],
   "source": [
    "allImagesToShare = list(set(testSegnetLabels.keys()).union(set(segnetLabels.keys())))"
   ]
  },
  {
   "cell_type": "code",
   "execution_count": 54,
   "metadata": {
    "ExecuteTime": {
     "end_time": "2017-10-24T11:54:35.295490Z",
     "start_time": "2017-10-24T11:54:35.285557Z"
    }
   },
   "outputs": [
    {
     "data": {
      "text/plain": [
       "{'segnetLabels': array([[ 1.,  1.,  1., ...,  1.,  1.,  1.],\n",
       "        [ 1.,  1.,  1., ...,  1.,  1.,  1.],\n",
       "        [ 1.,  1.,  1., ...,  1.,  1.,  1.],\n",
       "        ..., \n",
       "        [ 4.,  9.,  9., ...,  5.,  5.,  5.],\n",
       "        [ 4.,  4.,  4., ...,  5.,  5.,  5.],\n",
       "        [ 4.,  4.,  4., ...,  5.,  5.,  5.]], dtype=float32)}"
      ]
     },
     "execution_count": 54,
     "metadata": {},
     "output_type": "execute_result"
    }
   ],
   "source": [
    "segnetLabels[segnetLabels.keys()[1]]"
   ]
  },
  {
   "cell_type": "code",
   "execution_count": 66,
   "metadata": {
    "ExecuteTime": {
     "end_time": "2017-10-24T11:57:50.434346Z",
     "start_time": "2017-10-24T11:57:50.401334Z"
    },
    "collapsed": true
   },
   "outputs": [],
   "source": [
    "with open('../Data/bostonAllFringe.pkl', 'rb') as handle:\n",
    "    testImages = pickle.load(handle)"
   ]
  },
  {
   "cell_type": "code",
   "execution_count": 67,
   "metadata": {
    "ExecuteTime": {
     "end_time": "2017-10-24T11:57:50.916271Z",
     "start_time": "2017-10-24T11:57:50.911511Z"
    }
   },
   "outputs": [
    {
     "data": {
      "text/plain": [
       "774"
      ]
     },
     "execution_count": 67,
     "metadata": {},
     "output_type": "execute_result"
    }
   ],
   "source": [
    "len(testImages)"
   ]
  },
  {
   "cell_type": "code",
   "execution_count": 69,
   "metadata": {
    "ExecuteTime": {
     "end_time": "2017-10-24T11:58:05.909582Z",
     "start_time": "2017-10-24T11:58:05.904485Z"
    },
    "collapsed": true
   },
   "outputs": [],
   "source": [
    "testKeys = [testImages[i][1]['key']  for i in testImages]\n",
    "transformedKeys = [k for k in filesMap]"
   ]
  },
  {
   "cell_type": "code",
   "execution_count": 70,
   "metadata": {
    "ExecuteTime": {
     "end_time": "2017-10-24T11:58:06.860077Z",
     "start_time": "2017-10-24T11:58:06.854839Z"
    }
   },
   "outputs": [
    {
     "data": {
      "text/plain": [
       "774"
      ]
     },
     "execution_count": 70,
     "metadata": {},
     "output_type": "execute_result"
    }
   ],
   "source": [
    "len(testKeys)"
   ]
  },
  {
   "cell_type": "code",
   "execution_count": 71,
   "metadata": {
    "ExecuteTime": {
     "end_time": "2017-10-24T11:58:10.573844Z",
     "start_time": "2017-10-24T11:58:10.567469Z"
    },
    "collapsed": true
   },
   "outputs": [],
   "source": [
    "common = [k for k in transformedKeys if k in testKeys]"
   ]
  },
  {
   "cell_type": "code",
   "execution_count": 72,
   "metadata": {
    "ExecuteTime": {
     "end_time": "2017-10-24T11:58:11.435988Z",
     "start_time": "2017-10-24T11:58:11.430599Z"
    }
   },
   "outputs": [
    {
     "data": {
      "text/plain": [
       "79"
      ]
     },
     "execution_count": 72,
     "metadata": {},
     "output_type": "execute_result"
    }
   ],
   "source": [
    "len(common)"
   ]
  },
  {
   "cell_type": "code",
   "execution_count": 74,
   "metadata": {
    "ExecuteTime": {
     "end_time": "2017-10-24T11:58:34.305568Z",
     "start_time": "2017-10-24T11:58:34.298459Z"
    },
    "collapsed": true
   },
   "outputs": [],
   "source": [
    "filteredTestImages = []\n",
    "for k in testImages:\n",
    "    if k[0] not in common:\n",
    "        filteredTestImages.append(k)"
   ]
  },
  {
   "cell_type": "code",
   "execution_count": 80,
   "metadata": {
    "ExecuteTime": {
     "end_time": "2017-10-24T11:59:49.472239Z",
     "start_time": "2017-10-24T11:59:49.466759Z"
    }
   },
   "outputs": [
    {
     "data": {
      "text/plain": [
       "'513d67e8fdc9f035870041c2'"
      ]
     },
     "execution_count": 80,
     "metadata": {},
     "output_type": "execute_result"
    }
   ],
   "source": [
    "filteredTestImages[1]"
   ]
  },
  {
   "cell_type": "code",
   "execution_count": 81,
   "metadata": {
    "ExecuteTime": {
     "end_time": "2017-10-24T12:00:53.002573Z",
     "start_time": "2017-10-24T12:00:52.994359Z"
    },
    "collapsed": true
   },
   "outputs": [],
   "source": [
    "dataFileMap = {}\n",
    "for p in filteredTestImages:\n",
    "    path = testImages[p][1]['path']\n",
    "    key = testImages[p][1]['key']\n",
    "    dataFileMap[key] = {}\n",
    "    dataFileMap[key]['path'] = path"
   ]
  },
  {
   "cell_type": "code",
   "execution_count": 82,
   "metadata": {
    "ExecuteTime": {
     "end_time": "2017-10-24T12:00:54.359898Z",
     "start_time": "2017-10-24T12:00:54.354297Z"
    }
   },
   "outputs": [
    {
     "data": {
      "text/plain": [
       "{'path': '/work/sagarj/Work/BellLabs/streetview/PPImages/513d6b62fdc9f03587004ce4.jpg'}"
      ]
     },
     "execution_count": 82,
     "metadata": {},
     "output_type": "execute_result"
    }
   ],
   "source": [
    "dataFileMap[dataFileMap.keys()[1]]"
   ]
  },
  {
   "cell_type": "markdown",
   "metadata": {},
   "source": [
    "## Extract Places Fc6 features from Test images for further retrieval code"
   ]
  },
  {
   "cell_type": "code",
   "execution_count": 83,
   "metadata": {
    "ExecuteTime": {
     "end_time": "2017-10-24T12:01:28.461910Z",
     "start_time": "2017-10-24T12:00:58.952829Z"
    }
   },
   "outputs": [
    {
     "name": "stderr",
     "output_type": "stream",
     "text": [
      "/usr/local/lib/python2.7/dist-packages/skimage/transform/_warps.py:84: UserWarning: The default mode, 'constant', will be changed to 'reflect' in skimage 0.15.\n",
      "  warn(\"The default mode, 'constant', will be changed to 'reflect' in \"\n"
     ]
    }
   ],
   "source": [
    "retreivalFileMap = getFeatMatrix(dataFileMap)"
   ]
  },
  {
   "cell_type": "markdown",
   "metadata": {},
   "source": [
    "# End shitty zone now. the next sections are about matching\n",
    "\n",
    "Here we find pairwise distances between transformed images and images from dataset."
   ]
  },
  {
   "cell_type": "code",
   "execution_count": 84,
   "metadata": {
    "ExecuteTime": {
     "end_time": "2017-10-24T12:01:28.468964Z",
     "start_time": "2017-10-24T12:01:28.463942Z"
    }
   },
   "outputs": [
    {
     "data": {
      "text/plain": [
       "{'act': '0.480963',\n",
       " 'changeLabel': '1',\n",
       " 'label': 0,\n",
       " 'origPath': '/work/sagarj/Work/BellLabs/streetview/PPImages/513d679dfdc9f03587004109.jpg',\n",
       " 'path': '/datasets/sagarj/streetView/Transform_Boston150/513d679dfdc9f03587004109_0001_0.480963_.jpg',\n",
       " 'placesFeats': array([[ 0.41810766,  0.11022168,  0.        , ...,  0.59241825,\n",
       "          0.54558182,  0.        ]], dtype=float32)}"
      ]
     },
     "execution_count": 84,
     "metadata": {},
     "output_type": "execute_result"
    }
   ],
   "source": [
    "filesMap[filesMap.keys()[1]]"
   ]
  },
  {
   "cell_type": "code",
   "execution_count": 85,
   "metadata": {
    "ExecuteTime": {
     "end_time": "2017-10-24T12:01:41.298693Z",
     "start_time": "2017-10-24T12:01:34.380940Z"
    },
    "collapsed": true
   },
   "outputs": [],
   "source": [
    "for k in filesMap:\n",
    "    if k in segnetLabels:\n",
    "        pixelcounts = collections.Counter(np.squeeze(segnetLabels[k]['segnetLabels']).flatten())\n",
    "        filesMap[k]['segnet'] = {}\n",
    "        denom = segnetLabels[k]['segnetLabels'].shape[0]*segnetLabels[k]['segnetLabels'].shape[1]\n",
    "        for r in pixelcounts:\n",
    "            filesMap[k]['segnet'][r] = float(pixelcounts[r])/float(denom)\n",
    "\n",
    "        "
   ]
  },
  {
   "cell_type": "code",
   "execution_count": 86,
   "metadata": {
    "ExecuteTime": {
     "end_time": "2017-10-24T12:02:25.373178Z",
     "start_time": "2017-10-24T12:01:43.787169Z"
    },
    "collapsed": true
   },
   "outputs": [],
   "source": [
    "for k in retreivalFileMap:\n",
    "    if k in testSegnetLabels:\n",
    "        pixelcounts = collections.Counter(np.squeeze(testSegnetLabels[k]['segnetLabels']).flatten())\n",
    "        retreivalFileMap[k]['segnet'] = {}\n",
    "        denom = testSegnetLabels[k]['segnetLabels'].shape[0]*testSegnetLabels[k]['segnetLabels'].shape[1]\n",
    "        for r in pixelcounts:\n",
    "            retreivalFileMap[k]['segnet'][r] = float(pixelcounts[r])/float(denom)\n"
   ]
  },
  {
   "cell_type": "code",
   "execution_count": 87,
   "metadata": {
    "ExecuteTime": {
     "end_time": "2017-10-24T12:02:25.378426Z",
     "start_time": "2017-10-24T12:02:25.374949Z"
    }
   },
   "outputs": [
    {
     "name": "stdout",
     "output_type": "stream",
     "text": [
      "127 774\n"
     ]
    }
   ],
   "source": [
    "print len(filesMap.keys()), len(retreivalFileMap.keys())"
   ]
  },
  {
   "cell_type": "code",
   "execution_count": 565,
   "metadata": {
    "ExecuteTime": {
     "end_time": "2017-10-26T16:52:10.188080Z",
     "start_time": "2017-10-26T16:52:10.182064Z"
    }
   },
   "outputs": [
    {
     "data": {
      "text/plain": [
       "79"
      ]
     },
     "execution_count": 565,
     "metadata": {},
     "output_type": "execute_result"
    }
   ],
   "source": [
    "len(set(filesMap.keys()).intersection(set(retreivalFileMap.keys())))"
   ]
  },
  {
   "cell_type": "code",
   "execution_count": null,
   "metadata": {
    "collapsed": true
   },
   "outputs": [],
   "source": []
  },
  {
   "cell_type": "code",
   "execution_count": 839,
   "metadata": {
    "ExecuteTime": {
     "end_time": "2017-10-27T11:24:05.587975Z",
     "start_time": "2017-10-27T11:24:05.568699Z"
    },
    "collapsed": true
   },
   "outputs": [],
   "source": [
    "def lockDownDistanceFunction(src, dst):\n",
    "    labels = ['Sky', 'Building', 'Pole','Road Marking','Road','Pavement','Tree','Sign Symbol','Fence','Vehicle','Pedestrian', 'Bike']\n",
    "    #features to lock\n",
    "    lockDownRatios = [ 0.0 , 1.0 , 2.0 , 3.0 , 4.0 , 5.0 , 6.0, 7.0 , 8.0 , 9.0 , 10.0 , 11.0 ] #Everything\n",
    "    #lockDownRatios = [ 0.0 , 1.0 , 2.0 , 3.0 , 4.0 , 5.0 , 7.0 , 8.0 , 9.0 , 10.0 , 11.0 ] #Everything but trees\n",
    "    #lockDownRatios = [ 0.0 , 1.0 , 2.0 , 3.0 , 4.0 , 5.0 , 6.0 , 7.0 , 8.0 ] #Everything but Mobility\n",
    "    #lockDownRatios = [ 0.0 , 1.0 , 3.0 , 4.0 , 6.0, 9.0 , 10.0 , 11.0 ] #Everything but ROAD SIDES\n",
    "    #lockDownRatios = [ 0.0 , 1.0 , 2.0 , 5.0 , 6.0 , 7.0 , 8.0 , 9.0 , 10.0 , 11.0 ] #Everything but Roads\n",
    "    #lockDownRatios = [ 0.0 , 2.0 , 3.0 , 4.0 , 5.0 ,6.0, 7.0 , 8.0 , 9.0 , 10.0 , 11.0 ] #Everything but Buildings\n",
    "    #lockDownRatios = [ 1.0 , 2.0 , 3.0 , 4.0 , 5.0 , 6.0, 7.0 , 8.0 , 9.0 , 10.0 , 11.0 ] #Everything but Sky\n",
    "    #lockDownRatios = [] # Everything unlocked\n",
    "    ##Tolerance levels in normalized ratios\n",
    "    tol = 0.1\n",
    "    for obj in lockDownRatios:\n",
    "        if obj in src['segnet']:\n",
    "            if obj not in dst['segnet']:\n",
    "                return float('inf')\n",
    "            if dst['segnet'][obj] > (src['segnet'][obj]+tol) or dst['segnet'][obj] < (src['segnet'][obj]-tol) :\n",
    "                return float('inf')\n",
    "    return distance.euclidean(dst['placesFeats'] , src['placesFeats'])\n",
    "    "
   ]
  },
  {
   "cell_type": "code",
   "execution_count": 840,
   "metadata": {
    "ExecuteTime": {
     "end_time": "2017-10-27T11:24:11.466535Z",
     "start_time": "2017-10-27T11:24:09.023672Z"
    },
    "collapsed": true
   },
   "outputs": [],
   "source": [
    "from scipy.spatial import distance\n",
    "distanceMapper = {}\n",
    "for k in filesMap:\n",
    "    distanceMapper[k] = {}\n",
    "    for i in retreivalFileMap:\n",
    "        #distanceMapper[k][i] = angle_between(filesMap[k]['placesFeats'] , retreivalFileMap[i]['placesFeats'])\n",
    "        #distanceMapper[k][i] = distance.euclidean(filesMap[k]['placesFeats'] , retreivalFileMap[i]['placesFeats'])\n",
    "        \n",
    "        ##This distance function locks down feature areas in an image\n",
    "        distanceMapper[k][i] = lockDownDistanceFunction(filesMap[k] , retreivalFileMap[i])"
   ]
  },
  {
   "cell_type": "code",
   "execution_count": 829,
   "metadata": {
    "ExecuteTime": {
     "end_time": "2017-10-27T11:23:36.403019Z",
     "start_time": "2017-10-27T11:23:36.400103Z"
    },
    "collapsed": true
   },
   "outputs": [],
   "source": [
    "def merge_two_dicts(x, y):\n",
    "    z = x.copy()   # start with x's keys and values\n",
    "    z.update(y)    # modifies z with y's keys and values & returns None\n",
    "    return z"
   ]
  },
  {
   "cell_type": "code",
   "execution_count": 718,
   "metadata": {
    "ExecuteTime": {
     "end_time": "2017-10-27T11:13:03.951684Z",
     "start_time": "2017-10-27T11:13:03.943758Z"
    }
   },
   "outputs": [
    {
     "data": {
      "text/plain": [
       "822"
      ]
     },
     "execution_count": 718,
     "metadata": {},
     "output_type": "execute_result"
    }
   ],
   "source": [
    "AllFilesDict = merge_two_dicts(filesMap.copy() , retreivalFileMap.copy())\n",
    "len(AllFilesDict)"
   ]
  },
  {
   "cell_type": "code",
   "execution_count": 703,
   "metadata": {
    "ExecuteTime": {
     "end_time": "2017-10-27T11:12:17.453722Z",
     "start_time": "2017-10-27T11:12:17.211606Z"
    },
    "collapsed": true
   },
   "outputs": [],
   "source": [
    "with open(\"../Data/categoryIndex_places205.csv\" , 'rb') as f:\n",
    "    cats = f.readlines()\n",
    "catDict = {}\n",
    "for c in cats:\n",
    "    comps = c.strip().split(',')\n",
    "    idx = comps[0].split(' ')[1]\n",
    "    lbl = comps[0].split(' ')[0]\n",
    "    catDict[idx] = {}\n",
    "    catDict[idx]['label'] = lbl\n",
    "    catDict[idx]['tnomy'] = comps[-1]"
   ]
  },
  {
   "cell_type": "code",
   "execution_count": 642,
   "metadata": {
    "ExecuteTime": {
     "end_time": "2017-10-26T17:48:07.347553Z",
     "start_time": "2017-10-26T17:36:21.871853Z"
    }
   },
   "outputs": [
    {
     "name": "stdout",
     "output_type": "stream",
     "text": [
      "processing : 513d67e8fdc9f035870041c2\n",
      "processing : 513d6b62fdc9f03587004ce4\n",
      "processing : 513d6a1ffdc9f03587004978\n",
      "processing : 513d6a72fdc9f03587004a7f\n",
      "processing : 513d6ad3fdc9f03587004b7e\n",
      "processing : 513d67e2fdc9f035870041b3\n",
      "processing : 513d6c86fdc9f03587004fb6\n",
      "processing : 513d6ca3fdc9f03587005004\n",
      "processing : 513d6c47fdc9f03587004f1e\n",
      "processing : 513d6911fdc9f035870045c9\n",
      "processing : 513d6b2efdc9f03587004c6d\n",
      "processing : 513d676efdc9f03587004089\n",
      "processing : 513d6927fdc9f03587004622\n",
      "processing : 513d6c2ffdc9f03587004ee2\n",
      "processing : 513d69b8fdc9f0358700481f\n",
      "processing : 513d687afdc9f035870043ad\n",
      "processing : 513d6b99fdc9f03587004d6c\n",
      "processing : 513d69a8fdc9f035870047e9\n",
      "processing : 513d6833fdc9f035870042b1\n",
      "processing : 513d6a46fdc9f035870049ff\n",
      "processing : 513d6975fdc9f03587004730\n",
      "processing : 513d6bc5fdc9f03587004dd1\n",
      "processing : 513d6a44fdc9f035870049f7\n",
      "processing : 513d687cfdc9f035870043b6\n",
      "processing : 513d6ae8fdc9f03587004bb5\n",
      "processing : 513d6a6efdc9f03587004a76\n",
      "processing : 513d67d0fdc9f03587004186\n",
      "processing : 513d69e5fdc9f035870048b1\n",
      "processing : 513d676dfdc9f03587004086\n",
      "processing : 513d6c0bfdc9f03587004e82\n",
      "processing : 513d6a6afdc9f03587004a6a\n",
      "processing : 513d6c0bfdc9f03587004e84\n",
      "processing : 513d6c5bfdc9f03587004f51\n",
      "processing : 513d6c5bfdc9f03587004f53\n",
      "processing : 513d6c68fdc9f03587004f72\n",
      "processing : 513d69f6fdc9f035870048ea\n",
      "processing : 513d68cefdc9f035870044db\n",
      "processing : 513d67c4fdc9f03587004166\n",
      "processing : 513d6bfffdc9f03587004e65\n",
      "processing : 513d69f9fdc9f035870048f3\n",
      "processing : 513d6795fdc9f035870040f3\n",
      "processing : 513d677afdc9f035870040a9\n",
      "processing : 513d699dfdc9f035870047bd\n",
      "processing : 513d6966fdc9f035870046f6\n",
      "processing : 513d699dfdc9f035870047bb\n",
      "processing : 513d6bc8fdc9f03587004dda\n",
      "processing : 513d69c2fdc9f0358700483f\n",
      "processing : 513d67fffdc9f03587004204\n",
      "processing : 513d67fffdc9f03587004202\n",
      "processing : 513d69e0fdc9f035870048a2\n",
      "processing : 513d6a60fdc9f03587004a51\n",
      "processing : 513d6a31fdc9f035870049b5\n",
      "processing : 513d6a6dfdc9f03587004a72\n",
      "processing : 513d6a71fdc9f03587004a7b\n",
      "processing : 513d6c7ffdc9f03587004fa3\n",
      "processing : 513d6b23fdc9f03587004c50\n",
      "processing : 513d6b0efdc9f03587004c1b\n",
      "processing : 513d6afdfdc9f03587004be7\n",
      "processing : 513d67a1fdc9f03587004114\n",
      "processing : 513d6a26fdc9f03587004990\n",
      "processing : 513d6ac5fdc9f03587004b59\n",
      "processing : 513d67a3fdc9f03587004118\n",
      "processing : 513d6900fdc9f0358700458b\n",
      "processing : 513d683afdc9f035870042cd\n",
      "processing : 513d6900fdc9f0358700458e\n",
      "processing : 513d6aeafdc9f03587004bba\n",
      "processing : 513d68bdfdc9f035870044a4\n",
      "processing : 513d6c4afdc9f03587004f25\n",
      "processing : 513d6c4afdc9f03587004f27\n",
      "processing : 513d6becfdc9f03587004e39\n",
      "processing : 513d6a6cfdc9f03587004a70\n",
      "processing : 513d6ae3fdc9f03587004ba6\n",
      "processing : 513d69d1fdc9f0358700487a\n",
      "processing : 513d6aadfdc9f03587004b1e\n",
      "processing : 513d6aa9fdc9f03587004b0e\n",
      "processing : 513d68befdc9f035870044a9\n",
      "processing : 513d67abfdc9f0358700412c\n",
      "processing : 513d6c63fdc9f03587004f64\n",
      "processing : 513d6a2cfdc9f035870049a6\n",
      "processing : 513d6ac5fdc9f03587004b5b\n",
      "processing : 513d6818fdc9f03587004257\n",
      "processing : 513d6921fdc9f0358700460c\n",
      "processing : 513d6b20fdc9f03587004c49\n",
      "processing : 513d6b6ffdc9f03587004d01\n",
      "processing : 513d6b6ffdc9f03587004d02\n",
      "processing : 513d6881fdc9f035870043c8\n",
      "processing : 513d695dfdc9f035870046d8\n",
      "processing : 513d69defdc9f0358700489f\n",
      "processing : 513d6b0efdc9f03587004c19\n",
      "processing : 513d6c17fdc9f03587004ea3\n",
      "processing : 513d6c01fdc9f03587004e6d\n",
      "processing : 513d6c01fdc9f03587004e6b\n",
      "processing : 513d691cfdc9f035870045f6\n",
      "processing : 513d697bfdc9f03587004747\n",
      "processing : 513d68f0fdc9f03587004553\n",
      "processing : 513d6cacfdc9f03587005019\n",
      "processing : 513d6ac2fdc9f03587004b53\n",
      "processing : 513d68ebfdc9f03587004541\n",
      "processing : 513d6b72fdc9f03587004d0a\n",
      "processing : 513d6a77fdc9f03587004a8c\n",
      "processing : 513d6c74fdc9f03587004f8b\n",
      "processing : 513d6867fdc9f03587004366\n",
      "processing : 513d67b6fdc9f03587004145\n",
      "processing : 513d6a49fdc9f03587004a08\n",
      "processing : 513d6784fdc9f035870040c8\n",
      "processing : 513d6a27fdc9f03587004992\n",
      "processing : 513d6c19fdc9f03587004ea8\n",
      "processing : 513d682efdc9f035870042a3\n",
      "processing : 513d6b5bfdc9f03587004cd2\n",
      "processing : 513d6a49fdc9f03587004a05\n",
      "processing : 513d6a1afdc9f03587004966\n",
      "processing : 513d6c11fdc9f03587004e90\n",
      "processing : 513d6c11fdc9f03587004e92\n",
      "processing : 513d69c8fdc9f03587004858\n",
      "processing : 513d6a7bfdc9f03587004a96\n",
      "processing : 513d699cfdc9f035870047b7\n",
      "processing : 513d6934fdc9f03587004651\n",
      "processing : 513d6a1afdc9f03587004968\n",
      "processing : 513d6785fdc9f035870040cb\n",
      "processing : 513d6922fdc9f0358700460e\n",
      "processing : 513d6c3efdc9f03587004f0a\n",
      "processing : 513d6c9dfdc9f03587004ff1\n",
      "processing : 513d6908fdc9f035870045a5\n",
      "processing : 513d6820fdc9f03587004274\n",
      "processing : 513d6ca7fdc9f0358700500b\n",
      "processing : 513d69ecfdc9f035870048ce\n",
      "processing : 513d697bfdc9f0358700474a\n",
      "processing : 513d6780fdc9f035870040bc\n",
      "processing : 513d6772fdc9f03587004094\n",
      "processing : 513d6b49fdc9f03587004ca7\n",
      "processing : 513d6772fdc9f03587004096\n",
      "processing : 513d6a7efdc9f03587004a9b\n",
      "processing : 513d6b49fdc9f03587004ca9\n",
      "processing : 513d6a7efdc9f03587004a9d\n",
      "processing : 513d6cabfdc9f03587005016\n",
      "processing : 513d678dfdc9f035870040df\n",
      "processing : 513d6807fdc9f0358700421f\n",
      "processing : 513d697cfdc9f0358700474e\n",
      "processing : 513d6a78fdc9f03587004a8d\n",
      "processing : 513d6a8bfdc9f03587004ac0\n",
      "processing : 513d67fcfdc9f035870041fa\n",
      "processing : 513d6b5efdc9f03587004cda\n",
      "processing : 513d6972fdc9f03587004724\n",
      "processing : 513d684bfdc9f03587004309\n",
      "processing : 513d6a20fdc9f03587004979\n",
      "processing : 513d685efdc9f0358700434b\n",
      "processing : 513d6c63fdc9f03587004f65\n",
      "processing : 513d67aafdc9f0358700412a\n",
      "processing : 513d6834fdc9f035870042b8\n",
      "processing : 513d6b45fdc9f03587004c9d\n",
      "processing : 513d6bb1fdc9f03587004da6\n",
      "processing : 513d6bb1fdc9f03587004da8\n",
      "processing : 513d6bb6fdc9f03587004db0\n",
      "processing : 513d68dcfdc9f0358700450a\n",
      "processing : 513d6898fdc9f03587004418\n",
      "processing : 513d6783fdc9f035870040c4\n",
      "processing : 513d6c23fdc9f03587004ec5\n",
      "processing : 513d6a08fdc9f03587004922\n",
      "processing : 513d6c50fdc9f03587004f32\n",
      "processing : 513d6a08fdc9f03587004924\n",
      "processing : 513d6866fdc9f03587004363\n",
      "processing : 513d6c36fdc9f03587004ef8\n",
      "processing : 513d6866fdc9f03587004365\n",
      "processing : 513d6963fdc9f035870046ee\n",
      "processing : 513d6a3efdc9f035870049e2\n",
      "processing : 513d68e2fdc9f03587004521\n",
      "processing : 513d68eafdc9f0358700453e\n",
      "processing : 513d6c93fdc9f03587004fd4\n",
      "processing : 513d6ae1fdc9f03587004ba1\n",
      "processing : 513d6ae1fdc9f03587004ba2\n",
      "processing : 513d6956fdc9f035870046be\n",
      "processing : 513d6bd5fdc9f03587004dfa\n",
      "processing : 513d67fefdc9f035870041ff\n",
      "processing : 513d6c79fdc9f03587004f98\n",
      "processing : 513d67bbfdc9f03587004153\n",
      "processing : 513d6971fdc9f03587004721\n",
      "processing : 513d695cfdc9f035870046d4\n",
      "processing : 513d6903fdc9f03587004596\n",
      "processing : 513d68e6fdc9f0358700452e\n",
      "processing : 513d6a75fdc9f03587004a88\n",
      "processing : 513d67b7fdc9f0358700414a\n",
      "processing : 513d6bf3fdc9f03587004e49\n",
      "processing : 513d6ca1fdc9f03587004ffc\n",
      "processing : 513d6895fdc9f0358700440d\n",
      "processing : 513d6ca1fdc9f03587004ffd\n",
      "processing : 513d69bafdc9f03587004827\n",
      "processing : 513d6aacfdc9f03587004b1a\n",
      "processing : 513d6a9afdc9f03587004ae7\n",
      "processing : 513d6a9afdc9f03587004ae6\n",
      "processing : 513d6941fdc9f03587004676\n",
      "processing : 513d6a01fdc9f0358700490f\n",
      "processing : 513d6c3afdc9f03587004efe\n",
      "processing : 513d6a3cfdc9f035870049d8\n",
      "processing : 513d6b52fdc9f03587004cbe\n",
      "processing : 513d679dfdc9f03587004109\n",
      "processing : 513d6a92fdc9f03587004acf\n",
      "processing : 513d6aaefdc9f03587004b20\n",
      "processing : 513d6ac7fdc9f03587004b61\n",
      "processing : 513d6b29fdc9f03587004c60\n",
      "processing : 513d6c8ffdc9f03587004fca\n",
      "processing : 513d6ae5fdc9f03587004bad\n",
      "processing : 513d68a1fdc9f03587004442\n",
      "processing : 513d6ca6fdc9f0358700500a\n",
      "processing : 513d69a2fdc9f035870047d1\n",
      "processing : 513d6c67fdc9f03587004f70\n",
      "processing : 513d6b8afdc9f03587004d44\n",
      "processing : 513d68f2fdc9f0358700455b\n",
      "processing : 513d6b0cfdc9f03587004c14\n",
      "processing : 513d68f2fdc9f0358700455d\n",
      "processing : 513d6b0cfdc9f03587004c12\n",
      "processing : 513d681efdc9f0358700426d\n",
      "processing : 513d6afefdc9f03587004beb\n",
      "processing : 513d681efdc9f0358700426a\n",
      "processing : 513d6797fdc9f035870040f9\n",
      "processing : 513d6be4fdc9f03587004e25\n",
      "processing : 513d6878fdc9f035870043a8\n"
     ]
    },
    {
     "name": "stdout",
     "output_type": "stream",
     "text": [
      "processing : 513d6a8efdc9f03587004ac8\n",
      "processing : 513d67bafdc9f03587004150\n",
      "processing : 513d6a9bfdc9f03587004ae9\n",
      "processing : 513d6b03fdc9f03587004bfa\n",
      "processing : 513d6923fdc9f03587004613\n",
      "processing : 513d6886fdc9f035870043de\n",
      "processing : 513d6923fdc9f03587004610\n",
      "processing : 513d696dfdc9f0358700470e\n",
      "processing : 513d6c6efdc9f03587004f7f\n",
      "processing : 513d6b1efdc9f03587004c44\n",
      "processing : 513d6be0fdc9f03587004e1b\n",
      "processing : 513d6b00fdc9f03587004bf1\n",
      "processing : 513d6879fdc9f035870043aa\n",
      "processing : 513d6b80fdc9f03587004d2d\n",
      "processing : 513d6accfdc9f03587004b6d\n",
      "processing : 513d6896fdc9f0358700440e\n",
      "processing : 513d6b5cfdc9f03587004cd5\n",
      "processing : 513d6a61fdc9f03587004a55\n",
      "processing : 513d6959fdc9f035870046c7\n",
      "processing : 513d678efdc9f035870040e3\n",
      "processing : 513d6841fdc9f035870042ea\n",
      "processing : 513d6b16fdc9f03587004c31\n",
      "processing : 513d6817fdc9f03587004253\n",
      "processing : 513d677efdc9f035870040b5\n",
      "processing : 513d6817fdc9f03587004255\n",
      "processing : 513d6b7cfdc9f03587004d23\n",
      "processing : 513d6abffdc9f03587004b49\n",
      "processing : 513d6a2afdc9f0358700499f\n",
      "processing : 513d69b2fdc9f03587004809\n",
      "processing : 513d6a6bfdc9f03587004a6c\n",
      "processing : 513d6821fdc9f03587004277\n",
      "processing : 513d6a0ffdc9f0358700493e\n",
      "processing : 513d6893fdc9f03587004406\n",
      "processing : 513d6788fdc9f035870040d3\n",
      "processing : 513d6a1efdc9f03587004975\n",
      "processing : 513d67f4fdc9f035870041e4\n",
      "processing : 513d691dfdc9f035870045fa\n",
      "processing : 513d6beefdc9f03587004e3e\n",
      "processing : 513d6b1dfdc9f03587004c41\n",
      "processing : 513d6c12fdc9f03587004e94\n",
      "processing : 513d691dfdc9f035870045fd\n",
      "processing : 513d6883fdc9f035870043d2\n",
      "processing : 513d693bfdc9f0358700466b\n",
      "processing : 513d6ba1fdc9f03587004d81\n",
      "processing : 513d6acffdc9f03587004b74\n",
      "processing : 513d68f8fdc9f03587004571\n",
      "processing : 513d679cfdc9f03587004105\n",
      "processing : 513d6a51fdc9f03587004a22\n",
      "processing : 513d68c6fdc9f035870044c3\n",
      "processing : 513d6a1bfdc9f0358700496a\n",
      "processing : 513d6961fdc9f035870046e7\n",
      "processing : 513d6b68fdc9f03587004cf4\n",
      "processing : 513d6b68fdc9f03587004cf3\n",
      "processing : 513d6a1bfdc9f0358700496d\n",
      "processing : 513d6c16fdc9f03587004ea0\n",
      "processing : 513d6c2ffdc9f03587004ee3\n",
      "processing : 513d6b48fdc9f03587004ca5\n",
      "processing : 513d68f9fdc9f03587004575\n",
      "processing : 513d6c09fdc9f03587004e7f\n",
      "processing : 513d686dfdc9f0358700437d\n",
      "processing : 513d67d0fdc9f03587004183\n",
      "processing : 513d693bfdc9f03587004669\n",
      "processing : 513d6968fdc9f03587004701\n",
      "processing : 513d67a7fdc9f03587004121\n",
      "processing : 513d6aecfdc9f03587004bc0\n",
      "processing : 513d68bdfdc9f035870044a6\n",
      "processing : 513d6910fdc9f035870045c7\n",
      "processing : 513d699efdc9f035870047bf\n",
      "processing : 513d6c59fdc9f03587004f4c\n",
      "processing : 513d6812fdc9f03587004240\n",
      "processing : 513d69fafdc9f035870048f7\n",
      "processing : 513d6ca8fdc9f0358700500f\n",
      "processing : 513d6929fdc9f03587004628\n",
      "processing : 513d6b01fdc9f03587004bf5\n",
      "processing : 513d67edfdc9f035870041d0\n",
      "processing : 513d6a75fdc9f03587004a86\n",
      "processing : 513d6c8dfdc9f03587004fc5\n",
      "processing : 513d691afdc9f035870045f0\n",
      "processing : 513d697dfdc9f03587004755\n",
      "processing : 513d69b8fdc9f03587004821\n",
      "processing : 513d6b7bfdc9f03587004d21\n",
      "processing : 513d67fafdc9f035870041f4\n",
      "processing : 513d67c5fdc9f03587004169\n",
      "processing : 513d6abbfdc9f03587004b3e\n",
      "processing : 513d6979fdc9f0358700473f\n",
      "processing : 513d6b41fdc9f03587004c96\n",
      "processing : 513d6854fdc9f03587004328\n",
      "processing : 513d6c48fdc9f03587004f20\n",
      "processing : 513d6914fdc9f035870045d5\n",
      "processing : 513d6c20fdc9f03587004ebe\n",
      "processing : 513d6ba6fdc9f03587004d8e\n",
      "processing : 513d6831fdc9f035870042ad\n",
      "processing : 513d6c1bfdc9f03587004eac\n",
      "processing : 513d67a8fdc9f03587004127\n",
      "processing : 513d6773fdc9f03587004098\n",
      "processing : 513d6a69fdc9f03587004a67\n",
      "processing : 513d6c1bfdc9f03587004eae\n",
      "processing : 513d6c89fdc9f03587004fbd\n",
      "processing : 513d6897fdc9f03587004416\n",
      "processing : 513d6c89fdc9f03587004fbc\n",
      "processing : 513d6b8bfdc9f03587004d46\n",
      "processing : 513d68cafdc9f035870044cf\n",
      "processing : 513d69d0fdc9f03587004875\n",
      "processing : 513d6c75fdc9f03587004f8d\n",
      "processing : 513d6b0dfdc9f03587004c18\n",
      "processing : 513d6c45fdc9f03587004f19\n",
      "processing : 513d68a4fdc9f03587004448\n",
      "processing : 513d6a2dfdc9f035870049a9\n",
      "processing : 513d6c55fdc9f03587004f41\n",
      "processing : 513d68e1fdc9f0358700451b\n",
      "processing : 513d6971fdc9f0358700471e\n",
      "processing : 513d6c55fdc9f03587004f42\n",
      "processing : 513d67cffdc9f03587004182\n",
      "processing : 513d6aa3fdc9f03587004aff\n",
      "processing : 513d6806fdc9f0358700421c\n",
      "processing : 513d6bdbfdc9f03587004e09\n",
      "processing : 513d69c9fdc9f0358700485a\n",
      "processing : 513d694efdc9f035870046a1\n",
      "processing : 513d69c9fdc9f0358700485c\n",
      "processing : 513d6a2ffdc9f035870049ad\n",
      "processing : 513d690afdc9f035870045ae\n",
      "processing : 513d6b84fdc9f03587004d36\n",
      "processing : 513d6c57fdc9f03587004f46\n",
      "processing : 513d697afdc9f03587004744\n",
      "processing : 513d6953fdc9f035870046b2\n",
      "processing : 513d69b3fdc9f0358700480e\n",
      "processing : 513d6942fdc9f03587004679\n",
      "processing : 513d69d3fdc9f03587004880\n",
      "processing : 513d67a6fdc9f0358700411f\n",
      "processing : 513d692dfdc9f03587004632\n",
      "processing : 513d6b98fdc9f03587004d68\n",
      "processing : 513d6bc7fdc9f03587004dd7\n",
      "processing : 513d6c03fdc9f03587004e71\n",
      "processing : 513d6b61fdc9f03587004ce1\n",
      "processing : 513d6a39fdc9f035870049cd\n",
      "processing : 513d67b2fdc9f0358700413e\n",
      "processing : 513d6780fdc9f035870040ba\n",
      "processing : 513d6880fdc9f035870043c6\n",
      "processing : 513d6a60fdc9f03587004a52\n",
      "processing : 513d6856fdc9f0358700432f\n",
      "processing : 513d68d0fdc9f035870044e2\n",
      "processing : 513d694bfdc9f03587004696\n",
      "processing : 513d6a87fdc9f03587004ab5\n",
      "processing : 513d6b71fdc9f03587004d05\n",
      "processing : 513d6933fdc9f0358700464b\n",
      "processing : 513d690efdc9f035870045be\n",
      "processing : 513d6c5cfdc9f03587004f55\n",
      "processing : 513d67e7fdc9f035870041bf\n",
      "processing : 513d69eefdc9f035870048d4\n",
      "processing : 513d690efdc9f035870045bc\n",
      "processing : 513d6b90fdc9f03587004d53\n",
      "processing : 513d6ae0fdc9f03587004b9d\n",
      "processing : 513d6995fdc9f035870047a2\n",
      "processing : 513d6b93fdc9f03587004d5c\n",
      "processing : 513d6bcafdc9f03587004dde\n",
      "processing : 513d6932fdc9f03587004648\n",
      "processing : 513d6adcfdc9f03587004b92\n",
      "processing : 513d6c14fdc9f03587004e9a\n",
      "processing : 513d69e9fdc9f035870048c3\n",
      "processing : 513d6b13fdc9f03587004c29\n",
      "processing : 513d67c8fdc9f03587004172\n",
      "processing : 513d6c64fdc9f03587004f68\n",
      "processing : 513d6824fdc9f03587004284\n",
      "processing : 513d6c61fdc9f03587004f5f\n",
      "processing : 513d68e6fdc9f03587004531\n",
      "processing : 513d6c64fdc9f03587004f67\n",
      "processing : 513d6950fdc9f035870046a6\n",
      "processing : 513d6956fdc9f035870046c0\n",
      "processing : 513d695efdc9f035870046dc\n",
      "processing : 513d69c5fdc9f0358700484a\n",
      "processing : 513d694dfdc9f0358700469c\n",
      "processing : 513d6994fdc9f0358700479d\n",
      "processing : 513d683ffdc9f035870042e1\n",
      "processing : 513d6bc3fdc9f03587004dcc\n",
      "processing : 513d67ccfdc9f03587004179\n",
      "processing : 513d6931fdc9f03587004642\n",
      "processing : 513d6c5afdc9f03587004f4e\n",
      "processing : 513d6961fdc9f035870046e5\n",
      "processing : 513d6a3bfdc9f035870049d4\n",
      "processing : 513d6933fdc9f03587004649\n",
      "processing : 513d68bffdc9f035870044aa\n",
      "processing : 513d6b9afdc9f03587004d70\n",
      "processing : 513d69bbfdc9f0358700482e\n",
      "processing : 513d6a4bfdc9f03587004a0e\n",
      "processing : 513d696efdc9f03587004712\n",
      "processing : 513d685bfdc9f03587004341\n",
      "processing : 513d6771fdc9f03587004092\n",
      "processing : 513d686efdc9f03587004381\n",
      "processing : 513d6986fdc9f0358700476d\n",
      "processing : 513d6bbafdc9f03587004db8\n",
      "processing : 513d6c84fdc9f03587004fb1\n",
      "processing : 513d69bdfdc9f03587004831\n",
      "processing : 513d6a3ffdc9f035870049e4\n",
      "processing : 513d698efdc9f0358700478b\n",
      "processing : 513d6af4fdc9f03587004bd6\n",
      "processing : 513d6a3ffdc9f035870049e8\n",
      "processing : 513d6ba3fdc9f03587004d86\n",
      "processing : 513d6a72fdc9f03587004a80\n",
      "processing : 513d69e4fdc9f035870048ae\n",
      "processing : 513d6b0ffdc9f03587004c1f\n",
      "processing : 513d691bfdc9f035870045f4\n",
      "processing : 513d6b0ffdc9f03587004c1d\n",
      "processing : 513d684dfdc9f03587004311\n",
      "processing : 513d6a19fdc9f03587004962\n",
      "processing : 513d6bb7fdc9f03587004db1\n",
      "processing : 513d6b65fdc9f03587004ced\n",
      "processing : 513d6af6fdc9f03587004bda\n",
      "processing : 513d6c5dfdc9f03587004f57\n",
      "processing : 513d6998fdc9f035870047ac\n",
      "processing : 513d6b3afdc9f03587004c86\n",
      "processing : 513d6823fdc9f0358700427f\n",
      "processing : 513d68a2fdc9f03587004444\n",
      "processing : 513d6a2ffdc9f035870049b0\n",
      "processing : 513d6a9efdc9f03587004af1\n",
      "processing : 513d6a1dfdc9f03587004973\n",
      "processing : 513d67c6fdc9f0358700416d\n",
      "processing : 513d69dbfdc9f03587004895\n",
      "processing : 513d6bd6fdc9f03587004dfe\n",
      "processing : 513d6be7fdc9f03587004e2d\n",
      "processing : 513d6813fdc9f03587004245\n",
      "processing : 513d698afdc9f03587004780\n",
      "processing : 513d6a79fdc9f03587004a91\n",
      "processing : 513d697cfdc9f03587004750\n",
      "processing : 513d68ccfdc9f035870044d7\n",
      "processing : 513d6c51fdc9f03587004f34\n",
      "processing : 513d6a37fdc9f035870049c4\n",
      "processing : 513d6810fdc9f03587004238\n",
      "processing : 513d6a37fdc9f035870049c6\n",
      "processing : 513d69f0fdc9f035870048d8\n",
      "processing : 513d69cffdc9f03587004871\n",
      "processing : 513d6b7bfdc9f03587004d1f\n",
      "processing : 513d6bb8fdc9f03587004db3\n",
      "processing : 513d6acefdc9f03587004b71\n",
      "processing : 513d6930fdc9f0358700463f\n",
      "processing : 513d6c57fdc9f03587004f48\n",
      "processing : 513d6937fdc9f0358700465f\n",
      "processing : 513d6a93fdc9f03587004ad2\n",
      "processing : 513d6ae9fdc9f03587004bb8\n",
      "processing : 513d68fffdc9f03587004589\n",
      "processing : 513d6a93fdc9f03587004ad4\n",
      "processing : 513d689ffdc9f0358700443a\n",
      "processing : 513d6974fdc9f03587004728\n",
      "processing : 513d68b7fdc9f0358700448c\n",
      "processing : 513d68d3fdc9f035870044ec\n",
      "processing : 513d68b7fdc9f0358700448a\n",
      "processing : 513d6ae9fdc9f03587004bb6\n",
      "processing : 513d6b38fdc9f03587004c82\n",
      "processing : 513d6b38fdc9f03587004c80\n",
      "processing : 513d682afdc9f03587004298\n",
      "processing : 513d6796fdc9f035870040f5\n",
      "processing : 513d6991fdc9f03587004794\n",
      "processing : 513d682afdc9f03587004296\n",
      "processing : 513d6890fdc9f035870043fc\n",
      "processing : 513d6864fdc9f0358700435f\n",
      "processing : 513d6a9cfdc9f03587004aed\n",
      "processing : 513d696dfdc9f03587004711\n",
      "processing : 513d69dcfdc9f03587004898\n",
      "processing : 513d6a99fdc9f03587004ae4\n",
      "processing : 513d68adfdc9f03587004465\n",
      "processing : 513d6945fdc9f03587004683\n",
      "processing : 513d69cafdc9f0358700485d\n",
      "processing : 513d68f8fdc9f0358700456f\n",
      "processing : 513d68b5fdc9f03587004483\n",
      "processing : 513d6c81fdc9f03587004faa\n",
      "processing : 513d6b5ffdc9f03587004cde\n",
      "processing : 513d6924fdc9f03587004616\n",
      "processing : 513d6987fdc9f03587004771\n",
      "processing : 513d6a58fdc9f03587004a39\n",
      "processing : 513d6c3bfdc9f03587004f01\n",
      "processing : 513d6be8fdc9f03587004e2f\n",
      "processing : 513d697ffdc9f03587004759\n",
      "processing : 513d6974fdc9f0358700472b\n",
      "processing : 513d67e9fdc9f035870041c5\n",
      "processing : 513d688dfdc9f035870043f4\n",
      "processing : 513d689bfdc9f03587004424\n",
      "processing : 513d6c2afdc9f03587004ed4\n",
      "processing : 513d6a58fdc9f03587004a37\n",
      "processing : 513d6ad0fdc9f03587004b77\n",
      "processing : 513d68f4fdc9f03587004562\n",
      "processing : 513d6a50fdc9f03587004a1d\n",
      "processing : 513d689ffdc9f03587004437\n",
      "processing : 513d691ffdc9f03587004604\n",
      "processing : 513d6c4bfdc9f03587004f29\n",
      "processing : 513d6b72fdc9f03587004d08\n",
      "processing : 513d6abefdc9f03587004b47\n",
      "processing : 513d6b63fdc9f03587004ce7\n",
      "processing : 513d6abefdc9f03587004b45\n",
      "processing : 513d6775fdc9f035870040a0\n",
      "processing : 513d67f6fdc9f035870041e7\n",
      "processing : 513d6c33fdc9f03587004eee\n",
      "processing : 513d69fbfdc9f035870048f8\n",
      "processing : 513d67f6fdc9f035870041e9\n",
      "processing : 513d6a0dfdc9f03587004937\n",
      "processing : 513d69f8fdc9f035870048f1\n",
      "processing : 513d6b94fdc9f03587004d5f\n",
      "processing : 513d6b64fdc9f03587004ce9\n",
      "processing : 513d6b43fdc9f03587004c9b\n",
      "processing : 513d688ffdc9f035870043f7\n",
      "processing : 513d678bfdc9f035870040db\n",
      "processing : 513d6c15fdc9f03587004e9f\n",
      "processing : 513d6a8cfdc9f03587004ac2\n",
      "processing : 513d6b88fdc9f03587004d3e\n",
      "processing : 513d6b6bfdc9f03587004cf8\n",
      "processing : 513d6a0bfdc9f03587004930\n",
      "processing : 513d679efdc9f0358700410b\n",
      "processing : 513d69fcfdc9f035870048fe\n",
      "processing : 513d6b3efdc9f03587004c90\n",
      "processing : 513d6a11fdc9f03587004945\n",
      "processing : 513d68b1fdc9f03587004473\n",
      "processing : 513d67e5fdc9f035870041bb\n",
      "processing : 513d6a54fdc9f03587004a28\n",
      "processing : 513d6b7dfdc9f03587004d27\n",
      "processing : 513d6b7dfdc9f03587004d25\n",
      "processing : 513d6c83fdc9f03587004faf\n",
      "processing : 513d6a3dfdc9f035870049dc\n",
      "processing : 513d69abfdc9f035870047f3\n",
      "processing : 513d69f2fdc9f035870048de\n",
      "processing : 513d6bbcfdc9f03587004dbc\n",
      "processing : 513d67b5fdc9f03587004143\n",
      "processing : 513d6c72fdc9f03587004f88\n",
      "processing : 513d6845fdc9f035870042f7\n",
      "processing : 513d6baafdc9f03587004d97\n",
      "processing : 513d6b04fdc9f03587004bfd\n",
      "processing : 513d6958fdc9f035870046c6\n",
      "processing : 513d6b22fdc9f03587004c4e\n",
      "processing : 513d6958fdc9f035870046c4\n",
      "processing : 513d6b96fdc9f03587004d63\n",
      "processing : 513d6b43fdc9f03587004c99\n",
      "processing : 513d6a95fdc9f03587004ad9\n",
      "processing : 513d6919fdc9f035870045ea\n",
      "processing : 513d6c69fdc9f03587004f75\n",
      "processing : 513d689dfdc9f03587004431\n",
      "processing : 513d69d4fdc9f03587004884\n",
      "processing : 513d6aadfdc9f03587004b1c\n",
      "processing : 513d6c2cfdc9f03587004eda\n",
      "processing : 513d6876fdc9f0358700439f\n",
      "processing : 513d6aaafdc9f03587004b12\n",
      "processing : 513d692cfdc9f0358700462f\n",
      "processing : 513d68fbfdc9f0358700457c\n",
      "processing : 513d6be3fdc9f03587004e21\n",
      "processing : 513d6c53fdc9f03587004f3a\n",
      "processing : 513d6773fdc9f0358700409a\n",
      "processing : 513d6bfcfdc9f03587004e5f\n",
      "processing : 513d6beffdc9f03587004e42\n",
      "processing : 513d6bfcfdc9f03587004e5d\n",
      "processing : 513d6bf5fdc9f03587004e4d\n",
      "processing : 513d6b11fdc9f03587004c22\n",
      "processing : 513d6829fdc9f03587004294\n",
      "processing : 513d6ad8fdc9f03587004b89\n",
      "processing : 513d6ca2fdc9f03587004fff\n",
      "processing : 513d67cdfdc9f0358700417b\n",
      "processing : 513d685dfdc9f03587004348\n",
      "processing : 513d6a4cfdc9f03587004a13\n",
      "processing : 513d68fafdc9f03587004579\n",
      "processing : 513d6a87fdc9f03587004ab3\n",
      "processing : 513d6ab4fdc9f03587004b30\n",
      "processing : 513d6b30fdc9f03587004c70\n",
      "processing : 513d6b75fdc9f03587004d12\n",
      "processing : 513d6a12fdc9f03587004949\n",
      "processing : 513d69b4fdc9f03587004811\n",
      "processing : 513d69b4fdc9f03587004814\n",
      "processing : 513d6960fdc9f035870046e3\n",
      "processing : 513d69a7fdc9f035870047e3\n",
      "processing : 513d6bebfdc9f03587004e37\n",
      "processing : 513d6912fdc9f035870045ce\n",
      "processing : 513d69a7fdc9f035870047e6\n",
      "processing : 513d68d6fdc9f035870044f5\n",
      "processing : 513d6b8dfdc9f03587004d4d\n",
      "processing : 513d6b8dfdc9f03587004d4e\n",
      "processing : 513d6c8ffdc9f03587004fcc\n",
      "processing : 513d6875fdc9f03587004398\n",
      "processing : 513d6ba4fdc9f03587004d8a\n",
      "processing : 513d67b9fdc9f0358700414e\n",
      "processing : 513d6c9efdc9f03587004ff5\n",
      "processing : 513d6a16fdc9f03587004959\n",
      "processing : 513d69ccfdc9f03587004863\n",
      "processing : 513d6811fdc9f0358700423f\n",
      "processing : 513d6bdcfdc9f03587004e0e\n",
      "processing : 513d69ccfdc9f03587004865\n",
      "processing : 513d68fefdc9f03587004584\n",
      "processing : 513d6a5bfdc9f03587004a42\n",
      "processing : 513d6812fdc9f03587004242\n",
      "processing : 513d6c28fdc9f03587004ed0\n",
      "processing : 513d6782fdc9f035870040c2\n",
      "processing : 513d685ffdc9f03587004350\n",
      "processing : 513d6a82fdc9f03587004aa7\n",
      "processing : 513d6897fdc9f03587004414\n",
      "processing : 513d6aeefdc9f03587004bc5\n",
      "processing : 513d6a15fdc9f03587004953\n",
      "processing : 513d6b77fdc9f03587004d16\n",
      "processing : 513d6b57fdc9f03587004cc8\n",
      "processing : 513d6b09fdc9f03587004c0b\n",
      "processing : 513d6b02fdc9f03587004bf8\n",
      "processing : 513d6a05fdc9f03587004919\n",
      "processing : 513d69d7fdc9f0358700488d\n",
      "processing : 513d69cbfdc9f03587004862\n",
      "processing : 513d6846fdc9f035870042fb\n",
      "processing : 513d67aefdc9f03587004134\n",
      "processing : 513d6ba5fdc9f03587004d8c\n",
      "processing : 513d6885fdc9f035870043db\n",
      "processing : 513d69eafdc9f035870048c7\n",
      "processing : 513d6a9dfdc9f03587004aef\n",
      "processing : 513d68c1fdc9f035870044af\n",
      "processing : 513d6bb3fdc9f03587004dab\n",
      "processing : 513d69fffdc9f03587004907\n",
      "processing : 513d69c5fdc9f03587004849\n",
      "processing : 513d697efdc9f03587004757\n",
      "processing : 513d6a5efdc9f03587004a4e\n",
      "processing : 513d6b12fdc9f03587004c25\n",
      "processing : 513d6bcafdc9f03587004de0\n",
      "processing : 513d67ecfdc9f035870041cd\n",
      "processing : 513d6ac1fdc9f03587004b4f\n",
      "processing : 513d6a26fdc9f0358700498d\n",
      "processing : 513d6c78fdc9f03587004f96\n",
      "processing : 513d6c95fdc9f03587004fdd\n",
      "processing : 513d6a83fdc9f03587004aa9\n",
      "processing : 513d6aa3fdc9f03587004b01\n",
      "processing : 513d681dfdc9f03587004269\n",
      "processing : 513d6b9afdc9f03587004d6e\n",
      "processing : 513d6a02fdc9f03587004911\n",
      "processing : 513d6a13fdc9f0358700494b\n",
      "processing : 513d6902fdc9f03587004594\n",
      "processing : 513d67e3fdc9f035870041b6\n",
      "processing : 513d6791fdc9f035870040ea\n",
      "processing : 513d6a17fdc9f0358700495c\n",
      "processing : 513d6781fdc9f035870040bf\n",
      "processing : 513d6c34fdc9f03587004ef2\n",
      "processing : 513d6873fdc9f03587004393\n",
      "processing : 513d69a3fdc9f035870047d8\n",
      "processing : 513d677ffdc9f035870040b8\n",
      "processing : 513d69a3fdc9f035870047d5\n"
     ]
    },
    {
     "name": "stdout",
     "output_type": "stream",
     "text": [
      "processing : 513d6b25fdc9f03587004c52\n",
      "processing : 513d6951fdc9f035870046a8\n",
      "processing : 513d6bf9fdc9f03587004e58\n",
      "processing : 513d684afdc9f03587004306\n",
      "processing : 513d6b1ffdc9f03587004c46\n",
      "processing : 513d6ae4fdc9f03587004bab\n",
      "processing : 513d6c62fdc9f03587004f61\n",
      "processing : 513d6989fdc9f0358700477a\n",
      "processing : 513d6b1ffdc9f03587004c48\n",
      "processing : 513d6bddfdc9f03587004e11\n",
      "processing : 513d69c6fdc9f0358700484d\n",
      "processing : 513d6aa9fdc9f03587004b10\n",
      "processing : 513d6984fdc9f03587004768\n",
      "processing : 513d69c6fdc9f0358700484c\n",
      "processing : 513d6b73fdc9f03587004d0d\n",
      "processing : 513d6a86fdc9f03587004ab1\n",
      "processing : 513d6779fdc9f035870040a7\n",
      "processing : 513d6a59fdc9f03587004a3c\n",
      "processing : 513d68fffdc9f03587004587\n",
      "processing : 513d6af3fdc9f03587004bd3\n",
      "processing : 513d6851fdc9f03587004321\n",
      "processing : 513d67c4fdc9f03587004167\n",
      "processing : 513d6b14fdc9f03587004c2d\n",
      "processing : 513d68d8fdc9f035870044fc\n",
      "processing : 513d6b14fdc9f03587004c2b\n",
      "processing : 513d676ffdc9f0358700408c\n",
      "processing : 513d68aefdc9f0358700446c\n",
      "processing : 513d6b47fdc9f03587004ca2\n",
      "processing : 513d6af9fdc9f03587004bde\n",
      "processing : 513d67affdc9f03587004136\n",
      "processing : 513d67c3fdc9f03587004164\n",
      "processing : 513d682dfdc9f035870042a0\n",
      "processing : 513d67ddfdc9f035870041a8\n",
      "processing : 513d6a98fdc9f03587004ae2\n",
      "processing : 513d6aa2fdc9f03587004afd\n",
      "processing : 513d67dffdc9f035870041ab\n",
      "processing : 513d6b80fdc9f03587004d2f\n",
      "processing : 513d67fbfdc9f035870041f6\n",
      "processing : 513d6a1cfdc9f0358700496f\n",
      "processing : 513d6c6efdc9f03587004f81\n",
      "processing : 513d6acbfdc9f03587004b6b\n",
      "processing : 513d6a88fdc9f03587004ab7\n",
      "processing : 513d6b31fdc9f03587004c73\n",
      "processing : 513d6ab2fdc9f03587004b2a\n",
      "processing : 513d6b31fdc9f03587004c71\n",
      "processing : 513d683cfdc9f035870042d4\n",
      "processing : 513d6850fdc9f0358700431f\n",
      "processing : 513d6a04fdc9f03587004916\n",
      "processing : 513d6c53fdc9f03587004f3c\n",
      "processing : 513d6c8cfdc9f03587004fc4\n",
      "processing : 513d681afdc9f0358700425e\n",
      "processing : 513d6977fdc9f03587004739\n",
      "processing : 513d69ebfdc9f035870048ca\n",
      "processing : 513d6906fdc9f0358700459f\n",
      "processing : 513d67f3fdc9f035870041e0\n",
      "processing : 513d6ad6fdc9f03587004b83\n",
      "processing : 513d6ac9fdc9f03587004b66\n",
      "processing : 513d6c3cfdc9f03587004f04\n",
      "processing : 513d6c3cfdc9f03587004f06\n",
      "processing : 513d69ecfdc9f035870048cb\n",
      "processing : 513d6ac9fdc9f03587004b64\n",
      "processing : 513d6857fdc9f03587004334\n",
      "processing : 513d6918fdc9f035870045e7\n",
      "processing : 513d6a85fdc9f03587004aad\n",
      "processing : 513d6b15fdc9f03587004c2e\n",
      "processing : 513d69d5fdc9f03587004886\n",
      "processing : 513d6835fdc9f035870042bd\n",
      "processing : 513d68a7fdc9f03587004454\n",
      "processing : 513d6a5afdc9f03587004a3f\n",
      "processing : 513d690dfdc9f035870045b8\n",
      "processing : 513d6c15fdc9f03587004e9c\n",
      "processing : 513d6946fdc9f03587004687\n",
      "processing : 513d69b7fdc9f0358700481d\n",
      "processing : 513d686ffdc9f03587004385\n",
      "processing : 513d6abafdc9f03587004b3c\n",
      "processing : 513d688afdc9f035870043ea\n",
      "processing : 513d69adfdc9f035870047fc\n",
      "processing : 513d686ffdc9f03587004383\n",
      "processing : 513d69c1fdc9f0358700483c\n",
      "processing : 513d6b24fdc9f03587004c51\n",
      "processing : 513d6bc6fdc9f03587004dd3\n",
      "processing : 513d6858fdc9f03587004336\n",
      "processing : 513d697dfdc9f03587004752\n",
      "processing : 513d6aa4fdc9f03587004b03\n",
      "processing : 513d68f9fdc9f03587004573\n",
      "processing : 513d68c9fdc9f035870044cc\n",
      "processing : 513d6aa4fdc9f03587004b05\n",
      "processing : 513d6912fdc9f035870045d0\n",
      "processing : 513d6774fdc9f0358700409c\n",
      "processing : 513d6c9afdc9f03587004fe9\n",
      "processing : 513d68b3fdc9f0358700447d\n",
      "processing : 513d6b50fdc9f03587004cb9\n",
      "processing : 513d6842fdc9f035870042ec\n",
      "processing : 513d687efdc9f035870043c1\n",
      "processing : 513d6b39fdc9f03587004c84\n",
      "processing : 513d6920fdc9f03587004607\n",
      "processing : 513d6793fdc9f035870040f0\n",
      "processing : 513d6ba8fdc9f03587004d94\n",
      "processing : 513d6b2afdc9f03587004c64\n",
      "processing : 513d68edfdc9f03587004548\n",
      "processing : 513d67a4fdc9f0358700411a\n",
      "processing : 513d6bd1fdc9f03587004df1\n",
      "processing : 513d6aeffdc9f03587004bc8\n",
      "processing : 513d681ffdc9f03587004271\n",
      "processing : 513d6ae0fdc9f03587004b9f\n",
      "processing : 513d68edfdc9f03587004546\n",
      "processing : 513d6872fdc9f0358700438c\n",
      "processing : 513d6bf6fdc9f03587004e51\n",
      "processing : 513d6a64fdc9f03587004a5b\n",
      "processing : 513d6872fdc9f0358700438e\n",
      "processing : 513d6c1ffdc9f03587004eb9\n",
      "processing : 513d676dfdc9f03587004088\n",
      "processing : 513d685afdc9f0358700433c\n",
      "processing : 513d6b4bfdc9f03587004cac\n",
      "processing : 513d67a6fdc9f03587004120\n",
      "processing : 513d6c32fdc9f03587004eeb\n",
      "processing : 513d6888fdc9f035870043e4\n",
      "processing : 513d67f4fdc9f035870041e3\n",
      "processing : 513d6792fdc9f035870040ee\n",
      "processing : 513d69a6fdc9f035870047e1\n",
      "processing : 513d6c32fdc9f03587004eed\n",
      "processing : 513d688ffdc9f035870043f9\n",
      "processing : 513d6bc1fdc9f03587004dc7\n",
      "processing : 513d69f1fdc9f035870048dc\n",
      "processing : 513d6c8bfdc9f03587004fc1\n",
      "processing : 513d6838fdc9f035870042c7\n",
      "processing : 513d6b29fdc9f03587004c5e\n",
      "processing : 513d687dfdc9f035870043ba\n",
      "processing : 513d6b7afdc9f03587004d1d\n",
      "processing : 513d6928fdc9f03587004624\n",
      "processing : 513d6a29fdc9f0358700499d\n",
      "processing : 513d6a29fdc9f0358700499b\n",
      "processing : 513d6bf1fdc9f03587004e45\n",
      "processing : 513d68e0fdc9f03587004519\n",
      "processing : 513d6bd0fdc9f03587004dee\n",
      "processing : 513d678ffdc9f035870040e6\n",
      "processing : 513d6822fdc9f03587004279\n",
      "processing : 513d6ad7fdc9f03587004b87\n",
      "processing : 513d67cefdc9f0358700417f\n",
      "processing : 513d6926fdc9f0358700461c\n",
      "processing : 513d6aedfdc9f03587004bc3\n",
      "processing : 513d6977fdc9f03587004736\n",
      "processing : 513d679cfdc9f03587004107\n",
      "processing : 513d67d2fdc9f0358700418b\n",
      "processing : 513d67d2fdc9f0358700418a\n",
      "processing : 513d6b8cfdc9f03587004d4b\n",
      "processing : 513d6bcefdc9f03587004dea\n",
      "processing : 513d6ad5fdc9f03587004b81\n",
      "processing : 513d68dffdc9f03587004516\n",
      "processing : 513d6868fdc9f0358700436d\n",
      "processing : 513d68dffdc9f03587004514\n",
      "processing : 513d6c90fdc9f03587004fcf\n",
      "processing : 513d6c2dfdc9f03587004edc\n",
      "processing : 513d69bdfdc9f03587004833\n",
      "processing : 513d6786fdc9f035870040cf\n",
      "processing : 513d6c6afdc9f03587004f77\n",
      "processing : 513d6978fdc9f0358700473d\n",
      "processing : 513d6909fdc9f035870045aa\n",
      "processing : 513d6822fdc9f0358700427c\n",
      "processing : 513d6b2afdc9f03587004c62\n",
      "processing : 513d6afcfdc9f03587004be6\n",
      "processing : 513d683efdc9f035870042db\n",
      "processing : 513d6aa6fdc9f03587004b09\n",
      "processing : 513d67d1fdc9f03587004187\n",
      "processing : 513d692efdc9f03587004638\n",
      "processing : 513d68bbfdc9f0358700449a\n",
      "processing : 513d6b28fdc9f03587004c5c\n",
      "processing : 513d69f3fdc9f035870048e2\n",
      "processing : 513d68aafdc9f0358700445c\n",
      "processing : 513d6b6cfdc9f03587004cfa\n",
      "processing : 513d6b6cfdc9f03587004cfc\n",
      "processing : 513d689dfdc9f0358700442f\n",
      "processing : 513d6806fdc9f0358700421a\n",
      "processing : 513d6c52fdc9f03587004f38\n",
      "processing : 513d696cfdc9f0358700470c\n"
     ]
    }
   ],
   "source": [
    "# mapper = {'W':'Walkable' , 'L' : 'Landmark' , 'A' : 'Architectural' , 'N' : 'Natural' }\n",
    "# for k in AllFilesDict:\n",
    "#     print \"processing : \" + k\n",
    "#     arr = getPlaces(AllFilesDict[k]['path'])\n",
    "#     probs = np.squeeze(arr)\n",
    "#     topArgs = probs.argsort()[-5:][::-1]\n",
    "#     labelList = []\n",
    "#     TnomyCount = {'Walkable' : 0 , 'Landmark': 0 , 'Architectural' : 0 , 'Natural' : 0}\n",
    "#     for i in topArgs:\n",
    "#         key = str(i)\n",
    "#         if catDict[key]['tnomy'] != '':\n",
    "#             tnomy = catDict[key]['tnomy']\n",
    "#             TnomyCount[mapper[tnomy]]+=1\n",
    "#         labelList.append(catDict[key]['label'])\n",
    "#     AllFilesDict[k]['Top5PlaceLabels'] = labelList\n",
    "#     AllFilesDict[k]['TnomyScores'] = dict()\n",
    "#     AllFilesDict[k]['TnomyScores'] = TnomyCount\n",
    "    \n",
    "            "
   ]
  },
  {
   "cell_type": "code",
   "execution_count": 645,
   "metadata": {
    "ExecuteTime": {
     "end_time": "2017-10-26T17:50:01.989805Z",
     "start_time": "2017-10-26T17:50:01.986119Z"
    },
    "collapsed": true
   },
   "outputs": [],
   "source": [
    "# AllFilesDictBkp = AllFilesDict.copy()"
   ]
  },
  {
   "cell_type": "code",
   "execution_count": 664,
   "metadata": {
    "ExecuteTime": {
     "end_time": "2017-10-26T18:45:19.142900Z",
     "start_time": "2017-10-26T18:45:19.045610Z"
    },
    "collapsed": true
   },
   "outputs": [],
   "source": [
    "# finalScoreDict = {}\n",
    "# for k in AllFilesDict:\n",
    "#     finalScoreDict[k] = dict()\n",
    "#     labels = ['Sky', 'Building', 'Pole','Road Marking','Road','Pavement','Tree','Sign Symbol','Fence','Vehicle','Pedestrian', 'Bike']\n",
    "#     skyscore = 0\n",
    "#     greenscore = 0\n",
    "#     if 0.0 in AllFilesDict[k]['segnet']:\n",
    "#         if AllFilesDict[k]['segnet'][0.0] > 0.0 and AllFilesDict[k]['segnet'][0.0] <= 0.1:\n",
    "#             skyscore = 1\n",
    "#         elif AllFilesDict[k]['segnet'][0.0] > 0.1 and AllFilesDict[k]['segnet'][0.0] <= 0.2:\n",
    "#             skyscore = 2\n",
    "#         elif AllFilesDict[k]['segnet'][0.0] > 0.2 and AllFilesDict[k]['segnet'][0.0] <= 0.3:\n",
    "#             skyscore = 3\n",
    "#         elif AllFilesDict[k]['segnet'][0.0] > 0.3 and AllFilesDict[k]['segnet'][0.0] <= 0.4: \n",
    "#             skyscore = 4\n",
    "#         else:\n",
    "#             skyscore = 5\n",
    "    \n",
    "#     if 6.0 in AllFilesDict[k]['segnet']:\n",
    "#         if AllFilesDict[k]['segnet'][6.0] > 0.0 and AllFilesDict[k]['segnet'][6.0] <= 0.1:\n",
    "#             greenscore = 1\n",
    "#         elif AllFilesDict[k]['segnet'][6.0] > 0.1 and AllFilesDict[k]['segnet'][6.0] <= 0.2:\n",
    "#             greenscore = 2\n",
    "#         elif AllFilesDict[k]['segnet'][6.0] > 0.2 and AllFilesDict[k]['segnet'][6.0] <= 0.3:\n",
    "#             greenscore = 3\n",
    "#         elif AllFilesDict[k]['segnet'][6.0] > 0.3 and AllFilesDict[k]['segnet'][6.0] <= 0.4: \n",
    "#             greenscore = 4\n",
    "#         else:\n",
    "#             greenscore = 5\n",
    "    \n",
    "#     finalScoreDict[k]['Openness'] = skyscore\n",
    "#     finalScoreDict[k]['GreenCover'] = greenscore\n",
    "#     finalScoreDict[k]['Top5PlaceLabels'] = AllFilesDict[k]['Top5PlaceLabels']\n",
    "#     finalScoreDict[k]['TnomyScores'] = AllFilesDict[k]['TnomyScores']\n",
    "#     finalScoreDict[k]['segnet'] = dict()\n",
    "#     for l in AllFilesDict[k]['segnet'] :\n",
    "#         finalScoreDict[k]['segnet'][labels[int(l)]] = AllFilesDict[k]['segnet'][l]\n",
    "    \n",
    "    "
   ]
  },
  {
   "cell_type": "code",
   "execution_count": 666,
   "metadata": {
    "ExecuteTime": {
     "end_time": "2017-10-26T18:45:34.936499Z",
     "start_time": "2017-10-26T18:45:34.928725Z"
    }
   },
   "outputs": [
    {
     "data": {
      "text/plain": [
       "{'GreenCover': 4,\n",
       " 'Openness': 1,\n",
       " 'TnomyScores': {'Architectural': 4,\n",
       "  'Landmark': 0,\n",
       "  'Natural': 0,\n",
       "  'Walkable': 1},\n",
       " 'Top5PlaceLabels': ['/r/residential_neighborhood',\n",
       "  '/a/alley',\n",
       "  '/h/highway',\n",
       "  '/d/driveway',\n",
       "  '/a/apartment_building/outdoor'],\n",
       " 'segnet': {'Building': 0.2206423611111111,\n",
       "  'Fence': 0.0015972222222222223,\n",
       "  'Pavement': 0.06767361111111111,\n",
       "  'Pedestrian': 0.001105324074074074,\n",
       "  'Pole': 0.014953703703703703,\n",
       "  'Road': 0.16626736111111112,\n",
       "  'Road Marking': 0.004774305555555556,\n",
       "  'Sign Symbol': 5.787037037037037e-05,\n",
       "  'Sky': 0.035549768518518515,\n",
       "  'Tree': 0.3849826388888889,\n",
       "  'Vehicle': 0.10239583333333334}}"
      ]
     },
     "execution_count": 666,
     "metadata": {},
     "output_type": "execute_result"
    }
   ],
   "source": [
    "finalScoreDict[finalScoreDict.keys()[10]]"
   ]
  },
  {
   "cell_type": "code",
   "execution_count": 667,
   "metadata": {
    "ExecuteTime": {
     "end_time": "2017-10-26T18:45:41.875847Z",
     "start_time": "2017-10-26T18:45:41.770164Z"
    },
    "collapsed": true
   },
   "outputs": [],
   "source": [
    "# import json\n",
    "# with open('bostonScores.json', 'w') as fp:\n",
    "#     json.dump(finalScoreDict, fp)"
   ]
  },
  {
   "cell_type": "code",
   "execution_count": 525,
   "metadata": {
    "ExecuteTime": {
     "end_time": "2017-10-24T19:14:46.693338Z",
     "start_time": "2017-10-24T19:14:46.688599Z"
    },
    "collapsed": true
   },
   "outputs": [],
   "source": [
    "#distanceMapper[distanceMapper.keys()[0]]"
   ]
  },
  {
   "cell_type": "markdown",
   "metadata": {},
   "source": [
    "### Create a dictionary to store the final matching results with original and top 5 matches"
   ]
  },
  {
   "cell_type": "code",
   "execution_count": 841,
   "metadata": {
    "ExecuteTime": {
     "end_time": "2017-10-27T11:24:15.653229Z",
     "start_time": "2017-10-27T11:24:15.606743Z"
    },
    "collapsed": true
   },
   "outputs": [],
   "source": [
    "import operator\n",
    "top5s = {}\n",
    "for k in distanceMapper:\n",
    "    top5s[k]=sorted(distanceMapper[k].items(), key=operator.itemgetter(1))[:5]\n",
    "    "
   ]
  },
  {
   "cell_type": "code",
   "execution_count": 842,
   "metadata": {
    "ExecuteTime": {
     "end_time": "2017-10-27T11:24:16.006448Z",
     "start_time": "2017-10-27T11:24:15.999986Z"
    }
   },
   "outputs": [
    {
     "data": {
      "text/plain": [
       "[('513d67d2fdc9f0358700418b', 27.617597579956055),\n",
       " ('513d6c9dfdc9f03587004ff1', 28.07564353942871),\n",
       " ('513d68ccfdc9f035870044d7', 28.148910522460938),\n",
       " ('513d6771fdc9f03587004092', 28.299213409423828),\n",
       " ('513d6b88fdc9f03587004d3e', 28.676267623901367)]"
      ]
     },
     "execution_count": 842,
     "metadata": {},
     "output_type": "execute_result"
    }
   ],
   "source": [
    "top5s[top5s.keys()[1]]"
   ]
  },
  {
   "cell_type": "code",
   "execution_count": 843,
   "metadata": {
    "ExecuteTime": {
     "end_time": "2017-10-27T11:24:16.499605Z",
     "start_time": "2017-10-27T11:24:16.496260Z"
    },
    "collapsed": true
   },
   "outputs": [],
   "source": [
    "# index = pd.Series(range(len(filesMap.keys())))\n",
    "# column = ['key' , 'origPath' ,'XformPath' , 'Top5Keys' , 'Top5Paths']"
   ]
  },
  {
   "cell_type": "code",
   "execution_count": 844,
   "metadata": {
    "ExecuteTime": {
     "end_time": "2017-10-27T11:24:17.164467Z",
     "start_time": "2017-10-27T11:24:17.159329Z"
    }
   },
   "outputs": [
    {
     "data": {
      "text/plain": [
       "127"
      ]
     },
     "execution_count": 844,
     "metadata": {},
     "output_type": "execute_result"
    }
   ],
   "source": [
    "len(filesMap)"
   ]
  },
  {
   "cell_type": "code",
   "execution_count": 845,
   "metadata": {
    "ExecuteTime": {
     "end_time": "2017-10-27T11:24:17.559949Z",
     "start_time": "2017-10-27T11:24:17.550306Z"
    }
   },
   "outputs": [
    {
     "data": {
      "text/plain": [
       "{'GreenCover': 4,\n",
       " 'Openness': 2,\n",
       " 'TnomyScores': {'Architectural': 0,\n",
       "  'Landmark': 0,\n",
       "  'Natural': 0,\n",
       "  'Walkable': 4},\n",
       " 'Top5PlaceLabels': ['/p/patio',\n",
       "  '/a/alley',\n",
       "  '/c/courtyard',\n",
       "  '/c/cottage_garden',\n",
       "  '/l/lobby'],\n",
       " 'act': '0.480963',\n",
       " 'changeLabel': '1',\n",
       " 'label': 0,\n",
       " 'origPath': '/work/sagarj/Work/BellLabs/streetview/PPImages/513d679dfdc9f03587004109.jpg',\n",
       " 'path': '/datasets/sagarj/streetView/Transform_Boston150/513d679dfdc9f03587004109_0001_0.480963_.jpg',\n",
       " 'placesFeats': array([[ 0.41810766,  0.11022168,  0.        , ...,  0.59241825,\n",
       "          0.54558182,  0.        ]], dtype=float32),\n",
       " 'segnet': {0.0: 0.12306134259259259,\n",
       "  1.0: 0.12664930555555556,\n",
       "  2.0: 0.008344907407407407,\n",
       "  3.0: 0.0018171296296296297,\n",
       "  4.0: 0.20444444444444446,\n",
       "  5.0: 0.0842650462962963,\n",
       "  6.0: 0.36342592592592593,\n",
       "  7.0: 0.00024305555555555555,\n",
       "  8.0: 0.0031944444444444446,\n",
       "  9.0: 0.08447916666666666,\n",
       "  11.0: 7.523148148148149e-05}}"
      ]
     },
     "execution_count": 845,
     "metadata": {},
     "output_type": "execute_result"
    }
   ],
   "source": [
    "filesMap[filesMap.keys()[1]]"
   ]
  },
  {
   "cell_type": "code",
   "execution_count": 846,
   "metadata": {
    "ExecuteTime": {
     "end_time": "2017-10-27T11:24:18.337505Z",
     "start_time": "2017-10-27T11:24:18.334176Z"
    },
    "collapsed": true
   },
   "outputs": [],
   "source": [
    "retreivedDf = {}"
   ]
  },
  {
   "cell_type": "code",
   "execution_count": 847,
   "metadata": {
    "ExecuteTime": {
     "end_time": "2017-10-27T11:24:18.965587Z",
     "start_time": "2017-10-27T11:24:18.959774Z"
    }
   },
   "outputs": [
    {
     "data": {
      "text/plain": [
       "(array('d', [-71.01274000000002]), array('d', [42.406936]))"
      ]
     },
     "execution_count": 847,
     "metadata": {},
     "output_type": "execute_result"
    }
   ],
   "source": [
    "imgCoords[filesMap.keys()[1]].xy"
   ]
  },
  {
   "cell_type": "code",
   "execution_count": 848,
   "metadata": {
    "ExecuteTime": {
     "end_time": "2017-10-27T11:24:19.304077Z",
     "start_time": "2017-10-27T11:24:19.251609Z"
    },
    "collapsed": true
   },
   "outputs": [],
   "source": [
    "for k in filesMap:\n",
    "    top5Keys = [p[0] for p in top5s[k]]\n",
    "    top5locs = {}\n",
    "    for l in top5s[k]:\n",
    "        top5locs[l[0]] = {}\n",
    "        top5locs[l[0]]['long'] = imgCoords[l[0]].x\n",
    "        top5locs[l[0]]['lat'] = imgCoords[l[0]].y\n",
    "    top5Paths = [dataFileMap[p[0]]['path'] for p in top5s[k]]\n",
    "    origPath = filesMap[k]['origPath']\n",
    "    xformPath = filesMap[k]['path']\n",
    "    originLoc = {'long' : imgCoords[k].x , 'lat' : imgCoords[k].y}\n",
    "    retreivedDf[k] = dict()\n",
    "    retreivedDf[k] = {'key' : k , 'originLoc' : originLoc, 'origPath' : origPath ,'XformPath' : xformPath , 'Top5Keys' : [top5Keys] , 'Top5Paths' : [top5Paths] , 'Top5Locs' : top5locs}"
   ]
  },
  {
   "cell_type": "code",
   "execution_count": 849,
   "metadata": {
    "ExecuteTime": {
     "end_time": "2017-10-27T11:24:29.850245Z",
     "start_time": "2017-10-27T11:24:29.816583Z"
    },
    "collapsed": true
   },
   "outputs": [],
   "source": [
    "# import json\n",
    "# bestDict = {}\n",
    "# for k in retreivedDf:\n",
    "#     bestDict[k] = retreivedDf[k]\n",
    "# with open('bostonResultsAll/EverythingLockedboston.json', 'w') as fp:\n",
    "#     json.dump(bestDict, fp)"
   ]
  },
  {
   "cell_type": "markdown",
   "metadata": {},
   "source": [
    "#### Example of a the retrieved datastructure"
   ]
  },
  {
   "cell_type": "code",
   "execution_count": 762,
   "metadata": {
    "ExecuteTime": {
     "end_time": "2017-10-27T11:19:04.197588Z",
     "start_time": "2017-10-27T11:19:04.189253Z"
    },
    "scrolled": true
   },
   "outputs": [
    {
     "data": {
      "text/plain": [
       "{'Top5Keys': [['513d6781fdc9f035870040bf',\n",
       "   '513d6b7cfdc9f03587004d23',\n",
       "   '513d67d2fdc9f0358700418b',\n",
       "   '513d6c9dfdc9f03587004ff1',\n",
       "   '513d68ccfdc9f035870044d7']],\n",
       " 'Top5Locs': {'513d6781fdc9f035870040bf': {'lat': 42.306672,\n",
       "   'long': -71.12599699999998},\n",
       "  '513d67d2fdc9f0358700418b': {'lat': 42.313072, 'long': -71.09282400000002},\n",
       "  '513d68ccfdc9f035870044d7': {'lat': 42.311218, 'long': -71.12872400000003},\n",
       "  '513d6b7cfdc9f03587004d23': {'lat': 42.410808, 'long': -71.137429},\n",
       "  '513d6c9dfdc9f03587004ff1': {'lat': 42.338113, 'long': -71.13611999999999}},\n",
       " 'Top5Paths': [['/work/sagarj/Work/BellLabs/streetview/PPImages/513d6781fdc9f035870040bf.jpg',\n",
       "   '/work/sagarj/Work/BellLabs/streetview/PPImages/513d6b7cfdc9f03587004d23.jpg',\n",
       "   '/work/sagarj/Work/BellLabs/streetview/PPImages/513d67d2fdc9f0358700418b.jpg',\n",
       "   '/work/sagarj/Work/BellLabs/streetview/PPImages/513d6c9dfdc9f03587004ff1.jpg',\n",
       "   '/work/sagarj/Work/BellLabs/streetview/PPImages/513d68ccfdc9f035870044d7.jpg']],\n",
       " 'XformPath': '/datasets/sagarj/streetView/Transform_Boston150/513d679dfdc9f03587004109_0001_0.480963_.jpg',\n",
       " 'key': '513d679dfdc9f03587004109',\n",
       " 'origPath': '/work/sagarj/Work/BellLabs/streetview/PPImages/513d679dfdc9f03587004109.jpg',\n",
       " 'originLoc': {'lat': 42.406936, 'long': -71.01274000000002}}"
      ]
     },
     "execution_count": 762,
     "metadata": {},
     "output_type": "execute_result"
    }
   ],
   "source": [
    "retreivedDf[retreivedDf.keys()[1]]"
   ]
  },
  {
   "cell_type": "code",
   "execution_count": 763,
   "metadata": {
    "ExecuteTime": {
     "end_time": "2017-10-27T11:19:05.040494Z",
     "start_time": "2017-10-27T11:19:05.034440Z"
    }
   },
   "outputs": [
    {
     "data": {
      "text/plain": [
       "['/work/sagarj/Work/BellLabs/streetview/PPImages/513d67a4fdc9f0358700411a.jpg',\n",
       " '/work/sagarj/Work/BellLabs/streetview/PPImages/513d6817fdc9f03587004253.jpg',\n",
       " '/work/sagarj/Work/BellLabs/streetview/PPImages/513d697cfdc9f03587004750.jpg',\n",
       " '/work/sagarj/Work/BellLabs/streetview/PPImages/513d6bb6fdc9f03587004db0.jpg',\n",
       " '/work/sagarj/Work/BellLabs/streetview/PPImages/513d6bd6fdc9f03587004dfe.jpg']"
      ]
     },
     "execution_count": 763,
     "metadata": {},
     "output_type": "execute_result"
    }
   ],
   "source": [
    "retreivedDf[retreivedDf.keys()[10]]['Top5Paths'][0]"
   ]
  },
  {
   "cell_type": "code",
   "execution_count": 764,
   "metadata": {
    "ExecuteTime": {
     "end_time": "2017-10-27T11:19:05.627819Z",
     "start_time": "2017-10-27T11:19:05.622681Z"
    }
   },
   "outputs": [
    {
     "data": {
      "text/plain": [
       "127"
      ]
     },
     "execution_count": 764,
     "metadata": {},
     "output_type": "execute_result"
    }
   ],
   "source": [
    "len(retreivedDf)"
   ]
  },
  {
   "cell_type": "markdown",
   "metadata": {
    "collapsed": true
   },
   "source": [
    "## Test the retrieved images"
   ]
  },
  {
   "cell_type": "code",
   "execution_count": 765,
   "metadata": {
    "ExecuteTime": {
     "end_time": "2017-10-27T11:19:06.497112Z",
     "start_time": "2017-10-27T11:19:06.493787Z"
    },
    "collapsed": true
   },
   "outputs": [],
   "source": [
    "# for k in range(len(retreivedDf.keys()[:90])):\n",
    "#     print retreivedDf[retreivedDf.keys()[k]]['XformPath']"
   ]
  },
  {
   "cell_type": "code",
   "execution_count": 766,
   "metadata": {
    "ExecuteTime": {
     "end_time": "2017-10-27T11:19:06.677829Z",
     "start_time": "2017-10-27T11:19:06.673950Z"
    },
    "collapsed": true
   },
   "outputs": [],
   "source": [
    "bestExamples = [k for k in retreivedDf if k in ugliestImgs.keys()]"
   ]
  },
  {
   "cell_type": "code",
   "execution_count": 767,
   "metadata": {
    "ExecuteTime": {
     "end_time": "2017-10-27T11:19:07.013611Z",
     "start_time": "2017-10-27T11:19:07.010424Z"
    },
    "collapsed": true
   },
   "outputs": [],
   "source": [
    "# k = #158 #59 #934 #831 #904 #113 #112 #56 #58 #196 #193 #31 #30 #111 #24 #111 #16 #190 16 #15 #114 #54 #40 #42 #85"
   ]
  },
  {
   "cell_type": "code",
   "execution_count": 768,
   "metadata": {
    "ExecuteTime": {
     "end_time": "2017-10-27T11:19:07.321325Z",
     "start_time": "2017-10-27T11:19:07.317780Z"
    },
    "collapsed": true
   },
   "outputs": [],
   "source": [
    "k = bestExamples[1]"
   ]
  },
  {
   "cell_type": "code",
   "execution_count": 592,
   "metadata": {
    "ExecuteTime": {
     "end_time": "2017-10-26T17:13:05.795108Z",
     "start_time": "2017-10-26T17:13:05.787169Z"
    }
   },
   "outputs": [
    {
     "data": {
      "text/plain": [
       "{'Top5Keys': [['513d6a29fdc9f0358700499b',\n",
       "   '513d68f8fdc9f0358700456f',\n",
       "   '513d6b8dfdc9f03587004d4d',\n",
       "   '513d6811fdc9f0358700423f',\n",
       "   '513d6c63fdc9f03587004f65']],\n",
       " 'Top5Locs': {'513d6811fdc9f0358700423f': {'lat': 42.378912,\n",
       "   'long': -71.13548300000002},\n",
       "  '513d68f8fdc9f0358700456f': {'lat': 42.329407, 'long': -71.15610600000002},\n",
       "  '513d6a29fdc9f0358700499b': {'lat': 42.332741, 'long': -71.14960400000002},\n",
       "  '513d6b8dfdc9f03587004d4d': {'lat': 42.34169, 'long': -71.137067},\n",
       "  '513d6c63fdc9f03587004f65': {'lat': 42.391402, 'long': -71.16295200000002}},\n",
       " 'Top5Paths': [['/work/sagarj/Work/BellLabs/streetview/PPImages/513d6a29fdc9f0358700499b.jpg',\n",
       "   '/work/sagarj/Work/BellLabs/streetview/PPImages/513d68f8fdc9f0358700456f.jpg',\n",
       "   '/work/sagarj/Work/BellLabs/streetview/PPImages/513d6b8dfdc9f03587004d4d.jpg',\n",
       "   '/work/sagarj/Work/BellLabs/streetview/PPImages/513d6811fdc9f0358700423f.jpg',\n",
       "   '/work/sagarj/Work/BellLabs/streetview/PPImages/513d6c63fdc9f03587004f65.jpg']],\n",
       " 'XformPath': '/datasets/sagarj/streetView/Transform_Boston150/513d69b8fdc9f0358700481f_0001_0.47118_.jpg',\n",
       " 'key': '513d69b8fdc9f0358700481f',\n",
       " 'origPath': '/work/sagarj/Work/BellLabs/streetview/PPImages/513d69b8fdc9f0358700481f.jpg',\n",
       " 'originLoc': {'lat': 42.277465, 'long': -71.071777}}"
      ]
     },
     "execution_count": 592,
     "metadata": {},
     "output_type": "execute_result"
    }
   ],
   "source": [
    "retreivedDf[k]"
   ]
  },
  {
   "cell_type": "code",
   "execution_count": 593,
   "metadata": {
    "ExecuteTime": {
     "end_time": "2017-10-26T17:13:06.530684Z",
     "start_time": "2017-10-26T17:13:06.129242Z"
    }
   },
   "outputs": [
    {
     "data": {
      "image/jpeg": "[encoded data removed]",
      "text/plain": [
       "<IPython.core.display.Image object>"
      ]
     },
     "execution_count": 593,
     "metadata": {},
     "output_type": "execute_result"
    }
   ],
   "source": [
    "Image(retreivedDf[k]['origPath'])"
   ]
  },
  {
   "cell_type": "code",
   "execution_count": 594,
   "metadata": {
    "ExecuteTime": {
     "end_time": "2017-10-26T17:13:06.760600Z",
     "start_time": "2017-10-26T17:13:06.654098Z"
    }
   },
   "outputs": [
    {
     "data": {
      "image/jpeg": "[encoded data removed]",
      "text/plain": [
       "<IPython.core.display.Image object>"
      ]
     },
     "execution_count": 594,
     "metadata": {},
     "output_type": "execute_result"
    }
   ],
   "source": [
    "Image(retreivedDf[k]['XformPath'])"
   ]
  },
  {
   "cell_type": "code",
   "execution_count": 595,
   "metadata": {
    "ExecuteTime": {
     "end_time": "2017-10-26T17:13:07.417376Z",
     "start_time": "2017-10-26T17:13:07.362477Z"
    }
   },
   "outputs": [
    {
     "data": {
      "image/jpeg": "[encoded data removed]",
      "text/plain": [
       "<IPython.core.display.Image object>"
      ]
     },
     "execution_count": 595,
     "metadata": {},
     "output_type": "execute_result"
    }
   ],
   "source": [
    "Image(retreivedDf[k]['Top5Paths'][0] [1])"
   ]
  },
  {
   "cell_type": "code",
   "execution_count": 596,
   "metadata": {
    "ExecuteTime": {
     "end_time": "2017-10-26T17:13:09.058240Z",
     "start_time": "2017-10-26T17:13:09.049846Z"
    }
   },
   "outputs": [
    {
     "data": {
      "text/plain": [
       "{'Top5Keys': [['513d6b8dfdc9f03587004d4d',\n",
       "   '513d6951fdc9f035870046a8',\n",
       "   '513d68f8fdc9f0358700456f',\n",
       "   '513d6811fdc9f0358700423f',\n",
       "   '513d6a29fdc9f0358700499b']],\n",
       " 'Top5Locs': {'513d6811fdc9f0358700423f': {'lat': 42.378912,\n",
       "   'long': -71.13548300000002},\n",
       "  '513d68f8fdc9f0358700456f': {'lat': 42.329407, 'long': -71.15610600000002},\n",
       "  '513d6951fdc9f035870046a8': {'lat': 42.304532, 'long': -71.131689},\n",
       "  '513d6a29fdc9f0358700499b': {'lat': 42.332741, 'long': -71.14960400000002},\n",
       "  '513d6b8dfdc9f03587004d4d': {'lat': 42.34169, 'long': -71.137067}},\n",
       " 'Top5Paths': [['/work/sagarj/Work/BellLabs/streetview/PPImages/513d6b8dfdc9f03587004d4d.jpg',\n",
       "   '/work/sagarj/Work/BellLabs/streetview/PPImages/513d6951fdc9f035870046a8.jpg',\n",
       "   '/work/sagarj/Work/BellLabs/streetview/PPImages/513d68f8fdc9f0358700456f.jpg',\n",
       "   '/work/sagarj/Work/BellLabs/streetview/PPImages/513d6811fdc9f0358700423f.jpg',\n",
       "   '/work/sagarj/Work/BellLabs/streetview/PPImages/513d6a29fdc9f0358700499b.jpg']],\n",
       " 'XformPath': '/datasets/sagarj/streetView/Transform_Boston150/513d679dfdc9f03587004109_0001_0.480963_.jpg',\n",
       " 'key': '513d679dfdc9f03587004109',\n",
       " 'origPath': '/work/sagarj/Work/BellLabs/streetview/PPImages/513d679dfdc9f03587004109.jpg',\n",
       " 'originLoc': {'lat': 42.406936, 'long': -71.01274000000002}}"
      ]
     },
     "execution_count": 596,
     "metadata": {},
     "output_type": "execute_result"
    }
   ],
   "source": [
    "retreivedDf[retreivedDf.keys()[1]]"
   ]
  },
  {
   "cell_type": "code",
   "execution_count": 597,
   "metadata": {
    "ExecuteTime": {
     "end_time": "2017-10-26T17:13:09.838728Z",
     "start_time": "2017-10-26T17:13:09.834995Z"
    },
    "collapsed": true
   },
   "outputs": [],
   "source": [
    "from shutil import copyfile\n",
    "import csv"
   ]
  },
  {
   "cell_type": "code",
   "execution_count": 598,
   "metadata": {
    "ExecuteTime": {
     "end_time": "2017-10-26T17:13:10.611030Z",
     "start_time": "2017-10-26T17:13:10.601872Z"
    },
    "collapsed": true
   },
   "outputs": [],
   "source": [
    "#Sample images for mturk experiment\n",
    "\n",
    "# mturkDir = \"/work/sagarj/Work/work_ipython/BellLabs/Data/Mturk/\"\n",
    "# urlPrepend = \"https://nms.kcl.ac.uk/netsys/data/urbanBeautyCrowd/Mturk/\"\n",
    "# original = \"Grp1/\"\n",
    "# Xformed = \"Grp2/\"\n",
    "# batchSize = 200\n",
    "# start = 0\n",
    "# saveDict = {}\n",
    "# turk = open(mturkDir + \"csvMturk.csv\" , 'wb')\n",
    "# csvWriter = csv.writer(turk, delimiter=',')\n",
    "# csvWriter.writerow(['image_A_url' ,'image_B_url'])\n",
    "# for k in retreivedDf:\n",
    "#     label = retreivedDf[k]['XformPath'].split('/')[-1].split('_')[1][-1]\n",
    "#     saveDict[k] = label\n",
    "#     srcFile = k+'_o.jpg'\n",
    "#     destFile = k+'_x.jpg'\n",
    "#     copyfile(retreivedDf[k]['origPath'] , mturkDir + original + srcFile)\n",
    "#     copyfile(retreivedDf[k]['Top5Paths'][0][0] , mturkDir + Xformed + destFile)\n",
    "#     csvWriter.writerow([urlPrepend + original + srcFile , urlPrepend + Xformed + destFile])\n",
    "#     start+=1\n",
    "#     if start >= batchSize:\n",
    "#         break\n",
    "# turk.close()\n",
    "\n",
    "# with open(\"../Data/mturkPilotLabels.pkl\",'wb') as f:\n",
    "#     pickle.dump(saveDict , f , protocol=pickle.HIGHEST_PROTOCOL)\n",
    "    \n",
    "    \n",
    "    \n",
    "    \n",
    "\n"
   ]
  },
  {
   "cell_type": "code",
   "execution_count": 599,
   "metadata": {
    "ExecuteTime": {
     "end_time": "2017-10-26T17:13:11.506133Z",
     "start_time": "2017-10-26T17:13:11.482983Z"
    },
    "collapsed": true
   },
   "outputs": [],
   "source": [
    "with open(\"../Data/mturkPilotLabels.pkl\",'rb') as f:\n",
    "    saveDict = pickle.load(f)"
   ]
  },
  {
   "cell_type": "code",
   "execution_count": 600,
   "metadata": {
    "ExecuteTime": {
     "end_time": "2017-10-26T17:13:12.421876Z",
     "start_time": "2017-10-26T17:13:12.418384Z"
    },
    "collapsed": true
   },
   "outputs": [],
   "source": [
    "# with open(\"../Data/retreivedfringeDataframe2.pkl\" , 'wb') as f:\n",
    "#     pickle.dump(retreivedDf , f , protocol=pickle.HIGHEST_PROTOCOL)"
   ]
  },
  {
   "cell_type": "code",
   "execution_count": 601,
   "metadata": {
    "ExecuteTime": {
     "end_time": "2017-10-26T17:13:13.276931Z",
     "start_time": "2017-10-26T17:13:13.233499Z"
    },
    "collapsed": true
   },
   "outputs": [],
   "source": [
    "mturkResults = \"../Data/mturk_pilot2.csv\"\n",
    "results = pd.read_csv(mturkResults)\n"
   ]
  },
  {
   "cell_type": "code",
   "execution_count": 602,
   "metadata": {
    "ExecuteTime": {
     "end_time": "2017-10-26T17:13:18.199915Z",
     "start_time": "2017-10-26T17:13:18.091926Z"
    },
    "collapsed": true
   },
   "outputs": [],
   "source": [
    "grouped = results.groupby('HITId')\n",
    "votes = {}\n",
    "for k in grouped.groups.keys():\n",
    "    votes[k] = grouped.get_group(k)"
   ]
  },
  {
   "cell_type": "code",
   "execution_count": 603,
   "metadata": {
    "ExecuteTime": {
     "end_time": "2017-10-26T17:13:18.450700Z",
     "start_time": "2017-10-26T17:13:18.448281Z"
    },
    "collapsed": true
   },
   "outputs": [],
   "source": [
    "#results.head()"
   ]
  },
  {
   "cell_type": "markdown",
   "metadata": {},
   "source": [
    "### calculate agreement with humans regarding agreement"
   ]
  },
  {
   "cell_type": "code",
   "execution_count": 604,
   "metadata": {
    "ExecuteTime": {
     "end_time": "2017-10-26T17:13:19.210267Z",
     "start_time": "2017-10-26T17:13:19.089392Z"
    },
    "collapsed": true
   },
   "outputs": [],
   "source": [
    "beautyAgree = 0\n",
    "beautyDisagree = 0\n",
    "uglyAgree = 0\n",
    "uglyDisagree = 0\n",
    "totalb = 0\n",
    "totalu = 0\n",
    "#confuse = 0\n",
    "for k in votes:\n",
    "    a  = sum(votes[k]['Answer.choice'] == 'optionB')\n",
    "    key = votes[k]['Input.image_A_url'].iloc[0].split('/')[-1].split('_')[0]\n",
    "    if key in saveDict:\n",
    "        if saveDict[key]=='1':\n",
    "            totalb+=1\n",
    "            if a >= 2: \n",
    "                beautyAgree+=1\n",
    "            else:\n",
    "                beautyDisagree+=1\n",
    "        else:\n",
    "            totalu+=1\n",
    "            if a < 2:\n",
    "                uglyAgree+=1\n",
    "            else:\n",
    "                uglyDisagree+=1\n",
    "                \n",
    "            \n",
    "        "
   ]
  },
  {
   "cell_type": "code",
   "execution_count": 605,
   "metadata": {
    "ExecuteTime": {
     "end_time": "2017-10-26T17:13:19.511145Z",
     "start_time": "2017-10-26T17:13:19.505693Z"
    }
   },
   "outputs": [
    {
     "name": "stdout",
     "output_type": "stream",
     "text": [
      "0.765 0.690909090909 0.855555555556\n"
     ]
    }
   ],
   "source": [
    "print float((beautyAgree + uglyAgree))/200 , float(beautyAgree)/totalb , float(uglyAgree)/totalu"
   ]
  },
  {
   "cell_type": "markdown",
   "metadata": {},
   "source": [
    "# After this step, run the segnet code to extract the right labeled pixel info"
   ]
  },
  {
   "cell_type": "code",
   "execution_count": 606,
   "metadata": {
    "ExecuteTime": {
     "end_time": "2017-10-26T17:13:20.383199Z",
     "start_time": "2017-10-26T17:13:20.377367Z"
    }
   },
   "outputs": [
    {
     "data": {
      "text/plain": [
       "(127, 774)"
      ]
     },
     "execution_count": 606,
     "metadata": {},
     "output_type": "execute_result"
    }
   ],
   "source": [
    "len(segnetLabels.keys()) , len(testSegnetLabels.keys())"
   ]
  },
  {
   "cell_type": "code",
   "execution_count": 607,
   "metadata": {
    "ExecuteTime": {
     "end_time": "2017-10-26T17:13:21.063817Z",
     "start_time": "2017-10-26T17:13:20.937503Z"
    },
    "scrolled": true
   },
   "outputs": [
    {
     "data": {
      "text/plain": [
       "Counter({0.0: 22584,\n",
       "         1.0: 73262,\n",
       "         2.0: 1608,\n",
       "         3.0: 1955,\n",
       "         4.0: 37063,\n",
       "         5.0: 3035,\n",
       "         6.0: 2455,\n",
       "         7.0: 314,\n",
       "         8.0: 86,\n",
       "         9.0: 29425,\n",
       "         10.0: 992,\n",
       "         11.0: 21})"
      ]
     },
     "execution_count": 607,
     "metadata": {},
     "output_type": "execute_result"
    }
   ],
   "source": [
    "collections.Counter(np.squeeze(testSegnetLabels[testSegnetLabels.keys()[10]]['segnetLabels']).flatten())"
   ]
  },
  {
   "cell_type": "code",
   "execution_count": 608,
   "metadata": {
    "ExecuteTime": {
     "end_time": "2017-10-26T17:13:23.536082Z",
     "start_time": "2017-10-26T17:13:23.530373Z"
    }
   },
   "outputs": [
    {
     "data": {
      "text/plain": [
       "(360, 480)"
      ]
     },
     "execution_count": 608,
     "metadata": {},
     "output_type": "execute_result"
    }
   ],
   "source": [
    "segnetLabels[segnetLabels.keys()[10]]['segnetLabels'].shape"
   ]
  },
  {
   "cell_type": "code",
   "execution_count": 609,
   "metadata": {
    "ExecuteTime": {
     "end_time": "2017-10-26T17:13:24.184166Z",
     "start_time": "2017-10-26T17:13:24.178416Z"
    }
   },
   "outputs": [
    {
     "data": {
      "text/plain": [
       "(360, 480)"
      ]
     },
     "execution_count": 609,
     "metadata": {},
     "output_type": "execute_result"
    }
   ],
   "source": [
    "testSegnetLabels[testSegnetLabels.keys()[10]]['segnetLabels'].shape"
   ]
  },
  {
   "cell_type": "code",
   "execution_count": 610,
   "metadata": {
    "ExecuteTime": {
     "end_time": "2017-10-26T17:13:25.448002Z",
     "start_time": "2017-10-26T17:13:25.441894Z"
    }
   },
   "outputs": [
    {
     "data": {
      "text/plain": [
       "['513d67affdc9f03587004136',\n",
       " '513d68ccfdc9f035870044d7',\n",
       " '513d6a29fdc9f0358700499b',\n",
       " '513d6b8dfdc9f03587004d4d',\n",
       " '513d688ffdc9f035870043f9']"
      ]
     },
     "execution_count": 610,
     "metadata": {},
     "output_type": "execute_result"
    }
   ],
   "source": [
    "retreivedDf[retreivedDf.keys()[101]]['Top5Keys'][0]"
   ]
  },
  {
   "cell_type": "markdown",
   "metadata": {},
   "source": [
    "# This section is for calculating normalized ratios of the segnet labels"
   ]
  },
  {
   "cell_type": "code",
   "execution_count": 611,
   "metadata": {
    "ExecuteTime": {
     "end_time": "2017-10-26T17:14:08.048046Z",
     "start_time": "2017-10-26T17:13:27.416576Z"
    },
    "collapsed": true,
    "editable": false
   },
   "outputs": [],
   "source": [
    "def normalizeDict(d, denom):\n",
    "    normDict = {}\n",
    "    for k in d : \n",
    "        normDict[k] = float(d[k])/float(denom)\n",
    "    return normDict\n",
    "\n",
    "deltas = {}\n",
    "for k in retreivedDf:\n",
    "    xforminfo = retreivedDf[k]['XformPath'].split('/')[-1].split('_')\n",
    "    xformLabel = xforminfo[1]\n",
    "    xformact = float(xforminfo[2])\n",
    "    \n",
    "    deltas[retreivedDf[k]['key']] = {}\n",
    "    deltas[retreivedDf[k]['key']]['act'] = xformact\n",
    "    deltas[retreivedDf[k]['key']]['label'] = int(xformLabel[-1])\n",
    "    \n",
    "    labels = np.squeeze(segnetLabels[retreivedDf[k]['key']]['segnetLabels'])\n",
    "    denom = labels.shape[0]*labels.shape[1]\n",
    "    if retreivedDf[k]['key'] in segnetLabels.keys():\n",
    "        origLabels = normalizeDict(collections.Counter(np.squeeze(segnetLabels[retreivedDf[k]['key']]['segnetLabels'].flatten())) , denom)\n",
    "        deltas[retreivedDf[k]['key']]['origLabels'] = {}\n",
    "        deltas[retreivedDf[k]['key']]['origLabels'] = origLabels\n",
    "        deltas[retreivedDf[k]['key']]['top5'] = []\n",
    "        matchList = retreivedDf[k]['Top5Keys'][0]\n",
    "        for l in matchList:  \n",
    "            if l in testSegnetLabels.keys():\n",
    "                deltas[retreivedDf[k]['key']]['top5'].append(normalizeDict(collections.Counter(np.squeeze(testSegnetLabels[l]['segnetLabels'].flatten())) , denom))\n",
    "                \n",
    "    \n",
    "    \n",
    "    \n",
    "    \n",
    "    "
   ]
  },
  {
   "cell_type": "code",
   "execution_count": 612,
   "metadata": {
    "ExecuteTime": {
     "end_time": "2017-10-26T17:14:08.057009Z",
     "start_time": "2017-10-26T17:14:08.049745Z"
    }
   },
   "outputs": [
    {
     "data": {
      "text/plain": [
       "{'act': 0.480963,\n",
       " 'label': 1,\n",
       " 'origLabels': {0.0: 0.12306134259259259,\n",
       "  1.0: 0.12664930555555556,\n",
       "  2.0: 0.008344907407407407,\n",
       "  3.0: 0.0018171296296296297,\n",
       "  4.0: 0.20444444444444446,\n",
       "  5.0: 0.0842650462962963,\n",
       "  6.0: 0.36342592592592593,\n",
       "  7.0: 0.00024305555555555555,\n",
       "  8.0: 0.0031944444444444446,\n",
       "  9.0: 0.08447916666666666,\n",
       "  11.0: 7.523148148148149e-05},\n",
       " 'top5': [{0.0: 0.027991898148148148,\n",
       "   1.0: 0.11730902777777778,\n",
       "   2.0: 0.0020486111111111113,\n",
       "   4.0: 0.007094907407407407,\n",
       "   5.0: 0.1274537037037037,\n",
       "   6.0: 0.6871701388888889,\n",
       "   7.0: 0.00016203703703703703,\n",
       "   8.0: 0.026585648148148146,\n",
       "   9.0: 0.0028877314814814816,\n",
       "   11.0: 0.0012962962962962963},\n",
       "  {0.0: 0.09973958333333334,\n",
       "   1.0: 0.035561342592592596,\n",
       "   2.0: 0.004149305555555555,\n",
       "   3.0: 0.0002719907407407407,\n",
       "   4.0: 0.1777372685185185,\n",
       "   5.0: 0.13186921296296297,\n",
       "   6.0: 0.516712962962963,\n",
       "   8.0: 0.003292824074074074,\n",
       "   9.0: 0.030520833333333334,\n",
       "   10.0: 0.00014467592592592592},\n",
       "  {0.0: 0.1199537037037037,\n",
       "   1.0: 0.03560763888888889,\n",
       "   2.0: 0.0012962962962962963,\n",
       "   3.0: 0.0042592592592592595,\n",
       "   4.0: 0.11429398148148148,\n",
       "   5.0: 0.22237847222222223,\n",
       "   6.0: 0.47945023148148147,\n",
       "   8.0: 0.011180555555555555,\n",
       "   9.0: 0.0115625,\n",
       "   11.0: 1.736111111111111e-05},\n",
       "  {0.0: 5.787037037037037e-06,\n",
       "   1.0: 0.015908564814814816,\n",
       "   2.0: 0.0038310185185185183,\n",
       "   3.0: 0.0003298611111111111,\n",
       "   4.0: 0.002841435185185185,\n",
       "   5.0: 0.09112268518518518,\n",
       "   6.0: 0.882199074074074,\n",
       "   7.0: 5.787037037037037e-06,\n",
       "   8.0: 0.0011574074074074073,\n",
       "   9.0: 0.0025,\n",
       "   10.0: 1.1574074074074073e-05,\n",
       "   11.0: 8.680555555555556e-05},\n",
       "  {0.0: 0.032824074074074075,\n",
       "   1.0: 0.057887731481481484,\n",
       "   2.0: 0.004346064814814815,\n",
       "   3.0: 0.0002719907407407407,\n",
       "   4.0: 0.019866898148148147,\n",
       "   5.0: 0.28848958333333335,\n",
       "   6.0: 0.5501909722222222,\n",
       "   7.0: 0.00031828703703703706,\n",
       "   8.0: 0.005619212962962963,\n",
       "   9.0: 0.005,\n",
       "   10.0: 0.028431712962962964,\n",
       "   11.0: 0.006753472222222222}]}"
      ]
     },
     "execution_count": 612,
     "metadata": {},
     "output_type": "execute_result"
    }
   ],
   "source": [
    "deltas[deltas.keys()[1]]"
   ]
  },
  {
   "cell_type": "code",
   "execution_count": 613,
   "metadata": {
    "ExecuteTime": {
     "end_time": "2017-10-26T17:14:08.065679Z",
     "start_time": "2017-10-26T17:14:08.058532Z"
    },
    "collapsed": true
   },
   "outputs": [],
   "source": [
    "# with open(\"SegnetDictionary.pkl\" , 'wb') as f:\n",
    "#     pickle.dump(deltas , f , protocol=pickle.HIGHEST_PROTOCOL)"
   ]
  },
  {
   "cell_type": "code",
   "execution_count": 614,
   "metadata": {
    "ExecuteTime": {
     "end_time": "2017-10-26T17:14:08.074435Z",
     "start_time": "2017-10-26T17:14:08.067179Z"
    },
    "collapsed": true
   },
   "outputs": [],
   "source": [
    "labels = ['Sky', 'Building', 'Pole','Road Marking','Road','Pavement','Tree','Sign Symbol','Fence','Vehicle','Pedestrian', 'Bike']"
   ]
  },
  {
   "cell_type": "code",
   "execution_count": 615,
   "metadata": {
    "ExecuteTime": {
     "end_time": "2017-10-26T17:14:08.100550Z",
     "start_time": "2017-10-26T17:14:08.075898Z"
    }
   },
   "outputs": [
    {
     "name": "stdout",
     "output_type": "stream",
     "text": [
      "{0.0: 0.2592691017789443, 1.0: 0.16522153071256676, 2.0: 0.012603244756980957, 3.0: 0.0094863659531090726, 4.0: 0.21206496974336539, 5.0: 0.080386045494313205, 6.0: 0.16399323782443861, 7.0: 0.0014612787535293139, 8.0: 0.036526709822993338, 9.0: 0.055765666010498684, 10.0: 0.002733089912978881, 11.0: 0.0011866865773115772} {0.0: 0.14254228826936968, 1.0: 0.1504904699086107, 2.0: 0.010593226682414058, 3.0: 0.012055454248297428, 4.0: 0.09268925238605448, 5.0: 0.060733377363984507, 6.0: 0.13684465084864686, 7.0: 0.0039039797132018753, 8.0: 0.039446022788553761, 9.0: 0.064005114690081299, 10.0: 0.005943976642287946, 11.0: 0.0031175127351030598}\n"
     ]
    }
   ],
   "source": [
    "# deltas[deltas.keys()[100]]['top5']\n",
    "mean = {}\n",
    "std = {}\n",
    "\n",
    "scores = {}\n",
    "beautfiedScores = {}\n",
    "uglifiedScores = {}\n",
    "origScores = {}\n",
    "for k in deltas:\n",
    "    for ratios in deltas[k]['top5']:\n",
    "        for dim in ratios:\n",
    "            if dim not in scores:\n",
    "                \n",
    "                origScores[dim] = []\n",
    "                beautfiedScores[dim] = []\n",
    "                uglifiedScores[dim] = []\n",
    "                scores[dim] = []\n",
    "            scores[dim].append(ratios[dim])\n",
    "            \n",
    "            #Find change in scores and the score \n",
    "            orig_score = 0.0\n",
    "            if dim in deltas[k]['origLabels']:\n",
    "                orig_score = deltas[k]['origLabels'][dim]\n",
    "            origScores[dim].append(orig_score)\n",
    "            if deltas[k]['label'] == 1:\n",
    "                beautfiedScores[dim].append(ratios[dim] - orig_score)\n",
    "            else:\n",
    "                uglifiedScores[dim].append(ratios[dim] - orig_score)\n",
    "#print scores.keys()\n",
    "for k in origScores:\n",
    "    mean[k] = np.mean(origScores[k])\n",
    "    std[k] = np.std(origScores[k])\n",
    "    \n",
    "print mean , std"
   ]
  },
  {
   "cell_type": "code",
   "execution_count": 616,
   "metadata": {
    "ExecuteTime": {
     "end_time": "2017-10-26T17:14:08.239892Z",
     "start_time": "2017-10-26T17:14:08.102127Z"
    },
    "collapsed": true
   },
   "outputs": [],
   "source": [
    "#calculate change in object value in terms of Zscore in original population\n",
    "\n",
    "\n",
    "beautfiedZscores = {}\n",
    "uglifiedZscores = {}\n",
    "for k in beautfiedScores:\n",
    "    if k not in beautfiedZscores:\n",
    "        beautfiedZscores[k] = []\n",
    "        \n",
    "    for val in beautfiedScores[k]:\n",
    "        orig = beautfiedScores[dim]\n",
    "        Zscore = (orig - mean[dim])/std[dim]\n",
    "        beautfiedZscores[k].append(Zscore)\n",
    "\n",
    "\n",
    "for k in uglifiedScores:\n",
    "    if k not in uglifiedZscores:\n",
    "        uglifiedZscores[k] = []\n",
    "        \n",
    "    for val in uglifiedScores[k]:\n",
    "        orig = uglifiedScores[dim]\n",
    "        Zscore = (orig - mean[dim])/std[dim]\n",
    "        uglifiedZscores[k].append(Zscore)"
   ]
  },
  {
   "cell_type": "code",
   "execution_count": 617,
   "metadata": {
    "ExecuteTime": {
     "end_time": "2017-10-26T17:14:08.244100Z",
     "start_time": "2017-10-26T17:14:08.241871Z"
    },
    "collapsed": true
   },
   "outputs": [],
   "source": [
    "#beautfiedScores[1]"
   ]
  },
  {
   "cell_type": "markdown",
   "metadata": {},
   "source": [
    "### Plot deltas between original and transformed (measurement)"
   ]
  },
  {
   "cell_type": "code",
   "execution_count": 618,
   "metadata": {
    "ExecuteTime": {
     "end_time": "2017-10-26T17:14:08.254717Z",
     "start_time": "2017-10-26T17:14:08.245767Z"
    },
    "collapsed": true
   },
   "outputs": [],
   "source": [
    "dim = 6"
   ]
  },
  {
   "cell_type": "code",
   "execution_count": 619,
   "metadata": {
    "ExecuteTime": {
     "end_time": "2017-10-26T17:14:08.647464Z",
     "start_time": "2017-10-26T17:14:08.256276Z"
    }
   },
   "outputs": [
    {
     "data": {
      "text/plain": [
       "<matplotlib.text.Text at 0x7fc63ce04d90>"
      ]
     },
     "execution_count": 619,
     "metadata": {},
     "output_type": "execute_result"
    },
    {
     "data": {
      "image/png": "[encoded data removed]",
      "text/plain": [
       "<matplotlib.figure.Figure at 0x7fc63e0db850>"
      ]
     },
     "metadata": {},
     "output_type": "display_data"
    }
   ],
   "source": [
    "fig, ax = plt.subplots()\n",
    "fig.set_size_inches(16,12)\n",
    "sns.set(font_scale=2) \n",
    "sns.distplot(beautfiedScores[dim] ,kde_kws={\"color\": \"b\", \"lw\": 2, \"label\": \"Change in Ratio: Beautified Images\"})\n",
    "#sns.distplot(uglifiedScores[dim] , kde_kws={\"color\": \"g\", \"lw\": 2, \"label\": \"Change in Ratio: Uglified Images\"})\n",
    "ax.axvline(x=np.median(beautfiedScores[dim]), ymin=0, ymax=1, linewidth=3, color = 'b', linestyle='dotted')\n",
    "ax.axvline(x=np.median(uglifiedScores[dim]), ymin=0, ymax=1, linewidth=3, color = 'g', linestyle='dotted')\n",
    "plt.xlabel(\"Change in ratio for  \" + labels[dim] +  \" pixels, in transformed image\" , fontsize = 20)\n",
    "plt.ylabel(\"Population (Norm)\" , fontsize = 20 )"
   ]
  },
  {
   "cell_type": "code",
   "execution_count": 620,
   "metadata": {
    "ExecuteTime": {
     "end_time": "2017-10-26T17:14:08.664293Z",
     "start_time": "2017-10-26T17:14:08.650584Z"
    }
   },
   "outputs": [
    {
     "data": {
      "text/plain": [
       "{'act': 0.480963,\n",
       " 'label': 1,\n",
       " 'origLabels': {0.0: 0.12306134259259259,\n",
       "  1.0: 0.12664930555555556,\n",
       "  2.0: 0.008344907407407407,\n",
       "  3.0: 0.0018171296296296297,\n",
       "  4.0: 0.20444444444444446,\n",
       "  5.0: 0.0842650462962963,\n",
       "  6.0: 0.36342592592592593,\n",
       "  7.0: 0.00024305555555555555,\n",
       "  8.0: 0.0031944444444444446,\n",
       "  9.0: 0.08447916666666666,\n",
       "  11.0: 7.523148148148149e-05},\n",
       " 'top5': [{0.0: 0.027991898148148148,\n",
       "   1.0: 0.11730902777777778,\n",
       "   2.0: 0.0020486111111111113,\n",
       "   4.0: 0.007094907407407407,\n",
       "   5.0: 0.1274537037037037,\n",
       "   6.0: 0.6871701388888889,\n",
       "   7.0: 0.00016203703703703703,\n",
       "   8.0: 0.026585648148148146,\n",
       "   9.0: 0.0028877314814814816,\n",
       "   11.0: 0.0012962962962962963},\n",
       "  {0.0: 0.09973958333333334,\n",
       "   1.0: 0.035561342592592596,\n",
       "   2.0: 0.004149305555555555,\n",
       "   3.0: 0.0002719907407407407,\n",
       "   4.0: 0.1777372685185185,\n",
       "   5.0: 0.13186921296296297,\n",
       "   6.0: 0.516712962962963,\n",
       "   8.0: 0.003292824074074074,\n",
       "   9.0: 0.030520833333333334,\n",
       "   10.0: 0.00014467592592592592},\n",
       "  {0.0: 0.1199537037037037,\n",
       "   1.0: 0.03560763888888889,\n",
       "   2.0: 0.0012962962962962963,\n",
       "   3.0: 0.0042592592592592595,\n",
       "   4.0: 0.11429398148148148,\n",
       "   5.0: 0.22237847222222223,\n",
       "   6.0: 0.47945023148148147,\n",
       "   8.0: 0.011180555555555555,\n",
       "   9.0: 0.0115625,\n",
       "   11.0: 1.736111111111111e-05},\n",
       "  {0.0: 5.787037037037037e-06,\n",
       "   1.0: 0.015908564814814816,\n",
       "   2.0: 0.0038310185185185183,\n",
       "   3.0: 0.0003298611111111111,\n",
       "   4.0: 0.002841435185185185,\n",
       "   5.0: 0.09112268518518518,\n",
       "   6.0: 0.882199074074074,\n",
       "   7.0: 5.787037037037037e-06,\n",
       "   8.0: 0.0011574074074074073,\n",
       "   9.0: 0.0025,\n",
       "   10.0: 1.1574074074074073e-05,\n",
       "   11.0: 8.680555555555556e-05},\n",
       "  {0.0: 0.032824074074074075,\n",
       "   1.0: 0.057887731481481484,\n",
       "   2.0: 0.004346064814814815,\n",
       "   3.0: 0.0002719907407407407,\n",
       "   4.0: 0.019866898148148147,\n",
       "   5.0: 0.28848958333333335,\n",
       "   6.0: 0.5501909722222222,\n",
       "   7.0: 0.00031828703703703706,\n",
       "   8.0: 0.005619212962962963,\n",
       "   9.0: 0.005,\n",
       "   10.0: 0.028431712962962964,\n",
       "   11.0: 0.006753472222222222}]}"
      ]
     },
     "execution_count": 620,
     "metadata": {},
     "output_type": "execute_result"
    }
   ],
   "source": [
    "deltas[deltas.keys()[1]]"
   ]
  },
  {
   "cell_type": "code",
   "execution_count": 621,
   "metadata": {
    "ExecuteTime": {
     "end_time": "2017-10-26T17:14:08.671784Z",
     "start_time": "2017-10-26T17:14:08.667070Z"
    },
    "collapsed": true
   },
   "outputs": [],
   "source": [
    "dim = 1.0"
   ]
  },
  {
   "cell_type": "code",
   "execution_count": 622,
   "metadata": {
    "ExecuteTime": {
     "end_time": "2017-10-26T17:14:08.725364Z",
     "start_time": "2017-10-26T17:14:08.674563Z"
    },
    "collapsed": true
   },
   "outputs": [],
   "source": [
    "labels = []\n",
    "vectors = []\n",
    "dims = [0.0 , 1.0 ]\n",
    "sky = []\n",
    "for k in deltas:\n",
    "    for ratios in deltas[k]['top5']:\n",
    "        vec = []\n",
    "        for j in dims:\n",
    "            compound = 1.0\n",
    "            if j in ratios:\n",
    "                if j in deltas[k]['origLabels']:\n",
    "                    vec.append(ratios[j]-deltas[k]['origLabels'][j])\n",
    "                else:\n",
    "                    vec.append(ratios[j])\n",
    "                \n",
    "            else:\n",
    "                vec.append(0.0)\n",
    "        for val in vec:\n",
    "            compound = compound * val\n",
    "        vec.append(compound)\n",
    "        if dim in ratios:\n",
    "            if dim in deltas[k]['origLabels']:\n",
    "                sky.append(ratios[dim]-deltas[k]['origLabels'][dim])\n",
    "            else:\n",
    "                sky.append(ratios[dim])\n",
    "            #sky.append(ratios[0.0]/ratios[6.0])\n",
    "        else:\n",
    "            sky.append(0.0)\n",
    "        labels.append(deltas[k]['label'])\n",
    "        vectors.append(vec)\n",
    "        "
   ]
  },
  {
   "cell_type": "code",
   "execution_count": 623,
   "metadata": {
    "ExecuteTime": {
     "end_time": "2017-10-26T17:14:08.733660Z",
     "start_time": "2017-10-26T17:14:08.727518Z"
    },
    "collapsed": true
   },
   "outputs": [],
   "source": [
    "#deltas[deltas.keys()[1]]"
   ]
  },
  {
   "cell_type": "code",
   "execution_count": 624,
   "metadata": {
    "ExecuteTime": {
     "end_time": "2017-10-26T17:14:09.113942Z",
     "start_time": "2017-10-26T17:14:08.735818Z"
    }
   },
   "outputs": [
    {
     "data": {
      "text/plain": [
       "<matplotlib.axes._subplots.AxesSubplot at 0x7fc63cd40050>"
      ]
     },
     "execution_count": 624,
     "metadata": {},
     "output_type": "execute_result"
    },
    {
     "data": {
      "image/png": "[encoded data removed]",
      "text/plain": [
       "<matplotlib.figure.Figure at 0x7fc63e533650>"
      ]
     },
     "metadata": {},
     "output_type": "display_data"
    }
   ],
   "source": [
    "\n",
    "sns.distplot(sky)"
   ]
  },
  {
   "cell_type": "markdown",
   "metadata": {},
   "source": [
    "# All the code after this is for measurement and explainability aspect of the deep network"
   ]
  },
  {
   "cell_type": "markdown",
   "metadata": {},
   "source": [
    "# Binned Plot "
   ]
  },
  {
   "cell_type": "code",
   "execution_count": 625,
   "metadata": {
    "ExecuteTime": {
     "end_time": "2017-10-26T17:14:09.135625Z",
     "start_time": "2017-10-26T17:14:09.115570Z"
    },
    "collapsed": true
   },
   "outputs": [],
   "source": [
    "bins = {}\n",
    "for i in range(6):\n",
    "    bins[i] = {}\n",
    "    bins[i]['label'] = []\n",
    "    bins[i]['beauty'] = []\n",
    "    bins[i]['ugly'] = []\n",
    "\n",
    "#this bit is for finding sky trends in an absolute sense.\n",
    "\n",
    "# for k in range(len(sky)):\n",
    "#     if sky[k] <= 0.07 :\n",
    "#         bins[0]['label'].append(labels[k])\n",
    "#     elif sky[k] > 0.07 and sky[k] <= 0.14:\n",
    "#         bins[1]['label'].append(labels[k])\n",
    "#     elif sky[k] >0.14 and sky[k] <= 0.21:\n",
    "#         bins[2]['label'].append(labels[k])\n",
    "#     elif sky[k] >  0.21 and sky[k] <= 0.28:\n",
    "#         bins[3]['label'].append(labels[k])\n",
    "#     elif sky[k] > 0.28 and sky[k] <= 0.35 :\n",
    "#         bins[4]['label'].append(labels[k])\n",
    "#     elif sky[k] > 0.35 :\n",
    "#         bins[5]['label'].append(labels[k])\n",
    "\n",
    "#This bit is to find binned plot for Sky Delta\n",
    "\n",
    "for k in range(len(sky)):\n",
    "    if sky[k] <= -0.3 :\n",
    "        bins[0]['label'].append(labels[k])\n",
    "    elif sky[k] > -0.3 and sky[k] <= -0.1:\n",
    "        bins[1]['label'].append(labels[k])\n",
    "    elif sky[k] >-0.1 and sky[k] <= 0.1:\n",
    "        bins[2]['label'].append(labels[k])\n",
    "    elif sky[k] > 0.1 and sky[k] <= 0.3:\n",
    "        bins[3]['label'].append(labels[k])\n",
    "#     elif sky[k] > 0.3 and sky[k] <= 0.5 :\n",
    "#         bins[4]['label'].append(labels[k])\n",
    "    elif sky[k] > 0.3 :\n",
    "        bins[4]['label'].append(labels[k])\n",
    "    \n",
    "iters = 100 \n",
    "sampleSize = 5\n",
    "for i in range(iters):\n",
    "    for k in bins:\n",
    "#         sample = random.sample(bins[k]['label'] , sampleSize)\n",
    "#         bins[k]['beauty'].append(sum(sample))\n",
    "        bins[k]['beauty'].append(sum(bins[k]['label']))\n",
    "#         bins[k]['ugly'].append(len(sample) - sum(sample))"
   ]
  },
  {
   "cell_type": "code",
   "execution_count": null,
   "metadata": {
    "ExecuteTime": {
     "end_time": "2017-08-24T12:45:43.752730Z",
     "start_time": "2017-08-24T12:45:43.746895Z"
    },
    "collapsed": true
   },
   "outputs": [],
   "source": []
  },
  {
   "cell_type": "code",
   "execution_count": 626,
   "metadata": {
    "ExecuteTime": {
     "end_time": "2017-10-26T17:14:09.372057Z",
     "start_time": "2017-10-26T17:14:09.137333Z"
    },
    "scrolled": false
   },
   "outputs": [
    {
     "data": {
      "text/plain": [
       "(array([ -50.,    0.,   50.,  100.,  150.,  200.,  250.,  300.,  350.,  400.]),\n",
       " <a list of 10 Text yticklabel objects>)"
      ]
     },
     "execution_count": 626,
     "metadata": {},
     "output_type": "execute_result"
    },
    {
     "data": {
      "image/png": "[encoded data removed]",
      "text/plain": [
       "<matplotlib.figure.Figure at 0x7fc63b58a5d0>"
      ]
     },
     "metadata": {},
     "output_type": "display_data"
    }
   ],
   "source": [
    "fig, ax = plt.subplots()\n",
    "fig.set_size_inches(18,12)\n",
    "errorBeauty = [np.std(bins[i]['beauty']) for i in bins]\n",
    "ax.errorbar(np.arange(0,len(bins), 1), [np.median(bins[i]['beauty']) for i in bins], yerr=errorBeauty, fmt='-o')\n",
    "# plt.plot([np.median(bins[i]['ugly']) for i in bins])\n",
    "#errorUgly = [np.std(bins[i]['ugly']) for i in bins]\n",
    "#ax.errorbar(np.arange(0,len(bins), 1), [np.median(bins[i]['ugly']) for i in bins], yerr=errorUgly, fmt='-o')\n",
    "#plt.xlabel(\" Changes in Sky pixels \" , fontsize = 20)\n",
    "#plt.ylabel(\"Percentage of images belonging to a bin\" , fontsize = 20 )\n",
    "\n",
    "#ticks = [' Less Sky ' , ' ' , '' , '', ' More Sky ' ]\n",
    "# ticks = [' Reduce by > 30% ' , ' Reduce by 10 - 30% ' , ' No change ' , 'Increase by 10 - 30%', ' Increase by > 30% ' ]\n",
    "ticks = [' Reduce by > 30% ' , ' Reduce by 10 - 30% ' , ' No change ' , 'Increase by 10 - 30%', ' Increase by > 30% ' ]\n",
    "plt.xticks(range(len(bins)) , ticks , fontsize=20)\n",
    "plt.yticks(fontsize=20)\n",
    "#plt.legend(['Beautiful Images','Ugly Images'])"
   ]
  },
  {
   "cell_type": "code",
   "execution_count": 627,
   "metadata": {
    "ExecuteTime": {
     "end_time": "2017-10-26T17:14:09.377841Z",
     "start_time": "2017-10-26T17:14:09.373597Z"
    }
   },
   "outputs": [
    {
     "data": {
      "text/plain": [
       "[[0.002048611111111112, -0.35574652777777777, -0.0007287862895447534],\n",
       " [0.08419560185185185, -0.25418402777777777, -0.021401177199877826],\n",
       " [-0.08720486111111111, -0.3085532407407407, 0.026907342504179525],\n",
       " [-0.08237268518518519, -0.36797453703703703, 0.03031105069551612],\n",
       " [-0.021724537037037042, -0.38207754629629626, 0.008300457805534123],\n",
       " [-0.09506944444444444, -0.00934027777777778, 0.0008879750192901237],\n",
       " [-0.02332175925925925, -0.09108796296296297, 0.0021243315436385453],\n",
       " [-0.003107638888888889, -0.09104166666666667, 0.00028292462384259265],\n",
       " [-0.12305555555555556, -0.11074074074074075, 0.013627263374485598],\n",
       " [-0.09023726851851852, -0.06876157407407407, 0.006204856623478223]]"
      ]
     },
     "execution_count": 627,
     "metadata": {},
     "output_type": "execute_result"
    }
   ],
   "source": [
    "vectors[:10]"
   ]
  },
  {
   "cell_type": "code",
   "execution_count": 628,
   "metadata": {
    "ExecuteTime": {
     "end_time": "2017-10-26T17:14:09.389598Z",
     "start_time": "2017-10-26T17:14:09.380239Z"
    }
   },
   "outputs": [
    {
     "data": {
      "text/plain": [
       "(635, 3)"
      ]
     },
     "execution_count": 628,
     "metadata": {},
     "output_type": "execute_result"
    }
   ],
   "source": [
    "X = 100*np.asarray(vectors)\n",
    "X.shape"
   ]
  },
  {
   "cell_type": "code",
   "execution_count": 629,
   "metadata": {
    "ExecuteTime": {
     "end_time": "2017-10-26T17:14:09.399871Z",
     "start_time": "2017-10-26T17:14:09.392589Z"
    }
   },
   "outputs": [
    {
     "data": {
      "text/plain": [
       "array([[  2.04861111e-01,  -3.55746528e+01,  -7.28786290e-02],\n",
       "       [  8.41956019e+00,  -2.54184028e+01,  -2.14011772e+00],\n",
       "       [ -8.72048611e+00,  -3.08553241e+01,   2.69073425e+00],\n",
       "       [ -8.23726852e+00,  -3.67974537e+01,   3.03110507e+00],\n",
       "       [ -2.17245370e+00,  -3.82077546e+01,   8.30045781e-01],\n",
       "       [ -9.50694444e+00,  -9.34027778e-01,   8.87975019e-02],\n",
       "       [ -2.33217593e+00,  -9.10879630e+00,   2.12433154e-01],\n",
       "       [ -3.10763889e-01,  -9.10416667e+00,   2.82924624e-02],\n",
       "       [ -1.23055556e+01,  -1.10740741e+01,   1.36272634e+00],\n",
       "       [ -9.02372685e+00,  -6.87615741e+00,   6.20485662e-01]])"
      ]
     },
     "execution_count": 629,
     "metadata": {},
     "output_type": "execute_result"
    }
   ],
   "source": [
    "X[:10]"
   ]
  },
  {
   "cell_type": "code",
   "execution_count": 630,
   "metadata": {
    "ExecuteTime": {
     "end_time": "2017-10-26T17:14:36.962636Z",
     "start_time": "2017-10-26T17:14:36.956777Z"
    }
   },
   "outputs": [
    {
     "data": {
      "text/plain": [
       "(635, 635)"
      ]
     },
     "execution_count": 630,
     "metadata": {},
     "output_type": "execute_result"
    }
   ],
   "source": [
    "len(labels), len(vectors)"
   ]
  },
  {
   "cell_type": "code",
   "execution_count": 633,
   "metadata": {
    "ExecuteTime": {
     "end_time": "2017-10-26T17:14:50.817532Z",
     "start_time": "2017-10-26T17:14:50.813424Z"
    },
    "collapsed": true
   },
   "outputs": [],
   "source": [
    "# from sklearn.linear_model import LogisticRegression\n",
    "# from sklearn.metrics import r2_score , precision_score\n",
    "# clf = LogisticRegression(fit_intercept=True, n_jobs=1)\n",
    "# model = clf.fit(X, labels)\n",
    "# #model.score()"
   ]
  },
  {
   "cell_type": "code",
   "execution_count": 634,
   "metadata": {
    "ExecuteTime": {
     "end_time": "2017-10-26T17:14:56.465129Z",
     "start_time": "2017-10-26T17:14:56.461922Z"
    },
    "collapsed": true
   },
   "outputs": [],
   "source": [
    "# clf.predict(X)"
   ]
  },
  {
   "cell_type": "code",
   "execution_count": null,
   "metadata": {
    "ExecuteTime": {
     "end_time": "2017-09-25T17:05:52.564541Z",
     "start_time": "2017-09-25T17:05:52.559822Z"
    },
    "collapsed": true
   },
   "outputs": [],
   "source": [
    "model.coef_"
   ]
  },
  {
   "cell_type": "code",
   "execution_count": null,
   "metadata": {
    "ExecuteTime": {
     "end_time": "2017-09-25T17:05:53.008414Z",
     "start_time": "2017-09-25T17:05:53.004674Z"
    },
    "collapsed": true
   },
   "outputs": [],
   "source": [
    "predicted = model.predict(X)"
   ]
  },
  {
   "cell_type": "code",
   "execution_count": null,
   "metadata": {
    "ExecuteTime": {
     "end_time": "2017-09-25T17:05:53.633947Z",
     "start_time": "2017-09-25T17:05:53.618318Z"
    },
    "collapsed": true
   },
   "outputs": [],
   "source": [
    "1 - model.score(X , labels)"
   ]
  },
  {
   "cell_type": "code",
   "execution_count": null,
   "metadata": {
    "ExecuteTime": {
     "end_time": "2017-09-25T17:05:54.497090Z",
     "start_time": "2017-09-25T17:05:54.437653Z"
    },
    "collapsed": true
   },
   "outputs": [],
   "source": [
    "from sklearn.model_selection import cross_val_score\n",
    "cross_val_score(model , X , labels , scoring='r2' )"
   ]
  },
  {
   "cell_type": "code",
   "execution_count": null,
   "metadata": {
    "ExecuteTime": {
     "end_time": "2017-09-25T17:05:55.390296Z",
     "start_time": "2017-09-25T17:05:55.378138Z"
    },
    "collapsed": true
   },
   "outputs": [],
   "source": [
    "precision_score(predicted,labels)"
   ]
  },
  {
   "cell_type": "code",
   "execution_count": null,
   "metadata": {
    "ExecuteTime": {
     "end_time": "2017-09-25T17:05:56.616881Z",
     "start_time": "2017-09-25T17:05:56.610066Z"
    },
    "collapsed": true
   },
   "outputs": [],
   "source": [
    "r2_score(predicted , labels)"
   ]
  },
  {
   "cell_type": "code",
   "execution_count": null,
   "metadata": {
    "ExecuteTime": {
     "end_time": "2017-08-22T13:35:11.686265Z",
     "start_time": "2017-08-22T13:35:11.679627Z"
    },
    "collapsed": true
   },
   "outputs": [],
   "source": []
  },
  {
   "cell_type": "code",
   "execution_count": null,
   "metadata": {
    "ExecuteTime": {
     "end_time": "2017-09-25T17:05:57.889119Z",
     "start_time": "2017-09-25T17:05:57.884288Z"
    },
    "collapsed": true
   },
   "outputs": [],
   "source": [
    "# import seaborn as sns\n",
    "# fig, ax = plt.subplots()\n",
    "# fig.set_size_inches(14, 8)\n",
    "# sns.set_style(\"whitegrid\")\n",
    "# sns.set(rc={\"figure.figsize\": (20, 14)})\n",
    "# sns.set(font_scale=1.5) \n",
    "# ax = sns.barplot(x=labels, y=np.concatenate((plotablesUgly,plotablesBeauty) , axis = 0))\n",
    "# ax.set(xlabel='Segnet Objects inpainted', ylabel='Percentage Reduction (Recalls in Classifier\\'s Beauty prediction')"
   ]
  },
  {
   "cell_type": "code",
   "execution_count": null,
   "metadata": {
    "ExecuteTime": {
     "end_time": "2017-09-25T17:05:59.431482Z",
     "start_time": "2017-09-25T17:05:59.420493Z"
    },
    "collapsed": true
   },
   "outputs": [],
   "source": [
    "from scipy.stats import ttest_ind\n",
    "\n",
    "ttest_ind(beautfiedScores[dim] , uglifiedScores[dim])"
   ]
  },
  {
   "cell_type": "code",
   "execution_count": null,
   "metadata": {
    "ExecuteTime": {
     "end_time": "2017-09-25T17:06:00.558507Z",
     "start_time": "2017-09-25T17:06:00.549137Z"
    },
    "collapsed": true
   },
   "outputs": [],
   "source": [
    "from numpy import  std, mean, sqrt\n",
    "def cohen_d(x,y):\n",
    "    nx = len(x)\n",
    "    ny = len(y)\n",
    "    dof = nx + ny - 2\n",
    "    return (mean(x) - mean(y)) / sqrt(((nx-1)*std(x, ddof=1) ** 2 + (ny-1)*std(y, ddof=1) ** 2) / dof)\n"
   ]
  },
  {
   "cell_type": "code",
   "execution_count": null,
   "metadata": {
    "ExecuteTime": {
     "end_time": "2017-09-25T17:06:01.394083Z",
     "start_time": "2017-09-25T17:06:01.387157Z"
    },
    "collapsed": true
   },
   "outputs": [],
   "source": [
    "cohen_d(beautfiedScores[dim] , uglifiedScores[dim])"
   ]
  },
  {
   "cell_type": "code",
   "execution_count": null,
   "metadata": {
    "ExecuteTime": {
     "end_time": "2017-09-25T17:06:02.281761Z",
     "start_time": "2017-09-25T17:06:02.253797Z"
    },
    "collapsed": true,
    "editable": false
   },
   "outputs": [],
   "source": [
    "# Find update Z scores in deltas:\n",
    "for k in deltas:\n",
    "    for ratios in deltas[k]['top5']:\n",
    "        for dim in ratios:\n",
    "            orig = ratios[dim]\n",
    "            Zscore = (orig - mean[dim])/std[dim]\n",
    "            ratios[dim] = Zscore"
   ]
  },
  {
   "cell_type": "code",
   "execution_count": null,
   "metadata": {
    "ExecuteTime": {
     "end_time": "2017-08-25T10:13:29.045810Z",
     "start_time": "2017-08-25T10:13:29.031406Z"
    },
    "collapsed": true
   },
   "outputs": [],
   "source": [
    "deltas[deltas.keys()[1]]"
   ]
  },
  {
   "cell_type": "code",
   "execution_count": null,
   "metadata": {
    "ExecuteTime": {
     "end_time": "2017-08-25T10:13:31.715895Z",
     "start_time": "2017-08-25T10:13:29.863135Z"
    },
    "collapsed": true
   },
   "outputs": [],
   "source": [
    "## Get label wise dimensions for uglified and beautified images (top 1 image)\n",
    "\n",
    "acts = []\n",
    "action = []\n",
    "labelDeltas = [[] for i in range(len(labels))]\n",
    "\n",
    "for k in deltas:\n",
    "    #if deltas[k]['act'] > 0.1:\n",
    "    #for c in deltas[k]['top5']:\n",
    "    if len(deltas[k]['top5']) > 0:\n",
    "        c = deltas[k]['top5'][0]\n",
    "        action.append(deltas[k]['label'])\n",
    "        acts.append(deltas[k]['act'])\n",
    "        for dims in range(len(labels)):\n",
    "            delta = 0.0\n",
    "            if dims in c:\n",
    "                delta = c[dims]\n",
    "            labelDeltas[int(dims)].append(delta)"
   ]
  },
  {
   "cell_type": "code",
   "execution_count": null,
   "metadata": {
    "ExecuteTime": {
     "end_time": "2017-08-25T10:13:33.846012Z",
     "start_time": "2017-08-25T10:13:33.797771Z"
    },
    "collapsed": true
   },
   "outputs": [],
   "source": [
    "labelDeltas[0]"
   ]
  },
  {
   "cell_type": "code",
   "execution_count": null,
   "metadata": {
    "ExecuteTime": {
     "end_time": "2017-08-25T10:14:28.995220Z",
     "start_time": "2017-08-25T10:14:28.991066Z"
    },
    "collapsed": true
   },
   "outputs": [],
   "source": [
    "labels = ['Sky', 'Building', 'Pole','Road Marking','Road','Pavement','Tree','Sign Symbol','Fence','Vehicle','Pedestrian', 'Bike']"
   ]
  },
  {
   "cell_type": "code",
   "execution_count": null,
   "metadata": {
    "ExecuteTime": {
     "end_time": "2017-08-25T10:14:29.472886Z",
     "start_time": "2017-08-25T10:14:29.469560Z"
    },
    "collapsed": true
   },
   "outputs": [],
   "source": [
    "dim = 9"
   ]
  },
  {
   "cell_type": "code",
   "execution_count": null,
   "metadata": {
    "ExecuteTime": {
     "end_time": "2017-08-25T10:14:30.376742Z",
     "start_time": "2017-08-25T10:14:30.059910Z"
    },
    "collapsed": true
   },
   "outputs": [],
   "source": [
    "#beautiFied = [labelDeltas[5][i] for i in range\n",
    "colorPallet=[\"#FF0000\", \"#00FF00\"]\n",
    "\n",
    "colors = [colorPallet[action[i]] for i in range(len(action)) if labelDeltas[dim][i] != 0.0 ]\n",
    "delRatio = [labelDeltas[dim][i] for i in range(len(labelDeltas[dim])) if labelDeltas[dim][i] != 0.0]\n",
    "delActs = [acts[i] for i in range(len(acts)) if labelDeltas[dim][i] != 0.0 ]\n",
    "print len(delRatio) , len(delActs) , len(colors)\n",
    "fig, ax = plt.subplots()\n",
    "fig.set_size_inches(15,10)\n",
    "plt.xlabel(\"Zscore for  \" + labels[dim] +  \" pixels, in transformed image\" , fontsize = 15)\n",
    "plt.ylabel(\"Final activation after transformation\" , fontsize = 15 )\n",
    "fig = plt.scatter( delRatio , delActs,  alpha=0.8 , c = colors)\n",
    "#plt.legend(['Uglified' , 'Beautified'])\n",
    "plt.show()"
   ]
  },
  {
   "cell_type": "code",
   "execution_count": null,
   "metadata": {
    "ExecuteTime": {
     "end_time": "2017-08-25T10:14:33.362286Z",
     "start_time": "2017-08-25T10:14:33.356931Z"
    },
    "collapsed": true
   },
   "outputs": [],
   "source": [
    "len(labelDeltas[0])"
   ]
  },
  {
   "cell_type": "markdown",
   "metadata": {},
   "source": [
    "Extract Beauty and ugly scores for each image based on action (uglified or beautified"
   ]
  },
  {
   "cell_type": "code",
   "execution_count": null,
   "metadata": {
    "ExecuteTime": {
     "end_time": "2017-08-25T10:14:34.321613Z",
     "start_time": "2017-08-25T10:14:34.307091Z"
    },
    "collapsed": true
   },
   "outputs": [],
   "source": [
    "beautyDim = []\n",
    "\n",
    "\n",
    "for j in range(len(labels)):\n",
    "    beautyDim.append([labelDeltas[j][i] for i in range(len(action)) if (action[i]==1 and labelDeltas[j][i] != 0.0)])\n",
    "    #Acts.append([acts[i] for i in range(len(action)) if action[i]==1 ])"
   ]
  },
  {
   "cell_type": "code",
   "execution_count": null,
   "metadata": {
    "ExecuteTime": {
     "end_time": "2017-08-25T10:14:34.876877Z",
     "start_time": "2017-08-25T10:14:34.866697Z"
    },
    "collapsed": true
   },
   "outputs": [],
   "source": [
    "uglyDim = []\n",
    "\n",
    "for j in range(len(labels)):\n",
    "    uglyDim.append([labelDeltas[j][i] for i in range(len(action)) if(action[i]==0 and labelDeltas[j][i] != 0.0)])\n",
    "    #Acts.append([acts[i] for i in range(len(action)) if action[i]==0 ])"
   ]
  },
  {
   "cell_type": "code",
   "execution_count": null,
   "metadata": {
    "ExecuteTime": {
     "end_time": "2017-08-25T10:14:35.463032Z",
     "start_time": "2017-08-25T10:14:35.459049Z"
    },
    "collapsed": true
   },
   "outputs": [],
   "source": [
    "print len(beautyDim[11])"
   ]
  },
  {
   "cell_type": "code",
   "execution_count": null,
   "metadata": {
    "ExecuteTime": {
     "end_time": "2017-08-25T10:14:35.951446Z",
     "start_time": "2017-08-25T10:14:35.947615Z"
    },
    "collapsed": true
   },
   "outputs": [],
   "source": [
    "print labels"
   ]
  },
  {
   "cell_type": "code",
   "execution_count": null,
   "metadata": {
    "ExecuteTime": {
     "end_time": "2017-08-25T10:14:36.343096Z",
     "start_time": "2017-08-25T10:14:36.340531Z"
    },
    "collapsed": true
   },
   "outputs": [],
   "source": [
    "dim = 1"
   ]
  },
  {
   "cell_type": "code",
   "execution_count": null,
   "metadata": {
    "ExecuteTime": {
     "end_time": "2017-08-25T10:14:37.159782Z",
     "start_time": "2017-08-25T10:14:36.774496Z"
    },
    "collapsed": true
   },
   "outputs": [],
   "source": [
    "fig, ax = plt.subplots()\n",
    "fig.set_size_inches(16,12)\n",
    "sns.set(font_scale=2) \n",
    "sns.distplot(beautyDim[dim] ,kde_kws={\"color\": \"b\", \"lw\": 2, \"label\": \"Zscore for Beautified Images\"})\n",
    "sns.distplot(uglyDim[dim] , kde_kws={\"color\": \"g\", \"lw\": 2, \"label\": \"Zscore for Uglified Images\"})\n",
    "ax.axvline(x=np.median(beautyDim[dim]), ymin=0, ymax=1, linewidth=3, color = 'b', linestyle='dotted')\n",
    "ax.axvline(x=np.median(uglyDim[dim]), ymin=0, ymax=1, linewidth=3, color = 'g', linestyle='dotted')\n",
    "plt.xlabel(\"Zscore for  \" + labels[dim] +  \" pixels, in transformed image\" , fontsize = 20)\n",
    "plt.ylabel(\"Population (Norm)\" , fontsize = 20 )"
   ]
  },
  {
   "cell_type": "code",
   "execution_count": null,
   "metadata": {
    "ExecuteTime": {
     "end_time": "2017-08-25T10:14:37.279531Z",
     "start_time": "2017-08-25T10:14:37.275710Z"
    },
    "collapsed": true
   },
   "outputs": [],
   "source": [
    "retreivedDf[retreivedDf.keys()[1]]"
   ]
  },
  {
   "cell_type": "code",
   "execution_count": null,
   "metadata": {
    "ExecuteTime": {
     "end_time": "2017-08-21T14:42:53.008929Z",
     "start_time": "2017-08-21T14:27:34.066175Z"
    },
    "collapsed": true
   },
   "outputs": [],
   "source": [
    "# beautifiedPlaces = []\n",
    "# #beautyOrig = []\n",
    "# uglifiedPlaces = []\n",
    "# #uglyOrig = []c\n",
    "\n",
    "# c1 = 0\n",
    "# c2 = 0\n",
    "# for k in retreivedDf:\n",
    "#     if retreivedDf[k]['XformPath'].split('/')[-1].split('_')[1][-1] == '0':\n",
    "#         #uglyOrig.append(getPlaces(retreivedDf[k]['origPath'])\n",
    "#         c1+=1\n",
    "# #         if c1 >= 61:\n",
    "# #             continue\n",
    "#         uglifiedPlaces.append(getPlaces(retreivedDf[k]['Top5Paths'][0][0]))\n",
    "#     else:\n",
    "#         #beautyOrig.append(getPlaces(retreivedDf[k]['origPath']))\n",
    "#         beautifiedPlaces.append(getPlaces(retreivedDf[k]['Top5Paths'][0][0]))\n",
    "#         c2+=1"
   ]
  },
  {
   "cell_type": "code",
   "execution_count": null,
   "metadata": {
    "ExecuteTime": {
     "end_time": "2017-08-25T13:07:43.271567Z",
     "start_time": "2017-08-25T12:53:31.648815Z"
    },
    "collapsed": true
   },
   "outputs": [],
   "source": [
    "# Find difference of scenes between original and transformed\n",
    "\n",
    "beautifiedPlaces = []\n",
    "uglifiedPlaces = []\n",
    "for k in retreivedDf:\n",
    "    if retreivedDf[k]['XformPath'].split('/')[-1].split('_')[1][-1] == '1':     \n",
    "        uglifiedPlaces.append(getPlaces(retreivedDf[k]['origPath']))\n",
    "        beautifiedPlaces.append(getPlaces(retreivedDf[k]['Top5Paths'][0][0]))"
   ]
  },
  {
   "cell_type": "code",
   "execution_count": null,
   "metadata": {
    "ExecuteTime": {
     "end_time": "2017-08-25T13:07:43.275700Z",
     "start_time": "2017-08-25T13:07:43.273422Z"
    },
    "collapsed": true
   },
   "outputs": [],
   "source": [
    "# print \"Done\" , str(c1) , str(c2)"
   ]
  },
  {
   "cell_type": "code",
   "execution_count": null,
   "metadata": {
    "ExecuteTime": {
     "end_time": "2017-08-25T13:07:43.531856Z",
     "start_time": "2017-08-25T13:07:43.277220Z"
    },
    "collapsed": true
   },
   "outputs": [],
   "source": [
    "with open(\"../Data/categoryIndex_places205.csv\" , 'rb') as f:\n",
    "    cats = f.readlines()"
   ]
  },
  {
   "cell_type": "code",
   "execution_count": null,
   "metadata": {
    "ExecuteTime": {
     "end_time": "2017-08-25T13:07:43.538354Z",
     "start_time": "2017-08-25T13:07:43.533556Z"
    },
    "collapsed": true
   },
   "outputs": [],
   "source": [
    "cats[1]"
   ]
  },
  {
   "cell_type": "code",
   "execution_count": null,
   "metadata": {
    "ExecuteTime": {
     "end_time": "2017-08-25T13:07:43.549855Z",
     "start_time": "2017-08-25T13:07:43.541294Z"
    },
    "collapsed": true
   },
   "outputs": [],
   "source": [
    "catDict = {}\n",
    "for c in cats:\n",
    "    comps = c.strip().split(',')\n",
    "    idx = comps[0].split(' ')[1]\n",
    "    lbl = comps[0].split(' ')[0]\n",
    "    catDict[idx] = {}\n",
    "    catDict[idx]['label'] = lbl\n",
    "    catDict[idx]['tnomy'] = comps[-1]\n"
   ]
  },
  {
   "cell_type": "code",
   "execution_count": null,
   "metadata": {
    "ExecuteTime": {
     "end_time": "2017-08-25T13:07:43.601612Z",
     "start_time": "2017-08-25T13:07:43.552473Z"
    },
    "collapsed": true
   },
   "outputs": [],
   "source": [
    "catDict"
   ]
  },
  {
   "cell_type": "code",
   "execution_count": null,
   "metadata": {
    "ExecuteTime": {
     "end_time": "2017-08-25T13:07:43.618276Z",
     "start_time": "2017-08-25T13:07:43.603855Z"
    },
    "collapsed": true
   },
   "outputs": [],
   "source": [
    "def getTnomyCount(placesProbs,lblDict):\n",
    "    mapper = {'W':'Walkable' , 'L' : 'Landmark' , 'A' : 'Architectural' , 'N' : 'Natural' }\n",
    "    TnomyCount = {'Walkable' : 0 , 'Landmark': 0 , 'Architectural' : 0 , 'Natural' : 0}\n",
    "    TnomyLabels = {'Walkable' : [] , 'Landmark': [] , 'Architectural' : [] , 'Natural' : []}\n",
    "    labelList = []\n",
    "    for arr in placesProbs:\n",
    "        probs = np.squeeze(arr)\n",
    "        topArgs = probs.argsort()[-5:][::-1]\n",
    "       \n",
    "        for i in topArgs:\n",
    "            key = str(i)\n",
    "            if lblDict[key]['tnomy'] != '':\n",
    "                tnomy = lblDict[key]['tnomy']\n",
    "                TnomyCount[mapper[tnomy]]+=1\n",
    "                labelList.append(lblDict[key]['label'])\n",
    "                TnomyLabels[mapper[tnomy]].append(lblDict[key]['label'])\n",
    "    return TnomyCount , labelList , TnomyLabels"
   ]
  },
  {
   "cell_type": "code",
   "execution_count": null,
   "metadata": {
    "ExecuteTime": {
     "end_time": "2017-08-25T13:12:53.422937Z",
     "start_time": "2017-08-25T13:12:53.397332Z"
    },
    "collapsed": true
   },
   "outputs": [],
   "source": [
    "beautfiedTnomy, beautifiedLabels , beautyTnomyLabels = getTnomyCount(beautifiedPlaces,catDict)"
   ]
  },
  {
   "cell_type": "code",
   "execution_count": null,
   "metadata": {
    "ExecuteTime": {
     "end_time": "2017-08-25T13:12:54.006876Z",
     "start_time": "2017-08-25T13:12:54.003664Z"
    },
    "collapsed": true
   },
   "outputs": [],
   "source": [
    "#beauOrigTnomy , beauOrigLabels = getTnomyCount(beautyOrig,catDict)"
   ]
  },
  {
   "cell_type": "code",
   "execution_count": null,
   "metadata": {
    "ExecuteTime": {
     "end_time": "2017-08-25T13:12:54.467653Z",
     "start_time": "2017-08-25T13:12:54.464504Z"
    },
    "collapsed": true
   },
   "outputs": [],
   "source": [
    "#beautfiedTnomy,beauOrigTnomy"
   ]
  },
  {
   "cell_type": "code",
   "execution_count": null,
   "metadata": {
    "ExecuteTime": {
     "end_time": "2017-08-25T13:12:54.937631Z",
     "start_time": "2017-08-25T13:12:54.911177Z"
    },
    "collapsed": true
   },
   "outputs": [],
   "source": [
    "uglifiedTnomy, uglyfiedLabels, uglyTnomyLabels = getTnomyCount(uglifiedPlaces,catDict)"
   ]
  },
  {
   "cell_type": "code",
   "execution_count": null,
   "metadata": {
    "ExecuteTime": {
     "end_time": "2017-08-25T13:12:55.439316Z",
     "start_time": "2017-08-25T13:12:55.434630Z"
    },
    "collapsed": true
   },
   "outputs": [],
   "source": [
    "print beautfiedTnomy , uglifiedTnomy"
   ]
  },
  {
   "cell_type": "code",
   "execution_count": null,
   "metadata": {
    "ExecuteTime": {
     "end_time": "2017-08-25T13:12:59.303276Z",
     "start_time": "2017-08-25T13:12:59.299743Z"
    },
    "collapsed": true
   },
   "outputs": [],
   "source": [
    "labels = [k for k in beautfiedTnomy]"
   ]
  },
  {
   "cell_type": "code",
   "execution_count": null,
   "metadata": {
    "ExecuteTime": {
     "end_time": "2017-08-30T13:00:34.818026Z",
     "start_time": "2017-08-30T13:00:34.546987Z"
    },
    "collapsed": true
   },
   "outputs": [],
   "source": [
    "import seaborn as sns\n",
    "fig, ax = plt.subplots()\n",
    "fig.set_size_inches(12,9)\n",
    "bar_width = 0.35\n",
    "index = np.arange(4)\n",
    "opacity = 0.4\n",
    "sns.set(font_scale=1) \n",
    "rects1 = plt.bar(index, [beautfiedTnomy[l] for l in labels], bar_width,\n",
    "                 alpha=opacity,\n",
    "                 color='g',\n",
    "                 label='Taxonomy categories for Beautified Images ')\n",
    "rects2 = plt.bar(index+bar_width, [uglifiedTnomy[l] for l in labels], bar_width,\n",
    "                 alpha=opacity,\n",
    "                 color='r',\n",
    "                 label='Taxonomy categories for uglified Images ')\n",
    "\n",
    "#plt.xlabel('Taxonomy Category' , fontsize=20)\n",
    "#plt.ylabel('Frequency of Labels in specified Category',fontsize=20)\n",
    "#plt.title('Taxonomical analysis of Scene types',fontsize=20 )\n",
    "plt.xticks(index + bar_width / 2, labels)\n",
    "plt.legend()\n",
    "\n",
    "plt.tight_layout()\n",
    "plt.show()\n"
   ]
  },
  {
   "cell_type": "code",
   "execution_count": null,
   "metadata": {
    "ExecuteTime": {
     "end_time": "2017-08-25T13:14:19.437123Z",
     "start_time": "2017-08-25T13:14:19.431221Z"
    },
    "collapsed": true
   },
   "outputs": [],
   "source": [
    "beautyTnomyLabels.keys()"
   ]
  },
  {
   "cell_type": "code",
   "execution_count": null,
   "metadata": {
    "ExecuteTime": {
     "end_time": "2017-08-25T13:14:20.272864Z",
     "start_time": "2017-08-25T13:14:20.261499Z"
    },
    "collapsed": true
   },
   "outputs": [],
   "source": [
    "dim = 0\n",
    "beautyTnomyCount = collections.Counter(beautyTnomyLabels[labels[dim]])\n",
    "uglyTnomyCount = collections.Counter(uglyTnomyLabels[labels[dim]])\n",
    "prevalenceDict = {}\n",
    "for k in beautyTnomyCount:\n",
    "    prevalenceDict[k] = beautyTnomyCount[k] - uglyTnomyCount[k]\n",
    "    \n",
    "sortedPrevalence = sorted(prevalenceDict.items(), key=operator.itemgetter(1))[::-1]\n",
    "Xlabel = [i[0] for i in sortedPrevalence]\n",
    "YFreq = [i[1] for i in sortedPrevalence]"
   ]
  },
  {
   "cell_type": "code",
   "execution_count": null,
   "metadata": {
    "ExecuteTime": {
     "end_time": "2017-08-25T13:14:21.735617Z",
     "start_time": "2017-08-25T13:14:21.175755Z"
    },
    "collapsed": true
   },
   "outputs": [],
   "source": [
    "fig, ax = plt.subplots(figsize=(30,20))\n",
    "\n",
    "sns.set_style(\"whitegrid\")\n",
    "#sns.set(rc={\"figure.figsize\": (20, 14)})\n",
    "sns.set(font_scale=3) \n",
    "sns.barplot(ax = ax , x=Xlabel, y=YFreq )\n",
    "plt.xticks(rotation=90)\n",
    "ax.set(xlabel='PlacesNet Labels', ylabel='Prevalence of PlacesNet Labels in ' + labels[dim] + ' Taxonomy') "
   ]
  },
  {
   "cell_type": "code",
   "execution_count": null,
   "metadata": {
    "ExecuteTime": {
     "end_time": "2017-08-25T13:14:46.707219Z",
     "start_time": "2017-08-25T13:14:46.703771Z"
    },
    "collapsed": true
   },
   "outputs": [],
   "source": [
    "#uglyOrigTnomy , uglyOrigLabels = getTnomyCount(uglyOrig,catDict)"
   ]
  },
  {
   "cell_type": "code",
   "execution_count": null,
   "metadata": {
    "ExecuteTime": {
     "end_time": "2017-08-25T13:14:47.165642Z",
     "start_time": "2017-08-25T13:14:47.162476Z"
    },
    "collapsed": true
   },
   "outputs": [],
   "source": [
    "#uglifiedTnomy, uglyOrigTnomy"
   ]
  },
  {
   "cell_type": "code",
   "execution_count": null,
   "metadata": {
    "ExecuteTime": {
     "end_time": "2017-08-25T13:14:47.469883Z",
     "start_time": "2017-08-25T13:14:47.466860Z"
    },
    "collapsed": true
   },
   "outputs": [],
   "source": [
    "#uglyLabels"
   ]
  },
  {
   "cell_type": "code",
   "execution_count": null,
   "metadata": {
    "ExecuteTime": {
     "end_time": "2017-08-25T13:14:47.838631Z",
     "start_time": "2017-08-25T13:14:47.835598Z"
    },
    "collapsed": true
   },
   "outputs": [],
   "source": [
    "#beautifiedLabels"
   ]
  },
  {
   "cell_type": "code",
   "execution_count": null,
   "metadata": {
    "ExecuteTime": {
     "end_time": "2017-08-25T13:14:48.335950Z",
     "start_time": "2017-08-25T13:14:48.331632Z"
    },
    "collapsed": true
   },
   "outputs": [],
   "source": [
    "common = list(set(uglyfiedLabels).intersection(set(beautifiedLabels)))\n",
    "#common = list(set(uglyOrigLabels).intersection(set(beauOrigLabels)))"
   ]
  },
  {
   "cell_type": "code",
   "execution_count": null,
   "metadata": {
    "ExecuteTime": {
     "end_time": "2017-08-25T13:14:49.045148Z",
     "start_time": "2017-08-25T13:14:49.038873Z"
    },
    "collapsed": true
   },
   "outputs": [],
   "source": [
    "beautySpecific = [i for i in beautifiedLabels if i not in common]\n",
    "#beautySpecific = [i for i in beauOrigLabels if i not in common]"
   ]
  },
  {
   "cell_type": "code",
   "execution_count": null,
   "metadata": {
    "ExecuteTime": {
     "end_time": "2017-08-25T13:14:49.766297Z",
     "start_time": "2017-08-25T13:14:49.760868Z"
    },
    "collapsed": true
   },
   "outputs": [],
   "source": [
    "set(beautySpecific)"
   ]
  },
  {
   "cell_type": "code",
   "execution_count": null,
   "metadata": {
    "ExecuteTime": {
     "end_time": "2017-08-25T13:14:52.142206Z",
     "start_time": "2017-08-25T13:14:52.136358Z"
    },
    "collapsed": true
   },
   "outputs": [],
   "source": [
    "uglySpecific = [i for i in uglyfiedLabels if i not in common]"
   ]
  },
  {
   "cell_type": "code",
   "execution_count": null,
   "metadata": {
    "ExecuteTime": {
     "end_time": "2017-08-25T13:14:53.208225Z",
     "start_time": "2017-08-25T13:14:53.200425Z"
    },
    "collapsed": true
   },
   "outputs": [],
   "source": [
    "set(uglySpecific)"
   ]
  },
  {
   "cell_type": "code",
   "execution_count": null,
   "metadata": {
    "ExecuteTime": {
     "end_time": "2017-08-25T13:15:04.532474Z",
     "start_time": "2017-08-25T13:15:04.529273Z"
    },
    "collapsed": true
   },
   "outputs": [],
   "source": [
    "#set(common)"
   ]
  },
  {
   "cell_type": "code",
   "execution_count": null,
   "metadata": {
    "ExecuteTime": {
     "end_time": "2017-08-25T13:15:05.832594Z",
     "start_time": "2017-08-25T13:15:05.823450Z"
    },
    "collapsed": true
   },
   "outputs": [],
   "source": [
    "beautyCount = collections.Counter(beautifiedLabels)\n",
    "uglyCount = collections.Counter(uglyfiedLabels)\n",
    "prevalenceDict = {}\n",
    "for k in beautyCount:\n",
    "    prevalenceDict[k] = beautyCount[k] - uglyCount[k]"
   ]
  },
  {
   "cell_type": "code",
   "execution_count": null,
   "metadata": {
    "ExecuteTime": {
     "end_time": "2017-08-25T13:15:06.391989Z",
     "start_time": "2017-08-25T13:15:06.382947Z"
    },
    "collapsed": true
   },
   "outputs": [],
   "source": [
    "beautyCount"
   ]
  },
  {
   "cell_type": "code",
   "execution_count": null,
   "metadata": {
    "ExecuteTime": {
     "end_time": "2017-08-25T13:15:07.752139Z",
     "start_time": "2017-08-25T13:15:07.739133Z"
    },
    "collapsed": true
   },
   "outputs": [],
   "source": [
    "uglyCount"
   ]
  },
  {
   "cell_type": "code",
   "execution_count": null,
   "metadata": {
    "ExecuteTime": {
     "end_time": "2017-08-25T13:15:08.477066Z",
     "start_time": "2017-08-25T13:15:08.472988Z"
    },
    "collapsed": true
   },
   "outputs": [],
   "source": [
    "\n",
    "sortedPrevalence = sorted(prevalenceDict.items(), key=operator.itemgetter(1))[::-1]\n"
   ]
  },
  {
   "cell_type": "code",
   "execution_count": null,
   "metadata": {
    "ExecuteTime": {
     "end_time": "2017-08-25T13:15:09.283178Z",
     "start_time": "2017-08-25T13:15:09.270647Z"
    },
    "collapsed": true
   },
   "outputs": [],
   "source": [
    "sortedPrevalence"
   ]
  },
  {
   "cell_type": "code",
   "execution_count": null,
   "metadata": {
    "ExecuteTime": {
     "end_time": "2017-08-25T13:15:09.946630Z",
     "start_time": "2017-08-25T13:15:09.942361Z"
    },
    "collapsed": true
   },
   "outputs": [],
   "source": [
    "Xlabel = [i[0] for i in sortedPrevalence]\n",
    "YFreq = [i[1] for i in sortedPrevalence]"
   ]
  },
  {
   "cell_type": "code",
   "execution_count": null,
   "metadata": {
    "ExecuteTime": {
     "end_time": "2017-08-25T13:15:11.514007Z",
     "start_time": "2017-08-25T13:15:10.583011Z"
    },
    "collapsed": true
   },
   "outputs": [],
   "source": [
    "fig, ax = plt.subplots(figsize=(30,20))\n",
    "\n",
    "sns.set_style(\"whitegrid\")\n",
    "#sns.set(rc={\"figure.figsize\": (20, 14)})\n",
    "sns.set(font_scale=4) \n",
    "sns.barplot(ax = ax , x=Xlabel, y=YFreq )\n",
    "plt.xticks(rotation=90)\n",
    "ax.set(xlabel='Segnet Labels', ylabel='Prevalence of PlacesNet Labels Beautified Images compared to Uglified Images')"
   ]
  },
  {
   "cell_type": "markdown",
   "metadata": {
    "ExecuteTime": {
     "end_time": "2017-08-15T14:32:05.094880Z",
     "start_time": "2017-08-15T14:32:05.092169Z"
    },
    "collapsed": true
   },
   "source": [
    "## Do some texture analysis"
   ]
  },
  {
   "cell_type": "code",
   "execution_count": null,
   "metadata": {
    "ExecuteTime": {
     "end_time": "2017-08-25T13:21:11.376872Z",
     "start_time": "2017-08-25T13:21:11.373368Z"
    },
    "collapsed": true,
    "scrolled": true
   },
   "outputs": [],
   "source": [
    "# retreivedDf[retreivedDf.keys()[1]]['Top5Keys'][0]"
   ]
  },
  {
   "cell_type": "code",
   "execution_count": null,
   "metadata": {
    "ExecuteTime": {
     "end_time": "2017-08-15T13:30:36.996377Z",
     "start_time": "2017-08-15T13:30:35.647711Z"
    },
    "collapsed": true
   },
   "outputs": [],
   "source": [
    "textureDf = {}\n",
    "textureLabels = ['Building', 'Road', 'Sky', 'Tree' ]\n",
    "for k in retreivedDf:\n",
    "    xforminfo = retreivedDf[k]['XformPath'].split('/')[-1].split('_')\n",
    "    xformLabel = xforminfo[1]\n",
    "    xformact = float(xforminfo[2])\n",
    "    \n",
    "    textureDf[retreivedDf[k]['key']] = {}\n",
    "    textureDf[retreivedDf[k]['key']]['act'] = xformact\n",
    "    textureDf[retreivedDf[k]['key']]['label'] = int(xformLabel[-1])\n",
    "    textureDf[retreivedDf[k]['key']]['textures'] = []\n",
    "    for l in textureLabels:\n",
    "        textureDf[retreivedDf[k]['key']]['textures'].append( np.median(segnetLabels[retreivedDf[k]['key']][l]))\n",
    "    textureDf[retreivedDf[k]['key']]['Top5'] = {}\n",
    "    matchList = retreivedDf[k]['Top5Keys'][0]\n",
    "    for m in matchList:  \n",
    "        if m in testSegnetLabels.keys():\n",
    "            textureDf[retreivedDf[k]['key']]['Top5'][m] = []\n",
    "            for l in textureLabels:\n",
    "                textureDf[retreivedDf[k]['key']]['Top5'][m].append(np.median(testSegnetLabels[m][l]))\n",
    "\n",
    "\n",
    "    "
   ]
  },
  {
   "cell_type": "code",
   "execution_count": null,
   "metadata": {
    "ExecuteTime": {
     "end_time": "2017-08-15T13:30:49.102933Z",
     "start_time": "2017-08-15T13:30:49.094505Z"
    },
    "collapsed": true
   },
   "outputs": [],
   "source": [
    "textureDf[textureDf.keys()[1]]"
   ]
  },
  {
   "cell_type": "code",
   "execution_count": null,
   "metadata": {
    "ExecuteTime": {
     "end_time": "2017-08-15T13:39:46.091233Z",
     "start_time": "2017-08-15T13:39:45.492033Z"
    },
    "collapsed": true
   },
   "outputs": [],
   "source": [
    "scores = {}\n",
    "for k in testSegnetLabels:\n",
    "    for l in textureLabels:\n",
    "        if l not in scores:\n",
    "            scores[l] = []\n",
    "        scores[l].append(np.median(testSegnetLabels[m][l]))"
   ]
  },
  {
   "cell_type": "code",
   "execution_count": null,
   "metadata": {
    "ExecuteTime": {
     "end_time": "2017-08-15T13:41:49.237156Z",
     "start_time": "2017-08-15T13:41:49.221603Z"
    },
    "collapsed": true
   },
   "outputs": [],
   "source": [
    "meanTextures = {}\n",
    "stdTextures = {}\n",
    "for k in scores:\n",
    "    meanTextures[k] = np.mean(scores[k])\n",
    "    stdTextures[k] = np.std(scores[k])\n",
    "    \n",
    "print meanTextures , stdTextures"
   ]
  },
  {
   "cell_type": "code",
   "execution_count": null,
   "metadata": {
    "ExecuteTime": {
     "end_time": "2017-08-16T13:09:35.319383Z",
     "start_time": "2017-08-16T13:09:35.315916Z"
    },
    "collapsed": true
   },
   "outputs": [],
   "source": [
    "dim = 3"
   ]
  },
  {
   "cell_type": "code",
   "execution_count": null,
   "metadata": {
    "ExecuteTime": {
     "end_time": "2017-08-16T13:09:35.511614Z",
     "start_time": "2017-08-16T13:09:35.504875Z"
    },
    "collapsed": true
   },
   "outputs": [],
   "source": [
    "testSegnetLabels[testSegnetLabels.keys()[1]][textureLabels[dim]]"
   ]
  },
  {
   "cell_type": "code",
   "execution_count": null,
   "metadata": {
    "ExecuteTime": {
     "end_time": "2017-08-16T13:09:35.883660Z",
     "start_time": "2017-08-16T13:09:35.680835Z"
    },
    "collapsed": true
   },
   "outputs": [],
   "source": [
    "beautyTextureZscore = []\n",
    "uglyTextureZscore = []\n",
    "for k in textureDf:\n",
    "    aggregate = [ np.median(testSegnetLabels[m][textureLabels[dim]][0]) for m in textureDf[k]['Top5'] ]\n",
    "    for a in aggregate:\n",
    "        orig = a\n",
    "        Zscore = (orig - meanTextures[textureLabels[dim]])/stdTextures[textureLabels[dim]]\n",
    "        if textureDf[k]['label'] == 1:\n",
    "            beautyTextureZscore.append(Zscore)\n",
    "        else:\n",
    "            uglyTextureZscore.append(Zscore)\n",
    "print aggregate"
   ]
  },
  {
   "cell_type": "code",
   "execution_count": null,
   "metadata": {
    "ExecuteTime": {
     "end_time": "2017-08-16T13:09:35.888664Z",
     "start_time": "2017-08-16T13:09:35.885355Z"
    },
    "collapsed": true
   },
   "outputs": [],
   "source": [
    "len(beautyTextureZscore)"
   ]
  },
  {
   "cell_type": "code",
   "execution_count": null,
   "metadata": {
    "ExecuteTime": {
     "end_time": "2017-08-16T13:09:36.705508Z",
     "start_time": "2017-08-16T13:09:36.045664Z"
    },
    "collapsed": true
   },
   "outputs": [],
   "source": [
    "fig, ax = plt.subplots()\n",
    "fig.set_size_inches(16,12)\n",
    "sns.set(font_scale=2) \n",
    "sns.distplot(beautyTextureZscore ,kde_kws={\"color\": \"b\", \"lw\": 2, \"label\": \"Zscore for Beautified Images\"})\n",
    "sns.distplot(uglyTextureZscore , kde_kws={\"color\": \"g\", \"lw\": 2, \"label\": \"Zscore for Uglified Images\"})\n",
    "ax.axvline(x=np.median(beautyTextureZscore), ymin=0, ymax=1, linewidth=3, color = 'b', linestyle='dotted')\n",
    "ax.axvline(x=np.median(uglyTextureZscore), ymin=0, ymax=1, linewidth=3, color = 'g', linestyle='dotted')\n",
    "plt.xlabel(\"Zscore for Texture of  \" + textureLabels[dim] +  \" pixels, in transformed image\" , fontsize = 20)\n",
    "plt.ylabel(\"Frequency\" , fontsize = 20 )"
   ]
  }
 ],
 "metadata": {
  "kernelspec": {
   "display_name": "Python 2",
   "language": "python",
   "name": "python2"
  },
  "language_info": {
   "codemirror_mode": {
    "name": "ipython",
    "version": 2
   },
   "file_extension": ".py",
   "mimetype": "text/x-python",
   "name": "python",
   "nbconvert_exporter": "python",
   "pygments_lexer": "ipython2",
   "version": "2.7.12"
  }
 },
 "nbformat": 4,
 "nbformat_minor": 2
}
