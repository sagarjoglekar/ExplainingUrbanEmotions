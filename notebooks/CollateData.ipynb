{
 "cells": [
  {
   "cell_type": "code",
   "execution_count": 35,
   "metadata": {
    "ExecuteTime": {
     "end_time": "2017-11-16T15:19:57.264665Z",
     "start_time": "2017-11-16T15:19:57.255799Z"
    },
    "collapsed": true
   },
   "outputs": [],
   "source": [
    "import json\n",
    "import numpy as np\n",
    "import seaborn as sns\n",
    "%matplotlib inline"
   ]
  },
  {
   "cell_type": "code",
   "execution_count": 2,
   "metadata": {
    "ExecuteTime": {
     "end_time": "2017-11-08T17:41:49.308803Z",
     "start_time": "2017-11-08T17:41:49.291835Z"
    },
    "collapsed": true
   },
   "outputs": [],
   "source": [
    "beautified = json.load(open(\"../Data/bostonResultsAll/EverythingUnlockedBoston.json\",'rb'))"
   ]
  },
  {
   "cell_type": "code",
   "execution_count": 3,
   "metadata": {
    "ExecuteTime": {
     "end_time": "2017-11-08T17:41:49.929866Z",
     "start_time": "2017-11-08T17:41:49.909983Z"
    }
   },
   "outputs": [
    {
     "data": {
      "text/plain": [
       "127"
      ]
     },
     "execution_count": 3,
     "metadata": {},
     "output_type": "execute_result"
    }
   ],
   "source": [
    "len(beautified.keys())"
   ]
  },
  {
   "cell_type": "code",
   "execution_count": 12,
   "metadata": {
    "ExecuteTime": {
     "end_time": "2017-11-08T17:44:33.686253Z",
     "start_time": "2017-11-08T17:44:33.681752Z"
    },
    "collapsed": true
   },
   "outputs": [],
   "source": [
    "def shannonEntropy(vals):\n",
    "    return -np.sum([pA*np.log(pA) for pA in vals])"
   ]
  },
  {
   "cell_type": "code",
   "execution_count": 5,
   "metadata": {
    "ExecuteTime": {
     "end_time": "2017-11-08T17:41:54.964952Z",
     "start_time": "2017-11-08T17:41:54.956142Z"
    }
   },
   "outputs": [
    {
     "data": {
      "text/plain": [
       "{u'Top5Keys': [[u'513d6781fdc9f035870040bf',\n",
       "   u'513d6b7cfdc9f03587004d23',\n",
       "   u'513d67d2fdc9f0358700418b',\n",
       "   u'513d6c9dfdc9f03587004ff1',\n",
       "   u'513d68ccfdc9f035870044d7']],\n",
       " u'Top5Locs': {u'513d6781fdc9f035870040bf': {u'lat': 42.306672,\n",
       "   u'long': -71.12599699999998},\n",
       "  u'513d67d2fdc9f0358700418b': {u'lat': 42.313072,\n",
       "   u'long': -71.09282400000002},\n",
       "  u'513d68ccfdc9f035870044d7': {u'lat': 42.311218,\n",
       "   u'long': -71.12872400000003},\n",
       "  u'513d6b7cfdc9f03587004d23': {u'lat': 42.410808, u'long': -71.137429},\n",
       "  u'513d6c9dfdc9f03587004ff1': {u'lat': 42.338113,\n",
       "   u'long': -71.13611999999999}},\n",
       " u'Top5Paths': [[u'/work/sagarj/Work/BellLabs/streetview/PPImages/513d6781fdc9f035870040bf.jpg',\n",
       "   u'/work/sagarj/Work/BellLabs/streetview/PPImages/513d6b7cfdc9f03587004d23.jpg',\n",
       "   u'/work/sagarj/Work/BellLabs/streetview/PPImages/513d67d2fdc9f0358700418b.jpg',\n",
       "   u'/work/sagarj/Work/BellLabs/streetview/PPImages/513d6c9dfdc9f03587004ff1.jpg',\n",
       "   u'/work/sagarj/Work/BellLabs/streetview/PPImages/513d68ccfdc9f035870044d7.jpg']],\n",
       " u'XformPath': u'/datasets/sagarj/streetView/Transform_Boston150/513d679dfdc9f03587004109_0001_0.480963_.jpg',\n",
       " u'key': u'513d679dfdc9f03587004109',\n",
       " u'origPath': u'/work/sagarj/Work/BellLabs/streetview/PPImages/513d679dfdc9f03587004109.jpg',\n",
       " u'originLoc': {u'lat': 42.406936, u'long': -71.01274000000002}}"
      ]
     },
     "execution_count": 5,
     "metadata": {},
     "output_type": "execute_result"
    }
   ],
   "source": [
    "beautified[beautified.keys()[1]]['']"
   ]
  },
  {
   "cell_type": "code",
   "execution_count": 6,
   "metadata": {
    "ExecuteTime": {
     "end_time": "2017-11-08T17:41:58.406419Z",
     "start_time": "2017-11-08T17:41:58.368673Z"
    },
    "collapsed": true
   },
   "outputs": [],
   "source": [
    "bostonScores = json.load(open(\"bostonScores.json\",'rb'))"
   ]
  },
  {
   "cell_type": "code",
   "execution_count": 54,
   "metadata": {
    "ExecuteTime": {
     "end_time": "2017-11-21T14:56:01.389744Z",
     "start_time": "2017-11-21T14:56:01.381713Z"
    }
   },
   "outputs": [
    {
     "data": {
      "text/plain": [
       "{u'GreenCover': 2,\n",
       " u'Openness': 4,\n",
       " u'TnomyScores': {u'Architectural': 5,\n",
       "  u'Landmark': 0,\n",
       "  u'Natural': 0,\n",
       "  u'Walkable': 0},\n",
       " u'Top5PlaceLabels': [u'/m/motel',\n",
       "  u'/r/residential_neighborhood',\n",
       "  u'/p/parking_lot',\n",
       "  u'/d/driveway',\n",
       "  u'/h/highway'],\n",
       " 'VisualComplexity': 2,\n",
       " u'segnet': {u'Building': 0.05115740740740741,\n",
       "  u'Fence': 0.010445601851851852,\n",
       "  u'Pavement': 0.024189814814814813,\n",
       "  u'Pedestrian': 0.0011458333333333333,\n",
       "  u'Pole': 0.0047395833333333335,\n",
       "  u'Road': 0.3553761574074074,\n",
       "  u'Road Marking': 0.00013310185185185186,\n",
       "  u'Sign Symbol': 0.001574074074074074,\n",
       "  u'Sky': 0.3464988425925926,\n",
       "  u'Tree': 0.18856481481481482,\n",
       "  u'Vehicle': 0.01617476851851852}}"
      ]
     },
     "execution_count": 54,
     "metadata": {},
     "output_type": "execute_result"
    }
   ],
   "source": [
    "bostonScores[bostonScores.keys()[1]]"
   ]
  },
  {
   "cell_type": "code",
   "execution_count": 55,
   "metadata": {
    "ExecuteTime": {
     "end_time": "2017-11-21T14:57:37.309819Z",
     "start_time": "2017-11-21T14:57:37.301607Z"
    },
    "collapsed": true
   },
   "outputs": [],
   "source": [
    "pavementValues = []\n",
    "\n",
    "for k in bostonScores:\n",
    "    if 'Pavement' in bostonScores[k]['segnet']:\n",
    "        pavementValues.append(bostonScores[k]['segnet']['Pavement'])\n",
    "    \n"
   ]
  },
  {
   "cell_type": "code",
   "execution_count": 56,
   "metadata": {
    "ExecuteTime": {
     "end_time": "2017-11-21T14:57:52.549248Z",
     "start_time": "2017-11-21T14:57:52.285947Z"
    }
   },
   "outputs": [
    {
     "data": {
      "text/plain": [
       "<matplotlib.axes._subplots.AxesSubplot at 0x7f8698476b90>"
      ]
     },
     "execution_count": 56,
     "metadata": {},
     "output_type": "execute_result"
    },
    {
     "data": {
      "image/png": "[encoded data removed]",
      "text/plain": [
       "<matplotlib.figure.Figure at 0x7f86c0044350>"
      ]
     },
     "metadata": {},
     "output_type": "display_data"
    }
   ],
   "source": [
    "sns.distplot(pavementValues)"
   ]
  },
  {
   "cell_type": "code",
   "execution_count": 63,
   "metadata": {
    "ExecuteTime": {
     "end_time": "2017-11-21T15:07:54.724392Z",
     "start_time": "2017-11-21T15:07:54.705231Z"
    },
    "collapsed": true
   },
   "outputs": [],
   "source": [
    "for k in bostonScores:\n",
    "    pavWalk = 0\n",
    "    if 'Pavement' in bostonScores[k]['segnet']:\n",
    "        segnetPavement = bostonScores[k]['segnet']['Pavement']\n",
    "        if segnetPavement <= 0.03:\n",
    "            pavWalk = 1\n",
    "        elif segnetPavement > 0.03 and segnetPavement <= 0.06:\n",
    "            pavWalk = 2\n",
    "        elif segnetPavement > 0.06 and segnetPavement <= 0.09:\n",
    "            pavWalk = 3\n",
    "        elif segnetPavement > 0.09 and segnetPavement <= 0.12:\n",
    "            pavWalk = 4\n",
    "        elif segnetPavement > 0.12:\n",
    "            pavWalk = 5\n",
    "    walkbaleScore = max(bostonScores[k]['TnomyScores']['Walkable'],pavWalk)\n",
    "    bostonScores[k]['TnomyScores']['Walkable'] = walkbaleScore"
   ]
  },
  {
   "cell_type": "code",
   "execution_count": 64,
   "metadata": {
    "ExecuteTime": {
     "end_time": "2017-11-21T15:07:55.491075Z",
     "start_time": "2017-11-21T15:07:55.487726Z"
    },
    "collapsed": true
   },
   "outputs": [],
   "source": [
    "entropyList = []"
   ]
  },
  {
   "cell_type": "code",
   "execution_count": 65,
   "metadata": {
    "ExecuteTime": {
     "end_time": "2017-11-21T15:07:57.086183Z",
     "start_time": "2017-11-21T15:07:57.038422Z"
    },
    "collapsed": true
   },
   "outputs": [],
   "source": [
    "for k in bostonScores:\n",
    "    segnetVals = bostonScores[k]['segnet'].values()\n",
    "    entropy = shannonEntropy(segnetVals)\n",
    "    entropyList.append(entropy)\n",
    "    score = 0\n",
    "    if entropy <= 1.25:\n",
    "        score = 1\n",
    "    elif entropy > 1.25 and entropy <= 1.5:\n",
    "        score = 2\n",
    "    elif entropy > 1.5 and entropy <= 1.65:\n",
    "        score = 3\n",
    "    elif entropy > 1.65 and entropy <= 1.80:\n",
    "        score = 4\n",
    "    elif entropy > 1.80:\n",
    "        score = 5\n",
    "#     print score\n",
    "    bostonScores[k]['VisualComplexity'] = score"
   ]
  },
  {
   "cell_type": "code",
   "execution_count": 66,
   "metadata": {
    "ExecuteTime": {
     "end_time": "2017-11-21T15:07:59.031796Z",
     "start_time": "2017-11-21T15:07:58.801110Z"
    }
   },
   "outputs": [
    {
     "data": {
      "text/plain": [
       "<matplotlib.axes._subplots.AxesSubplot at 0x7f86985dc5d0>"
      ]
     },
     "execution_count": 66,
     "metadata": {},
     "output_type": "execute_result"
    },
    {
     "data": {
      "image/png": "[encoded data removed]",
      "text/plain": [
       "<matplotlib.figure.Figure at 0x7f86981f5890>"
      ]
     },
     "metadata": {},
     "output_type": "display_data"
    }
   ],
   "source": [
    "sns.distplot(entropyList)"
   ]
  },
  {
   "cell_type": "code",
   "execution_count": 67,
   "metadata": {
    "ExecuteTime": {
     "end_time": "2017-11-21T15:08:00.820888Z",
     "start_time": "2017-11-21T15:08:00.815436Z"
    }
   },
   "outputs": [
    {
     "data": {
      "text/plain": [
       "u'513d676efdc9f03587004089'"
      ]
     },
     "execution_count": 67,
     "metadata": {},
     "output_type": "execute_result"
    }
   ],
   "source": [
    "bostonScores.keys()[10]"
   ]
  },
  {
   "cell_type": "code",
   "execution_count": 68,
   "metadata": {
    "ExecuteTime": {
     "end_time": "2017-11-21T15:08:01.246628Z",
     "start_time": "2017-11-21T15:08:01.238799Z"
    }
   },
   "outputs": [
    {
     "data": {
      "text/plain": [
       "{u'GreenCover': 3,\n",
       " u'Openness': 2,\n",
       " u'TnomyScores': {u'Architectural': 4,\n",
       "  u'Landmark': 0,\n",
       "  u'Natural': 0,\n",
       "  u'Walkable': 5},\n",
       " u'Top5PlaceLabels': [u'/r/residential_neighborhood',\n",
       "  u'/a/alley',\n",
       "  u'/a/apartment_building/outdoor',\n",
       "  u'/d/driveway',\n",
       "  u'/o/office_building'],\n",
       " 'VisualComplexity': 5,\n",
       " u'segnet': {u'Bike': 6.944444444444444e-05,\n",
       "  u'Building': 0.19435763888888888,\n",
       "  u'Fence': 0.027349537037037037,\n",
       "  u'Pavement': 0.17430555555555555,\n",
       "  u'Pedestrian': 0.0039178240740740744,\n",
       "  u'Pole': 0.020133101851851853,\n",
       "  u'Road': 0.10952546296296296,\n",
       "  u'Road Marking': 0.0008333333333333334,\n",
       "  u'Sign Symbol': 0.002662037037037037,\n",
       "  u'Sky': 0.18150462962962963,\n",
       "  u'Tree': 0.23583333333333334,\n",
       "  u'Vehicle': 0.04950810185185185}}"
      ]
     },
     "execution_count": 68,
     "metadata": {},
     "output_type": "execute_result"
    }
   ],
   "source": [
    "bostonScores[bostonScores.keys()[10]]"
   ]
  },
  {
   "cell_type": "code",
   "execution_count": 69,
   "metadata": {
    "ExecuteTime": {
     "end_time": "2017-11-21T15:08:09.191890Z",
     "start_time": "2017-11-21T15:08:09.175439Z"
    },
    "collapsed": true
   },
   "outputs": [],
   "source": [
    "bostonImages = json.load(open(\"bostonImages.json\",'rb'))"
   ]
  },
  {
   "cell_type": "code",
   "execution_count": 70,
   "metadata": {
    "ExecuteTime": {
     "end_time": "2017-11-21T15:08:10.269646Z",
     "start_time": "2017-11-21T15:08:10.263540Z"
    }
   },
   "outputs": [
    {
     "data": {
      "text/plain": [
       "{u'lat': 42.298339,\n",
       " u'long': -71.10185100000002,\n",
       " u'rating': 27.808550020933033,\n",
       " u'variance': 27.808550020933033}"
      ]
     },
     "execution_count": 70,
     "metadata": {},
     "output_type": "execute_result"
    }
   ],
   "source": [
    "bostonImages[bostonImages.keys()[1]]"
   ]
  },
  {
   "cell_type": "code",
   "execution_count": 71,
   "metadata": {
    "ExecuteTime": {
     "end_time": "2017-11-21T15:08:11.325697Z",
     "start_time": "2017-11-21T15:08:11.320200Z"
    }
   },
   "outputs": [
    {
     "data": {
      "text/plain": [
       "1316"
      ]
     },
     "execution_count": 71,
     "metadata": {},
     "output_type": "execute_result"
    }
   ],
   "source": [
    "len(bostonImages.keys())"
   ]
  },
  {
   "cell_type": "code",
   "execution_count": 72,
   "metadata": {
    "ExecuteTime": {
     "end_time": "2017-11-21T15:08:12.082372Z",
     "start_time": "2017-11-21T15:08:12.078288Z"
    },
    "collapsed": true
   },
   "outputs": [],
   "source": [
    "finalDict = {}"
   ]
  },
  {
   "cell_type": "code",
   "execution_count": 73,
   "metadata": {
    "ExecuteTime": {
     "end_time": "2017-11-21T15:08:12.930457Z",
     "start_time": "2017-11-21T15:08:12.902961Z"
    },
    "collapsed": true
   },
   "outputs": [],
   "source": [
    "for k in bostonImages:\n",
    "    finalDict[k] = dict()\n",
    "    finalDict[k]['location'] = dict()\n",
    "    finalDict[k]['location']['lat'] = bostonImages[k]['lat']\n",
    "    finalDict[k]['location']['long'] = bostonImages[k]['long']\n",
    "    finalDict[k]['trueSkill'] = bostonImages[k]['rating']\n",
    "#     finalDict[k]['trueSkillVar'] = bostonImages[k]['variance']\n",
    "    finalDict[k]['metrics'] = dict()\n",
    "    if k in bostonScores:\n",
    "        finalDict[k]['metrics'] = bostonScores[k]\n",
    "    finalDict[k]['beautified'] = dict()\n",
    "    if k in beautified:\n",
    "        finalDict[k]['beautified']['flag'] = True\n",
    "        finalDict[k]['beautified']['XformedKeys'] = beautified[k]['Top5Keys']\n",
    "    else:\n",
    "        finalDict[k]['beautified']['flag'] = False\n",
    "        finalDict[k]['beautified']['XformedKeys'] = []"
   ]
  },
  {
   "cell_type": "code",
   "execution_count": 77,
   "metadata": {
    "ExecuteTime": {
     "end_time": "2017-11-21T15:08:41.225239Z",
     "start_time": "2017-11-21T15:08:41.216462Z"
    }
   },
   "outputs": [
    {
     "data": {
      "text/plain": [
       "{'beautified': {'XformedKeys': [], 'flag': False},\n",
       " 'location': {'lat': 42.403638, 'long': -71.046266},\n",
       " 'metrics': {u'GreenCover': 2,\n",
       "  u'Openness': 3,\n",
       "  u'TnomyScores': {u'Architectural': 3,\n",
       "   u'Landmark': 0,\n",
       "   u'Natural': 0,\n",
       "   u'Walkable': 2},\n",
       "  u'Top5PlaceLabels': [u'/r/residential_neighborhood',\n",
       "   u'/a/apartment_building/outdoor',\n",
       "   u'/a/alley',\n",
       "   u'/c/crosswalk',\n",
       "   u'/p/parking_lot'],\n",
       "  'VisualComplexity': 4,\n",
       "  u'segnet': {u'Bike': 0.0015567129629629629,\n",
       "   u'Building': 0.16808449074074075,\n",
       "   u'Fence': 0.008900462962962962,\n",
       "   u'Pavement': 0.03125,\n",
       "   u'Pedestrian': 0.0011111111111111111,\n",
       "   u'Pole': 0.006487268518518519,\n",
       "   u'Road': 0.24349537037037036,\n",
       "   u'Road Marking': 0.005572916666666667,\n",
       "   u'Sign Symbol': 0.0016782407407407408,\n",
       "   u'Sky': 0.24335069444444443,\n",
       "   u'Tree': 0.1887962962962963,\n",
       "   u'Vehicle': 0.09971643518518518}},\n",
       " 'trueSkill': 21.546167887657763}"
      ]
     },
     "execution_count": 77,
     "metadata": {},
     "output_type": "execute_result"
    }
   ],
   "source": [
    "finalDict[finalDict.keys()[15]]"
   ]
  },
  {
   "cell_type": "code",
   "execution_count": 47,
   "metadata": {
    "ExecuteTime": {
     "end_time": "2017-11-16T15:24:21.214533Z",
     "start_time": "2017-11-16T15:24:21.208934Z"
    }
   },
   "outputs": [
    {
     "data": {
      "text/plain": [
       "1316"
      ]
     },
     "execution_count": 47,
     "metadata": {},
     "output_type": "execute_result"
    }
   ],
   "source": [
    "len(finalDict.keys())"
   ]
  },
  {
   "cell_type": "code",
   "execution_count": 78,
   "metadata": {
    "ExecuteTime": {
     "end_time": "2017-11-21T15:08:53.004872Z",
     "start_time": "2017-11-21T15:08:52.825972Z"
    },
    "collapsed": true
   },
   "outputs": [],
   "source": [
    "# json.dump(finalDict,open(\"BostonCollatedV4.json\",'wb'))"
   ]
  },
  {
   "cell_type": "code",
   "execution_count": null,
   "metadata": {
    "collapsed": true
   },
   "outputs": [],
   "source": []
  }
 ],
 "metadata": {
  "kernelspec": {
   "display_name": "Python 2",
   "language": "python",
   "name": "python2"
  },
  "language_info": {
   "codemirror_mode": {
    "name": "ipython",
    "version": 2
   },
   "file_extension": ".py",
   "mimetype": "text/x-python",
   "name": "python",
   "nbconvert_exporter": "python",
   "pygments_lexer": "ipython2",
   "version": "2.7.12"
  }
 },
 "nbformat": 4,
 "nbformat_minor": 2
}
