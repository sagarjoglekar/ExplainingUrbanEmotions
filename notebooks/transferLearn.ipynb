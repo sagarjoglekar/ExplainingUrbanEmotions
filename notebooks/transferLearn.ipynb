{
 "cells": [
  {
   "cell_type": "code",
   "execution_count": 44,
   "metadata": {
    "collapsed": false
   },
   "outputs": [],
   "source": [
    "import numpy as np\n",
    "import pandas as pd \n",
    "from sklearn import cross_validation\n",
    "from sklearn.cross_validation import KFold\n",
    "from sklearn.metrics import mean_squared_error\n",
    "from sklearn.ensemble import RandomForestClassifier \n",
    "from sklearn.cross_validation import cross_val_score\n",
    "from sklearn.metrics import f1_score\n",
    "from sklearn.metrics import precision_recall_fscore_support\n",
    "%matplotlib inline\n",
    "import matplotlib.pyplot as plt\n",
    "import scipy.stats"
   ]
  },
  {
   "cell_type": "code",
   "execution_count": 45,
   "metadata": {
    "collapsed": true
   },
   "outputs": [],
   "source": [
    "TestLabels = \"../Data/TestImageListBinary.txt\"\n",
    "TestFeats = \"../Data/testFeatsBinary.csv\"\n",
    "\n",
    "TrainLabels = \"../Data/TrainImageListBinary.txt\"\n",
    "TrainFeats = \"../Data/trainFeatsBinary.csv\""
   ]
  },
  {
   "cell_type": "code",
   "execution_count": 46,
   "metadata": {
    "collapsed": true
   },
   "outputs": [],
   "source": [
    "labels_test = pd.read_csv(TestLabels , header=None)\n",
    "feats_test = pd.read_csv(TestFeats , header=None)\n",
    "\n",
    "labels_train = pd.read_csv(TrainLabels , header=None)\n",
    "feats_train = pd.read_csv(TrainFeats , header=None)"
   ]
  },
  {
   "cell_type": "code",
   "execution_count": 47,
   "metadata": {
    "collapsed": false
   },
   "outputs": [
    {
     "data": {
      "text/html": [
       "<div>\n",
       "<style>\n",
       "    .dataframe thead tr:only-child th {\n",
       "        text-align: right;\n",
       "    }\n",
       "\n",
       "    .dataframe thead th {\n",
       "        text-align: left;\n",
       "    }\n",
       "\n",
       "    .dataframe tbody tr th {\n",
       "        vertical-align: top;\n",
       "    }\n",
       "</style>\n",
       "<table border=\"1\" class=\"dataframe\">\n",
       "  <thead>\n",
       "    <tr style=\"text-align: right;\">\n",
       "      <th></th>\n",
       "      <th>0</th>\n",
       "      <th>1</th>\n",
       "    </tr>\n",
       "  </thead>\n",
       "  <tbody>\n",
       "    <tr>\n",
       "      <th>0</th>\n",
       "      <td>/work/sagarj/Work/BellLabs/streetview/PPImages...</td>\n",
       "      <td>0</td>\n",
       "    </tr>\n",
       "    <tr>\n",
       "      <th>1</th>\n",
       "      <td>/work/sagarj/Work/BellLabs/streetview/PPImages...</td>\n",
       "      <td>1</td>\n",
       "    </tr>\n",
       "    <tr>\n",
       "      <th>2</th>\n",
       "      <td>/work/sagarj/Work/BellLabs/streetview/PPImages...</td>\n",
       "      <td>1</td>\n",
       "    </tr>\n",
       "    <tr>\n",
       "      <th>3</th>\n",
       "      <td>/work/sagarj/Work/BellLabs/streetview/PPImages...</td>\n",
       "      <td>0</td>\n",
       "    </tr>\n",
       "    <tr>\n",
       "      <th>4</th>\n",
       "      <td>/work/sagarj/Work/BellLabs/streetview/PPImages...</td>\n",
       "      <td>0</td>\n",
       "    </tr>\n",
       "  </tbody>\n",
       "</table>\n",
       "</div>"
      ],
      "text/plain": [
       "                                                   0  1\n",
       "0  /work/sagarj/Work/BellLabs/streetview/PPImages...  0\n",
       "1  /work/sagarj/Work/BellLabs/streetview/PPImages...  1\n",
       "2  /work/sagarj/Work/BellLabs/streetview/PPImages...  1\n",
       "3  /work/sagarj/Work/BellLabs/streetview/PPImages...  0\n",
       "4  /work/sagarj/Work/BellLabs/streetview/PPImages...  0"
      ]
     },
     "execution_count": 47,
     "metadata": {},
     "output_type": "execute_result"
    }
   ],
   "source": [
    "labels_train.head()"
   ]
  },
  {
   "cell_type": "code",
   "execution_count": 48,
   "metadata": {
    "collapsed": false
   },
   "outputs": [
    {
     "data": {
      "text/plain": [
       "(26641, 2000)"
      ]
     },
     "execution_count": 48,
     "metadata": {},
     "output_type": "execute_result"
    }
   ],
   "source": [
    "TrX = feats_train.as_matrix()\n",
    "TrX.shape"
   ]
  },
  {
   "cell_type": "code",
   "execution_count": 49,
   "metadata": {
    "collapsed": false
   },
   "outputs": [
    {
     "data": {
      "text/plain": [
       "(26641,)"
      ]
     },
     "execution_count": 49,
     "metadata": {},
     "output_type": "execute_result"
    }
   ],
   "source": [
    "TrY = labels_train[1].as_matrix()\n",
    "TrY.shape"
   ]
  },
  {
   "cell_type": "code",
   "execution_count": 50,
   "metadata": {
    "collapsed": false
   },
   "outputs": [
    {
     "data": {
      "text/plain": [
       "(6660, 2000)"
      ]
     },
     "execution_count": 50,
     "metadata": {},
     "output_type": "execute_result"
    }
   ],
   "source": [
    "TeX = feats_test.as_matrix()\n",
    "TeX.shape"
   ]
  },
  {
   "cell_type": "code",
   "execution_count": 51,
   "metadata": {
    "collapsed": false
   },
   "outputs": [
    {
     "data": {
      "text/plain": [
       "(6660,)"
      ]
     },
     "execution_count": 51,
     "metadata": {},
     "output_type": "execute_result"
    }
   ],
   "source": [
    "TeY = labels_test[1].as_matrix()\n",
    "TeY.shape"
   ]
  },
  {
   "cell_type": "code",
   "execution_count": 52,
   "metadata": {
    "collapsed": false
   },
   "outputs": [],
   "source": [
    "clfRF = RandomForestClassifier(n_estimators=1000 , max_features = 'sqrt', random_state = 9386 , n_jobs = -1)\n",
    "clfRF.fit(TrX, TrY)\n",
    "RF_predict = clfRF.predict(TeX)\n",
    "\n"
   ]
  },
  {
   "cell_type": "code",
   "execution_count": 53,
   "metadata": {
    "collapsed": false,
    "scrolled": true
   },
   "outputs": [
    {
     "name": "stdout",
     "output_type": "stream",
     "text": [
      "0.604504504505 [ 0.60283329  0.60694496] [ 0.69132579  0.5113601 ] [ 0.64405405  0.55506757]\n"
     ]
    }
   ],
   "source": [
    "\n",
    "\n",
    "error_RF = mean_squared_error(TeY, RF_predict)\n",
    "\n",
    "accuracy = np.mean(TeY == RF_predict)\n",
    "\n",
    "precision , recall , fscore , _ = precision_recall_fscore_support(TeY, RF_predict)\n",
    "\n",
    "\n",
    "print (accuracy, precision , recall , fscore)"
   ]
  },
  {
   "cell_type": "code",
   "execution_count": null,
   "metadata": {
    "collapsed": true
   },
   "outputs": [],
   "source": []
  }
 ],
 "metadata": {
  "kernelspec": {
   "display_name": "Python 2",
   "language": "python",
   "name": "python2"
  },
  "language_info": {
   "codemirror_mode": {
    "name": "ipython",
    "version": 2
   },
   "file_extension": ".py",
   "mimetype": "text/x-python",
   "name": "python",
   "nbconvert_exporter": "python",
   "pygments_lexer": "ipython2",
   "version": "2.7.12"
  }
 },
 "nbformat": 4,
 "nbformat_minor": 0
}
