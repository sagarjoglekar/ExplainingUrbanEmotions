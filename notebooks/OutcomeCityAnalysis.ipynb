{
 "cells": [
  {
   "cell_type": "code",
   "execution_count": 116,
   "metadata": {
    "ExecuteTime": {
     "end_time": "2017-10-11T16:48:56.808829Z",
     "start_time": "2017-10-11T16:48:56.799135Z"
    },
    "collapsed": true
   },
   "outputs": [],
   "source": [
    "import pickle as pkl\n",
    "import matplotlib.pyplot as plt\n",
    "import seaborn as sns\n",
    "import geopandas as gpd\n",
    "from geopandas.geoseries import *\n",
    "import pandas as pd\n",
    "import numpy as np\n",
    "from geopandas.tools import sjoin\n",
    "%matplotlib inline"
   ]
  },
  {
   "cell_type": "code",
   "execution_count": 28,
   "metadata": {
    "ExecuteTime": {
     "end_time": "2017-10-11T14:49:36.652005Z",
     "start_time": "2017-10-11T14:49:36.541665Z"
    },
    "collapsed": true
   },
   "outputs": [],
   "source": [
    "with open(\"../Data/NewYorkGroundTruths.pkl\" ,'r') as f:\n",
    "    ratings = pkl.load(f)"
   ]
  },
  {
   "cell_type": "code",
   "execution_count": 97,
   "metadata": {
    "ExecuteTime": {
     "end_time": "2017-10-11T16:35:03.419041Z",
     "start_time": "2017-10-11T16:35:03.413316Z"
    }
   },
   "outputs": [
    {
     "data": {
      "text/plain": [
       "['lat', 'rating', 'long']"
      ]
     },
     "execution_count": 97,
     "metadata": {},
     "output_type": "execute_result"
    }
   ],
   "source": [
    "ratings['513d9ea8fdc9f035870084a5'].keys()"
   ]
  },
  {
   "cell_type": "code",
   "execution_count": 30,
   "metadata": {
    "ExecuteTime": {
     "end_time": "2017-10-11T14:49:38.423636Z",
     "start_time": "2017-10-11T14:49:37.688894Z"
    },
    "collapsed": true
   },
   "outputs": [],
   "source": [
    "NY = gpd.read_file(\"../Data/shapefiles/cb_2016_36_tract_500k.shp\")"
   ]
  },
  {
   "cell_type": "code",
   "execution_count": 31,
   "metadata": {
    "ExecuteTime": {
     "end_time": "2017-10-11T14:49:39.156767Z",
     "start_time": "2017-10-11T14:49:39.149031Z"
    },
    "collapsed": true
   },
   "outputs": [],
   "source": [
    "def check(point, polygon):\n",
    "    if any(polygon.contains(point)):\n",
    "        return True\n",
    "    else:\n",
    "        return False\n",
    "\n",
    "def checkPoly(point,polygonArray):\n",
    "    truths = [check(point , poly) for poly in polygonArray]\n",
    "    return any(truths)"
   ]
  },
  {
   "cell_type": "code",
   "execution_count": 32,
   "metadata": {
    "ExecuteTime": {
     "end_time": "2017-10-11T14:49:40.654198Z",
     "start_time": "2017-10-11T14:49:40.621426Z"
    }
   },
   "outputs": [
    {
     "data": {
      "text/html": [
       "<div>\n",
       "<style>\n",
       "    .dataframe thead tr:only-child th {\n",
       "        text-align: right;\n",
       "    }\n",
       "\n",
       "    .dataframe thead th {\n",
       "        text-align: left;\n",
       "    }\n",
       "\n",
       "    .dataframe tbody tr th {\n",
       "        vertical-align: top;\n",
       "    }\n",
       "</style>\n",
       "<table border=\"1\" class=\"dataframe\">\n",
       "  <thead>\n",
       "    <tr style=\"text-align: right;\">\n",
       "      <th></th>\n",
       "      <th>AFFGEOID</th>\n",
       "      <th>ALAND</th>\n",
       "      <th>AWATER</th>\n",
       "      <th>COUNTYFP</th>\n",
       "      <th>GEOID</th>\n",
       "      <th>LSAD</th>\n",
       "      <th>NAME</th>\n",
       "      <th>STATEFP</th>\n",
       "      <th>TRACTCE</th>\n",
       "      <th>geometry</th>\n",
       "    </tr>\n",
       "  </thead>\n",
       "  <tbody>\n",
       "    <tr>\n",
       "      <th>0</th>\n",
       "      <td>1400000US36051031000</td>\n",
       "      <td>6019437</td>\n",
       "      <td>0</td>\n",
       "      <td>051</td>\n",
       "      <td>36051031000</td>\n",
       "      <td>CT</td>\n",
       "      <td>310</td>\n",
       "      <td>36</td>\n",
       "      <td>031000</td>\n",
       "      <td>POLYGON ((-77.841638 42.671857, -77.841531 42....</td>\n",
       "    </tr>\n",
       "    <tr>\n",
       "      <th>1</th>\n",
       "      <td>1400000US36053030102</td>\n",
       "      <td>6232906</td>\n",
       "      <td>0</td>\n",
       "      <td>053</td>\n",
       "      <td>36053030102</td>\n",
       "      <td>CT</td>\n",
       "      <td>301.02</td>\n",
       "      <td>36</td>\n",
       "      <td>030102</td>\n",
       "      <td>POLYGON ((-75.69125 43.09777099999999, -75.686...</td>\n",
       "    </tr>\n",
       "    <tr>\n",
       "      <th>2</th>\n",
       "      <td>1400000US36055000200</td>\n",
       "      <td>1567317</td>\n",
       "      <td>58924</td>\n",
       "      <td>055</td>\n",
       "      <td>36055000200</td>\n",
       "      <td>CT</td>\n",
       "      <td>2</td>\n",
       "      <td>36</td>\n",
       "      <td>000200</td>\n",
       "      <td>POLYGON ((-77.63571399999999 43.17025, -77.632...</td>\n",
       "    </tr>\n",
       "    <tr>\n",
       "      <th>3</th>\n",
       "      <td>1400000US36055001000</td>\n",
       "      <td>1380452</td>\n",
       "      <td>0</td>\n",
       "      <td>055</td>\n",
       "      <td>36055001000</td>\n",
       "      <td>CT</td>\n",
       "      <td>10</td>\n",
       "      <td>36</td>\n",
       "      <td>001000</td>\n",
       "      <td>POLYGON ((-77.592748 43.158266, -77.5916189999...</td>\n",
       "    </tr>\n",
       "    <tr>\n",
       "      <th>4</th>\n",
       "      <td>1400000US36055002900</td>\n",
       "      <td>805895</td>\n",
       "      <td>0</td>\n",
       "      <td>055</td>\n",
       "      <td>36055002900</td>\n",
       "      <td>CT</td>\n",
       "      <td>29</td>\n",
       "      <td>36</td>\n",
       "      <td>002900</td>\n",
       "      <td>POLYGON ((-77.59551499999999 43.152906, -77.59...</td>\n",
       "    </tr>\n",
       "  </tbody>\n",
       "</table>\n",
       "</div>"
      ],
      "text/plain": [
       "               AFFGEOID    ALAND  AWATER COUNTYFP        GEOID LSAD    NAME  \\\n",
       "0  1400000US36051031000  6019437       0      051  36051031000   CT     310   \n",
       "1  1400000US36053030102  6232906       0      053  36053030102   CT  301.02   \n",
       "2  1400000US36055000200  1567317   58924      055  36055000200   CT       2   \n",
       "3  1400000US36055001000  1380452       0      055  36055001000   CT      10   \n",
       "4  1400000US36055002900   805895       0      055  36055002900   CT      29   \n",
       "\n",
       "  STATEFP TRACTCE                                           geometry  \n",
       "0      36  031000  POLYGON ((-77.841638 42.671857, -77.841531 42....  \n",
       "1      36  030102  POLYGON ((-75.69125 43.09777099999999, -75.686...  \n",
       "2      36  000200  POLYGON ((-77.63571399999999 43.17025, -77.632...  \n",
       "3      36  001000  POLYGON ((-77.592748 43.158266, -77.5916189999...  \n",
       "4      36  002900  POLYGON ((-77.59551499999999 43.152906, -77.59...  "
      ]
     },
     "execution_count": 32,
     "metadata": {},
     "output_type": "execute_result"
    }
   ],
   "source": [
    "NY.head()"
   ]
  },
  {
   "cell_type": "code",
   "execution_count": 80,
   "metadata": {
    "ExecuteTime": {
     "end_time": "2017-10-11T16:25:25.303536Z",
     "start_time": "2017-10-11T16:25:25.298499Z"
    }
   },
   "outputs": [
    {
     "data": {
      "text/plain": [
       "4906"
      ]
     },
     "execution_count": 80,
     "metadata": {},
     "output_type": "execute_result"
    }
   ],
   "source": [
    "len(NY['TRACTCE'])"
   ]
  },
  {
   "cell_type": "code",
   "execution_count": 84,
   "metadata": {
    "ExecuteTime": {
     "end_time": "2017-10-11T16:29:48.214514Z",
     "start_time": "2017-10-11T16:29:47.742899Z"
    },
    "collapsed": true
   },
   "outputs": [],
   "source": [
    "tractGeometry = {}\n",
    "for idx , row in NY.iterrows():\n",
    "    if int(row['TRACTCE']) not in tractGeometry:\n",
    "        tractGeometry[int(row['TRACTCE'])] = row['geometry']"
   ]
  },
  {
   "cell_type": "code",
   "execution_count": 38,
   "metadata": {
    "ExecuteTime": {
     "end_time": "2017-10-11T14:52:32.236692Z",
     "start_time": "2017-10-11T14:52:32.230409Z"
    }
   },
   "outputs": [
    {
     "data": {
      "text/plain": [
       "Index([u'AFFGEOID',    u'ALAND',   u'AWATER', u'COUNTYFP',    u'GEOID',\n",
       "           u'LSAD',     u'NAME',  u'STATEFP',  u'TRACTCE', u'geometry'],\n",
       "      dtype='object')"
      ]
     },
     "execution_count": 38,
     "metadata": {},
     "output_type": "execute_result"
    }
   ],
   "source": [
    "NY.keys()"
   ]
  },
  {
   "cell_type": "code",
   "execution_count": 341,
   "metadata": {
    "ExecuteTime": {
     "end_time": "2017-10-16T13:06:12.355816Z",
     "start_time": "2017-10-16T13:06:12.145503Z"
    },
    "collapsed": true
   },
   "outputs": [],
   "source": [
    "prices = pd.read_csv(\"../Data/Revised_Notice_of_Property_Value__RNOPV_.csv\")"
   ]
  },
  {
   "cell_type": "code",
   "execution_count": 342,
   "metadata": {
    "ExecuteTime": {
     "end_time": "2017-10-16T13:06:12.770915Z",
     "start_time": "2017-10-16T13:06:12.766512Z"
    }
   },
   "outputs": [
    {
     "data": {
      "text/plain": [
       "Index([u'MAILED DATE', u'BOROCODE', u'BLOCK', u'LOT', u'EASE', u'NAME  ',\n",
       "       u'Address 1', u'Address 2 ', u'Address 3 ', u'City, State, Zip ',\n",
       "       u'Country ', u'TAX CLASS', u'BLD Class', u'ORIGINAL MARKET VALUE',\n",
       "       u'ORIGINAL ASSESSED VALUE', u'ORIGINAL EXEMPTION',\n",
       "       u'ORIGINAL TRANSITIONAL  ASSESSED VALUE ',\n",
       "       u'ORIGINAL TRANSITIONAL EXEMPTION', u'ORIGINAL TAXABLE VALUE',\n",
       "       u'REVISED MARKET VALUE', u'REVISED ASSESSED VALUE',\n",
       "       u'REVISED  EXEMPTION', u'REVISED TRANSITIONAL ASSESSED VALUE',\n",
       "       u'REVISED TRANSITIONAL EXEMPTION', u'REVISED TAXABLE VALUE', u'RC 1',\n",
       "       u'RC2', u'RC3', u'RC4', u'RC5', u'Borough', u'Postcode', u'Latitude',\n",
       "       u'Longitude', u'Community Board', u'Council District ', u'Census Tract',\n",
       "       u'BIN', u'BBL', u'NTA'],\n",
       "      dtype='object')"
      ]
     },
     "execution_count": 342,
     "metadata": {},
     "output_type": "execute_result"
    }
   ],
   "source": [
    "prices.keys()"
   ]
  },
  {
   "cell_type": "code",
   "execution_count": 343,
   "metadata": {
    "ExecuteTime": {
     "end_time": "2017-10-16T13:06:13.570224Z",
     "start_time": "2017-10-16T13:06:13.561110Z"
    }
   },
   "outputs": [
    {
     "data": {
      "text/plain": [
       "array(['MANHATTAN', nan, 'BRONX    ', 'BROOKLYN ', 'QUEENS   ', 'STATEN IS'], dtype=object)"
      ]
     },
     "execution_count": 343,
     "metadata": {},
     "output_type": "execute_result"
    }
   ],
   "source": [
    "prices['Borough'].unique()"
   ]
  },
  {
   "cell_type": "code",
   "execution_count": 344,
   "metadata": {
    "ExecuteTime": {
     "end_time": "2017-10-16T13:06:22.823402Z",
     "start_time": "2017-10-16T13:06:22.810900Z"
    },
    "collapsed": true
   },
   "outputs": [],
   "source": [
    "prices = prices[prices['Borough'] == 'STATEN IS']"
   ]
  },
  {
   "cell_type": "code",
   "execution_count": 345,
   "metadata": {
    "ExecuteTime": {
     "end_time": "2017-10-16T13:06:23.253836Z",
     "start_time": "2017-10-16T13:06:23.248589Z"
    }
   },
   "outputs": [
    {
     "data": {
      "text/plain": [
       "1530"
      ]
     },
     "execution_count": 345,
     "metadata": {},
     "output_type": "execute_result"
    }
   ],
   "source": [
    "len(prices)"
   ]
  },
  {
   "cell_type": "code",
   "execution_count": 346,
   "metadata": {
    "ExecuteTime": {
     "end_time": "2017-10-16T13:12:35.348933Z",
     "start_time": "2017-10-16T13:12:35.342560Z"
    },
    "collapsed": true
   },
   "outputs": [],
   "source": [
    "#Using gpxpy for calculating geographical distances\n",
    "\n",
    "import gpxpy.geo\n"
   ]
  },
  {
   "cell_type": "code",
   "execution_count": 347,
   "metadata": {
    "ExecuteTime": {
     "end_time": "2017-10-16T13:12:36.016226Z",
     "start_time": "2017-10-16T13:12:36.012978Z"
    },
    "collapsed": true
   },
   "outputs": [],
   "source": [
    "# prices = prices[prices['ORIGINAL TAXABLE VALUE'] > 200000]"
   ]
  },
  {
   "cell_type": "code",
   "execution_count": 348,
   "metadata": {
    "ExecuteTime": {
     "end_time": "2017-10-16T13:12:36.589052Z",
     "start_time": "2017-10-16T13:12:36.581744Z"
    },
    "collapsed": true
   },
   "outputs": [],
   "source": [
    "prices = prices.dropna(subset=['Census Tract' , 'ORIGINAL MARKET VALUE' , 'ORIGINAL TAXABLE VALUE'])"
   ]
  },
  {
   "cell_type": "code",
   "execution_count": 349,
   "metadata": {
    "ExecuteTime": {
     "end_time": "2017-10-16T13:12:38.578432Z",
     "start_time": "2017-10-16T13:12:38.573064Z"
    }
   },
   "outputs": [
    {
     "data": {
      "text/plain": [
       "1530"
      ]
     },
     "execution_count": 349,
     "metadata": {},
     "output_type": "execute_result"
    }
   ],
   "source": [
    "len(prices)"
   ]
  },
  {
   "cell_type": "code",
   "execution_count": 350,
   "metadata": {
    "ExecuteTime": {
     "end_time": "2017-10-16T13:12:40.147475Z",
     "start_time": "2017-10-16T13:12:40.142275Z"
    }
   },
   "outputs": [
    {
     "data": {
      "text/plain": [
       "1530"
      ]
     },
     "execution_count": 350,
     "metadata": {},
     "output_type": "execute_result"
    }
   ],
   "source": [
    "len(prices)"
   ]
  },
  {
   "cell_type": "code",
   "execution_count": 351,
   "metadata": {
    "ExecuteTime": {
     "end_time": "2017-10-16T13:12:40.913629Z",
     "start_time": "2017-10-16T13:12:40.910179Z"
    },
    "collapsed": true
   },
   "outputs": [],
   "source": [
    "tractPrices = {}"
   ]
  },
  {
   "cell_type": "code",
   "execution_count": 352,
   "metadata": {
    "ExecuteTime": {
     "end_time": "2017-10-16T13:18:22.709570Z",
     "start_time": "2017-10-16T13:18:22.470294Z"
    },
    "collapsed": true
   },
   "outputs": [],
   "source": [
    "i =0\n",
    "\n",
    "for idx , row in prices.iterrows():\n",
    "    if int(row['Census Tract']) in tractGeometry:\n",
    "        #if row['ORIGINAL MARKET VALUE'] > 100000:\n",
    "            i+=1\n",
    "            if row['Census Tract'] not in tractPrices:\n",
    "                tractPrices[row['Census Tract']] = {}\n",
    "                tractPrices[row['Census Tract']]['prices'] = []\n",
    "                tractPrices[row['Census Tract']]['beauty'] = []\n",
    "            tractPrices[row['Census Tract']]['prices'].append(row['ORIGINAL MARKET VALUE'])\n",
    "            tractPrices[row['Census Tract']]['polygon'] = tractGeometry[row['Census Tract']]\n",
    "    else:\n",
    "        na.append(row['Census Tract'])\n",
    "        "
   ]
  },
  {
   "cell_type": "code",
   "execution_count": 353,
   "metadata": {
    "ExecuteTime": {
     "end_time": "2017-10-16T13:18:23.565433Z",
     "start_time": "2017-10-16T13:18:23.561021Z"
    }
   },
   "outputs": [
    {
     "name": "stdout",
     "output_type": "stream",
     "text": [
      "948\n"
     ]
    }
   ],
   "source": [
    "print i"
   ]
  },
  {
   "cell_type": "code",
   "execution_count": 354,
   "metadata": {
    "ExecuteTime": {
     "end_time": "2017-10-16T13:18:29.271697Z",
     "start_time": "2017-10-16T13:18:29.265157Z"
    }
   },
   "outputs": [
    {
     "data": {
      "text/plain": [
       "14.5"
      ]
     },
     "execution_count": 354,
     "metadata": {},
     "output_type": "execute_result"
    }
   ],
   "source": [
    "np.median([len(tractPrices[i]['prices']) for i in tractPrices])"
   ]
  },
  {
   "cell_type": "code",
   "execution_count": 355,
   "metadata": {
    "ExecuteTime": {
     "end_time": "2017-10-16T13:18:34.070604Z",
     "start_time": "2017-10-16T13:18:34.064983Z"
    }
   },
   "outputs": [
    {
     "data": {
      "text/plain": [
       "shapely.geometry.polygon.Polygon"
      ]
     },
     "execution_count": 355,
     "metadata": {},
     "output_type": "execute_result"
    }
   ],
   "source": [
    "type(tractPrices[tractPrices.keys()[1]]['polygon'])"
   ]
  },
  {
   "cell_type": "code",
   "execution_count": 356,
   "metadata": {
    "ExecuteTime": {
     "end_time": "2017-10-16T13:18:35.568189Z",
     "start_time": "2017-10-16T13:18:34.841585Z"
    },
    "collapsed": true
   },
   "outputs": [],
   "source": [
    "for k in ratings:\n",
    "    place = Point(ratings[k]['long'] , ratings[k]['lat'])\n",
    "    beauty = ratings[k]['rating'].mu\n",
    "    for k in tractPrices:\n",
    "        if tractPrices[k]['polygon'].contains(place):\n",
    "            tractPrices[k]['beauty'].append(beauty)\n",
    "            \n",
    "    "
   ]
  },
  {
   "cell_type": "code",
   "execution_count": 357,
   "metadata": {
    "ExecuteTime": {
     "end_time": "2017-10-16T13:18:36.290131Z",
     "start_time": "2017-10-16T13:18:36.287334Z"
    },
    "collapsed": true
   },
   "outputs": [],
   "source": [
    "finalTractPrices = {}\n",
    "for k in tractPrices:\n",
    "    if len(tractPrices[k]['beauty']) > 0:\n",
    "        finalTractPrices[k] = tractPrices[k]"
   ]
  },
  {
   "cell_type": "code",
   "execution_count": 360,
   "metadata": {
    "ExecuteTime": {
     "end_time": "2017-10-16T13:20:02.607651Z",
     "start_time": "2017-10-16T13:20:02.603205Z"
    }
   },
   "outputs": [
    {
     "name": "stdout",
     "output_type": "stream",
     "text": [
      "{201.0: {'prices': [722000.0, 627000.0, 507000.0, 501000.0, 391000.0, 285000.0, 656000.0, 32051.0, 404000.0], 'polygon': <shapely.geometry.polygon.Polygon object at 0x7fa983390090>, 'beauty': [15.116675580293611, 23.37467323427417, 22.1517039571353, 35.5265904310663, 28.22997740515289]}}\n"
     ]
    }
   ],
   "source": [
    "print finalTractPrices"
   ]
  },
  {
   "cell_type": "code",
   "execution_count": 358,
   "metadata": {
    "ExecuteTime": {
     "end_time": "2017-10-16T13:18:37.756897Z",
     "start_time": "2017-10-16T13:18:37.753138Z"
    },
    "collapsed": true
   },
   "outputs": [],
   "source": [
    "finalPrices = [np.median(finalTractPrices[k]['prices']) for k in finalTractPrices]\n",
    "finalBeauty = [np.median(finalTractPrices[k]['beauty']) for k in finalTractPrices]"
   ]
  },
  {
   "cell_type": "code",
   "execution_count": 359,
   "metadata": {
    "ExecuteTime": {
     "end_time": "2017-10-16T13:18:38.229085Z",
     "start_time": "2017-10-16T13:18:38.224231Z"
    }
   },
   "outputs": [
    {
     "data": {
      "text/plain": [
       "1"
      ]
     },
     "execution_count": 359,
     "metadata": {},
     "output_type": "execute_result"
    }
   ],
   "source": [
    "len(finalBeauty)"
   ]
  },
  {
   "cell_type": "code",
   "execution_count": 337,
   "metadata": {
    "ExecuteTime": {
     "end_time": "2017-10-16T10:38:24.662238Z",
     "start_time": "2017-10-16T10:38:24.458686Z"
    }
   },
   "outputs": [
    {
     "data": {
      "text/plain": [
       "<matplotlib.axes._subplots.AxesSubplot at 0x7fa94aeaed50>"
      ]
     },
     "execution_count": 337,
     "metadata": {},
     "output_type": "execute_result"
    },
    {
     "data": {
      "image/png": "[encoded data removed]",
      "text/plain": [
       "<matplotlib.figure.Figure at 0x7fa94aea4bd0>"
      ]
     },
     "metadata": {},
     "output_type": "display_data"
    }
   ],
   "source": [
    "sns.distplot(finalBeauty)"
   ]
  },
  {
   "cell_type": "code",
   "execution_count": 271,
   "metadata": {
    "ExecuteTime": {
     "end_time": "2017-10-13T17:02:43.977087Z",
     "start_time": "2017-10-13T17:02:43.307439Z"
    }
   },
   "outputs": [
    {
     "data": {
      "text/plain": [
       "<seaborn.axisgrid.JointGrid at 0x7fa94b25d610>"
      ]
     },
     "execution_count": 271,
     "metadata": {},
     "output_type": "execute_result"
    },
    {
     "data": {
      "image/png": "[encoded data removed]",
      "text/plain": [
       "<matplotlib.figure.Figure at 0x7fa94b25d690>"
      ]
     },
     "metadata": {},
     "output_type": "display_data"
    }
   ],
   "source": [
    "g = sns.jointplot(x=np.asarray(finalPrices), y=np.asarray(finalBeauty), kind=\"reg\" , size=8);\n",
    "g.set_axis_labels(xlabel='Score', ylabel='Population')"
   ]
  },
  {
   "cell_type": "code",
   "execution_count": null,
   "metadata": {
    "collapsed": true
   },
   "outputs": [],
   "source": []
  }
 ],
 "metadata": {
  "kernelspec": {
   "display_name": "Python 2",
   "language": "python",
   "name": "python2"
  },
  "language_info": {
   "codemirror_mode": {
    "name": "ipython",
    "version": 2
   },
   "file_extension": ".py",
   "mimetype": "text/x-python",
   "name": "python",
   "nbconvert_exporter": "python",
   "pygments_lexer": "ipython2",
   "version": "2.7.12"
  }
 },
 "nbformat": 4,
 "nbformat_minor": 2
}
